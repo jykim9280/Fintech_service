{
 "cells": [
  {
   "cell_type": "code",
   "execution_count": 1,
   "id": "e6caa1dd",
   "metadata": {},
   "outputs": [],
   "source": [
    "import pandas as pd\n",
    "import numpy as np\n",
    "import matplotlib.pyplot as plt\n",
    "import glob\n",
    "import warnings\n",
    "warnings.filterwarnings(action='ignore')\n",
    "import koreanize_matplotlib"
   ]
  },
  {
   "cell_type": "markdown",
   "id": "75883db8",
   "metadata": {},
   "source": [
    "# 환율정보 DB에서 추출하기"
   ]
  },
  {
   "cell_type": "code",
   "execution_count": 2,
   "id": "713a5b14",
   "metadata": {},
   "outputs": [
    {
     "data": {
      "text/plain": [
       "<function pymysql.install_as_MySQLdb()>"
      ]
     },
     "execution_count": 2,
     "metadata": {},
     "output_type": "execute_result"
    }
   ],
   "source": [
    "from sqlalchemy import create_engine\n",
    "import pymysql\n",
    "pymysql.install_as_MySQLdb"
   ]
  },
  {
   "cell_type": "code",
   "execution_count": 3,
   "id": "9dceccc2-15ee-4614-b1ea-6b02d2b8fa31",
   "metadata": {},
   "outputs": [
    {
     "name": "stdout",
     "output_type": "stream",
     "text": [
      "Requirement already satisfied: cryptography in c:\\users\\5-12\\miniforge3\\envs\\fintech\\lib\\site-packages (43.0.1)\n",
      "Requirement already satisfied: cffi>=1.12 in c:\\users\\5-12\\miniforge3\\envs\\fintech\\lib\\site-packages (from cryptography) (1.16.0)\n",
      "Requirement already satisfied: pycparser in c:\\users\\5-12\\miniforge3\\envs\\fintech\\lib\\site-packages (from cffi>=1.12->cryptography) (2.22)\n"
     ]
    }
   ],
   "source": [
    "!pip install cryptography"
   ]
  },
  {
   "cell_type": "code",
   "execution_count": 4,
   "id": "6dde6c5f",
   "metadata": {},
   "outputs": [
    {
     "name": "stdout",
     "output_type": "stream",
     "text": [
      "         date            통화  현찰_살때_환율  현찰_살때_Spread  현찰_팔때_환율  현찰_팔때_Spread  \\\n",
      "0  1995-01-03        미국 USD    800.53           1.5    776.87           1.5   \n",
      "1  1995-01-03  일본 JPY (100)    798.89           1.5    775.29           1.5   \n",
      "2  1995-01-03        유로 EUR      0.00           0.0      0.00           0.0   \n",
      "3  1995-01-03        중국 CNY      0.00           0.0      0.00           0.0   \n",
      "4  1995-01-03        홍콩 HKD    103.45           3.0    100.41           3.0   \n",
      "\n",
      "   송금_보낼때  송금_받을때  T/C_살때  외화_수표_팔때   매매기준율  환가_료율  미화 환산율  \n",
      "0  791.80  785.60  792.64      0.00  788.70   0.00  1.0000  \n",
      "1  791.81  782.37  792.59      0.00  787.09   0.00  0.9980  \n",
      "2  975.40  959.92    0.00    957.94  967.66   7.37  1.2269  \n",
      "3   94.12    0.00    0.00      0.00   93.38   1.00  0.1184  \n",
      "4  102.74  101.12    0.00      0.00  101.93   0.00  0.1292  \n"
     ]
    }
   ],
   "source": [
    "# MySQL 연결 설정 ver 1\n",
    "connection = pymysql.connect(\n",
    "    host='localhost',    # MySQL 서버 주소 (로컬 호스트)\n",
    "    user='root',         # MySQL 사용자 이름 (root)\n",
    "    password='1234',  # MySQL 비밀번호를 입력하세요\n",
    "    database='korea_exchange_rate',  # 사용할 데이터베이스 이름\n",
    "    port=3306,           # MySQL 기본 포트 번호\n",
    "    charset='utf8mb4'\n",
    ")\n",
    "\n",
    "# 쿼리 실행 및 데이터 가져오기\n",
    "query = \"SELECT * FROM exchange_rate\"  # 테이블의 모든 데이터를 가져오는 쿼리\n",
    "exchange_rate= pd.read_sql(query, connection)\n",
    "\n",
    "# MySQL 연결 종료\n",
    "connection.close()\n",
    "\n",
    "# 데이터 출력\n",
    "print(exchange_rate.head())\n"
   ]
  },
  {
   "cell_type": "code",
   "execution_count": 5,
   "id": "e33be30a",
   "metadata": {},
   "outputs": [
    {
     "data": {
      "text/html": [
       "<div>\n",
       "<style scoped>\n",
       "    .dataframe tbody tr th:only-of-type {\n",
       "        vertical-align: middle;\n",
       "    }\n",
       "\n",
       "    .dataframe tbody tr th {\n",
       "        vertical-align: top;\n",
       "    }\n",
       "\n",
       "    .dataframe thead th {\n",
       "        text-align: right;\n",
       "    }\n",
       "</style>\n",
       "<table border=\"1\" class=\"dataframe\">\n",
       "  <thead>\n",
       "    <tr style=\"text-align: right;\">\n",
       "      <th></th>\n",
       "      <th>date</th>\n",
       "      <th>통화</th>\n",
       "      <th>현찰_살때_환율</th>\n",
       "      <th>현찰_살때_Spread</th>\n",
       "      <th>현찰_팔때_환율</th>\n",
       "      <th>현찰_팔때_Spread</th>\n",
       "      <th>송금_보낼때</th>\n",
       "      <th>송금_받을때</th>\n",
       "      <th>T/C_살때</th>\n",
       "      <th>외화_수표_팔때</th>\n",
       "      <th>매매기준율</th>\n",
       "      <th>환가_료율</th>\n",
       "      <th>미화 환산율</th>\n",
       "    </tr>\n",
       "  </thead>\n",
       "  <tbody>\n",
       "    <tr>\n",
       "      <th>0</th>\n",
       "      <td>1995-01-03</td>\n",
       "      <td>미국 USD</td>\n",
       "      <td>800.53</td>\n",
       "      <td>1.5</td>\n",
       "      <td>776.87</td>\n",
       "      <td>1.5</td>\n",
       "      <td>791.80</td>\n",
       "      <td>785.60</td>\n",
       "      <td>792.64</td>\n",
       "      <td>0.00</td>\n",
       "      <td>788.70</td>\n",
       "      <td>0.00</td>\n",
       "      <td>1.0000</td>\n",
       "    </tr>\n",
       "    <tr>\n",
       "      <th>1</th>\n",
       "      <td>1995-01-03</td>\n",
       "      <td>일본 JPY (100)</td>\n",
       "      <td>798.89</td>\n",
       "      <td>1.5</td>\n",
       "      <td>775.29</td>\n",
       "      <td>1.5</td>\n",
       "      <td>791.81</td>\n",
       "      <td>782.37</td>\n",
       "      <td>792.59</td>\n",
       "      <td>0.00</td>\n",
       "      <td>787.09</td>\n",
       "      <td>0.00</td>\n",
       "      <td>0.9980</td>\n",
       "    </tr>\n",
       "    <tr>\n",
       "      <th>2</th>\n",
       "      <td>1995-01-03</td>\n",
       "      <td>유로 EUR</td>\n",
       "      <td>0.00</td>\n",
       "      <td>0.0</td>\n",
       "      <td>0.00</td>\n",
       "      <td>0.0</td>\n",
       "      <td>975.40</td>\n",
       "      <td>959.92</td>\n",
       "      <td>0.00</td>\n",
       "      <td>957.94</td>\n",
       "      <td>967.66</td>\n",
       "      <td>7.37</td>\n",
       "      <td>1.2269</td>\n",
       "    </tr>\n",
       "    <tr>\n",
       "      <th>3</th>\n",
       "      <td>1995-01-03</td>\n",
       "      <td>중국 CNY</td>\n",
       "      <td>0.00</td>\n",
       "      <td>0.0</td>\n",
       "      <td>0.00</td>\n",
       "      <td>0.0</td>\n",
       "      <td>94.12</td>\n",
       "      <td>0.00</td>\n",
       "      <td>0.00</td>\n",
       "      <td>0.00</td>\n",
       "      <td>93.38</td>\n",
       "      <td>1.00</td>\n",
       "      <td>0.1184</td>\n",
       "    </tr>\n",
       "    <tr>\n",
       "      <th>4</th>\n",
       "      <td>1995-01-03</td>\n",
       "      <td>홍콩 HKD</td>\n",
       "      <td>103.45</td>\n",
       "      <td>3.0</td>\n",
       "      <td>100.41</td>\n",
       "      <td>3.0</td>\n",
       "      <td>102.74</td>\n",
       "      <td>101.12</td>\n",
       "      <td>0.00</td>\n",
       "      <td>0.00</td>\n",
       "      <td>101.93</td>\n",
       "      <td>0.00</td>\n",
       "      <td>0.1292</td>\n",
       "    </tr>\n",
       "  </tbody>\n",
       "</table>\n",
       "</div>"
      ],
      "text/plain": [
       "         date            통화  현찰_살때_환율  현찰_살때_Spread  현찰_팔때_환율  현찰_팔때_Spread  \\\n",
       "0  1995-01-03        미국 USD    800.53           1.5    776.87           1.5   \n",
       "1  1995-01-03  일본 JPY (100)    798.89           1.5    775.29           1.5   \n",
       "2  1995-01-03        유로 EUR      0.00           0.0      0.00           0.0   \n",
       "3  1995-01-03        중국 CNY      0.00           0.0      0.00           0.0   \n",
       "4  1995-01-03        홍콩 HKD    103.45           3.0    100.41           3.0   \n",
       "\n",
       "   송금_보낼때  송금_받을때  T/C_살때  외화_수표_팔때   매매기준율  환가_료율  미화 환산율  \n",
       "0  791.80  785.60  792.64      0.00  788.70   0.00  1.0000  \n",
       "1  791.81  782.37  792.59      0.00  787.09   0.00  0.9980  \n",
       "2  975.40  959.92    0.00    957.94  967.66   7.37  1.2269  \n",
       "3   94.12    0.00    0.00      0.00   93.38   1.00  0.1184  \n",
       "4  102.74  101.12    0.00      0.00  101.93   0.00  0.1292  "
      ]
     },
     "execution_count": 5,
     "metadata": {},
     "output_type": "execute_result"
    }
   ],
   "source": [
    "exchange_rate.head()"
   ]
  },
  {
   "cell_type": "code",
   "execution_count": 6,
   "id": "18951ad6",
   "metadata": {},
   "outputs": [
    {
     "data": {
      "text/html": [
       "<div>\n",
       "<style scoped>\n",
       "    .dataframe tbody tr th:only-of-type {\n",
       "        vertical-align: middle;\n",
       "    }\n",
       "\n",
       "    .dataframe tbody tr th {\n",
       "        vertical-align: top;\n",
       "    }\n",
       "\n",
       "    .dataframe thead th {\n",
       "        text-align: right;\n",
       "    }\n",
       "</style>\n",
       "<table border=\"1\" class=\"dataframe\">\n",
       "  <thead>\n",
       "    <tr style=\"text-align: right;\">\n",
       "      <th></th>\n",
       "      <th>date</th>\n",
       "      <th>통화</th>\n",
       "      <th>현찰_살때_환율</th>\n",
       "    </tr>\n",
       "  </thead>\n",
       "  <tbody>\n",
       "    <tr>\n",
       "      <th>40128</th>\n",
       "      <td>1999-01-01</td>\n",
       "      <td>미국 USD</td>\n",
       "      <td>1233.49</td>\n",
       "    </tr>\n",
       "    <tr>\n",
       "      <th>40150</th>\n",
       "      <td>1999-01-04</td>\n",
       "      <td>미국 USD</td>\n",
       "      <td>1215.56</td>\n",
       "    </tr>\n",
       "    <tr>\n",
       "      <th>40172</th>\n",
       "      <td>1999-01-05</td>\n",
       "      <td>미국 USD</td>\n",
       "      <td>1193.54</td>\n",
       "    </tr>\n",
       "    <tr>\n",
       "      <th>40194</th>\n",
       "      <td>1999-01-06</td>\n",
       "      <td>미국 USD</td>\n",
       "      <td>1185.85</td>\n",
       "    </tr>\n",
       "    <tr>\n",
       "      <th>40216</th>\n",
       "      <td>1999-01-07</td>\n",
       "      <td>미국 USD</td>\n",
       "      <td>1178.17</td>\n",
       "    </tr>\n",
       "    <tr>\n",
       "      <th>...</th>\n",
       "      <td>...</td>\n",
       "      <td>...</td>\n",
       "      <td>...</td>\n",
       "    </tr>\n",
       "    <tr>\n",
       "      <th>383346</th>\n",
       "      <td>2024-09-19</td>\n",
       "      <td>미국 USD</td>\n",
       "      <td>1351.74</td>\n",
       "    </tr>\n",
       "    <tr>\n",
       "      <th>383404</th>\n",
       "      <td>2024-09-20</td>\n",
       "      <td>미국 USD</td>\n",
       "      <td>1357.34</td>\n",
       "    </tr>\n",
       "    <tr>\n",
       "      <th>383462</th>\n",
       "      <td>2024-09-23</td>\n",
       "      <td>미국 USD</td>\n",
       "      <td>1362.53</td>\n",
       "    </tr>\n",
       "    <tr>\n",
       "      <th>383520</th>\n",
       "      <td>2024-09-24</td>\n",
       "      <td>미국 USD</td>\n",
       "      <td>1359.38</td>\n",
       "    </tr>\n",
       "    <tr>\n",
       "      <th>383578</th>\n",
       "      <td>2024-09-25</td>\n",
       "      <td>미국 USD</td>\n",
       "      <td>1354.08</td>\n",
       "    </tr>\n",
       "  </tbody>\n",
       "</table>\n",
       "<p>8024 rows × 3 columns</p>\n",
       "</div>"
      ],
      "text/plain": [
       "              date      통화  현찰_살때_환율\n",
       "40128   1999-01-01  미국 USD   1233.49\n",
       "40150   1999-01-04  미국 USD   1215.56\n",
       "40172   1999-01-05  미국 USD   1193.54\n",
       "40194   1999-01-06  미국 USD   1185.85\n",
       "40216   1999-01-07  미국 USD   1178.17\n",
       "...            ...     ...       ...\n",
       "383346  2024-09-19  미국 USD   1351.74\n",
       "383404  2024-09-20  미국 USD   1357.34\n",
       "383462  2024-09-23  미국 USD   1362.53\n",
       "383520  2024-09-24  미국 USD   1359.38\n",
       "383578  2024-09-25  미국 USD   1354.08\n",
       "\n",
       "[8024 rows x 3 columns]"
      ]
     },
     "execution_count": 6,
     "metadata": {},
     "output_type": "execute_result"
    }
   ],
   "source": [
    "exchange_rate = exchange_rate.loc[(exchange_rate['date'] >= '1999-01-01') & (exchange_rate['통화']=='미국 USD'), ['date', '통화', '현찰_살때_환율']]\n",
    "exchange_rate\n",
    "\n",
    "# 1999-01-01 부터\n",
    "# 미국 통화만\n",
    "# 현찰 살때 환율만"
   ]
  },
  {
   "cell_type": "code",
   "execution_count": 7,
   "id": "676d747a",
   "metadata": {},
   "outputs": [
    {
     "data": {
      "text/html": [
       "<div>\n",
       "<style scoped>\n",
       "    .dataframe tbody tr th:only-of-type {\n",
       "        vertical-align: middle;\n",
       "    }\n",
       "\n",
       "    .dataframe tbody tr th {\n",
       "        vertical-align: top;\n",
       "    }\n",
       "\n",
       "    .dataframe thead th {\n",
       "        text-align: right;\n",
       "    }\n",
       "</style>\n",
       "<table border=\"1\" class=\"dataframe\">\n",
       "  <thead>\n",
       "    <tr style=\"text-align: right;\">\n",
       "      <th></th>\n",
       "      <th>date</th>\n",
       "      <th>통화</th>\n",
       "      <th>현찰_살때_환율</th>\n",
       "    </tr>\n",
       "  </thead>\n",
       "  <tbody>\n",
       "    <tr>\n",
       "      <th>0</th>\n",
       "      <td>1999-01-01</td>\n",
       "      <td>미국 USD</td>\n",
       "      <td>1233.49</td>\n",
       "    </tr>\n",
       "    <tr>\n",
       "      <th>1</th>\n",
       "      <td>1999-01-04</td>\n",
       "      <td>미국 USD</td>\n",
       "      <td>1215.56</td>\n",
       "    </tr>\n",
       "    <tr>\n",
       "      <th>2</th>\n",
       "      <td>1999-01-05</td>\n",
       "      <td>미국 USD</td>\n",
       "      <td>1193.54</td>\n",
       "    </tr>\n",
       "    <tr>\n",
       "      <th>3</th>\n",
       "      <td>1999-01-06</td>\n",
       "      <td>미국 USD</td>\n",
       "      <td>1185.85</td>\n",
       "    </tr>\n",
       "    <tr>\n",
       "      <th>4</th>\n",
       "      <td>1999-01-07</td>\n",
       "      <td>미국 USD</td>\n",
       "      <td>1178.17</td>\n",
       "    </tr>\n",
       "    <tr>\n",
       "      <th>...</th>\n",
       "      <td>...</td>\n",
       "      <td>...</td>\n",
       "      <td>...</td>\n",
       "    </tr>\n",
       "    <tr>\n",
       "      <th>8019</th>\n",
       "      <td>2024-09-19</td>\n",
       "      <td>미국 USD</td>\n",
       "      <td>1351.74</td>\n",
       "    </tr>\n",
       "    <tr>\n",
       "      <th>8020</th>\n",
       "      <td>2024-09-20</td>\n",
       "      <td>미국 USD</td>\n",
       "      <td>1357.34</td>\n",
       "    </tr>\n",
       "    <tr>\n",
       "      <th>8021</th>\n",
       "      <td>2024-09-23</td>\n",
       "      <td>미국 USD</td>\n",
       "      <td>1362.53</td>\n",
       "    </tr>\n",
       "    <tr>\n",
       "      <th>8022</th>\n",
       "      <td>2024-09-24</td>\n",
       "      <td>미국 USD</td>\n",
       "      <td>1359.38</td>\n",
       "    </tr>\n",
       "    <tr>\n",
       "      <th>8023</th>\n",
       "      <td>2024-09-25</td>\n",
       "      <td>미국 USD</td>\n",
       "      <td>1354.08</td>\n",
       "    </tr>\n",
       "  </tbody>\n",
       "</table>\n",
       "<p>8024 rows × 3 columns</p>\n",
       "</div>"
      ],
      "text/plain": [
       "            date      통화  현찰_살때_환율\n",
       "0     1999-01-01  미국 USD   1233.49\n",
       "1     1999-01-04  미국 USD   1215.56\n",
       "2     1999-01-05  미국 USD   1193.54\n",
       "3     1999-01-06  미국 USD   1185.85\n",
       "4     1999-01-07  미국 USD   1178.17\n",
       "...          ...     ...       ...\n",
       "8019  2024-09-19  미국 USD   1351.74\n",
       "8020  2024-09-20  미국 USD   1357.34\n",
       "8021  2024-09-23  미국 USD   1362.53\n",
       "8022  2024-09-24  미국 USD   1359.38\n",
       "8023  2024-09-25  미국 USD   1354.08\n",
       "\n",
       "[8024 rows x 3 columns]"
      ]
     },
     "execution_count": 7,
     "metadata": {},
     "output_type": "execute_result"
    }
   ],
   "source": [
    "exchange_rate = exchange_rate.reset_index(drop=True)\n",
    "exchange_rate\n",
    "\n",
    "# 인덱스를 0부터 다시 할당하는 과정 : reset_index"
   ]
  },
  {
   "cell_type": "markdown",
   "id": "4ad7c949",
   "metadata": {},
   "source": [
    "# 금리 데이터 불러오기"
   ]
  },
  {
   "cell_type": "code",
   "execution_count": 8,
   "id": "420a4d4c",
   "metadata": {
    "scrolled": true
   },
   "outputs": [
    {
     "data": {
      "text/html": [
       "<div>\n",
       "<style scoped>\n",
       "    .dataframe tbody tr th:only-of-type {\n",
       "        vertical-align: middle;\n",
       "    }\n",
       "\n",
       "    .dataframe tbody tr th {\n",
       "        vertical-align: top;\n",
       "    }\n",
       "\n",
       "    .dataframe thead th {\n",
       "        text-align: right;\n",
       "    }\n",
       "</style>\n",
       "<table border=\"1\" class=\"dataframe\">\n",
       "  <thead>\n",
       "    <tr style=\"text-align: right;\">\n",
       "      <th></th>\n",
       "      <th>변경일자</th>\n",
       "      <th>Unnamed: 1</th>\n",
       "      <th>기준금리</th>\n",
       "    </tr>\n",
       "  </thead>\n",
       "  <tbody>\n",
       "    <tr>\n",
       "      <th>0</th>\n",
       "      <td>2023</td>\n",
       "      <td>01월 13일</td>\n",
       "      <td>3.50</td>\n",
       "    </tr>\n",
       "    <tr>\n",
       "      <th>1</th>\n",
       "      <td>2022</td>\n",
       "      <td>11월 24일</td>\n",
       "      <td>3.25</td>\n",
       "    </tr>\n",
       "    <tr>\n",
       "      <th>2</th>\n",
       "      <td>2022</td>\n",
       "      <td>10월 12일</td>\n",
       "      <td>3.00</td>\n",
       "    </tr>\n",
       "    <tr>\n",
       "      <th>3</th>\n",
       "      <td>2022</td>\n",
       "      <td>08월 25일</td>\n",
       "      <td>2.50</td>\n",
       "    </tr>\n",
       "    <tr>\n",
       "      <th>4</th>\n",
       "      <td>2022</td>\n",
       "      <td>07월 13일</td>\n",
       "      <td>2.25</td>\n",
       "    </tr>\n",
       "  </tbody>\n",
       "</table>\n",
       "</div>"
      ],
      "text/plain": [
       "   변경일자 Unnamed: 1  기준금리\n",
       "0  2023    01월 13일  3.50\n",
       "1  2022    11월 24일  3.25\n",
       "2  2022    10월 12일  3.00\n",
       "3  2022    08월 25일  2.50\n",
       "4  2022    07월 13일  2.25"
      ]
     },
     "execution_count": 8,
     "metadata": {},
     "output_type": "execute_result"
    }
   ],
   "source": [
    "# CSV 파일을 불러오기\n",
    "file_path = './data/기준금리1999-2023.csv'\n",
    "interest_rate = pd.read_csv(file_path, encoding='utf-8')  # 또는 'cp949'\n",
    "interest_rate.head()\n"
   ]
  },
  {
   "cell_type": "code",
   "execution_count": 9,
   "id": "919e6a87",
   "metadata": {},
   "outputs": [],
   "source": [
    "#interest_rate.columns = ['연도', '월일', '기준금리']\n",
    "#interest_rate.head()"
   ]
  },
  {
   "cell_type": "code",
   "execution_count": 10,
   "id": "fb53095e",
   "metadata": {},
   "outputs": [
    {
     "name": "stdout",
     "output_type": "stream",
     "text": [
      "        변경일자  기준금리\n",
      "0 2023-01-13  3.50\n",
      "1 2022-11-24  3.25\n",
      "2 2022-10-12  3.00\n",
      "3 2022-08-25  2.50\n",
      "4 2022-07-13  2.25\n"
     ]
    }
   ],
   "source": [
    "# 1열(연도)과 2열(월, 일)을 합쳐서 새로운 '변경일자' 열을 생성\n",
    "interest_rate['변경일자'] = interest_rate.iloc[:, 0].astype(str) + ' ' + interest_rate.iloc[:, 1].astype(str)\n",
    "\n",
    "# '변경일자'를 datetime 형식으로 변환\n",
    "interest_rate['변경일자'] = pd.to_datetime(interest_rate['변경일자'], format='%Y %m월 %d일', errors='coerce')\n",
    "\n",
    "# 2열(월/일) 삭제\n",
    "interest_rate = interest_rate.drop(interest_rate.columns[1], axis=1)\n",
    "\n",
    "# 최종 데이터프레임 확인\n",
    "print(interest_rate.head())"
   ]
  },
  {
   "cell_type": "markdown",
   "id": "e8efa4ed-b58c-4397-a42c-9362e88dec0f",
   "metadata": {},
   "source": [
    "# 전국 주소 정보 - 우체국 전국 우편번호 데이터"
   ]
  },
  {
   "cell_type": "code",
   "execution_count": 11,
   "id": "e2ea25e9",
   "metadata": {},
   "outputs": [],
   "source": [
    "# glob은 경로상에 있는 모든 파일 경로를 리스트로 만들어 줌\n",
    "from glob import glob"
   ]
  },
  {
   "cell_type": "code",
   "execution_count": 16,
   "id": "fc4c71b3",
   "metadata": {},
   "outputs": [],
   "source": [
    "address_path = glob(\"./data/*.txt\")"
   ]
  },
  {
   "cell_type": "code",
   "execution_count": 17,
   "id": "931eaee0",
   "metadata": {},
   "outputs": [
    {
     "data": {
      "text/plain": [
       "[]"
      ]
     },
     "execution_count": 17,
     "metadata": {},
     "output_type": "execute_result"
    }
   ],
   "source": [
    "address_path"
   ]
  },
  {
   "cell_type": "code",
   "execution_count": 18,
   "id": "3239cadf-4e30-4ea0-90f2-344b17b43ec0",
   "metadata": {
    "scrolled": true
   },
   "outputs": [
    {
     "ename": "FileNotFoundError",
     "evalue": "[Errno 2] No such file or directory: './data/서울특별시.txt'",
     "output_type": "error",
     "traceback": [
      "\u001b[1;31m---------------------------------------------------------------------------\u001b[0m",
      "\u001b[1;31mFileNotFoundError\u001b[0m                         Traceback (most recent call last)",
      "Cell \u001b[1;32mIn[18], line 1\u001b[0m\n\u001b[1;32m----> 1\u001b[0m \u001b[43mpd\u001b[49m\u001b[38;5;241;43m.\u001b[39;49m\u001b[43mread_csv\u001b[49m\u001b[43m(\u001b[49m\u001b[38;5;124;43m\"\u001b[39;49m\u001b[38;5;124;43m./data/서울특별시.txt\u001b[39;49m\u001b[38;5;124;43m\"\u001b[39;49m\u001b[43m,\u001b[49m\u001b[43m \u001b[49m\u001b[43msep\u001b[49m\u001b[38;5;241;43m=\u001b[39;49m\u001b[38;5;124;43m\"\u001b[39;49m\u001b[38;5;124;43m|\u001b[39;49m\u001b[38;5;124;43m\"\u001b[39;49m\u001b[43m)\u001b[49m\n",
      "File \u001b[1;32m~\\miniforge3\\envs\\fintech\\lib\\site-packages\\pandas\\io\\parsers\\readers.py:1026\u001b[0m, in \u001b[0;36mread_csv\u001b[1;34m(filepath_or_buffer, sep, delimiter, header, names, index_col, usecols, dtype, engine, converters, true_values, false_values, skipinitialspace, skiprows, skipfooter, nrows, na_values, keep_default_na, na_filter, verbose, skip_blank_lines, parse_dates, infer_datetime_format, keep_date_col, date_parser, date_format, dayfirst, cache_dates, iterator, chunksize, compression, thousands, decimal, lineterminator, quotechar, quoting, doublequote, escapechar, comment, encoding, encoding_errors, dialect, on_bad_lines, delim_whitespace, low_memory, memory_map, float_precision, storage_options, dtype_backend)\u001b[0m\n\u001b[0;32m   1013\u001b[0m kwds_defaults \u001b[38;5;241m=\u001b[39m _refine_defaults_read(\n\u001b[0;32m   1014\u001b[0m     dialect,\n\u001b[0;32m   1015\u001b[0m     delimiter,\n\u001b[1;32m   (...)\u001b[0m\n\u001b[0;32m   1022\u001b[0m     dtype_backend\u001b[38;5;241m=\u001b[39mdtype_backend,\n\u001b[0;32m   1023\u001b[0m )\n\u001b[0;32m   1024\u001b[0m kwds\u001b[38;5;241m.\u001b[39mupdate(kwds_defaults)\n\u001b[1;32m-> 1026\u001b[0m \u001b[38;5;28;01mreturn\u001b[39;00m \u001b[43m_read\u001b[49m\u001b[43m(\u001b[49m\u001b[43mfilepath_or_buffer\u001b[49m\u001b[43m,\u001b[49m\u001b[43m \u001b[49m\u001b[43mkwds\u001b[49m\u001b[43m)\u001b[49m\n",
      "File \u001b[1;32m~\\miniforge3\\envs\\fintech\\lib\\site-packages\\pandas\\io\\parsers\\readers.py:620\u001b[0m, in \u001b[0;36m_read\u001b[1;34m(filepath_or_buffer, kwds)\u001b[0m\n\u001b[0;32m    617\u001b[0m _validate_names(kwds\u001b[38;5;241m.\u001b[39mget(\u001b[38;5;124m\"\u001b[39m\u001b[38;5;124mnames\u001b[39m\u001b[38;5;124m\"\u001b[39m, \u001b[38;5;28;01mNone\u001b[39;00m))\n\u001b[0;32m    619\u001b[0m \u001b[38;5;66;03m# Create the parser.\u001b[39;00m\n\u001b[1;32m--> 620\u001b[0m parser \u001b[38;5;241m=\u001b[39m TextFileReader(filepath_or_buffer, \u001b[38;5;241m*\u001b[39m\u001b[38;5;241m*\u001b[39mkwds)\n\u001b[0;32m    622\u001b[0m \u001b[38;5;28;01mif\u001b[39;00m chunksize \u001b[38;5;129;01mor\u001b[39;00m iterator:\n\u001b[0;32m    623\u001b[0m     \u001b[38;5;28;01mreturn\u001b[39;00m parser\n",
      "File \u001b[1;32m~\\miniforge3\\envs\\fintech\\lib\\site-packages\\pandas\\io\\parsers\\readers.py:1620\u001b[0m, in \u001b[0;36mTextFileReader.__init__\u001b[1;34m(self, f, engine, **kwds)\u001b[0m\n\u001b[0;32m   1617\u001b[0m     \u001b[38;5;28mself\u001b[39m\u001b[38;5;241m.\u001b[39moptions[\u001b[38;5;124m\"\u001b[39m\u001b[38;5;124mhas_index_names\u001b[39m\u001b[38;5;124m\"\u001b[39m] \u001b[38;5;241m=\u001b[39m kwds[\u001b[38;5;124m\"\u001b[39m\u001b[38;5;124mhas_index_names\u001b[39m\u001b[38;5;124m\"\u001b[39m]\n\u001b[0;32m   1619\u001b[0m \u001b[38;5;28mself\u001b[39m\u001b[38;5;241m.\u001b[39mhandles: IOHandles \u001b[38;5;241m|\u001b[39m \u001b[38;5;28;01mNone\u001b[39;00m \u001b[38;5;241m=\u001b[39m \u001b[38;5;28;01mNone\u001b[39;00m\n\u001b[1;32m-> 1620\u001b[0m \u001b[38;5;28mself\u001b[39m\u001b[38;5;241m.\u001b[39m_engine \u001b[38;5;241m=\u001b[39m \u001b[38;5;28;43mself\u001b[39;49m\u001b[38;5;241;43m.\u001b[39;49m\u001b[43m_make_engine\u001b[49m\u001b[43m(\u001b[49m\u001b[43mf\u001b[49m\u001b[43m,\u001b[49m\u001b[43m \u001b[49m\u001b[38;5;28;43mself\u001b[39;49m\u001b[38;5;241;43m.\u001b[39;49m\u001b[43mengine\u001b[49m\u001b[43m)\u001b[49m\n",
      "File \u001b[1;32m~\\miniforge3\\envs\\fintech\\lib\\site-packages\\pandas\\io\\parsers\\readers.py:1880\u001b[0m, in \u001b[0;36mTextFileReader._make_engine\u001b[1;34m(self, f, engine)\u001b[0m\n\u001b[0;32m   1878\u001b[0m     \u001b[38;5;28;01mif\u001b[39;00m \u001b[38;5;124m\"\u001b[39m\u001b[38;5;124mb\u001b[39m\u001b[38;5;124m\"\u001b[39m \u001b[38;5;129;01mnot\u001b[39;00m \u001b[38;5;129;01min\u001b[39;00m mode:\n\u001b[0;32m   1879\u001b[0m         mode \u001b[38;5;241m+\u001b[39m\u001b[38;5;241m=\u001b[39m \u001b[38;5;124m\"\u001b[39m\u001b[38;5;124mb\u001b[39m\u001b[38;5;124m\"\u001b[39m\n\u001b[1;32m-> 1880\u001b[0m \u001b[38;5;28mself\u001b[39m\u001b[38;5;241m.\u001b[39mhandles \u001b[38;5;241m=\u001b[39m \u001b[43mget_handle\u001b[49m\u001b[43m(\u001b[49m\n\u001b[0;32m   1881\u001b[0m \u001b[43m    \u001b[49m\u001b[43mf\u001b[49m\u001b[43m,\u001b[49m\n\u001b[0;32m   1882\u001b[0m \u001b[43m    \u001b[49m\u001b[43mmode\u001b[49m\u001b[43m,\u001b[49m\n\u001b[0;32m   1883\u001b[0m \u001b[43m    \u001b[49m\u001b[43mencoding\u001b[49m\u001b[38;5;241;43m=\u001b[39;49m\u001b[38;5;28;43mself\u001b[39;49m\u001b[38;5;241;43m.\u001b[39;49m\u001b[43moptions\u001b[49m\u001b[38;5;241;43m.\u001b[39;49m\u001b[43mget\u001b[49m\u001b[43m(\u001b[49m\u001b[38;5;124;43m\"\u001b[39;49m\u001b[38;5;124;43mencoding\u001b[39;49m\u001b[38;5;124;43m\"\u001b[39;49m\u001b[43m,\u001b[49m\u001b[43m \u001b[49m\u001b[38;5;28;43;01mNone\u001b[39;49;00m\u001b[43m)\u001b[49m\u001b[43m,\u001b[49m\n\u001b[0;32m   1884\u001b[0m \u001b[43m    \u001b[49m\u001b[43mcompression\u001b[49m\u001b[38;5;241;43m=\u001b[39;49m\u001b[38;5;28;43mself\u001b[39;49m\u001b[38;5;241;43m.\u001b[39;49m\u001b[43moptions\u001b[49m\u001b[38;5;241;43m.\u001b[39;49m\u001b[43mget\u001b[49m\u001b[43m(\u001b[49m\u001b[38;5;124;43m\"\u001b[39;49m\u001b[38;5;124;43mcompression\u001b[39;49m\u001b[38;5;124;43m\"\u001b[39;49m\u001b[43m,\u001b[49m\u001b[43m \u001b[49m\u001b[38;5;28;43;01mNone\u001b[39;49;00m\u001b[43m)\u001b[49m\u001b[43m,\u001b[49m\n\u001b[0;32m   1885\u001b[0m \u001b[43m    \u001b[49m\u001b[43mmemory_map\u001b[49m\u001b[38;5;241;43m=\u001b[39;49m\u001b[38;5;28;43mself\u001b[39;49m\u001b[38;5;241;43m.\u001b[39;49m\u001b[43moptions\u001b[49m\u001b[38;5;241;43m.\u001b[39;49m\u001b[43mget\u001b[49m\u001b[43m(\u001b[49m\u001b[38;5;124;43m\"\u001b[39;49m\u001b[38;5;124;43mmemory_map\u001b[39;49m\u001b[38;5;124;43m\"\u001b[39;49m\u001b[43m,\u001b[49m\u001b[43m \u001b[49m\u001b[38;5;28;43;01mFalse\u001b[39;49;00m\u001b[43m)\u001b[49m\u001b[43m,\u001b[49m\n\u001b[0;32m   1886\u001b[0m \u001b[43m    \u001b[49m\u001b[43mis_text\u001b[49m\u001b[38;5;241;43m=\u001b[39;49m\u001b[43mis_text\u001b[49m\u001b[43m,\u001b[49m\n\u001b[0;32m   1887\u001b[0m \u001b[43m    \u001b[49m\u001b[43merrors\u001b[49m\u001b[38;5;241;43m=\u001b[39;49m\u001b[38;5;28;43mself\u001b[39;49m\u001b[38;5;241;43m.\u001b[39;49m\u001b[43moptions\u001b[49m\u001b[38;5;241;43m.\u001b[39;49m\u001b[43mget\u001b[49m\u001b[43m(\u001b[49m\u001b[38;5;124;43m\"\u001b[39;49m\u001b[38;5;124;43mencoding_errors\u001b[39;49m\u001b[38;5;124;43m\"\u001b[39;49m\u001b[43m,\u001b[49m\u001b[43m \u001b[49m\u001b[38;5;124;43m\"\u001b[39;49m\u001b[38;5;124;43mstrict\u001b[39;49m\u001b[38;5;124;43m\"\u001b[39;49m\u001b[43m)\u001b[49m\u001b[43m,\u001b[49m\n\u001b[0;32m   1888\u001b[0m \u001b[43m    \u001b[49m\u001b[43mstorage_options\u001b[49m\u001b[38;5;241;43m=\u001b[39;49m\u001b[38;5;28;43mself\u001b[39;49m\u001b[38;5;241;43m.\u001b[39;49m\u001b[43moptions\u001b[49m\u001b[38;5;241;43m.\u001b[39;49m\u001b[43mget\u001b[49m\u001b[43m(\u001b[49m\u001b[38;5;124;43m\"\u001b[39;49m\u001b[38;5;124;43mstorage_options\u001b[39;49m\u001b[38;5;124;43m\"\u001b[39;49m\u001b[43m,\u001b[49m\u001b[43m \u001b[49m\u001b[38;5;28;43;01mNone\u001b[39;49;00m\u001b[43m)\u001b[49m\u001b[43m,\u001b[49m\n\u001b[0;32m   1889\u001b[0m \u001b[43m\u001b[49m\u001b[43m)\u001b[49m\n\u001b[0;32m   1890\u001b[0m \u001b[38;5;28;01massert\u001b[39;00m \u001b[38;5;28mself\u001b[39m\u001b[38;5;241m.\u001b[39mhandles \u001b[38;5;129;01mis\u001b[39;00m \u001b[38;5;129;01mnot\u001b[39;00m \u001b[38;5;28;01mNone\u001b[39;00m\n\u001b[0;32m   1891\u001b[0m f \u001b[38;5;241m=\u001b[39m \u001b[38;5;28mself\u001b[39m\u001b[38;5;241m.\u001b[39mhandles\u001b[38;5;241m.\u001b[39mhandle\n",
      "File \u001b[1;32m~\\miniforge3\\envs\\fintech\\lib\\site-packages\\pandas\\io\\common.py:873\u001b[0m, in \u001b[0;36mget_handle\u001b[1;34m(path_or_buf, mode, encoding, compression, memory_map, is_text, errors, storage_options)\u001b[0m\n\u001b[0;32m    868\u001b[0m \u001b[38;5;28;01melif\u001b[39;00m \u001b[38;5;28misinstance\u001b[39m(handle, \u001b[38;5;28mstr\u001b[39m):\n\u001b[0;32m    869\u001b[0m     \u001b[38;5;66;03m# Check whether the filename is to be opened in binary mode.\u001b[39;00m\n\u001b[0;32m    870\u001b[0m     \u001b[38;5;66;03m# Binary mode does not support 'encoding' and 'newline'.\u001b[39;00m\n\u001b[0;32m    871\u001b[0m     \u001b[38;5;28;01mif\u001b[39;00m ioargs\u001b[38;5;241m.\u001b[39mencoding \u001b[38;5;129;01mand\u001b[39;00m \u001b[38;5;124m\"\u001b[39m\u001b[38;5;124mb\u001b[39m\u001b[38;5;124m\"\u001b[39m \u001b[38;5;129;01mnot\u001b[39;00m \u001b[38;5;129;01min\u001b[39;00m ioargs\u001b[38;5;241m.\u001b[39mmode:\n\u001b[0;32m    872\u001b[0m         \u001b[38;5;66;03m# Encoding\u001b[39;00m\n\u001b[1;32m--> 873\u001b[0m         handle \u001b[38;5;241m=\u001b[39m \u001b[38;5;28;43mopen\u001b[39;49m\u001b[43m(\u001b[49m\n\u001b[0;32m    874\u001b[0m \u001b[43m            \u001b[49m\u001b[43mhandle\u001b[49m\u001b[43m,\u001b[49m\n\u001b[0;32m    875\u001b[0m \u001b[43m            \u001b[49m\u001b[43mioargs\u001b[49m\u001b[38;5;241;43m.\u001b[39;49m\u001b[43mmode\u001b[49m\u001b[43m,\u001b[49m\n\u001b[0;32m    876\u001b[0m \u001b[43m            \u001b[49m\u001b[43mencoding\u001b[49m\u001b[38;5;241;43m=\u001b[39;49m\u001b[43mioargs\u001b[49m\u001b[38;5;241;43m.\u001b[39;49m\u001b[43mencoding\u001b[49m\u001b[43m,\u001b[49m\n\u001b[0;32m    877\u001b[0m \u001b[43m            \u001b[49m\u001b[43merrors\u001b[49m\u001b[38;5;241;43m=\u001b[39;49m\u001b[43merrors\u001b[49m\u001b[43m,\u001b[49m\n\u001b[0;32m    878\u001b[0m \u001b[43m            \u001b[49m\u001b[43mnewline\u001b[49m\u001b[38;5;241;43m=\u001b[39;49m\u001b[38;5;124;43m\"\u001b[39;49m\u001b[38;5;124;43m\"\u001b[39;49m\u001b[43m,\u001b[49m\n\u001b[0;32m    879\u001b[0m \u001b[43m        \u001b[49m\u001b[43m)\u001b[49m\n\u001b[0;32m    880\u001b[0m     \u001b[38;5;28;01melse\u001b[39;00m:\n\u001b[0;32m    881\u001b[0m         \u001b[38;5;66;03m# Binary mode\u001b[39;00m\n\u001b[0;32m    882\u001b[0m         handle \u001b[38;5;241m=\u001b[39m \u001b[38;5;28mopen\u001b[39m(handle, ioargs\u001b[38;5;241m.\u001b[39mmode)\n",
      "\u001b[1;31mFileNotFoundError\u001b[0m: [Errno 2] No such file or directory: './data/서울특별시.txt'"
     ]
    }
   ],
   "source": [
    "pd.read_csv(\"./data/서울특별시.txt\", sep=\"|\")"
   ]
  },
  {
   "cell_type": "code",
   "execution_count": null,
   "id": "941512df",
   "metadata": {
    "scrolled": true
   },
   "outputs": [],
   "source": [
    "address_df = pd.DataFrame()\n",
    "for area in address_path:\n",
    "    temp = pd.read_csv(area, sep=\"|\")\n",
    "    address_df = pd.concat([address_df, temp])\n",
    "address_df.head()"
   ]
  },
  {
   "cell_type": "code",
   "execution_count": null,
   "id": "b4868bb9",
   "metadata": {
    "scrolled": true
   },
   "outputs": [],
   "source": [
    "address_df.info()"
   ]
  },
  {
   "cell_type": "code",
   "execution_count": null,
   "id": "0ac8ab8a-52eb-4869-97aa-9682564d512f",
   "metadata": {
    "scrolled": true
   },
   "outputs": [],
   "source": [
    "address_df.info(show_counts=True)"
   ]
  },
  {
   "cell_type": "code",
   "execution_count": null,
   "id": "c784434f-40bd-4064-97b3-ab5f54984b74",
   "metadata": {},
   "outputs": [],
   "source": [
    "address_df.columns"
   ]
  },
  {
   "cell_type": "code",
   "execution_count": null,
   "id": "633f00ff-9ee9-4b50-8345-bc22c60255eb",
   "metadata": {},
   "outputs": [],
   "source": [
    "address_df = address_df[['우편번호', '시도', '시군구', '법정동명', '읍면']]\n",
    "address_df.head()"
   ]
  },
  {
   "cell_type": "markdown",
   "id": "6ca2de21-0c25-410b-8555-9f1c81071a9e",
   "metadata": {},
   "source": [
    "# 우편번호 중복 제거하기 drop_duplicates(subset=['기준컬럼'])"
   ]
  },
  {
   "cell_type": "code",
   "execution_count": null,
   "id": "4959bd0f-78ea-4241-b902-d41281a2cce9",
   "metadata": {},
   "outputs": [],
   "source": [
    "address_df = address_df.drop_duplicates(subset=['우편번호'])\n",
    "address_df.head()"
   ]
  },
  {
   "cell_type": "code",
   "execution_count": null,
   "id": "45cccc80-b05b-4cae-bfb0-4422cd1b1b48",
   "metadata": {},
   "outputs": [],
   "source": [
    "address_df.reset_index(drop=True)"
   ]
  },
  {
   "cell_type": "code",
   "execution_count": null,
   "id": "e0e3055b-0151-4e33-bd55-c3820f83e733",
   "metadata": {},
   "outputs": [],
   "source": [
    "address_df.info()"
   ]
  },
  {
   "cell_type": "code",
   "execution_count": null,
   "id": "4cdf7bb9-0cf8-44e7-b35c-5f9e27ad1c01",
   "metadata": {},
   "outputs": [],
   "source": [
    "address_df = address_df.fillna(\" \")\n",
    "address_df.info()"
   ]
  },
  {
   "cell_type": "code",
   "execution_count": null,
   "id": "31518b11-9c37-44b6-a5c5-f14716f1cb7f",
   "metadata": {},
   "outputs": [],
   "source": [
    "address_df.head()"
   ]
  },
  {
   "cell_type": "markdown",
   "id": "2ba0aef2-9fa0-486c-a804-415de2700dc0",
   "metadata": {},
   "source": [
    "# 구우편번호 데이터 불러와 합치기"
   ]
  },
  {
   "cell_type": "code",
   "execution_count": null,
   "id": "da4d5afc-6a7e-49d6-a6a0-cb8d9b9bedb6",
   "metadata": {
    "scrolled": true
   },
   "outputs": [],
   "source": [
    "old_address_df = pd.read_excel('./data/zipcode_DB/20150707_우편번호(기존형태).xls', header=[0,1])\n",
    "old_address_df.head()"
   ]
  },
  {
   "cell_type": "code",
   "execution_count": null,
   "id": "986b25de-0d41-4263-b71e-064e618ee590",
   "metadata": {},
   "outputs": [],
   "source": [
    "old_address_df.columns"
   ]
  },
  {
   "cell_type": "code",
   "execution_count": null,
   "id": "a0d50f9c-7b7f-4a55-9595-034ff6b316a0",
   "metadata": {},
   "outputs": [],
   "source": [
    "# 멀티인덱스\n",
    "old_address_df = old_address_df[[(   '우편번호',  'Unnamed: 0_level_1'),\n",
    "            (   '일련번호',  'Unnamed: 1_level_1'),\n",
    "            ( '주    소',                  '시도'),\n",
    "            ( '주    소',                 '시군구'),\n",
    "            ( '주    소',                 '읍면동'),\n",
    "            ( '주    소',                   '리')]]"
   ]
  },
  {
   "cell_type": "code",
   "execution_count": null,
   "id": "f6a7be62-6b1d-4cf4-9b93-6e7b12dd6c47",
   "metadata": {},
   "outputs": [],
   "source": [
    "old_address_df.columns = ['우편번호', '일련번호', '시도', '시군구', '읍면동', '리']\n",
    "old_address_df"
   ]
  },
  {
   "cell_type": "code",
   "execution_count": null,
   "id": "b7d21a94-9649-4665-915e-ec80068768d0",
   "metadata": {},
   "outputs": [],
   "source": [
    "old_address_df = old_address_df.drop(['일련번호'], axis=1)"
   ]
  },
  {
   "cell_type": "code",
   "execution_count": null,
   "id": "99f57984-30ef-4665-84fa-d24a13915fc3",
   "metadata": {},
   "outputs": [],
   "source": [
    "old_address_df = old_address_df.drop_duplicates(subset=['우편번호'])\n",
    "old_address_df.head()"
   ]
  },
  {
   "cell_type": "code",
   "execution_count": null,
   "id": "300e7dc1-841e-4bde-9471-8c8298e14e56",
   "metadata": {},
   "outputs": [],
   "source": [
    "old_address_df = old_address_df.fillna(\" \")\n",
    "old_address_df.info()"
   ]
  },
  {
   "cell_type": "code",
   "execution_count": null,
   "id": "063fdf89-1ca5-4d3c-a363-8bb6c9278144",
   "metadata": {},
   "outputs": [],
   "source": []
  },
  {
   "cell_type": "code",
   "execution_count": null,
   "id": "bc94d147-2b7f-43d9-815f-206b8080654e",
   "metadata": {},
   "outputs": [],
   "source": [
    "address_df"
   ]
  },
  {
   "cell_type": "code",
   "execution_count": null,
   "id": "9ce49847-7dae-4f53-93f6-6338cb6a56d5",
   "metadata": {},
   "outputs": [],
   "source": [
    "address_df['읍면동']= address_df['법정동명'] + address_df['읍면']\n",
    "address_df"
   ]
  },
  {
   "cell_type": "code",
   "execution_count": null,
   "id": "5f50ed82-05c4-4e77-8b72-580cfcab910e",
   "metadata": {},
   "outputs": [],
   "source": [
    "address_df = address_df.drop(['법정동명', '읍면'], axis=1)\n",
    "address_df"
   ]
  },
  {
   "cell_type": "code",
   "execution_count": null,
   "id": "92859866-5292-4337-8179-7b6911e6f503",
   "metadata": {},
   "outputs": [],
   "source": [
    "address_df.columns"
   ]
  },
  {
   "cell_type": "code",
   "execution_count": null,
   "id": "a3fcb0e3-882d-490c-bc96-8537707de2f2",
   "metadata": {},
   "outputs": [],
   "source": [
    "# 컬럼명 변경\n",
    "address_df = address_df[['우편번호', '시도', '시군구', '읍면동', '리명']]\n",
    "\n",
    "# 결과 확인\n",
    "address_df.head()"
   ]
  },
  {
   "cell_type": "code",
   "execution_count": null,
   "id": "2812ca47-c730-49b1-8781-add11478f7f5",
   "metadata": {},
   "outputs": [],
   "source": [
    "address_df = address_df.rename(columns={\"리명\" : \"리\"})\n",
    "address_df.head()"
   ]
  },
  {
   "cell_type": "code",
   "execution_count": null,
   "id": "ec8557ad-4ba2-4bda-b79e-71287254a646",
   "metadata": {},
   "outputs": [],
   "source": []
  },
  {
   "cell_type": "code",
   "execution_count": null,
   "id": "0474b1d5-533d-4c10-9acd-6a1007c0e12d",
   "metadata": {},
   "outputs": [],
   "source": [
    "old_address_df"
   ]
  },
  {
   "cell_type": "code",
   "execution_count": null,
   "id": "cc8a99e7-a35f-4f66-a419-901526cf8bf8",
   "metadata": {},
   "outputs": [],
   "source": []
  },
  {
   "cell_type": "code",
   "execution_count": null,
   "id": "af4dc79b-617b-4b00-bcee-6412b0ee0030",
   "metadata": {},
   "outputs": [],
   "source": []
  },
  {
   "cell_type": "code",
   "execution_count": null,
   "id": "83cc17cc-bcef-4e28-add4-bf90e75558ea",
   "metadata": {},
   "outputs": [],
   "source": []
  },
  {
   "cell_type": "markdown",
   "id": "6f421897-9a3c-454c-a891-768cd1d0f075",
   "metadata": {},
   "source": [
    "# 전국 학원 정보 불러오기"
   ]
  },
  {
   "cell_type": "code",
   "execution_count": null,
   "id": "fa391cf5-4fe0-44cb-850c-8581b506cf18",
   "metadata": {
    "scrolled": true
   },
   "outputs": [],
   "source": [
    "academy= pd.read_csv('./data/exchange/학원교습소정보_2024년08월31일기준.csv',encoding='cp949')\n",
    "academy"
   ]
  },
  {
   "cell_type": "code",
   "execution_count": null,
   "id": "a4b16d9f-0318-4de6-8766-70b4d4577fde",
   "metadata": {},
   "outputs": [],
   "source": [
    "academy.info()"
   ]
  },
  {
   "cell_type": "code",
   "execution_count": null,
   "id": "0a697206-fbdc-4e5c-a195-8130f8936eef",
   "metadata": {},
   "outputs": [],
   "source": [
    "old_address_df[old_address_df['우편번호'] == 135998]"
   ]
  },
  {
   "cell_type": "code",
   "execution_count": null,
   "id": "34ef3eef-7455-49d1-ae45-5904f5aaa487",
   "metadata": {},
   "outputs": [],
   "source": [
    "address_df[address_df['우편번호'] == 6207]"
   ]
  },
  {
   "cell_type": "code",
   "execution_count": null,
   "id": "c4366b4c-4dec-458d-9f54-b611ba817806",
   "metadata": {
    "scrolled": true
   },
   "outputs": [],
   "source": [
    "for i in list(academy['시설도로명상세주소'].unique())[:100]:\n",
    "    print(i)"
   ]
  },
  {
   "cell_type": "code",
   "execution_count": null,
   "id": "bd041841-02d0-4b26-9c66-b9f49f87004a",
   "metadata": {},
   "outputs": [],
   "source": []
  },
  {
   "cell_type": "code",
   "execution_count": null,
   "id": "3469809d-272a-49c8-8f1f-67a1cb9aa436",
   "metadata": {
    "scrolled": true
   },
   "outputs": [],
   "source": [
    "import re\n",
    "import pandas as pd\n",
    "import numpy as np\n",
    "\n",
    "# 예시 데이터 리스트\n",
    "ex_addresses = academy['시설도로명상세주소'].unique()\n",
    "\n",
    "# 동, 읍, 면, 리를 추출하는 정규표현식 (숫자가 포함되지 않은 경우만 매칭)\n",
    "pattern = r'\\b([^\\d\\s]+(동|읍|면|리))\\b'\n",
    "\n",
    "# 추출하기\n",
    "for address in ex_addresses:\n",
    "    # NaN 체크 및 문자열 변환\n",
    "    if isinstance(address, str):\n",
    "        matches = re.findall(pattern, address)\n",
    "        for match in matches:\n",
    "            print(match[0])\n"
   ]
  },
  {
   "cell_type": "markdown",
   "id": "0cd712ce-47ee-4a76-a5bd-390938334913",
   "metadata": {},
   "source": [
    "### 별로 안좋은걸 알 수 있음 -> 우편번호를 사용하기"
   ]
  },
  {
   "cell_type": "code",
   "execution_count": null,
   "id": "74195ff8-e8a2-404b-a56b-d0ffec2d0bc5",
   "metadata": {},
   "outputs": [],
   "source": [
    "academy['시설도로명우편번호'] = academy['시설도로명우편번호'].apply(lambda x: str(x).strip())"
   ]
  },
  {
   "cell_type": "code",
   "execution_count": null,
   "id": "6f416519-b3d0-4ca5-8595-3ed1679a3892",
   "metadata": {},
   "outputs": [],
   "source": []
  },
  {
   "cell_type": "code",
   "execution_count": null,
   "id": "6ef5a72b-35e5-45a1-9501-b7272ffb064e",
   "metadata": {},
   "outputs": [],
   "source": []
  },
  {
   "cell_type": "code",
   "execution_count": null,
   "id": "4d4f5935-b06c-4c11-b5a1-772d38ad1dff",
   "metadata": {},
   "outputs": [],
   "source": []
  },
  {
   "cell_type": "markdown",
   "id": "1b2a113a-4c24-483b-9791-d5a71a0ae6bb",
   "metadata": {},
   "source": [
    "# 우편번호 패턴 파악"
   ]
  },
  {
   "cell_type": "code",
   "execution_count": null,
   "id": "f62d347d-de90-4c64-bbeb-545407176cfc",
   "metadata": {},
   "outputs": [],
   "source": [
    "# 신우편번호 범위\n",
    "print(address_df['우편번호'].min(), address_df['우편번호'].max())"
   ]
  },
  {
   "cell_type": "code",
   "execution_count": null,
   "id": "7fd19c0e-ccd3-4930-8a85-44a9368d1521",
   "metadata": {
    "scrolled": true
   },
   "outputs": [],
   "source": [
    "# 구우편번호 범위\n",
    "print(old_address_df['우편번호'].min(), old_address_df['우편번호'].max())"
   ]
  },
  {
   "cell_type": "code",
   "execution_count": null,
   "id": "db3517f0-286b-4e26-8d13-3c33e456d765",
   "metadata": {
    "scrolled": true
   },
   "outputs": [],
   "source": [
    "new_post_code_academies = academy[(academy['시설도로명우편번호'].str.len() >= 4) & (academy['시설도로명우편번호'].str.len() <= 5)]\n",
    "new_post_code_academies"
   ]
  },
  {
   "cell_type": "code",
   "execution_count": null,
   "id": "87226279-cd39-4e43-a21a-72ef47d77bae",
   "metadata": {
    "scrolled": true
   },
   "outputs": [],
   "source": [
    "old_post_code_academies = academy[(academy['시설도로명우편번호'].str.len() == 6)]\n",
    "old_post_code_academies.head()"
   ]
  },
  {
   "cell_type": "markdown",
   "id": "efd6cbb8-175e-464b-944b-b90d61383b8a",
   "metadata": {},
   "source": [
    "# 학원데이터 우편번호로 우편번호 데이터에서 주소 추출"
   ]
  },
  {
   "cell_type": "code",
   "execution_count": null,
   "id": "3e7d17a4-ab36-4541-9b25-c1c38883718d",
   "metadata": {},
   "outputs": [],
   "source": [
    "new_post_code_academies.columns"
   ]
  },
  {
   "cell_type": "code",
   "execution_count": null,
   "id": "c7ba954c-016f-412b-83fb-4f0546bb8db4",
   "metadata": {},
   "outputs": [],
   "source": [
    "address_df['우편번호']"
   ]
  },
  {
   "cell_type": "code",
   "execution_count": null,
   "id": "b818d34e-620c-4b7c-ae9e-f166cef8cc77",
   "metadata": {},
   "outputs": [],
   "source": [
    "new_post_code_academies['시설도로명우편번호']"
   ]
  },
  {
   "cell_type": "code",
   "execution_count": null,
   "id": "5b70180a-626c-4f3f-95ec-81e582d5641c",
   "metadata": {},
   "outputs": [],
   "source": [
    "new_post_code_academies['시설도로명우편번호'].dtype"
   ]
  },
  {
   "cell_type": "code",
   "execution_count": null,
   "id": "ea4986c4-07ce-4649-994e-03ea7662097a",
   "metadata": {},
   "outputs": [],
   "source": [
    "new_post_code_academies['시설도로명우편번호'] = new_post_code_academies['시설도로명우편번호'].astype(int)\n",
    "new_post_code_academies['시설도로명우편번호'].dtype"
   ]
  },
  {
   "cell_type": "code",
   "execution_count": null,
   "id": "66c10e85-fa7f-40f1-ac6a-16095028a458",
   "metadata": {
    "scrolled": true
   },
   "outputs": [],
   "source": [
    "new_post_code_academies = pd.merge(new_post_code_academies, address_df, how='left', \n",
    "         left_on='시설도로명우편번호', right_on='우편번호')\n",
    "new_post_code_academies.head()"
   ]
  },
  {
   "cell_type": "code",
   "execution_count": null,
   "id": "5b8a8091-185b-48e7-b4f3-913bee0984b5",
   "metadata": {},
   "outputs": [],
   "source": [
    "old_post_code_academies['시설도로명우편번호'] = old_post_code_academies['시설도로명우편번호'].astype(int)\n",
    "old_post_code_academies['시설도로명우편번호'].dtype"
   ]
  },
  {
   "cell_type": "code",
   "execution_count": null,
   "id": "c4ba88b2-b4f0-4f30-84ca-f1b052b3bf90",
   "metadata": {},
   "outputs": [],
   "source": [
    "old_post_code_academies['시설도로명우편번호'] = old_post_code_academies['시설도로명우편번호'].astype(int)\n",
    "old_post_code_academies['시설도로명우편번호'].dtype"
   ]
  },
  {
   "cell_type": "code",
   "execution_count": null,
   "id": "436b5b16-caa2-43e9-bb24-a4d6ebe381d3",
   "metadata": {
    "scrolled": true
   },
   "outputs": [],
   "source": [
    "old_post_code_academies = pd.merge(old_post_code_academies, old_address_df, how='left', \n",
    "         left_on='시설도로명우편번호', right_on='우편번호')\n",
    "old_post_code_academies.head()"
   ]
  },
  {
   "cell_type": "code",
   "execution_count": null,
   "id": "0a3ab865",
   "metadata": {
    "scrolled": true
   },
   "outputs": [],
   "source": [
    "merged_academy = pd.concat([new_post_code_academies, old_post_code_academies])\n",
    "merged_academy"
   ]
  },
  {
   "cell_type": "code",
   "execution_count": null,
   "id": "748560dd-8724-4a38-a3bd-ba727a8ef585",
   "metadata": {},
   "outputs": [],
   "source": [
    "merged_academy['시도'].unique()"
   ]
  },
  {
   "cell_type": "code",
   "execution_count": null,
   "id": "9590d383-b836-4f6d-9c68-ea034ffc4ea9",
   "metadata": {},
   "outputs": [],
   "source": [
    "merged_academy['읍면동'].nunique()"
   ]
  },
  {
   "cell_type": "code",
   "execution_count": null,
   "id": "f948e17b-b65a-4efd-b00b-0c66f3a6da9e",
   "metadata": {
    "scrolled": true
   },
   "outputs": [],
   "source": [
    "merged_academy = merged_academy.drop(merged_academy[merged_academy['우편번호'].isna() == True].index)\n",
    "merged_academy"
   ]
  },
  {
   "cell_type": "code",
   "execution_count": null,
   "id": "409e7e20-be39-4e41-8c6e-030d55a4eb93",
   "metadata": {},
   "outputs": [],
   "source": [
    "merged_academy.info()"
   ]
  },
  {
   "cell_type": "markdown",
   "id": "feaf80a0-e0b7-47f3-b213-1c35412b4112",
   "metadata": {},
   "source": [
    "# 시군구 읍면동 별 학원 수"
   ]
  },
  {
   "cell_type": "code",
   "execution_count": null,
   "id": "e2fe54d0-2662-476a-8d50-8e6649a96137",
   "metadata": {},
   "outputs": [],
   "source": [
    "academy_num = merged_academy.groupby(['시도', '시군구', '읍면동', '리'])[['학원명']].count().sort_values(by='학원명', ascending=False)\n",
    "academy_num"
   ]
  },
  {
   "cell_type": "code",
   "execution_count": null,
   "id": "2d198226-0781-497b-bd1b-96019b8a08ef",
   "metadata": {},
   "outputs": [],
   "source": [
    "academy_num = academy_num.reset_index()\n",
    "academy_num"
   ]
  },
  {
   "cell_type": "code",
   "execution_count": null,
   "id": "3866b4bf-e518-4661-8810-a1ff1e75188f",
   "metadata": {
    "scrolled": true
   },
   "outputs": [],
   "source": [
    "academy_num = academy_num.rename(columns = {'학원명' : \"학원수\"})\n",
    "academy_num.head(50)"
   ]
  },
  {
   "cell_type": "markdown",
   "id": "86d43911-fb79-436f-a0ce-8a581fbc2a59",
   "metadata": {},
   "source": [
    "# 전국 부동산 실거래가 데이터"
   ]
  },
  {
   "cell_type": "code",
   "execution_count": 19,
   "id": "1d527696-807b-4f30-b07e-d94ef3f8cba8",
   "metadata": {},
   "outputs": [],
   "source": [
    "apart_file_path = glob(\"./data/apart1999_202408/*.csv\")"
   ]
  },
  {
   "cell_type": "code",
   "execution_count": null,
   "id": "6bf978cc-b08a-43f3-8133-7b83a32c5c4b",
   "metadata": {
    "scrolled": true
   },
   "outputs": [],
   "source": [
    "apart_data = pd.DataFrame()\n",
    "for path in apart_file_path:\n",
    "    try:\n",
    "        temp = pd.read_csv(path, header=15, encoding='cp949')\n",
    "        apart_data = pd.concat([apart_data, temp])\n",
    "    except Exception as e:\n",
    "        print(e)\n",
    "        temp = pd.read_csv(path, header=15, encoding='utf-8')\n",
    "        apart_data = pd.concat([apart_data, temp])\n",
    "        \n",
    "apart_data"
   ]
  },
  {
   "cell_type": "code",
   "execution_count": null,
   "id": "45251262-8428-443b-a2e5-2b1914ee9324",
   "metadata": {},
   "outputs": [],
   "source": [
    "apart_data.to_csv(\"./apartment_price_1999_2024.csv\")"
   ]
  },
  {
   "cell_type": "code",
   "execution_count": null,
   "id": "251c4215-4f13-4311-b6cd-3734f4984419",
   "metadata": {},
   "outputs": [],
   "source": [
    "apart_data = pd.read_csv(\"./apartment_price_1999_2024.csv\")"
   ]
  },
  {
   "cell_type": "code",
   "execution_count": null,
   "id": "15acdc17-2e62-4fec-ac55-153c354af0ba",
   "metadata": {},
   "outputs": [],
   "source": [
    "apart_data.columns"
   ]
  },
  {
   "cell_type": "code",
   "execution_count": null,
   "id": "6df6e347-4367-4f45-a10b-dffea9908660",
   "metadata": {},
   "outputs": [],
   "source": [
    "(apart_data.isna().sum()/len(apart_data)*100).sort_values(ascending=False)"
   ]
  },
  {
   "cell_type": "code",
   "execution_count": null,
   "id": "14d0981a-d37c-45d2-a82e-3cc14cd5fbec",
   "metadata": {},
   "outputs": [],
   "source": [
    "apart_data.columns"
   ]
  },
  {
   "cell_type": "code",
   "execution_count": null,
   "id": "117920f0-0772-4c02-a58b-3eb377605522",
   "metadata": {},
   "outputs": [],
   "source": [
    "apart_data = apart_data.drop(['등기일자', '매도자', '매수자', '동', 'Unnamed: 0', '해제사유발생일', '등기신청일자'], axis=1)\n",
    "apart_data.head()"
   ]
  },
  {
   "cell_type": "code",
   "execution_count": null,
   "id": "d4f43a36-3fa2-43eb-9737-9cd7b7be0bc4",
   "metadata": {},
   "outputs": [],
   "source": [
    "apart_data[apart_data['거래유형'] == '-']"
   ]
  },
  {
   "cell_type": "code",
   "execution_count": null,
   "id": "2f731dbc-0b5d-4dd9-b86e-036d4bdf5ed5",
   "metadata": {},
   "outputs": [],
   "source": [
    "apart_data = apart_data.drop(['거래유형','중개사소재지', '번지', '부번', '본번', '도로명'], axis=1)"
   ]
  },
  {
   "cell_type": "code",
   "execution_count": null,
   "id": "2120059a-1ed6-489d-acd4-d6779a564d65",
   "metadata": {},
   "outputs": [],
   "source": [
    "apart_data = apart_data.reset_index(drop=True)\n",
    "apart_data.head()"
   ]
  },
  {
   "cell_type": "code",
   "execution_count": null,
   "id": "159750ea-ced5-426a-ad49-bcc50113262c",
   "metadata": {},
   "outputs": [],
   "source": [
    "apart_data = apart_data.drop(['NO'], axis=1)\n",
    "apart_data"
   ]
  },
  {
   "cell_type": "markdown",
   "id": "f90ef26f-b217-49c6-bbf0-e11a26934743",
   "metadata": {},
   "source": [
    "# 아파트 데이터와 학원 데이터 합치기"
   ]
  },
  {
   "cell_type": "code",
   "execution_count": null,
   "id": "b47eeb95-bed5-423e-ac21-2bcc2fcef597",
   "metadata": {},
   "outputs": [],
   "source": [
    "academy_num"
   ]
  },
  {
   "cell_type": "code",
   "execution_count": null,
   "id": "0394f6c2-b7b9-41c3-a056-455f17d80ad4",
   "metadata": {
    "scrolled": true
   },
   "outputs": [],
   "source": [
    "apart_data['시군구'].unique()"
   ]
  },
  {
   "cell_type": "code",
   "execution_count": null,
   "id": "eaff3814-47ad-4342-9201-b0d7102e6baa",
   "metadata": {},
   "outputs": [],
   "source": [
    "def sigungu(x):\n",
    "    x = x.split()\n",
    "    if len(x) == 4:\n",
    "        "
   ]
  },
  {
   "cell_type": "code",
   "execution_count": null,
   "id": "5dd40a43-7bc7-46b5-8159-8c53574b6297",
   "metadata": {},
   "outputs": [],
   "source": []
  },
  {
   "cell_type": "code",
   "execution_count": null,
   "id": "0b24ff4e-b68c-4220-bb92-52c11e8a0064",
   "metadata": {},
   "outputs": [],
   "source": [
    "apart_data[['시도', '시군구', '읍면동', '리']] = apart_data['시군구'].str.split(n=3, expand=True)"
   ]
  },
  {
   "cell_type": "code",
   "execution_count": null,
   "id": "7ba878b9-ae40-4abe-b1e1-8ef9d437d06d",
   "metadata": {},
   "outputs": [],
   "source": [
    "academy_num['시도'] = academy_num['시도'].str.replace('전라북도', '전북특별자치도')"
   ]
  },
  {
   "cell_type": "code",
   "execution_count": null,
   "id": "26e1753c-6e0b-44aa-8290-568d13040ae4",
   "metadata": {},
   "outputs": [],
   "source": [
    "academy_num['시도'] = academy_num['시도'].str.replace('강원도', '강원특별자치도')"
   ]
  },
  {
   "cell_type": "code",
   "execution_count": null,
   "id": "a920ab48-1724-4979-a348-a39e810b7f10",
   "metadata": {},
   "outputs": [],
   "source": [
    "missing_gu = []\n",
    "for i in apart_data['시군구'].unique():\n",
    "    if i not in academy_num['시군구'].unique():\n",
    "        missing_gu.append(i)\n",
    "\n",
    "print(missing_gu)"
   ]
  },
  {
   "cell_type": "code",
   "execution_count": null,
   "id": "a8748614-e190-4aa7-bfd0-5d4003278cdb",
   "metadata": {},
   "outputs": [],
   "source": [
    "apart_data[[apart_data['시군구'].apply(lambda x : x in missing_gu)]]"
   ]
  },
  {
   "cell_type": "code",
   "execution_count": null,
   "id": "b72b0467-1513-4b5c-a9b5-be11085f1661",
   "metadata": {},
   "outputs": [],
   "source": []
  },
  {
   "cell_type": "code",
   "execution_count": null,
   "id": "bf254829-c1bd-4b33-ae46-6786ee7ffd79",
   "metadata": {},
   "outputs": [],
   "source": []
  },
  {
   "cell_type": "code",
   "execution_count": null,
   "id": "24ef251e-efcb-49c6-ac15-fa0ee3e54f6c",
   "metadata": {},
   "outputs": [],
   "source": []
  },
  {
   "cell_type": "code",
   "execution_count": null,
   "id": "297e72fa-468f-4263-a191-c2820c88e389",
   "metadata": {},
   "outputs": [],
   "source": []
  },
  {
   "cell_type": "code",
   "execution_count": null,
   "id": "4c42e6f2-53b9-4ac6-9854-f280b8454867",
   "metadata": {},
   "outputs": [],
   "source": []
  },
  {
   "cell_type": "code",
   "execution_count": null,
   "id": "3346b320-c980-4ff3-b24b-2d6dd9b749a2",
   "metadata": {},
   "outputs": [],
   "source": []
  },
  {
   "cell_type": "code",
   "execution_count": null,
   "id": "b588f15c-5afd-492f-8b33-ba441001b76f",
   "metadata": {},
   "outputs": [],
   "source": []
  },
  {
   "cell_type": "code",
   "execution_count": null,
   "id": "e7bde81c-063c-480f-b5ca-c2fada361773",
   "metadata": {},
   "outputs": [],
   "source": []
  },
  {
   "cell_type": "code",
   "execution_count": null,
   "id": "57a292d8-6299-4d34-b411-359cc4edd76d",
   "metadata": {},
   "outputs": [],
   "source": []
  },
  {
   "cell_type": "code",
   "execution_count": null,
   "id": "e783348e-e8c0-4f90-a51b-a035f43c4b28",
   "metadata": {},
   "outputs": [],
   "source": []
  },
  {
   "cell_type": "code",
   "execution_count": null,
   "id": "b8ee9add-81ae-4f09-bea4-e22e7ecdbc89",
   "metadata": {},
   "outputs": [],
   "source": []
  },
  {
   "cell_type": "code",
   "execution_count": null,
   "id": "f8524075-fd08-4edd-aad4-25afce4f9786",
   "metadata": {},
   "outputs": [],
   "source": []
  },
  {
   "cell_type": "code",
   "execution_count": null,
   "id": "fee5046b-56d7-4533-9dba-41473d32cb75",
   "metadata": {},
   "outputs": [],
   "source": []
  },
  {
   "cell_type": "code",
   "execution_count": null,
   "id": "cf0c08ee-cc5f-4779-8916-7e3c6cd9a3fa",
   "metadata": {},
   "outputs": [],
   "source": []
  },
  {
   "cell_type": "code",
   "execution_count": null,
   "id": "a7fec8ad-c573-47c6-a6aa-fd13b171e089",
   "metadata": {},
   "outputs": [],
   "source": []
  },
  {
   "cell_type": "code",
   "execution_count": null,
   "id": "6a316b1e-a587-4572-9888-96abd37f1349",
   "metadata": {},
   "outputs": [],
   "source": []
  },
  {
   "cell_type": "code",
   "execution_count": null,
   "id": "e2c611f2-4439-4c33-b5d4-ca86c4bcdf54",
   "metadata": {},
   "outputs": [],
   "source": []
  },
  {
   "cell_type": "code",
   "execution_count": null,
   "id": "6442a4bb-fb58-4eef-b3f1-393b7333492e",
   "metadata": {},
   "outputs": [],
   "source": []
  },
  {
   "cell_type": "code",
   "execution_count": null,
   "id": "ab600849-3313-41fe-91b6-46553453e6f2",
   "metadata": {},
   "outputs": [],
   "source": []
  },
  {
   "cell_type": "code",
   "execution_count": null,
   "id": "a9fc5115-c186-466a-bd12-2068343eeca5",
   "metadata": {},
   "outputs": [],
   "source": []
  },
  {
   "cell_type": "code",
   "execution_count": null,
   "id": "f68f6e5e-7061-4511-9234-3faa1e1f04e1",
   "metadata": {},
   "outputs": [],
   "source": []
  },
  {
   "cell_type": "code",
   "execution_count": null,
   "id": "04cf924b-e2f8-4539-ad91-a3efe42daa1f",
   "metadata": {},
   "outputs": [],
   "source": []
  }
 ],
 "metadata": {
  "kernelspec": {
   "display_name": "Python 3 (ipykernel)",
   "language": "python",
   "name": "python3"
  },
  "language_info": {
   "codemirror_mode": {
    "name": "ipython",
    "version": 3
   },
   "file_extension": ".py",
   "mimetype": "text/x-python",
   "name": "python",
   "nbconvert_exporter": "python",
   "pygments_lexer": "ipython3",
   "version": "3.10.14"
  }
 },
 "nbformat": 4,
 "nbformat_minor": 5
}
