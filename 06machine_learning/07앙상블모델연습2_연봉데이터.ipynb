{
 "cells": [
  {
   "cell_type": "code",
   "execution_count": 1,
   "id": "537fdc80-d461-4bcd-9e55-c007031b4011",
   "metadata": {},
   "outputs": [],
   "source": [
    "import pandas as pd\n",
    "import numpy as np\n",
    "import matplotlib.pyplot as plt\n",
    "import seaborn as sns"
   ]
  },
  {
   "cell_type": "markdown",
   "id": "7c41e504-802c-47ef-a1a7-56c1e11c39b4",
   "metadata": {},
   "source": [
    "# 연봉데이터 로딩, 전처리, EDA, Feature Engineering\n",
    "# modeling, 성능 검증, 하이퍼파라미터 튜닝"
   ]
  },
  {
   "cell_type": "markdown",
   "id": "e31f86e5-703b-4f35-80a9-26815fa43342",
   "metadata": {},
   "source": [
    "## 기본 모델 : DesicionTree - 성능기준\n",
    "## 배깅, 부스팅, 랜덤배깅 모델 튜닝\n",
    "### 분석 목적 : 학력, 교육, 연수, 혼인 상태, 직업정보가 있는 연봉데이터셋을 이용해 연봉 예측하기\n",
    "#### 연봉이 5만 달러 이상인지 아닌지 "
   ]
  },
  {
   "cell_type": "code",
   "execution_count": 2,
   "id": "01a409ed-fa0f-4820-a264-ed34e4df356a",
   "metadata": {},
   "outputs": [
    {
     "data": {
      "text/html": [
       "<div>\n",
       "<style scoped>\n",
       "    .dataframe tbody tr th:only-of-type {\n",
       "        vertical-align: middle;\n",
       "    }\n",
       "\n",
       "    .dataframe tbody tr th {\n",
       "        vertical-align: top;\n",
       "    }\n",
       "\n",
       "    .dataframe thead th {\n",
       "        text-align: right;\n",
       "    }\n",
       "</style>\n",
       "<table border=\"1\" class=\"dataframe\">\n",
       "  <thead>\n",
       "    <tr style=\"text-align: right;\">\n",
       "      <th></th>\n",
       "      <th>age</th>\n",
       "      <th>workclass</th>\n",
       "      <th>education</th>\n",
       "      <th>education-num</th>\n",
       "      <th>marital-status</th>\n",
       "      <th>occupation</th>\n",
       "      <th>relationship</th>\n",
       "      <th>race</th>\n",
       "      <th>sex</th>\n",
       "      <th>capital-gain</th>\n",
       "      <th>capital-loss</th>\n",
       "      <th>hours-per-week</th>\n",
       "      <th>native-country</th>\n",
       "      <th>class</th>\n",
       "    </tr>\n",
       "  </thead>\n",
       "  <tbody>\n",
       "    <tr>\n",
       "      <th>0</th>\n",
       "      <td>25</td>\n",
       "      <td>Private</td>\n",
       "      <td>11th</td>\n",
       "      <td>7</td>\n",
       "      <td>Never-married</td>\n",
       "      <td>Machine-op-inspct</td>\n",
       "      <td>Own-child</td>\n",
       "      <td>Black</td>\n",
       "      <td>Male</td>\n",
       "      <td>0</td>\n",
       "      <td>0</td>\n",
       "      <td>40</td>\n",
       "      <td>United-States</td>\n",
       "      <td>&lt;=50K</td>\n",
       "    </tr>\n",
       "    <tr>\n",
       "      <th>1</th>\n",
       "      <td>38</td>\n",
       "      <td>Private</td>\n",
       "      <td>HS-grad</td>\n",
       "      <td>9</td>\n",
       "      <td>Married-civ-spouse</td>\n",
       "      <td>Farming-fishing</td>\n",
       "      <td>Husband</td>\n",
       "      <td>White</td>\n",
       "      <td>Male</td>\n",
       "      <td>0</td>\n",
       "      <td>0</td>\n",
       "      <td>50</td>\n",
       "      <td>United-States</td>\n",
       "      <td>&lt;=50K</td>\n",
       "    </tr>\n",
       "    <tr>\n",
       "      <th>2</th>\n",
       "      <td>28</td>\n",
       "      <td>Local-gov</td>\n",
       "      <td>Assoc-acdm</td>\n",
       "      <td>12</td>\n",
       "      <td>Married-civ-spouse</td>\n",
       "      <td>Protective-serv</td>\n",
       "      <td>Husband</td>\n",
       "      <td>White</td>\n",
       "      <td>Male</td>\n",
       "      <td>0</td>\n",
       "      <td>0</td>\n",
       "      <td>40</td>\n",
       "      <td>United-States</td>\n",
       "      <td>&gt;50K</td>\n",
       "    </tr>\n",
       "    <tr>\n",
       "      <th>3</th>\n",
       "      <td>44</td>\n",
       "      <td>Private</td>\n",
       "      <td>Some-college</td>\n",
       "      <td>10</td>\n",
       "      <td>Married-civ-spouse</td>\n",
       "      <td>Machine-op-inspct</td>\n",
       "      <td>Husband</td>\n",
       "      <td>Black</td>\n",
       "      <td>Male</td>\n",
       "      <td>7688</td>\n",
       "      <td>0</td>\n",
       "      <td>40</td>\n",
       "      <td>United-States</td>\n",
       "      <td>&gt;50K</td>\n",
       "    </tr>\n",
       "    <tr>\n",
       "      <th>4</th>\n",
       "      <td>18</td>\n",
       "      <td>NaN</td>\n",
       "      <td>Some-college</td>\n",
       "      <td>10</td>\n",
       "      <td>Never-married</td>\n",
       "      <td>NaN</td>\n",
       "      <td>Own-child</td>\n",
       "      <td>White</td>\n",
       "      <td>Female</td>\n",
       "      <td>0</td>\n",
       "      <td>0</td>\n",
       "      <td>30</td>\n",
       "      <td>United-States</td>\n",
       "      <td>&lt;=50K</td>\n",
       "    </tr>\n",
       "  </tbody>\n",
       "</table>\n",
       "</div>"
      ],
      "text/plain": [
       "   age   workclass      education  education-num       marital-status  \\\n",
       "0   25     Private           11th              7        Never-married   \n",
       "1   38     Private        HS-grad              9   Married-civ-spouse   \n",
       "2   28   Local-gov     Assoc-acdm             12   Married-civ-spouse   \n",
       "3   44     Private   Some-college             10   Married-civ-spouse   \n",
       "4   18         NaN   Some-college             10        Never-married   \n",
       "\n",
       "           occupation relationship    race      sex  capital-gain  \\\n",
       "0   Machine-op-inspct    Own-child   Black     Male             0   \n",
       "1     Farming-fishing      Husband   White     Male             0   \n",
       "2     Protective-serv      Husband   White     Male             0   \n",
       "3   Machine-op-inspct      Husband   Black     Male          7688   \n",
       "4                 NaN    Own-child   White   Female             0   \n",
       "\n",
       "   capital-loss  hours-per-week  native-country   class  \n",
       "0             0              40   United-States   <=50K  \n",
       "1             0              50   United-States   <=50K  \n",
       "2             0              40   United-States    >50K  \n",
       "3             0              40   United-States    >50K  \n",
       "4             0              30   United-States   <=50K  "
      ]
     },
     "execution_count": 2,
     "metadata": {},
     "output_type": "execute_result"
    }
   ],
   "source": [
    "data = pd.read_csv(\"https://raw.githubusercontent.com/haram4th/ADsP/main/salary2.csv\")\n",
    "data.head()\n",
    "#class가 타겟 변수"
   ]
  },
  {
   "cell_type": "markdown",
   "id": "96d7ed9e-2995-40f5-a1e2-3a34feeb4297",
   "metadata": {},
   "source": [
    "age: 나이\n",
    "workclass: 직업군(고용 형태)\n",
    "education: 교육 수준(학력)\n",
    "education-num: 교육 연수\n",
    "marital-status: 결혼 상태\n",
    "occupation: 직업\n",
    "relationship: 가족 관계\n",
    "race: 인종\n",
    "sex: 성별\n",
    "capital-gain: 자본 소득(자산 증가)\n",
    "capital-loss: 자본 손실(자산 감소)\n",
    "hours-per-week: 주당 근로 시간\n",
    "native-country: 출신(본국)\n",
    "class : 연봉 구분 - target"
   ]
  },
  {
   "cell_type": "code",
   "execution_count": 3,
   "id": "311959a7-6ac0-423c-890d-5f9a0a6c7692",
   "metadata": {},
   "outputs": [
    {
     "name": "stdout",
     "output_type": "stream",
     "text": [
      "<class 'pandas.core.frame.DataFrame'>\n",
      "RangeIndex: 48842 entries, 0 to 48841\n",
      "Data columns (total 14 columns):\n",
      " #   Column          Non-Null Count  Dtype \n",
      "---  ------          --------------  ----- \n",
      " 0   age             48842 non-null  int64 \n",
      " 1   workclass       46043 non-null  object\n",
      " 2   education       48842 non-null  object\n",
      " 3   education-num   48842 non-null  int64 \n",
      " 4   marital-status  48842 non-null  object\n",
      " 5   occupation      46033 non-null  object\n",
      " 6   relationship    48842 non-null  object\n",
      " 7   race            48842 non-null  object\n",
      " 8   sex             48842 non-null  object\n",
      " 9   capital-gain    48842 non-null  int64 \n",
      " 10  capital-loss    48842 non-null  int64 \n",
      " 11  hours-per-week  48842 non-null  int64 \n",
      " 12  native-country  47985 non-null  object\n",
      " 13  class           48842 non-null  object\n",
      "dtypes: int64(5), object(9)\n",
      "memory usage: 5.2+ MB\n"
     ]
    }
   ],
   "source": [
    "data.info()"
   ]
  },
  {
   "cell_type": "code",
   "execution_count": 4,
   "id": "1f88e9ee-f6f5-4790-a70e-9f2b5f44ac03",
   "metadata": {},
   "outputs": [
    {
     "data": {
      "text/html": [
       "<div>\n",
       "<style scoped>\n",
       "    .dataframe tbody tr th:only-of-type {\n",
       "        vertical-align: middle;\n",
       "    }\n",
       "\n",
       "    .dataframe tbody tr th {\n",
       "        vertical-align: top;\n",
       "    }\n",
       "\n",
       "    .dataframe thead th {\n",
       "        text-align: right;\n",
       "    }\n",
       "</style>\n",
       "<table border=\"1\" class=\"dataframe\">\n",
       "  <thead>\n",
       "    <tr style=\"text-align: right;\">\n",
       "      <th></th>\n",
       "      <th>age</th>\n",
       "      <th>education-num</th>\n",
       "      <th>capital-gain</th>\n",
       "      <th>capital-loss</th>\n",
       "      <th>hours-per-week</th>\n",
       "    </tr>\n",
       "  </thead>\n",
       "  <tbody>\n",
       "    <tr>\n",
       "      <th>count</th>\n",
       "      <td>48842.000000</td>\n",
       "      <td>48842.000000</td>\n",
       "      <td>48842.000000</td>\n",
       "      <td>48842.000000</td>\n",
       "      <td>48842.000000</td>\n",
       "    </tr>\n",
       "    <tr>\n",
       "      <th>mean</th>\n",
       "      <td>38.643585</td>\n",
       "      <td>10.078089</td>\n",
       "      <td>1079.067626</td>\n",
       "      <td>87.502314</td>\n",
       "      <td>40.422382</td>\n",
       "    </tr>\n",
       "    <tr>\n",
       "      <th>std</th>\n",
       "      <td>13.710510</td>\n",
       "      <td>2.570973</td>\n",
       "      <td>7452.019058</td>\n",
       "      <td>403.004552</td>\n",
       "      <td>12.391444</td>\n",
       "    </tr>\n",
       "    <tr>\n",
       "      <th>min</th>\n",
       "      <td>17.000000</td>\n",
       "      <td>1.000000</td>\n",
       "      <td>0.000000</td>\n",
       "      <td>0.000000</td>\n",
       "      <td>1.000000</td>\n",
       "    </tr>\n",
       "    <tr>\n",
       "      <th>25%</th>\n",
       "      <td>28.000000</td>\n",
       "      <td>9.000000</td>\n",
       "      <td>0.000000</td>\n",
       "      <td>0.000000</td>\n",
       "      <td>40.000000</td>\n",
       "    </tr>\n",
       "    <tr>\n",
       "      <th>50%</th>\n",
       "      <td>37.000000</td>\n",
       "      <td>10.000000</td>\n",
       "      <td>0.000000</td>\n",
       "      <td>0.000000</td>\n",
       "      <td>40.000000</td>\n",
       "    </tr>\n",
       "    <tr>\n",
       "      <th>75%</th>\n",
       "      <td>48.000000</td>\n",
       "      <td>12.000000</td>\n",
       "      <td>0.000000</td>\n",
       "      <td>0.000000</td>\n",
       "      <td>45.000000</td>\n",
       "    </tr>\n",
       "    <tr>\n",
       "      <th>max</th>\n",
       "      <td>90.000000</td>\n",
       "      <td>16.000000</td>\n",
       "      <td>99999.000000</td>\n",
       "      <td>4356.000000</td>\n",
       "      <td>99.000000</td>\n",
       "    </tr>\n",
       "  </tbody>\n",
       "</table>\n",
       "</div>"
      ],
      "text/plain": [
       "                age  education-num  capital-gain  capital-loss  hours-per-week\n",
       "count  48842.000000   48842.000000  48842.000000  48842.000000    48842.000000\n",
       "mean      38.643585      10.078089   1079.067626     87.502314       40.422382\n",
       "std       13.710510       2.570973   7452.019058    403.004552       12.391444\n",
       "min       17.000000       1.000000      0.000000      0.000000        1.000000\n",
       "25%       28.000000       9.000000      0.000000      0.000000       40.000000\n",
       "50%       37.000000      10.000000      0.000000      0.000000       40.000000\n",
       "75%       48.000000      12.000000      0.000000      0.000000       45.000000\n",
       "max       90.000000      16.000000  99999.000000   4356.000000       99.000000"
      ]
     },
     "execution_count": 4,
     "metadata": {},
     "output_type": "execute_result"
    }
   ],
   "source": [
    "data.describe()"
   ]
  },
  {
   "cell_type": "code",
   "execution_count": 5,
   "id": "d814a2b6-25f0-4fe2-b17b-b4513747a1a0",
   "metadata": {},
   "outputs": [
    {
     "data": {
      "text/plain": [
       "age                  0\n",
       "workclass         2799\n",
       "education            0\n",
       "education-num        0\n",
       "marital-status       0\n",
       "occupation        2809\n",
       "relationship         0\n",
       "race                 0\n",
       "sex                  0\n",
       "capital-gain         0\n",
       "capital-loss         0\n",
       "hours-per-week       0\n",
       "native-country     857\n",
       "class                0\n",
       "dtype: int64"
      ]
     },
     "execution_count": 5,
     "metadata": {},
     "output_type": "execute_result"
    }
   ],
   "source": [
    "data.isna().sum()"
   ]
  },
  {
   "cell_type": "code",
   "execution_count": 6,
   "id": "bda8fcb0-bbb0-4e7e-be5b-c6026d35f12a",
   "metadata": {},
   "outputs": [
    {
     "data": {
      "text/plain": [
       "age               0.000000\n",
       "workclass         5.730724\n",
       "education         0.000000\n",
       "education-num     0.000000\n",
       "marital-status    0.000000\n",
       "occupation        5.751198\n",
       "relationship      0.000000\n",
       "race              0.000000\n",
       "sex               0.000000\n",
       "capital-gain      0.000000\n",
       "capital-loss      0.000000\n",
       "hours-per-week    0.000000\n",
       "native-country    1.754637\n",
       "class             0.000000\n",
       "dtype: float64"
      ]
     },
     "execution_count": 6,
     "metadata": {},
     "output_type": "execute_result"
    }
   ],
   "source": [
    "data.isna().sum() / len(data) * 100"
   ]
  },
  {
   "cell_type": "code",
   "execution_count": 7,
   "id": "f622bd9f-b0ba-4884-846c-ce25af48a13f",
   "metadata": {},
   "outputs": [
    {
     "data": {
      "text/html": [
       "<div>\n",
       "<style scoped>\n",
       "    .dataframe tbody tr th:only-of-type {\n",
       "        vertical-align: middle;\n",
       "    }\n",
       "\n",
       "    .dataframe tbody tr th {\n",
       "        vertical-align: top;\n",
       "    }\n",
       "\n",
       "    .dataframe thead th {\n",
       "        text-align: right;\n",
       "    }\n",
       "</style>\n",
       "<table border=\"1\" class=\"dataframe\">\n",
       "  <thead>\n",
       "    <tr style=\"text-align: right;\">\n",
       "      <th></th>\n",
       "      <th>age</th>\n",
       "      <th>workclass</th>\n",
       "      <th>education</th>\n",
       "      <th>education-num</th>\n",
       "      <th>marital-status</th>\n",
       "      <th>occupation</th>\n",
       "      <th>relationship</th>\n",
       "      <th>race</th>\n",
       "      <th>sex</th>\n",
       "      <th>capital-gain</th>\n",
       "      <th>capital-loss</th>\n",
       "      <th>hours-per-week</th>\n",
       "      <th>native-country</th>\n",
       "      <th>class</th>\n",
       "    </tr>\n",
       "  </thead>\n",
       "  <tbody>\n",
       "    <tr>\n",
       "      <th>4</th>\n",
       "      <td>18</td>\n",
       "      <td>NaN</td>\n",
       "      <td>Some-college</td>\n",
       "      <td>10</td>\n",
       "      <td>Never-married</td>\n",
       "      <td>NaN</td>\n",
       "      <td>Own-child</td>\n",
       "      <td>White</td>\n",
       "      <td>Female</td>\n",
       "      <td>0</td>\n",
       "      <td>0</td>\n",
       "      <td>30</td>\n",
       "      <td>United-States</td>\n",
       "      <td>&lt;=50K</td>\n",
       "    </tr>\n",
       "    <tr>\n",
       "      <th>6</th>\n",
       "      <td>29</td>\n",
       "      <td>NaN</td>\n",
       "      <td>HS-grad</td>\n",
       "      <td>9</td>\n",
       "      <td>Never-married</td>\n",
       "      <td>NaN</td>\n",
       "      <td>Unmarried</td>\n",
       "      <td>Black</td>\n",
       "      <td>Male</td>\n",
       "      <td>0</td>\n",
       "      <td>0</td>\n",
       "      <td>40</td>\n",
       "      <td>United-States</td>\n",
       "      <td>&lt;=50K</td>\n",
       "    </tr>\n",
       "    <tr>\n",
       "      <th>13</th>\n",
       "      <td>58</td>\n",
       "      <td>NaN</td>\n",
       "      <td>HS-grad</td>\n",
       "      <td>9</td>\n",
       "      <td>Married-civ-spouse</td>\n",
       "      <td>NaN</td>\n",
       "      <td>Husband</td>\n",
       "      <td>White</td>\n",
       "      <td>Male</td>\n",
       "      <td>0</td>\n",
       "      <td>0</td>\n",
       "      <td>35</td>\n",
       "      <td>United-States</td>\n",
       "      <td>&lt;=50K</td>\n",
       "    </tr>\n",
       "    <tr>\n",
       "      <th>22</th>\n",
       "      <td>72</td>\n",
       "      <td>NaN</td>\n",
       "      <td>7th-8th</td>\n",
       "      <td>4</td>\n",
       "      <td>Divorced</td>\n",
       "      <td>NaN</td>\n",
       "      <td>Not-in-family</td>\n",
       "      <td>White</td>\n",
       "      <td>Female</td>\n",
       "      <td>0</td>\n",
       "      <td>0</td>\n",
       "      <td>6</td>\n",
       "      <td>United-States</td>\n",
       "      <td>&lt;=50K</td>\n",
       "    </tr>\n",
       "    <tr>\n",
       "      <th>35</th>\n",
       "      <td>65</td>\n",
       "      <td>NaN</td>\n",
       "      <td>HS-grad</td>\n",
       "      <td>9</td>\n",
       "      <td>Married-civ-spouse</td>\n",
       "      <td>NaN</td>\n",
       "      <td>Husband</td>\n",
       "      <td>White</td>\n",
       "      <td>Male</td>\n",
       "      <td>0</td>\n",
       "      <td>0</td>\n",
       "      <td>40</td>\n",
       "      <td>United-States</td>\n",
       "      <td>&lt;=50K</td>\n",
       "    </tr>\n",
       "    <tr>\n",
       "      <th>...</th>\n",
       "      <td>...</td>\n",
       "      <td>...</td>\n",
       "      <td>...</td>\n",
       "      <td>...</td>\n",
       "      <td>...</td>\n",
       "      <td>...</td>\n",
       "      <td>...</td>\n",
       "      <td>...</td>\n",
       "      <td>...</td>\n",
       "      <td>...</td>\n",
       "      <td>...</td>\n",
       "      <td>...</td>\n",
       "      <td>...</td>\n",
       "      <td>...</td>\n",
       "    </tr>\n",
       "    <tr>\n",
       "      <th>48811</th>\n",
       "      <td>35</td>\n",
       "      <td>NaN</td>\n",
       "      <td>Bachelors</td>\n",
       "      <td>13</td>\n",
       "      <td>Married-civ-spouse</td>\n",
       "      <td>NaN</td>\n",
       "      <td>Wife</td>\n",
       "      <td>White</td>\n",
       "      <td>Female</td>\n",
       "      <td>0</td>\n",
       "      <td>0</td>\n",
       "      <td>55</td>\n",
       "      <td>United-States</td>\n",
       "      <td>&gt;50K</td>\n",
       "    </tr>\n",
       "    <tr>\n",
       "      <th>48812</th>\n",
       "      <td>30</td>\n",
       "      <td>NaN</td>\n",
       "      <td>Bachelors</td>\n",
       "      <td>13</td>\n",
       "      <td>Never-married</td>\n",
       "      <td>NaN</td>\n",
       "      <td>Not-in-family</td>\n",
       "      <td>Asian-Pac-Islander</td>\n",
       "      <td>Female</td>\n",
       "      <td>0</td>\n",
       "      <td>0</td>\n",
       "      <td>99</td>\n",
       "      <td>United-States</td>\n",
       "      <td>&lt;=50K</td>\n",
       "    </tr>\n",
       "    <tr>\n",
       "      <th>48820</th>\n",
       "      <td>71</td>\n",
       "      <td>NaN</td>\n",
       "      <td>Doctorate</td>\n",
       "      <td>16</td>\n",
       "      <td>Married-civ-spouse</td>\n",
       "      <td>NaN</td>\n",
       "      <td>Husband</td>\n",
       "      <td>White</td>\n",
       "      <td>Male</td>\n",
       "      <td>0</td>\n",
       "      <td>0</td>\n",
       "      <td>10</td>\n",
       "      <td>United-States</td>\n",
       "      <td>&gt;50K</td>\n",
       "    </tr>\n",
       "    <tr>\n",
       "      <th>48822</th>\n",
       "      <td>41</td>\n",
       "      <td>NaN</td>\n",
       "      <td>HS-grad</td>\n",
       "      <td>9</td>\n",
       "      <td>Separated</td>\n",
       "      <td>NaN</td>\n",
       "      <td>Not-in-family</td>\n",
       "      <td>Black</td>\n",
       "      <td>Female</td>\n",
       "      <td>0</td>\n",
       "      <td>0</td>\n",
       "      <td>32</td>\n",
       "      <td>United-States</td>\n",
       "      <td>&lt;=50K</td>\n",
       "    </tr>\n",
       "    <tr>\n",
       "      <th>48823</th>\n",
       "      <td>72</td>\n",
       "      <td>NaN</td>\n",
       "      <td>HS-grad</td>\n",
       "      <td>9</td>\n",
       "      <td>Married-civ-spouse</td>\n",
       "      <td>NaN</td>\n",
       "      <td>Husband</td>\n",
       "      <td>White</td>\n",
       "      <td>Male</td>\n",
       "      <td>0</td>\n",
       "      <td>0</td>\n",
       "      <td>25</td>\n",
       "      <td>United-States</td>\n",
       "      <td>&lt;=50K</td>\n",
       "    </tr>\n",
       "  </tbody>\n",
       "</table>\n",
       "<p>2799 rows × 14 columns</p>\n",
       "</div>"
      ],
      "text/plain": [
       "       age workclass      education  education-num       marital-status  \\\n",
       "4       18       NaN   Some-college             10        Never-married   \n",
       "6       29       NaN        HS-grad              9        Never-married   \n",
       "13      58       NaN        HS-grad              9   Married-civ-spouse   \n",
       "22      72       NaN        7th-8th              4             Divorced   \n",
       "35      65       NaN        HS-grad              9   Married-civ-spouse   \n",
       "...    ...       ...            ...            ...                  ...   \n",
       "48811   35       NaN      Bachelors             13   Married-civ-spouse   \n",
       "48812   30       NaN      Bachelors             13        Never-married   \n",
       "48820   71       NaN      Doctorate             16   Married-civ-spouse   \n",
       "48822   41       NaN        HS-grad              9            Separated   \n",
       "48823   72       NaN        HS-grad              9   Married-civ-spouse   \n",
       "\n",
       "      occupation    relationship                 race      sex  capital-gain  \\\n",
       "4            NaN       Own-child                White   Female             0   \n",
       "6            NaN       Unmarried                Black     Male             0   \n",
       "13           NaN         Husband                White     Male             0   \n",
       "22           NaN   Not-in-family                White   Female             0   \n",
       "35           NaN         Husband                White     Male             0   \n",
       "...          ...             ...                  ...      ...           ...   \n",
       "48811        NaN            Wife                White   Female             0   \n",
       "48812        NaN   Not-in-family   Asian-Pac-Islander   Female             0   \n",
       "48820        NaN         Husband                White     Male             0   \n",
       "48822        NaN   Not-in-family                Black   Female             0   \n",
       "48823        NaN         Husband                White     Male             0   \n",
       "\n",
       "       capital-loss  hours-per-week  native-country   class  \n",
       "4                 0              30   United-States   <=50K  \n",
       "6                 0              40   United-States   <=50K  \n",
       "13                0              35   United-States   <=50K  \n",
       "22                0               6   United-States   <=50K  \n",
       "35                0              40   United-States   <=50K  \n",
       "...             ...             ...             ...     ...  \n",
       "48811             0              55   United-States    >50K  \n",
       "48812             0              99   United-States   <=50K  \n",
       "48820             0              10   United-States    >50K  \n",
       "48822             0              32   United-States   <=50K  \n",
       "48823             0              25   United-States   <=50K  \n",
       "\n",
       "[2799 rows x 14 columns]"
      ]
     },
     "execution_count": 7,
     "metadata": {},
     "output_type": "execute_result"
    }
   ],
   "source": [
    "data[data['workclass'].isna() == True]"
   ]
  },
  {
   "cell_type": "code",
   "execution_count": 8,
   "id": "a5c6d8fd-4646-418c-9485-8fa124a206d0",
   "metadata": {},
   "outputs": [
    {
     "data": {
      "text/html": [
       "<div>\n",
       "<style scoped>\n",
       "    .dataframe tbody tr th:only-of-type {\n",
       "        vertical-align: middle;\n",
       "    }\n",
       "\n",
       "    .dataframe tbody tr th {\n",
       "        vertical-align: top;\n",
       "    }\n",
       "\n",
       "    .dataframe thead th {\n",
       "        text-align: right;\n",
       "    }\n",
       "</style>\n",
       "<table border=\"1\" class=\"dataframe\">\n",
       "  <thead>\n",
       "    <tr style=\"text-align: right;\">\n",
       "      <th></th>\n",
       "      <th>age</th>\n",
       "      <th>workclass</th>\n",
       "      <th>education</th>\n",
       "      <th>education-num</th>\n",
       "      <th>marital-status</th>\n",
       "      <th>occupation</th>\n",
       "      <th>relationship</th>\n",
       "      <th>race</th>\n",
       "      <th>sex</th>\n",
       "      <th>capital-gain</th>\n",
       "      <th>capital-loss</th>\n",
       "      <th>hours-per-week</th>\n",
       "      <th>native-country</th>\n",
       "      <th>class</th>\n",
       "    </tr>\n",
       "  </thead>\n",
       "  <tbody>\n",
       "    <tr>\n",
       "      <th>4</th>\n",
       "      <td>18</td>\n",
       "      <td>NaN</td>\n",
       "      <td>Some-college</td>\n",
       "      <td>10</td>\n",
       "      <td>Never-married</td>\n",
       "      <td>NaN</td>\n",
       "      <td>Own-child</td>\n",
       "      <td>White</td>\n",
       "      <td>Female</td>\n",
       "      <td>0</td>\n",
       "      <td>0</td>\n",
       "      <td>30</td>\n",
       "      <td>United-States</td>\n",
       "      <td>&lt;=50K</td>\n",
       "    </tr>\n",
       "    <tr>\n",
       "      <th>6</th>\n",
       "      <td>29</td>\n",
       "      <td>NaN</td>\n",
       "      <td>HS-grad</td>\n",
       "      <td>9</td>\n",
       "      <td>Never-married</td>\n",
       "      <td>NaN</td>\n",
       "      <td>Unmarried</td>\n",
       "      <td>Black</td>\n",
       "      <td>Male</td>\n",
       "      <td>0</td>\n",
       "      <td>0</td>\n",
       "      <td>40</td>\n",
       "      <td>United-States</td>\n",
       "      <td>&lt;=50K</td>\n",
       "    </tr>\n",
       "    <tr>\n",
       "      <th>13</th>\n",
       "      <td>58</td>\n",
       "      <td>NaN</td>\n",
       "      <td>HS-grad</td>\n",
       "      <td>9</td>\n",
       "      <td>Married-civ-spouse</td>\n",
       "      <td>NaN</td>\n",
       "      <td>Husband</td>\n",
       "      <td>White</td>\n",
       "      <td>Male</td>\n",
       "      <td>0</td>\n",
       "      <td>0</td>\n",
       "      <td>35</td>\n",
       "      <td>United-States</td>\n",
       "      <td>&lt;=50K</td>\n",
       "    </tr>\n",
       "    <tr>\n",
       "      <th>22</th>\n",
       "      <td>72</td>\n",
       "      <td>NaN</td>\n",
       "      <td>7th-8th</td>\n",
       "      <td>4</td>\n",
       "      <td>Divorced</td>\n",
       "      <td>NaN</td>\n",
       "      <td>Not-in-family</td>\n",
       "      <td>White</td>\n",
       "      <td>Female</td>\n",
       "      <td>0</td>\n",
       "      <td>0</td>\n",
       "      <td>6</td>\n",
       "      <td>United-States</td>\n",
       "      <td>&lt;=50K</td>\n",
       "    </tr>\n",
       "    <tr>\n",
       "      <th>35</th>\n",
       "      <td>65</td>\n",
       "      <td>NaN</td>\n",
       "      <td>HS-grad</td>\n",
       "      <td>9</td>\n",
       "      <td>Married-civ-spouse</td>\n",
       "      <td>NaN</td>\n",
       "      <td>Husband</td>\n",
       "      <td>White</td>\n",
       "      <td>Male</td>\n",
       "      <td>0</td>\n",
       "      <td>0</td>\n",
       "      <td>40</td>\n",
       "      <td>United-States</td>\n",
       "      <td>&lt;=50K</td>\n",
       "    </tr>\n",
       "    <tr>\n",
       "      <th>...</th>\n",
       "      <td>...</td>\n",
       "      <td>...</td>\n",
       "      <td>...</td>\n",
       "      <td>...</td>\n",
       "      <td>...</td>\n",
       "      <td>...</td>\n",
       "      <td>...</td>\n",
       "      <td>...</td>\n",
       "      <td>...</td>\n",
       "      <td>...</td>\n",
       "      <td>...</td>\n",
       "      <td>...</td>\n",
       "      <td>...</td>\n",
       "      <td>...</td>\n",
       "    </tr>\n",
       "    <tr>\n",
       "      <th>48811</th>\n",
       "      <td>35</td>\n",
       "      <td>NaN</td>\n",
       "      <td>Bachelors</td>\n",
       "      <td>13</td>\n",
       "      <td>Married-civ-spouse</td>\n",
       "      <td>NaN</td>\n",
       "      <td>Wife</td>\n",
       "      <td>White</td>\n",
       "      <td>Female</td>\n",
       "      <td>0</td>\n",
       "      <td>0</td>\n",
       "      <td>55</td>\n",
       "      <td>United-States</td>\n",
       "      <td>&gt;50K</td>\n",
       "    </tr>\n",
       "    <tr>\n",
       "      <th>48812</th>\n",
       "      <td>30</td>\n",
       "      <td>NaN</td>\n",
       "      <td>Bachelors</td>\n",
       "      <td>13</td>\n",
       "      <td>Never-married</td>\n",
       "      <td>NaN</td>\n",
       "      <td>Not-in-family</td>\n",
       "      <td>Asian-Pac-Islander</td>\n",
       "      <td>Female</td>\n",
       "      <td>0</td>\n",
       "      <td>0</td>\n",
       "      <td>99</td>\n",
       "      <td>United-States</td>\n",
       "      <td>&lt;=50K</td>\n",
       "    </tr>\n",
       "    <tr>\n",
       "      <th>48820</th>\n",
       "      <td>71</td>\n",
       "      <td>NaN</td>\n",
       "      <td>Doctorate</td>\n",
       "      <td>16</td>\n",
       "      <td>Married-civ-spouse</td>\n",
       "      <td>NaN</td>\n",
       "      <td>Husband</td>\n",
       "      <td>White</td>\n",
       "      <td>Male</td>\n",
       "      <td>0</td>\n",
       "      <td>0</td>\n",
       "      <td>10</td>\n",
       "      <td>United-States</td>\n",
       "      <td>&gt;50K</td>\n",
       "    </tr>\n",
       "    <tr>\n",
       "      <th>48822</th>\n",
       "      <td>41</td>\n",
       "      <td>NaN</td>\n",
       "      <td>HS-grad</td>\n",
       "      <td>9</td>\n",
       "      <td>Separated</td>\n",
       "      <td>NaN</td>\n",
       "      <td>Not-in-family</td>\n",
       "      <td>Black</td>\n",
       "      <td>Female</td>\n",
       "      <td>0</td>\n",
       "      <td>0</td>\n",
       "      <td>32</td>\n",
       "      <td>United-States</td>\n",
       "      <td>&lt;=50K</td>\n",
       "    </tr>\n",
       "    <tr>\n",
       "      <th>48823</th>\n",
       "      <td>72</td>\n",
       "      <td>NaN</td>\n",
       "      <td>HS-grad</td>\n",
       "      <td>9</td>\n",
       "      <td>Married-civ-spouse</td>\n",
       "      <td>NaN</td>\n",
       "      <td>Husband</td>\n",
       "      <td>White</td>\n",
       "      <td>Male</td>\n",
       "      <td>0</td>\n",
       "      <td>0</td>\n",
       "      <td>25</td>\n",
       "      <td>United-States</td>\n",
       "      <td>&lt;=50K</td>\n",
       "    </tr>\n",
       "  </tbody>\n",
       "</table>\n",
       "<p>2809 rows × 14 columns</p>\n",
       "</div>"
      ],
      "text/plain": [
       "       age workclass      education  education-num       marital-status  \\\n",
       "4       18       NaN   Some-college             10        Never-married   \n",
       "6       29       NaN        HS-grad              9        Never-married   \n",
       "13      58       NaN        HS-grad              9   Married-civ-spouse   \n",
       "22      72       NaN        7th-8th              4             Divorced   \n",
       "35      65       NaN        HS-grad              9   Married-civ-spouse   \n",
       "...    ...       ...            ...            ...                  ...   \n",
       "48811   35       NaN      Bachelors             13   Married-civ-spouse   \n",
       "48812   30       NaN      Bachelors             13        Never-married   \n",
       "48820   71       NaN      Doctorate             16   Married-civ-spouse   \n",
       "48822   41       NaN        HS-grad              9            Separated   \n",
       "48823   72       NaN        HS-grad              9   Married-civ-spouse   \n",
       "\n",
       "      occupation    relationship                 race      sex  capital-gain  \\\n",
       "4            NaN       Own-child                White   Female             0   \n",
       "6            NaN       Unmarried                Black     Male             0   \n",
       "13           NaN         Husband                White     Male             0   \n",
       "22           NaN   Not-in-family                White   Female             0   \n",
       "35           NaN         Husband                White     Male             0   \n",
       "...          ...             ...                  ...      ...           ...   \n",
       "48811        NaN            Wife                White   Female             0   \n",
       "48812        NaN   Not-in-family   Asian-Pac-Islander   Female             0   \n",
       "48820        NaN         Husband                White     Male             0   \n",
       "48822        NaN   Not-in-family                Black   Female             0   \n",
       "48823        NaN         Husband                White     Male             0   \n",
       "\n",
       "       capital-loss  hours-per-week  native-country   class  \n",
       "4                 0              30   United-States   <=50K  \n",
       "6                 0              40   United-States   <=50K  \n",
       "13                0              35   United-States   <=50K  \n",
       "22                0               6   United-States   <=50K  \n",
       "35                0              40   United-States   <=50K  \n",
       "...             ...             ...             ...     ...  \n",
       "48811             0              55   United-States    >50K  \n",
       "48812             0              99   United-States   <=50K  \n",
       "48820             0              10   United-States    >50K  \n",
       "48822             0              32   United-States   <=50K  \n",
       "48823             0              25   United-States   <=50K  \n",
       "\n",
       "[2809 rows x 14 columns]"
      ]
     },
     "execution_count": 8,
     "metadata": {},
     "output_type": "execute_result"
    }
   ],
   "source": [
    "data[data['occupation'].isna() == True]"
   ]
  },
  {
   "cell_type": "code",
   "execution_count": 9,
   "id": "7595e63b-31eb-45b4-877a-829ede2c578d",
   "metadata": {},
   "outputs": [
    {
     "data": {
      "text/html": [
       "<div>\n",
       "<style scoped>\n",
       "    .dataframe tbody tr th:only-of-type {\n",
       "        vertical-align: middle;\n",
       "    }\n",
       "\n",
       "    .dataframe tbody tr th {\n",
       "        vertical-align: top;\n",
       "    }\n",
       "\n",
       "    .dataframe thead th {\n",
       "        text-align: right;\n",
       "    }\n",
       "</style>\n",
       "<table border=\"1\" class=\"dataframe\">\n",
       "  <thead>\n",
       "    <tr style=\"text-align: right;\">\n",
       "      <th></th>\n",
       "      <th>age</th>\n",
       "      <th>workclass</th>\n",
       "      <th>education</th>\n",
       "      <th>education-num</th>\n",
       "      <th>marital-status</th>\n",
       "      <th>occupation</th>\n",
       "      <th>relationship</th>\n",
       "      <th>race</th>\n",
       "      <th>sex</th>\n",
       "      <th>capital-gain</th>\n",
       "      <th>capital-loss</th>\n",
       "      <th>hours-per-week</th>\n",
       "      <th>native-country</th>\n",
       "      <th>class</th>\n",
       "    </tr>\n",
       "  </thead>\n",
       "  <tbody>\n",
       "    <tr>\n",
       "      <th>19</th>\n",
       "      <td>40</td>\n",
       "      <td>Private</td>\n",
       "      <td>Doctorate</td>\n",
       "      <td>16</td>\n",
       "      <td>Married-civ-spouse</td>\n",
       "      <td>Prof-specialty</td>\n",
       "      <td>Husband</td>\n",
       "      <td>Asian-Pac-Islander</td>\n",
       "      <td>Male</td>\n",
       "      <td>0</td>\n",
       "      <td>0</td>\n",
       "      <td>45</td>\n",
       "      <td>NaN</td>\n",
       "      <td>&gt;50K</td>\n",
       "    </tr>\n",
       "    <tr>\n",
       "      <th>65</th>\n",
       "      <td>41</td>\n",
       "      <td>Private</td>\n",
       "      <td>Bachelors</td>\n",
       "      <td>13</td>\n",
       "      <td>Never-married</td>\n",
       "      <td>Other-service</td>\n",
       "      <td>Not-in-family</td>\n",
       "      <td>White</td>\n",
       "      <td>Female</td>\n",
       "      <td>0</td>\n",
       "      <td>0</td>\n",
       "      <td>40</td>\n",
       "      <td>NaN</td>\n",
       "      <td>&lt;=50K</td>\n",
       "    </tr>\n",
       "    <tr>\n",
       "      <th>83</th>\n",
       "      <td>44</td>\n",
       "      <td>Self-emp-inc</td>\n",
       "      <td>HS-grad</td>\n",
       "      <td>9</td>\n",
       "      <td>Married-civ-spouse</td>\n",
       "      <td>Craft-repair</td>\n",
       "      <td>Husband</td>\n",
       "      <td>White</td>\n",
       "      <td>Male</td>\n",
       "      <td>99999</td>\n",
       "      <td>0</td>\n",
       "      <td>50</td>\n",
       "      <td>NaN</td>\n",
       "      <td>&gt;50K</td>\n",
       "    </tr>\n",
       "    <tr>\n",
       "      <th>188</th>\n",
       "      <td>34</td>\n",
       "      <td>State-gov</td>\n",
       "      <td>Bachelors</td>\n",
       "      <td>13</td>\n",
       "      <td>Married-spouse-absent</td>\n",
       "      <td>Farming-fishing</td>\n",
       "      <td>Not-in-family</td>\n",
       "      <td>Black</td>\n",
       "      <td>Male</td>\n",
       "      <td>0</td>\n",
       "      <td>0</td>\n",
       "      <td>40</td>\n",
       "      <td>NaN</td>\n",
       "      <td>&lt;=50K</td>\n",
       "    </tr>\n",
       "    <tr>\n",
       "      <th>253</th>\n",
       "      <td>42</td>\n",
       "      <td>Federal-gov</td>\n",
       "      <td>Bachelors</td>\n",
       "      <td>13</td>\n",
       "      <td>Never-married</td>\n",
       "      <td>Prof-specialty</td>\n",
       "      <td>Not-in-family</td>\n",
       "      <td>White</td>\n",
       "      <td>Male</td>\n",
       "      <td>0</td>\n",
       "      <td>0</td>\n",
       "      <td>40</td>\n",
       "      <td>NaN</td>\n",
       "      <td>&lt;=50K</td>\n",
       "    </tr>\n",
       "    <tr>\n",
       "      <th>...</th>\n",
       "      <td>...</td>\n",
       "      <td>...</td>\n",
       "      <td>...</td>\n",
       "      <td>...</td>\n",
       "      <td>...</td>\n",
       "      <td>...</td>\n",
       "      <td>...</td>\n",
       "      <td>...</td>\n",
       "      <td>...</td>\n",
       "      <td>...</td>\n",
       "      <td>...</td>\n",
       "      <td>...</td>\n",
       "      <td>...</td>\n",
       "      <td>...</td>\n",
       "    </tr>\n",
       "    <tr>\n",
       "      <th>48730</th>\n",
       "      <td>44</td>\n",
       "      <td>Self-emp-inc</td>\n",
       "      <td>Masters</td>\n",
       "      <td>14</td>\n",
       "      <td>Married-civ-spouse</td>\n",
       "      <td>Sales</td>\n",
       "      <td>Husband</td>\n",
       "      <td>White</td>\n",
       "      <td>Male</td>\n",
       "      <td>0</td>\n",
       "      <td>0</td>\n",
       "      <td>50</td>\n",
       "      <td>NaN</td>\n",
       "      <td>&gt;50K</td>\n",
       "    </tr>\n",
       "    <tr>\n",
       "      <th>48750</th>\n",
       "      <td>58</td>\n",
       "      <td>Self-emp-inc</td>\n",
       "      <td>Doctorate</td>\n",
       "      <td>16</td>\n",
       "      <td>Never-married</td>\n",
       "      <td>Prof-specialty</td>\n",
       "      <td>Not-in-family</td>\n",
       "      <td>White</td>\n",
       "      <td>Female</td>\n",
       "      <td>0</td>\n",
       "      <td>0</td>\n",
       "      <td>99</td>\n",
       "      <td>NaN</td>\n",
       "      <td>&lt;=50K</td>\n",
       "    </tr>\n",
       "    <tr>\n",
       "      <th>48773</th>\n",
       "      <td>42</td>\n",
       "      <td>Self-emp-not-inc</td>\n",
       "      <td>HS-grad</td>\n",
       "      <td>9</td>\n",
       "      <td>Divorced</td>\n",
       "      <td>Sales</td>\n",
       "      <td>Own-child</td>\n",
       "      <td>White</td>\n",
       "      <td>Male</td>\n",
       "      <td>0</td>\n",
       "      <td>0</td>\n",
       "      <td>50</td>\n",
       "      <td>NaN</td>\n",
       "      <td>&lt;=50K</td>\n",
       "    </tr>\n",
       "    <tr>\n",
       "      <th>48791</th>\n",
       "      <td>39</td>\n",
       "      <td>Private</td>\n",
       "      <td>HS-grad</td>\n",
       "      <td>9</td>\n",
       "      <td>Married-civ-spouse</td>\n",
       "      <td>Prof-specialty</td>\n",
       "      <td>Husband</td>\n",
       "      <td>White</td>\n",
       "      <td>Male</td>\n",
       "      <td>0</td>\n",
       "      <td>0</td>\n",
       "      <td>45</td>\n",
       "      <td>NaN</td>\n",
       "      <td>&gt;50K</td>\n",
       "    </tr>\n",
       "    <tr>\n",
       "      <th>48806</th>\n",
       "      <td>81</td>\n",
       "      <td>NaN</td>\n",
       "      <td>Assoc-voc</td>\n",
       "      <td>11</td>\n",
       "      <td>Divorced</td>\n",
       "      <td>NaN</td>\n",
       "      <td>Unmarried</td>\n",
       "      <td>White</td>\n",
       "      <td>Female</td>\n",
       "      <td>0</td>\n",
       "      <td>0</td>\n",
       "      <td>1</td>\n",
       "      <td>NaN</td>\n",
       "      <td>&lt;=50K</td>\n",
       "    </tr>\n",
       "  </tbody>\n",
       "</table>\n",
       "<p>857 rows × 14 columns</p>\n",
       "</div>"
      ],
      "text/plain": [
       "       age          workclass   education  education-num  \\\n",
       "19      40            Private   Doctorate             16   \n",
       "65      41            Private   Bachelors             13   \n",
       "83      44       Self-emp-inc     HS-grad              9   \n",
       "188     34          State-gov   Bachelors             13   \n",
       "253     42        Federal-gov   Bachelors             13   \n",
       "...    ...                ...         ...            ...   \n",
       "48730   44       Self-emp-inc     Masters             14   \n",
       "48750   58       Self-emp-inc   Doctorate             16   \n",
       "48773   42   Self-emp-not-inc     HS-grad              9   \n",
       "48791   39            Private     HS-grad              9   \n",
       "48806   81                NaN   Assoc-voc             11   \n",
       "\n",
       "               marital-status        occupation    relationship  \\\n",
       "19         Married-civ-spouse    Prof-specialty         Husband   \n",
       "65              Never-married     Other-service   Not-in-family   \n",
       "83         Married-civ-spouse      Craft-repair         Husband   \n",
       "188     Married-spouse-absent   Farming-fishing   Not-in-family   \n",
       "253             Never-married    Prof-specialty   Not-in-family   \n",
       "...                       ...               ...             ...   \n",
       "48730      Married-civ-spouse             Sales         Husband   \n",
       "48750           Never-married    Prof-specialty   Not-in-family   \n",
       "48773                Divorced             Sales       Own-child   \n",
       "48791      Married-civ-spouse    Prof-specialty         Husband   \n",
       "48806                Divorced               NaN       Unmarried   \n",
       "\n",
       "                      race      sex  capital-gain  capital-loss  \\\n",
       "19      Asian-Pac-Islander     Male             0             0   \n",
       "65                   White   Female             0             0   \n",
       "83                   White     Male         99999             0   \n",
       "188                  Black     Male             0             0   \n",
       "253                  White     Male             0             0   \n",
       "...                    ...      ...           ...           ...   \n",
       "48730                White     Male             0             0   \n",
       "48750                White   Female             0             0   \n",
       "48773                White     Male             0             0   \n",
       "48791                White     Male             0             0   \n",
       "48806                White   Female             0             0   \n",
       "\n",
       "       hours-per-week native-country   class  \n",
       "19                 45            NaN    >50K  \n",
       "65                 40            NaN   <=50K  \n",
       "83                 50            NaN    >50K  \n",
       "188                40            NaN   <=50K  \n",
       "253                40            NaN   <=50K  \n",
       "...               ...            ...     ...  \n",
       "48730              50            NaN    >50K  \n",
       "48750              99            NaN   <=50K  \n",
       "48773              50            NaN   <=50K  \n",
       "48791              45            NaN    >50K  \n",
       "48806               1            NaN   <=50K  \n",
       "\n",
       "[857 rows x 14 columns]"
      ]
     },
     "execution_count": 9,
     "metadata": {},
     "output_type": "execute_result"
    }
   ],
   "source": [
    "data[data['native-country'].isna() == True]"
   ]
  },
  {
   "cell_type": "code",
   "execution_count": 10,
   "id": "825ae6de-da1c-4fea-af3f-eca62b575573",
   "metadata": {},
   "outputs": [
    {
     "data": {
      "text/plain": [
       "workclass\n",
       "Private             33906\n",
       "Self-emp-not-inc     3862\n",
       "Local-gov            3136\n",
       "State-gov            1981\n",
       "Self-emp-inc         1695\n",
       "Federal-gov          1432\n",
       "Without-pay            21\n",
       "Never-worked           10\n",
       "Name: count, dtype: int64"
      ]
     },
     "execution_count": 10,
     "metadata": {},
     "output_type": "execute_result"
    }
   ],
   "source": [
    "data['workclass'].value_counts()"
   ]
  },
  {
   "cell_type": "code",
   "execution_count": 11,
   "id": "4ae817c7-6020-4e4c-a13d-b07550ad94aa",
   "metadata": {},
   "outputs": [
    {
     "data": {
      "text/plain": [
       "array([' Private', ' Local-gov', nan, ' Self-emp-not-inc', ' Federal-gov',\n",
       "       ' State-gov', ' Self-emp-inc', ' Without-pay', ' Never-worked'],\n",
       "      dtype=object)"
      ]
     },
     "execution_count": 11,
     "metadata": {},
     "output_type": "execute_result"
    }
   ],
   "source": [
    "data['workclass'].unique()"
   ]
  },
  {
   "cell_type": "code",
   "execution_count": 12,
   "id": "27771142-a423-430b-a60a-e906364eb4ca",
   "metadata": {},
   "outputs": [
    {
     "data": {
      "text/plain": [
       "array([' Male', ' Female'], dtype=object)"
      ]
     },
     "execution_count": 12,
     "metadata": {},
     "output_type": "execute_result"
    }
   ],
   "source": [
    "data['sex'].unique()"
   ]
  },
  {
   "cell_type": "code",
   "execution_count": 13,
   "id": "1cc1f69b-7c2d-4d64-9217-06a4779981f5",
   "metadata": {},
   "outputs": [],
   "source": [
    "data1 = data.copy()\n",
    "data2 = data.copy()\n",
    "data3 = data.copy()"
   ]
  },
  {
   "cell_type": "code",
   "execution_count": 14,
   "id": "b4bfa15f-e3e4-4c77-90ed-79e589cb85b7",
   "metadata": {},
   "outputs": [
    {
     "name": "stderr",
     "output_type": "stream",
     "text": [
      "C:\\Users\\5-12\\AppData\\Local\\Temp\\ipykernel_13528\\234722940.py:6: SettingWithCopyWarning: \n",
      "A value is trying to be set on a copy of a slice from a DataFrame.\n",
      "Try using .loc[row_indexer,col_indexer] = value instead\n",
      "\n",
      "See the caveats in the documentation: https://pandas.pydata.org/pandas-docs/stable/user_guide/indexing.html#returning-a-view-versus-a-copy\n",
      "  nan_workclass['sex'] = nan_workclass['sex'].astype('int')\n"
     ]
    },
    {
     "data": {
      "text/plain": [
       "np.float64(0.45373347624151483)"
      ]
     },
     "execution_count": 14,
     "metadata": {},
     "output_type": "execute_result"
    }
   ],
   "source": [
    "nan_workclass = data1[data1['workclass'].isna()]\n",
    "# # 성별에 따른 평균을 계산 (sex는 보통 범주형 데이터이므로 이진화가 필요)\n",
    "# # 예를 들어 'Male'을 1, 'Female'을 0으로 변환한 후 평균을 구할 수 있음\n",
    "nan_workclass.loc[:, 'sex'] = nan_workclass['sex'].str.replace(\" Female\", \"1\").str.replace(\" Male\", \"0\")\n",
    "# # 성별 평균 계산\n",
    "nan_workclass['sex'] = nan_workclass['sex'].astype('int')\n",
    "sex_mean = nan_workclass['sex'].mean()\n",
    "sex_mean"
   ]
  },
  {
   "cell_type": "code",
   "execution_count": 15,
   "id": "a0ecde67-df45-4e6e-bb67-e34969c2afce",
   "metadata": {},
   "outputs": [
    {
     "data": {
      "text/plain": [
       "relationship\n",
       "Own-child         868\n",
       "Husband           711\n",
       "Not-in-family     666\n",
       "Unmarried         258\n",
       "Wife              191\n",
       "Other-relative    105\n",
       "Name: count, dtype: int64"
      ]
     },
     "execution_count": 15,
     "metadata": {},
     "output_type": "execute_result"
    }
   ],
   "source": [
    "# 직업군이 nan 값인 데이터의 가족관계 구성 확인\n",
    "nan_workclass['relationship'].value_counts()"
   ]
  },
  {
   "cell_type": "code",
   "execution_count": 16,
   "id": "98c21959-8519-4ad0-a4c2-1a514c575eb9",
   "metadata": {},
   "outputs": [
    {
     "data": {
      "text/plain": [
       "class\n",
       "<=50K    2534\n",
       ">50K      265\n",
       "Name: count, dtype: int64"
      ]
     },
     "execution_count": 16,
     "metadata": {},
     "output_type": "execute_result"
    }
   ],
   "source": [
    "nan_workclass['class'].value_counts()"
   ]
  },
  {
   "cell_type": "code",
   "execution_count": 17,
   "id": "700d92c7-0fee-4e3a-a8f6-b9fefefc8b46",
   "metadata": {},
   "outputs": [
    {
     "data": {
      "text/plain": [
       "np.float64(40.14112182922472)"
      ]
     },
     "execution_count": 17,
     "metadata": {},
     "output_type": "execute_result"
    }
   ],
   "source": [
    "nan_workclass['age'].mean()"
   ]
  },
  {
   "cell_type": "code",
   "execution_count": 18,
   "id": "12380e81-7e95-46c2-95a5-9c9bb887938e",
   "metadata": {},
   "outputs": [
    {
     "name": "stderr",
     "output_type": "stream",
     "text": [
      "C:\\Users\\5-12\\AppData\\Local\\Temp\\ipykernel_13528\\2833875021.py:5: SettingWithCopyWarning: \n",
      "A value is trying to be set on a copy of a slice from a DataFrame.\n",
      "Try using .loc[row_indexer,col_indexer] = value instead\n",
      "\n",
      "See the caveats in the documentation: https://pandas.pydata.org/pandas-docs/stable/user_guide/indexing.html#returning-a-view-versus-a-copy\n",
      "  nan_workclass['class'] = nan_workclass['class'].astype('int')\n"
     ]
    },
    {
     "data": {
      "text/plain": [
       "np.float64(0.9053233297606288)"
      ]
     },
     "execution_count": 18,
     "metadata": {},
     "output_type": "execute_result"
    }
   ],
   "source": [
    "\n",
    "# # 성별에 따른 평균을 계산 (sex는 보통 범주형 데이터이므로 이진화가 필요)\n",
    "# # 예를 들어 'Male'을 1, 'Female'을 0으로 변환한 후 평균을 구할 수 있음\n",
    "nan_workclass.loc[:, 'class'] = nan_workclass['class'].str.replace(\" <=50K\", \"1\").str.replace(\" >50K\", \"0\")\n",
    "# # 성별 평균 계산\n",
    "nan_workclass['class'] = nan_workclass['class'].astype('int')\n",
    "class_mean = nan_workclass['class'].mean()\n",
    "class_mean"
   ]
  },
  {
   "cell_type": "code",
   "execution_count": 19,
   "id": "93c1bec5-a7d1-47ea-be98-061dc50efbf1",
   "metadata": {},
   "outputs": [
    {
     "name": "stdout",
     "output_type": "stream",
     "text": [
      "<class 'pandas.core.frame.DataFrame'>\n",
      "Index: 2799 entries, 4 to 48823\n",
      "Data columns (total 14 columns):\n",
      " #   Column          Non-Null Count  Dtype \n",
      "---  ------          --------------  ----- \n",
      " 0   age             2799 non-null   int64 \n",
      " 1   workclass       0 non-null      object\n",
      " 2   education       2799 non-null   object\n",
      " 3   education-num   2799 non-null   int64 \n",
      " 4   marital-status  2799 non-null   object\n",
      " 5   occupation      0 non-null      object\n",
      " 6   relationship    2799 non-null   object\n",
      " 7   race            2799 non-null   object\n",
      " 8   sex             2799 non-null   int64 \n",
      " 9   capital-gain    2799 non-null   int64 \n",
      " 10  capital-loss    2799 non-null   int64 \n",
      " 11  hours-per-week  2799 non-null   int64 \n",
      " 12  native-country  2753 non-null   object\n",
      " 13  class           2799 non-null   int64 \n",
      "dtypes: int64(7), object(7)\n",
      "memory usage: 328.0+ KB\n"
     ]
    }
   ],
   "source": [
    "nan_workclass.info()"
   ]
  },
  {
   "cell_type": "code",
   "execution_count": 20,
   "id": "b924e457-596f-4784-b65f-04f3bbecec69",
   "metadata": {},
   "outputs": [
    {
     "data": {
      "text/html": [
       "<div>\n",
       "<style scoped>\n",
       "    .dataframe tbody tr th:only-of-type {\n",
       "        vertical-align: middle;\n",
       "    }\n",
       "\n",
       "    .dataframe tbody tr th {\n",
       "        vertical-align: top;\n",
       "    }\n",
       "\n",
       "    .dataframe thead th {\n",
       "        text-align: right;\n",
       "    }\n",
       "</style>\n",
       "<table border=\"1\" class=\"dataframe\">\n",
       "  <thead>\n",
       "    <tr style=\"text-align: right;\">\n",
       "      <th></th>\n",
       "      <th>class</th>\n",
       "      <th>age</th>\n",
       "      <th>sex</th>\n",
       "    </tr>\n",
       "  </thead>\n",
       "  <tbody>\n",
       "    <tr>\n",
       "      <th>class</th>\n",
       "      <td>1.000000</td>\n",
       "      <td>-0.247598</td>\n",
       "      <td>0.110889</td>\n",
       "    </tr>\n",
       "    <tr>\n",
       "      <th>age</th>\n",
       "      <td>-0.247598</td>\n",
       "      <td>1.000000</td>\n",
       "      <td>-0.180893</td>\n",
       "    </tr>\n",
       "    <tr>\n",
       "      <th>sex</th>\n",
       "      <td>0.110889</td>\n",
       "      <td>-0.180893</td>\n",
       "      <td>1.000000</td>\n",
       "    </tr>\n",
       "  </tbody>\n",
       "</table>\n",
       "</div>"
      ],
      "text/plain": [
       "          class       age       sex\n",
       "class  1.000000 -0.247598  0.110889\n",
       "age   -0.247598  1.000000 -0.180893\n",
       "sex    0.110889 -0.180893  1.000000"
      ]
     },
     "execution_count": 20,
     "metadata": {},
     "output_type": "execute_result"
    }
   ],
   "source": [
    "nan_workclass[['class', 'age', 'sex']].corr()"
   ]
  },
  {
   "cell_type": "code",
   "execution_count": 21,
   "id": "79e2a1e8-893c-412a-8c8d-e49bdee6ae5b",
   "metadata": {},
   "outputs": [],
   "source": [
    "# 고용 형태 결측값 무직으로 처리\n",
    "data['workclass'] = data['workclass'].fillna(' Without-pay')"
   ]
  },
  {
   "cell_type": "code",
   "execution_count": 22,
   "id": "0fc6f087-89a8-4a3e-8309-3c759a2dcb56",
   "metadata": {},
   "outputs": [
    {
     "data": {
      "text/plain": [
       "occupation\n",
       "Prof-specialty       6172\n",
       "Craft-repair         6112\n",
       "Exec-managerial      6086\n",
       "Adm-clerical         5611\n",
       "Sales                5504\n",
       "Other-service        4923\n",
       "Machine-op-inspct    3022\n",
       "Transport-moving     2355\n",
       "Handlers-cleaners    2072\n",
       "Farming-fishing      1490\n",
       "Tech-support         1446\n",
       "Protective-serv       983\n",
       "Priv-house-serv       242\n",
       "Armed-Forces           15\n",
       "Name: count, dtype: int64"
      ]
     },
     "execution_count": 22,
     "metadata": {},
     "output_type": "execute_result"
    }
   ],
   "source": [
    "data['occupation'].value_counts()"
   ]
  },
  {
   "cell_type": "code",
   "execution_count": 23,
   "id": "0a05924d-14b6-4f73-a2bb-22123a7ce42f",
   "metadata": {},
   "outputs": [
    {
     "data": {
      "text/plain": [
       "array([' Machine-op-inspct', ' Farming-fishing', ' Protective-serv', nan,\n",
       "       ' Other-service', ' Prof-specialty', ' Craft-repair',\n",
       "       ' Adm-clerical', ' Exec-managerial', ' Tech-support', ' Sales',\n",
       "       ' Priv-house-serv', ' Transport-moving', ' Handlers-cleaners',\n",
       "       ' Armed-Forces'], dtype=object)"
      ]
     },
     "execution_count": 23,
     "metadata": {},
     "output_type": "execute_result"
    }
   ],
   "source": [
    "data['occupation'].unique()"
   ]
  },
  {
   "cell_type": "code",
   "execution_count": 24,
   "id": "9e234859-0ee6-4c82-bfd5-57e5154a0078",
   "metadata": {},
   "outputs": [
    {
     "data": {
      "text/plain": [
       "occupation\n",
       "Prof-specialty       6172\n",
       "Craft-repair         6112\n",
       "Exec-managerial      6086\n",
       "Adm-clerical         5611\n",
       "Sales                5504\n",
       "Other-service        4923\n",
       "Machine-op-inspct    3022\n",
       "Transport-moving     2355\n",
       "Handlers-cleaners    2072\n",
       "Farming-fishing      1490\n",
       "Tech-support         1446\n",
       "Protective-serv       983\n",
       "Priv-house-serv       242\n",
       "Armed-Forces           15\n",
       "Name: count, dtype: int64"
      ]
     },
     "execution_count": 24,
     "metadata": {},
     "output_type": "execute_result"
    }
   ],
   "source": [
    "data['occupation'].value_counts()"
   ]
  },
  {
   "cell_type": "code",
   "execution_count": 25,
   "id": "d7977a54-4333-4fcd-90ed-70ba1524800a",
   "metadata": {
    "scrolled": true
   },
   "outputs": [
    {
     "data": {
      "text/plain": [
       "array([' United-States', nan, ' Peru', ' Guatemala', ' Mexico',\n",
       "       ' Dominican-Republic', ' Ireland', ' Germany', ' Philippines',\n",
       "       ' Thailand', ' Haiti', ' El-Salvador', ' Puerto-Rico', ' Vietnam',\n",
       "       ' South', ' Columbia', ' Japan', ' India', ' Cambodia', ' Poland',\n",
       "       ' Laos', ' England', ' Cuba', ' Taiwan', ' Italy', ' Canada',\n",
       "       ' Portugal', ' China', ' Nicaragua', ' Honduras', ' Iran',\n",
       "       ' Scotland', ' Jamaica', ' Ecuador', ' Yugoslavia', ' Hungary',\n",
       "       ' Hong', ' Greece', ' Trinadad&Tobago',\n",
       "       ' Outlying-US(Guam-USVI-etc)', ' France', ' Holand-Netherlands'],\n",
       "      dtype=object)"
      ]
     },
     "execution_count": 25,
     "metadata": {},
     "output_type": "execute_result"
    }
   ],
   "source": [
    "data['native-country'].unique()"
   ]
  },
  {
   "cell_type": "code",
   "execution_count": 26,
   "id": "da91a6ee-0248-49c7-9643-699d8995629e",
   "metadata": {},
   "outputs": [
    {
     "name": "stdout",
     "output_type": "stream",
     "text": [
      "<class 'pandas.core.frame.DataFrame'>\n",
      "RangeIndex: 48842 entries, 0 to 48841\n",
      "Data columns (total 14 columns):\n",
      " #   Column          Non-Null Count  Dtype \n",
      "---  ------          --------------  ----- \n",
      " 0   age             48842 non-null  int64 \n",
      " 1   workclass       48842 non-null  object\n",
      " 2   education       48842 non-null  object\n",
      " 3   education-num   48842 non-null  int64 \n",
      " 4   marital-status  48842 non-null  object\n",
      " 5   occupation      46033 non-null  object\n",
      " 6   relationship    48842 non-null  object\n",
      " 7   race            48842 non-null  object\n",
      " 8   sex             48842 non-null  object\n",
      " 9   capital-gain    48842 non-null  int64 \n",
      " 10  capital-loss    48842 non-null  int64 \n",
      " 11  hours-per-week  48842 non-null  int64 \n",
      " 12  native-country  47985 non-null  object\n",
      " 13  class           48842 non-null  object\n",
      "dtypes: int64(5), object(9)\n",
      "memory usage: 5.2+ MB\n"
     ]
    }
   ],
   "source": [
    "data.info()"
   ]
  },
  {
   "cell_type": "code",
   "execution_count": 27,
   "id": "19150afc-d15f-43d0-bc1a-8dce70dbf425",
   "metadata": {},
   "outputs": [
    {
     "data": {
      "text/plain": [
       "occupation\n",
       "Prof-specialty       6172\n",
       "Craft-repair         6112\n",
       "Exec-managerial      6086\n",
       "Adm-clerical         5611\n",
       "Sales                5504\n",
       "Other-service        4923\n",
       "Machine-op-inspct    3022\n",
       "Transport-moving     2355\n",
       "Handlers-cleaners    2072\n",
       "Farming-fishing      1490\n",
       "Tech-support         1446\n",
       "Protective-serv       983\n",
       "Priv-house-serv       242\n",
       "Armed-Forces           15\n",
       "Name: count, dtype: int64"
      ]
     },
     "execution_count": 27,
     "metadata": {},
     "output_type": "execute_result"
    }
   ],
   "source": [
    "data['occupation'].value_counts()"
   ]
  },
  {
   "cell_type": "code",
   "execution_count": 28,
   "id": "ece56e8c-a06f-40fe-a930-c469ce0a3df6",
   "metadata": {},
   "outputs": [
    {
     "data": {
      "text/plain": [
       "array([' Machine-op-inspct', ' Farming-fishing', ' Protective-serv', nan,\n",
       "       ' Other-service', ' Prof-specialty', ' Craft-repair',\n",
       "       ' Adm-clerical', ' Exec-managerial', ' Tech-support', ' Sales',\n",
       "       ' Priv-house-serv', ' Transport-moving', ' Handlers-cleaners',\n",
       "       ' Armed-Forces'], dtype=object)"
      ]
     },
     "execution_count": 28,
     "metadata": {},
     "output_type": "execute_result"
    }
   ],
   "source": [
    "data['occupation'].unique()"
   ]
  },
  {
   "cell_type": "code",
   "execution_count": 29,
   "id": "2013f21e-ec6b-4510-b78e-d5688ce1677a",
   "metadata": {},
   "outputs": [],
   "source": [
    "# 국적 결측값 US로 처리\n",
    "data['native-country'] = data['native-country'].fillna(' United-States')"
   ]
  },
  {
   "cell_type": "code",
   "execution_count": 30,
   "id": "f3f2f02b-d1ef-4682-82ce-3989d788e5ae",
   "metadata": {},
   "outputs": [],
   "source": [
    "data['occupation'] = data['occupation'].fillna(' Other-service')"
   ]
  },
  {
   "cell_type": "code",
   "execution_count": 31,
   "id": "ba237cac-0ff0-4fdb-af25-f6ceff23b76c",
   "metadata": {},
   "outputs": [
    {
     "name": "stdout",
     "output_type": "stream",
     "text": [
      "<class 'pandas.core.frame.DataFrame'>\n",
      "RangeIndex: 48842 entries, 0 to 48841\n",
      "Data columns (total 14 columns):\n",
      " #   Column          Non-Null Count  Dtype \n",
      "---  ------          --------------  ----- \n",
      " 0   age             48842 non-null  int64 \n",
      " 1   workclass       48842 non-null  object\n",
      " 2   education       48842 non-null  object\n",
      " 3   education-num   48842 non-null  int64 \n",
      " 4   marital-status  48842 non-null  object\n",
      " 5   occupation      48842 non-null  object\n",
      " 6   relationship    48842 non-null  object\n",
      " 7   race            48842 non-null  object\n",
      " 8   sex             48842 non-null  object\n",
      " 9   capital-gain    48842 non-null  int64 \n",
      " 10  capital-loss    48842 non-null  int64 \n",
      " 11  hours-per-week  48842 non-null  int64 \n",
      " 12  native-country  48842 non-null  object\n",
      " 13  class           48842 non-null  object\n",
      "dtypes: int64(5), object(9)\n",
      "memory usage: 5.2+ MB\n"
     ]
    }
   ],
   "source": [
    "data.info()"
   ]
  },
  {
   "cell_type": "markdown",
   "id": "22d768e5-b613-4bef-ad66-f7f1ff6de9a7",
   "metadata": {},
   "source": [
    "### 범주형 자료를 숫자로 변환하기"
   ]
  },
  {
   "cell_type": "code",
   "execution_count": 32,
   "id": "818bde92-02e2-4a45-88a1-1a00e66a6358",
   "metadata": {},
   "outputs": [],
   "source": [
    "data1 = data.copy()\n",
    "data2 = data.copy()\n",
    "data3 = data.copy()"
   ]
  },
  {
   "cell_type": "code",
   "execution_count": 33,
   "id": "4102a358-5bd2-40ff-ae27-34e6f3bf2507",
   "metadata": {},
   "outputs": [
    {
     "name": "stdout",
     "output_type": "stream",
     "text": [
      "[1 1 1 ... 0 1 0]\n"
     ]
    }
   ],
   "source": [
    "from sklearn.preprocessing import LabelEncoder\n",
    "le = LabelEncoder()\n",
    "test = le.fit(data1['sex'])\n",
    "le.classes_\n",
    "result = le.transform(data1['sex'])\n",
    "print(result)\n",
    "data1['sex'] = result"
   ]
  },
  {
   "cell_type": "code",
   "execution_count": 34,
   "id": "78278e81-dc62-4ff5-87da-f4c8b7f31859",
   "metadata": {},
   "outputs": [
    {
     "name": "stdout",
     "output_type": "stream",
     "text": [
      "<class 'pandas.core.frame.DataFrame'>\n",
      "RangeIndex: 48842 entries, 0 to 48841\n",
      "Data columns (total 14 columns):\n",
      " #   Column          Non-Null Count  Dtype \n",
      "---  ------          --------------  ----- \n",
      " 0   age             48842 non-null  int64 \n",
      " 1   workclass       48842 non-null  object\n",
      " 2   education       48842 non-null  object\n",
      " 3   education-num   48842 non-null  int64 \n",
      " 4   marital-status  48842 non-null  object\n",
      " 5   occupation      48842 non-null  object\n",
      " 6   relationship    48842 non-null  object\n",
      " 7   race            48842 non-null  object\n",
      " 8   sex             48842 non-null  int64 \n",
      " 9   capital-gain    48842 non-null  int64 \n",
      " 10  capital-loss    48842 non-null  int64 \n",
      " 11  hours-per-week  48842 non-null  int64 \n",
      " 12  native-country  48842 non-null  object\n",
      " 13  class           48842 non-null  object\n",
      "dtypes: int64(6), object(8)\n",
      "memory usage: 5.2+ MB\n"
     ]
    }
   ],
   "source": [
    "data1.info()"
   ]
  },
  {
   "cell_type": "code",
   "execution_count": 35,
   "id": "0698f689-3547-4b10-a3be-12967d25eae5",
   "metadata": {},
   "outputs": [],
   "source": [
    "le2 = LabelEncoder()\n",
    "test = le2.fit(data1['class'])\n",
    "le2.classes_\n",
    "result2 = le2.transform(data1['class'])\n",
    "data1['class'] = result2"
   ]
  },
  {
   "cell_type": "code",
   "execution_count": 36,
   "id": "8213e858-da82-4953-a0d7-4925dffa966b",
   "metadata": {},
   "outputs": [
    {
     "name": "stdout",
     "output_type": "stream",
     "text": [
      "[0 0 1 ... 0 0 1]\n"
     ]
    }
   ],
   "source": [
    "print(result2)"
   ]
  },
  {
   "cell_type": "code",
   "execution_count": 37,
   "id": "5b9411e2-ec67-46ca-8c0e-ef71c45203cd",
   "metadata": {},
   "outputs": [
    {
     "name": "stdout",
     "output_type": "stream",
     "text": [
      "[' <=50K' ' >50K']\n"
     ]
    }
   ],
   "source": [
    "print(le2.classes_)"
   ]
  },
  {
   "cell_type": "code",
   "execution_count": 38,
   "id": "a86ce7c6-14ad-4b5d-a1c5-25cccd7c9af2",
   "metadata": {},
   "outputs": [
    {
     "name": "stdout",
     "output_type": "stream",
     "text": [
      "<class 'pandas.core.frame.DataFrame'>\n",
      "RangeIndex: 48842 entries, 0 to 48841\n",
      "Data columns (total 14 columns):\n",
      " #   Column          Non-Null Count  Dtype \n",
      "---  ------          --------------  ----- \n",
      " 0   age             48842 non-null  int64 \n",
      " 1   workclass       48842 non-null  object\n",
      " 2   education       48842 non-null  object\n",
      " 3   education-num   48842 non-null  int64 \n",
      " 4   marital-status  48842 non-null  object\n",
      " 5   occupation      48842 non-null  object\n",
      " 6   relationship    48842 non-null  object\n",
      " 7   race            48842 non-null  object\n",
      " 8   sex             48842 non-null  int64 \n",
      " 9   capital-gain    48842 non-null  int64 \n",
      " 10  capital-loss    48842 non-null  int64 \n",
      " 11  hours-per-week  48842 non-null  int64 \n",
      " 12  native-country  48842 non-null  object\n",
      " 13  class           48842 non-null  int64 \n",
      "dtypes: int64(7), object(7)\n",
      "memory usage: 5.2+ MB\n"
     ]
    }
   ],
   "source": [
    "data1.info()"
   ]
  },
  {
   "cell_type": "code",
   "execution_count": 39,
   "id": "80204b00-0b92-439c-923f-f167b34d48c5",
   "metadata": {},
   "outputs": [
    {
     "data": {
      "text/html": [
       "<div>\n",
       "<style scoped>\n",
       "    .dataframe tbody tr th:only-of-type {\n",
       "        vertical-align: middle;\n",
       "    }\n",
       "\n",
       "    .dataframe tbody tr th {\n",
       "        vertical-align: top;\n",
       "    }\n",
       "\n",
       "    .dataframe thead th {\n",
       "        text-align: right;\n",
       "    }\n",
       "</style>\n",
       "<table border=\"1\" class=\"dataframe\">\n",
       "  <thead>\n",
       "    <tr style=\"text-align: right;\">\n",
       "      <th></th>\n",
       "      <th>age</th>\n",
       "      <th>workclass</th>\n",
       "      <th>education</th>\n",
       "      <th>education-num</th>\n",
       "      <th>marital-status</th>\n",
       "      <th>occupation</th>\n",
       "      <th>relationship</th>\n",
       "      <th>race</th>\n",
       "      <th>sex</th>\n",
       "      <th>capital-gain</th>\n",
       "      <th>capital-loss</th>\n",
       "      <th>hours-per-week</th>\n",
       "      <th>native-country</th>\n",
       "      <th>class</th>\n",
       "    </tr>\n",
       "  </thead>\n",
       "  <tbody>\n",
       "    <tr>\n",
       "      <th>0</th>\n",
       "      <td>25</td>\n",
       "      <td>Private</td>\n",
       "      <td>11th</td>\n",
       "      <td>7</td>\n",
       "      <td>Never-married</td>\n",
       "      <td>Machine-op-inspct</td>\n",
       "      <td>Own-child</td>\n",
       "      <td>Black</td>\n",
       "      <td>1</td>\n",
       "      <td>0</td>\n",
       "      <td>0</td>\n",
       "      <td>40</td>\n",
       "      <td>United-States</td>\n",
       "      <td>0</td>\n",
       "    </tr>\n",
       "    <tr>\n",
       "      <th>1</th>\n",
       "      <td>38</td>\n",
       "      <td>Private</td>\n",
       "      <td>HS-grad</td>\n",
       "      <td>9</td>\n",
       "      <td>Married-civ-spouse</td>\n",
       "      <td>Farming-fishing</td>\n",
       "      <td>Husband</td>\n",
       "      <td>White</td>\n",
       "      <td>1</td>\n",
       "      <td>0</td>\n",
       "      <td>0</td>\n",
       "      <td>50</td>\n",
       "      <td>United-States</td>\n",
       "      <td>0</td>\n",
       "    </tr>\n",
       "    <tr>\n",
       "      <th>2</th>\n",
       "      <td>28</td>\n",
       "      <td>Local-gov</td>\n",
       "      <td>Assoc-acdm</td>\n",
       "      <td>12</td>\n",
       "      <td>Married-civ-spouse</td>\n",
       "      <td>Protective-serv</td>\n",
       "      <td>Husband</td>\n",
       "      <td>White</td>\n",
       "      <td>1</td>\n",
       "      <td>0</td>\n",
       "      <td>0</td>\n",
       "      <td>40</td>\n",
       "      <td>United-States</td>\n",
       "      <td>1</td>\n",
       "    </tr>\n",
       "  </tbody>\n",
       "</table>\n",
       "</div>"
      ],
      "text/plain": [
       "   age   workclass    education  education-num       marital-status  \\\n",
       "0   25     Private         11th              7        Never-married   \n",
       "1   38     Private      HS-grad              9   Married-civ-spouse   \n",
       "2   28   Local-gov   Assoc-acdm             12   Married-civ-spouse   \n",
       "\n",
       "           occupation relationship    race  sex  capital-gain  capital-loss  \\\n",
       "0   Machine-op-inspct    Own-child   Black    1             0             0   \n",
       "1     Farming-fishing      Husband   White    1             0             0   \n",
       "2     Protective-serv      Husband   White    1             0             0   \n",
       "\n",
       "   hours-per-week  native-country  class  \n",
       "0              40   United-States      0  \n",
       "1              50   United-States      0  \n",
       "2              40   United-States      1  "
      ]
     },
     "execution_count": 39,
     "metadata": {},
     "output_type": "execute_result"
    }
   ],
   "source": [
    "data1.head(3)"
   ]
  },
  {
   "cell_type": "code",
   "execution_count": 40,
   "id": "0423606d-78e5-4513-ad8e-ead94fbca2ce",
   "metadata": {},
   "outputs": [
    {
     "name": "stdout",
     "output_type": "stream",
     "text": [
      "<class 'pandas.core.frame.DataFrame'>\n",
      "RangeIndex: 48842 entries, 0 to 48841\n",
      "Data columns (total 14 columns):\n",
      " #   Column          Non-Null Count  Dtype \n",
      "---  ------          --------------  ----- \n",
      " 0   age             48842 non-null  int64 \n",
      " 1   workclass       48842 non-null  object\n",
      " 2   education       48842 non-null  object\n",
      " 3   education-num   48842 non-null  int64 \n",
      " 4   marital-status  48842 non-null  object\n",
      " 5   occupation      48842 non-null  object\n",
      " 6   relationship    48842 non-null  object\n",
      " 7   race            48842 non-null  object\n",
      " 8   sex             48842 non-null  int64 \n",
      " 9   capital-gain    48842 non-null  int64 \n",
      " 10  capital-loss    48842 non-null  int64 \n",
      " 11  hours-per-week  48842 non-null  int64 \n",
      " 12  native-country  48842 non-null  object\n",
      " 13  class           48842 non-null  int64 \n",
      "dtypes: int64(7), object(7)\n",
      "memory usage: 5.2+ MB\n"
     ]
    }
   ],
   "source": [
    "data1.info()"
   ]
  },
  {
   "cell_type": "code",
   "execution_count": 41,
   "id": "09ed2c31-f0d4-4593-af53-112cc860bff1",
   "metadata": {},
   "outputs": [
    {
     "data": {
      "text/plain": [
       "array([' 11th', ' HS-grad', ' Assoc-acdm', ' Some-college', ' 10th',\n",
       "       ' Prof-school', ' 7th-8th', ' Bachelors', ' Masters', ' Doctorate',\n",
       "       ' 5th-6th', ' Assoc-voc', ' 9th', ' 12th', ' 1st-4th',\n",
       "       ' Preschool'], dtype=object)"
      ]
     },
     "execution_count": 41,
     "metadata": {},
     "output_type": "execute_result"
    }
   ],
   "source": [
    "data1['education'].unique()"
   ]
  },
  {
   "cell_type": "code",
   "execution_count": 42,
   "id": "81123a34-996b-46a8-bea5-da3f9155ee1a",
   "metadata": {},
   "outputs": [
    {
     "data": {
      "text/plain": [
       "array([ 7,  9, 12, 10,  6, 15,  4, 13, 14, 16,  3, 11,  5,  8,  2,  1])"
      ]
     },
     "execution_count": 42,
     "metadata": {},
     "output_type": "execute_result"
    }
   ],
   "source": [
    "data1['education-num'].unique()"
   ]
  },
  {
   "cell_type": "markdown",
   "id": "2a427091-f604-4b66-a898-ec47c74676f2",
   "metadata": {},
   "source": [
    "1. 범주화 기준 설정\n",
    "기본/중등 교육: education-num 값이 0부터 9 이하인 경우\n",
    "대학 교육: education-num 값이 10에서 13 사이인 경우\n",
    "고등 교육: education-num 값이 14 이상인 경우"
   ]
  },
  {
   "cell_type": "code",
   "execution_count": 43,
   "id": "08a62efe-fef0-432d-b394-647276964e23",
   "metadata": {},
   "outputs": [
    {
     "data": {
      "text/html": [
       "<div>\n",
       "<style scoped>\n",
       "    .dataframe tbody tr th:only-of-type {\n",
       "        vertical-align: middle;\n",
       "    }\n",
       "\n",
       "    .dataframe tbody tr th {\n",
       "        vertical-align: top;\n",
       "    }\n",
       "\n",
       "    .dataframe thead th {\n",
       "        text-align: right;\n",
       "    }\n",
       "</style>\n",
       "<table border=\"1\" class=\"dataframe\">\n",
       "  <thead>\n",
       "    <tr style=\"text-align: right;\">\n",
       "      <th></th>\n",
       "      <th>education</th>\n",
       "      <th>education-num</th>\n",
       "      <th>education_category</th>\n",
       "    </tr>\n",
       "  </thead>\n",
       "  <tbody>\n",
       "    <tr>\n",
       "      <th>0</th>\n",
       "      <td>11th</td>\n",
       "      <td>7</td>\n",
       "      <td>기본/중등 교육</td>\n",
       "    </tr>\n",
       "    <tr>\n",
       "      <th>1</th>\n",
       "      <td>HS-grad</td>\n",
       "      <td>9</td>\n",
       "      <td>기본/중등 교육</td>\n",
       "    </tr>\n",
       "    <tr>\n",
       "      <th>2</th>\n",
       "      <td>Assoc-acdm</td>\n",
       "      <td>12</td>\n",
       "      <td>대학 교육</td>\n",
       "    </tr>\n",
       "    <tr>\n",
       "      <th>3</th>\n",
       "      <td>Some-college</td>\n",
       "      <td>10</td>\n",
       "      <td>대학 교육</td>\n",
       "    </tr>\n",
       "    <tr>\n",
       "      <th>4</th>\n",
       "      <td>Some-college</td>\n",
       "      <td>10</td>\n",
       "      <td>대학 교육</td>\n",
       "    </tr>\n",
       "  </tbody>\n",
       "</table>\n",
       "</div>"
      ],
      "text/plain": [
       "       education  education-num education_category\n",
       "0           11th              7           기본/중등 교육\n",
       "1        HS-grad              9           기본/중등 교육\n",
       "2     Assoc-acdm             12              대학 교육\n",
       "3   Some-college             10              대학 교육\n",
       "4   Some-college             10              대학 교육"
      ]
     },
     "execution_count": 43,
     "metadata": {},
     "output_type": "execute_result"
    }
   ],
   "source": [
    "# 범주화 함수를 정의\n",
    "def categorize_education(row):\n",
    "    if row['education-num'] <= 9:\n",
    "        return '기본/중등 교육'\n",
    "    elif 10 <= row['education-num'] <= 13:\n",
    "        return '대학 교육'\n",
    "    elif row['education-num'] >= 14:\n",
    "        return '고등 교육'\n",
    "\n",
    "# 새로운 범주화된 컬럼 추가\n",
    "data1['education_category'] = data1.apply(categorize_education, axis=1)\n",
    "\n",
    "# 결과 확인\n",
    "data1[['education', 'education-num', 'education_category']].head()"
   ]
  },
  {
   "cell_type": "code",
   "execution_count": 44,
   "id": "1960e856-aa3e-49df-966a-3311d3802348",
   "metadata": {},
   "outputs": [
    {
     "data": {
      "text/html": [
       "<div>\n",
       "<style scoped>\n",
       "    .dataframe tbody tr th:only-of-type {\n",
       "        vertical-align: middle;\n",
       "    }\n",
       "\n",
       "    .dataframe tbody tr th {\n",
       "        vertical-align: top;\n",
       "    }\n",
       "\n",
       "    .dataframe thead th {\n",
       "        text-align: right;\n",
       "    }\n",
       "</style>\n",
       "<table border=\"1\" class=\"dataframe\">\n",
       "  <thead>\n",
       "    <tr style=\"text-align: right;\">\n",
       "      <th></th>\n",
       "      <th>age</th>\n",
       "      <th>workclass</th>\n",
       "      <th>education</th>\n",
       "      <th>education-num</th>\n",
       "      <th>marital-status</th>\n",
       "      <th>occupation</th>\n",
       "      <th>relationship</th>\n",
       "      <th>race</th>\n",
       "      <th>sex</th>\n",
       "      <th>capital-gain</th>\n",
       "      <th>capital-loss</th>\n",
       "      <th>hours-per-week</th>\n",
       "      <th>native-country</th>\n",
       "      <th>class</th>\n",
       "      <th>education_category</th>\n",
       "    </tr>\n",
       "  </thead>\n",
       "  <tbody>\n",
       "    <tr>\n",
       "      <th>0</th>\n",
       "      <td>25</td>\n",
       "      <td>Private</td>\n",
       "      <td>11th</td>\n",
       "      <td>7</td>\n",
       "      <td>Never-married</td>\n",
       "      <td>Machine-op-inspct</td>\n",
       "      <td>Own-child</td>\n",
       "      <td>Black</td>\n",
       "      <td>1</td>\n",
       "      <td>0</td>\n",
       "      <td>0</td>\n",
       "      <td>40</td>\n",
       "      <td>United-States</td>\n",
       "      <td>0</td>\n",
       "      <td>기본/중등 교육</td>\n",
       "    </tr>\n",
       "    <tr>\n",
       "      <th>1</th>\n",
       "      <td>38</td>\n",
       "      <td>Private</td>\n",
       "      <td>HS-grad</td>\n",
       "      <td>9</td>\n",
       "      <td>Married-civ-spouse</td>\n",
       "      <td>Farming-fishing</td>\n",
       "      <td>Husband</td>\n",
       "      <td>White</td>\n",
       "      <td>1</td>\n",
       "      <td>0</td>\n",
       "      <td>0</td>\n",
       "      <td>50</td>\n",
       "      <td>United-States</td>\n",
       "      <td>0</td>\n",
       "      <td>기본/중등 교육</td>\n",
       "    </tr>\n",
       "    <tr>\n",
       "      <th>2</th>\n",
       "      <td>28</td>\n",
       "      <td>Local-gov</td>\n",
       "      <td>Assoc-acdm</td>\n",
       "      <td>12</td>\n",
       "      <td>Married-civ-spouse</td>\n",
       "      <td>Protective-serv</td>\n",
       "      <td>Husband</td>\n",
       "      <td>White</td>\n",
       "      <td>1</td>\n",
       "      <td>0</td>\n",
       "      <td>0</td>\n",
       "      <td>40</td>\n",
       "      <td>United-States</td>\n",
       "      <td>1</td>\n",
       "      <td>대학 교육</td>\n",
       "    </tr>\n",
       "    <tr>\n",
       "      <th>3</th>\n",
       "      <td>44</td>\n",
       "      <td>Private</td>\n",
       "      <td>Some-college</td>\n",
       "      <td>10</td>\n",
       "      <td>Married-civ-spouse</td>\n",
       "      <td>Machine-op-inspct</td>\n",
       "      <td>Husband</td>\n",
       "      <td>Black</td>\n",
       "      <td>1</td>\n",
       "      <td>7688</td>\n",
       "      <td>0</td>\n",
       "      <td>40</td>\n",
       "      <td>United-States</td>\n",
       "      <td>1</td>\n",
       "      <td>대학 교육</td>\n",
       "    </tr>\n",
       "    <tr>\n",
       "      <th>4</th>\n",
       "      <td>18</td>\n",
       "      <td>Without-pay</td>\n",
       "      <td>Some-college</td>\n",
       "      <td>10</td>\n",
       "      <td>Never-married</td>\n",
       "      <td>Other-service</td>\n",
       "      <td>Own-child</td>\n",
       "      <td>White</td>\n",
       "      <td>0</td>\n",
       "      <td>0</td>\n",
       "      <td>0</td>\n",
       "      <td>30</td>\n",
       "      <td>United-States</td>\n",
       "      <td>0</td>\n",
       "      <td>대학 교육</td>\n",
       "    </tr>\n",
       "  </tbody>\n",
       "</table>\n",
       "</div>"
      ],
      "text/plain": [
       "   age     workclass      education  education-num       marital-status  \\\n",
       "0   25       Private           11th              7        Never-married   \n",
       "1   38       Private        HS-grad              9   Married-civ-spouse   \n",
       "2   28     Local-gov     Assoc-acdm             12   Married-civ-spouse   \n",
       "3   44       Private   Some-college             10   Married-civ-spouse   \n",
       "4   18   Without-pay   Some-college             10        Never-married   \n",
       "\n",
       "           occupation relationship    race  sex  capital-gain  capital-loss  \\\n",
       "0   Machine-op-inspct    Own-child   Black    1             0             0   \n",
       "1     Farming-fishing      Husband   White    1             0             0   \n",
       "2     Protective-serv      Husband   White    1             0             0   \n",
       "3   Machine-op-inspct      Husband   Black    1          7688             0   \n",
       "4       Other-service    Own-child   White    0             0             0   \n",
       "\n",
       "   hours-per-week  native-country  class education_category  \n",
       "0              40   United-States      0           기본/중등 교육  \n",
       "1              50   United-States      0           기본/중등 교육  \n",
       "2              40   United-States      1              대학 교육  \n",
       "3              40   United-States      1              대학 교육  \n",
       "4              30   United-States      0              대학 교육  "
      ]
     },
     "execution_count": 44,
     "metadata": {},
     "output_type": "execute_result"
    }
   ],
   "source": [
    "data1.head()"
   ]
  },
  {
   "cell_type": "code",
   "execution_count": 45,
   "id": "5a445976-becd-49e6-801d-eb605bf16805",
   "metadata": {},
   "outputs": [],
   "source": [
    "data1 = data1.drop('education', axis=1)"
   ]
  },
  {
   "cell_type": "code",
   "execution_count": 46,
   "id": "cd6e2cf8-daac-45e8-9ff3-60d7f75d720b",
   "metadata": {},
   "outputs": [],
   "source": [
    "data1 = data1.drop('education-num', axis=1)"
   ]
  },
  {
   "cell_type": "code",
   "execution_count": 47,
   "id": "2144a3e5-3838-4da3-b274-8798217bba01",
   "metadata": {},
   "outputs": [
    {
     "data": {
      "text/html": [
       "<div>\n",
       "<style scoped>\n",
       "    .dataframe tbody tr th:only-of-type {\n",
       "        vertical-align: middle;\n",
       "    }\n",
       "\n",
       "    .dataframe tbody tr th {\n",
       "        vertical-align: top;\n",
       "    }\n",
       "\n",
       "    .dataframe thead th {\n",
       "        text-align: right;\n",
       "    }\n",
       "</style>\n",
       "<table border=\"1\" class=\"dataframe\">\n",
       "  <thead>\n",
       "    <tr style=\"text-align: right;\">\n",
       "      <th></th>\n",
       "      <th>age</th>\n",
       "      <th>workclass</th>\n",
       "      <th>marital-status</th>\n",
       "      <th>occupation</th>\n",
       "      <th>relationship</th>\n",
       "      <th>race</th>\n",
       "      <th>sex</th>\n",
       "      <th>capital-gain</th>\n",
       "      <th>capital-loss</th>\n",
       "      <th>hours-per-week</th>\n",
       "      <th>native-country</th>\n",
       "      <th>class</th>\n",
       "      <th>education_category</th>\n",
       "    </tr>\n",
       "  </thead>\n",
       "  <tbody>\n",
       "    <tr>\n",
       "      <th>0</th>\n",
       "      <td>25</td>\n",
       "      <td>Private</td>\n",
       "      <td>Never-married</td>\n",
       "      <td>Machine-op-inspct</td>\n",
       "      <td>Own-child</td>\n",
       "      <td>Black</td>\n",
       "      <td>1</td>\n",
       "      <td>0</td>\n",
       "      <td>0</td>\n",
       "      <td>40</td>\n",
       "      <td>United-States</td>\n",
       "      <td>0</td>\n",
       "      <td>기본/중등 교육</td>\n",
       "    </tr>\n",
       "    <tr>\n",
       "      <th>1</th>\n",
       "      <td>38</td>\n",
       "      <td>Private</td>\n",
       "      <td>Married-civ-spouse</td>\n",
       "      <td>Farming-fishing</td>\n",
       "      <td>Husband</td>\n",
       "      <td>White</td>\n",
       "      <td>1</td>\n",
       "      <td>0</td>\n",
       "      <td>0</td>\n",
       "      <td>50</td>\n",
       "      <td>United-States</td>\n",
       "      <td>0</td>\n",
       "      <td>기본/중등 교육</td>\n",
       "    </tr>\n",
       "    <tr>\n",
       "      <th>2</th>\n",
       "      <td>28</td>\n",
       "      <td>Local-gov</td>\n",
       "      <td>Married-civ-spouse</td>\n",
       "      <td>Protective-serv</td>\n",
       "      <td>Husband</td>\n",
       "      <td>White</td>\n",
       "      <td>1</td>\n",
       "      <td>0</td>\n",
       "      <td>0</td>\n",
       "      <td>40</td>\n",
       "      <td>United-States</td>\n",
       "      <td>1</td>\n",
       "      <td>대학 교육</td>\n",
       "    </tr>\n",
       "    <tr>\n",
       "      <th>3</th>\n",
       "      <td>44</td>\n",
       "      <td>Private</td>\n",
       "      <td>Married-civ-spouse</td>\n",
       "      <td>Machine-op-inspct</td>\n",
       "      <td>Husband</td>\n",
       "      <td>Black</td>\n",
       "      <td>1</td>\n",
       "      <td>7688</td>\n",
       "      <td>0</td>\n",
       "      <td>40</td>\n",
       "      <td>United-States</td>\n",
       "      <td>1</td>\n",
       "      <td>대학 교육</td>\n",
       "    </tr>\n",
       "    <tr>\n",
       "      <th>4</th>\n",
       "      <td>18</td>\n",
       "      <td>Without-pay</td>\n",
       "      <td>Never-married</td>\n",
       "      <td>Other-service</td>\n",
       "      <td>Own-child</td>\n",
       "      <td>White</td>\n",
       "      <td>0</td>\n",
       "      <td>0</td>\n",
       "      <td>0</td>\n",
       "      <td>30</td>\n",
       "      <td>United-States</td>\n",
       "      <td>0</td>\n",
       "      <td>대학 교육</td>\n",
       "    </tr>\n",
       "  </tbody>\n",
       "</table>\n",
       "</div>"
      ],
      "text/plain": [
       "   age     workclass       marital-status          occupation relationship  \\\n",
       "0   25       Private        Never-married   Machine-op-inspct    Own-child   \n",
       "1   38       Private   Married-civ-spouse     Farming-fishing      Husband   \n",
       "2   28     Local-gov   Married-civ-spouse     Protective-serv      Husband   \n",
       "3   44       Private   Married-civ-spouse   Machine-op-inspct      Husband   \n",
       "4   18   Without-pay        Never-married       Other-service    Own-child   \n",
       "\n",
       "     race  sex  capital-gain  capital-loss  hours-per-week  native-country  \\\n",
       "0   Black    1             0             0              40   United-States   \n",
       "1   White    1             0             0              50   United-States   \n",
       "2   White    1             0             0              40   United-States   \n",
       "3   Black    1          7688             0              40   United-States   \n",
       "4   White    0             0             0              30   United-States   \n",
       "\n",
       "   class education_category  \n",
       "0      0           기본/중등 교육  \n",
       "1      0           기본/중등 교육  \n",
       "2      1              대학 교육  \n",
       "3      1              대학 교육  \n",
       "4      0              대학 교육  "
      ]
     },
     "execution_count": 47,
     "metadata": {},
     "output_type": "execute_result"
    }
   ],
   "source": [
    "data1.head()"
   ]
  },
  {
   "cell_type": "code",
   "execution_count": 48,
   "id": "c6252ab5-2e01-4806-a656-4ad472f38b3e",
   "metadata": {},
   "outputs": [],
   "source": [
    "le3 = LabelEncoder()\n",
    "test3 = le3.fit(data1['education_category'])\n",
    "le3.classes_\n",
    "result3 = le3.transform(data1['education_category'])\n",
    "data1['education_category'] = result3"
   ]
  },
  {
   "cell_type": "code",
   "execution_count": 49,
   "id": "23b3ad6b-135e-4bc4-8c91-63375a4eff9c",
   "metadata": {},
   "outputs": [
    {
     "data": {
      "text/html": [
       "<div>\n",
       "<style scoped>\n",
       "    .dataframe tbody tr th:only-of-type {\n",
       "        vertical-align: middle;\n",
       "    }\n",
       "\n",
       "    .dataframe tbody tr th {\n",
       "        vertical-align: top;\n",
       "    }\n",
       "\n",
       "    .dataframe thead th {\n",
       "        text-align: right;\n",
       "    }\n",
       "</style>\n",
       "<table border=\"1\" class=\"dataframe\">\n",
       "  <thead>\n",
       "    <tr style=\"text-align: right;\">\n",
       "      <th></th>\n",
       "      <th>age</th>\n",
       "      <th>workclass</th>\n",
       "      <th>marital-status</th>\n",
       "      <th>occupation</th>\n",
       "      <th>relationship</th>\n",
       "      <th>race</th>\n",
       "      <th>sex</th>\n",
       "      <th>capital-gain</th>\n",
       "      <th>capital-loss</th>\n",
       "      <th>hours-per-week</th>\n",
       "      <th>native-country</th>\n",
       "      <th>class</th>\n",
       "      <th>education_category</th>\n",
       "    </tr>\n",
       "  </thead>\n",
       "  <tbody>\n",
       "    <tr>\n",
       "      <th>0</th>\n",
       "      <td>25</td>\n",
       "      <td>Private</td>\n",
       "      <td>Never-married</td>\n",
       "      <td>Machine-op-inspct</td>\n",
       "      <td>Own-child</td>\n",
       "      <td>Black</td>\n",
       "      <td>1</td>\n",
       "      <td>0</td>\n",
       "      <td>0</td>\n",
       "      <td>40</td>\n",
       "      <td>United-States</td>\n",
       "      <td>0</td>\n",
       "      <td>1</td>\n",
       "    </tr>\n",
       "    <tr>\n",
       "      <th>1</th>\n",
       "      <td>38</td>\n",
       "      <td>Private</td>\n",
       "      <td>Married-civ-spouse</td>\n",
       "      <td>Farming-fishing</td>\n",
       "      <td>Husband</td>\n",
       "      <td>White</td>\n",
       "      <td>1</td>\n",
       "      <td>0</td>\n",
       "      <td>0</td>\n",
       "      <td>50</td>\n",
       "      <td>United-States</td>\n",
       "      <td>0</td>\n",
       "      <td>1</td>\n",
       "    </tr>\n",
       "    <tr>\n",
       "      <th>2</th>\n",
       "      <td>28</td>\n",
       "      <td>Local-gov</td>\n",
       "      <td>Married-civ-spouse</td>\n",
       "      <td>Protective-serv</td>\n",
       "      <td>Husband</td>\n",
       "      <td>White</td>\n",
       "      <td>1</td>\n",
       "      <td>0</td>\n",
       "      <td>0</td>\n",
       "      <td>40</td>\n",
       "      <td>United-States</td>\n",
       "      <td>1</td>\n",
       "      <td>2</td>\n",
       "    </tr>\n",
       "    <tr>\n",
       "      <th>3</th>\n",
       "      <td>44</td>\n",
       "      <td>Private</td>\n",
       "      <td>Married-civ-spouse</td>\n",
       "      <td>Machine-op-inspct</td>\n",
       "      <td>Husband</td>\n",
       "      <td>Black</td>\n",
       "      <td>1</td>\n",
       "      <td>7688</td>\n",
       "      <td>0</td>\n",
       "      <td>40</td>\n",
       "      <td>United-States</td>\n",
       "      <td>1</td>\n",
       "      <td>2</td>\n",
       "    </tr>\n",
       "    <tr>\n",
       "      <th>4</th>\n",
       "      <td>18</td>\n",
       "      <td>Without-pay</td>\n",
       "      <td>Never-married</td>\n",
       "      <td>Other-service</td>\n",
       "      <td>Own-child</td>\n",
       "      <td>White</td>\n",
       "      <td>0</td>\n",
       "      <td>0</td>\n",
       "      <td>0</td>\n",
       "      <td>30</td>\n",
       "      <td>United-States</td>\n",
       "      <td>0</td>\n",
       "      <td>2</td>\n",
       "    </tr>\n",
       "  </tbody>\n",
       "</table>\n",
       "</div>"
      ],
      "text/plain": [
       "   age     workclass       marital-status          occupation relationship  \\\n",
       "0   25       Private        Never-married   Machine-op-inspct    Own-child   \n",
       "1   38       Private   Married-civ-spouse     Farming-fishing      Husband   \n",
       "2   28     Local-gov   Married-civ-spouse     Protective-serv      Husband   \n",
       "3   44       Private   Married-civ-spouse   Machine-op-inspct      Husband   \n",
       "4   18   Without-pay        Never-married       Other-service    Own-child   \n",
       "\n",
       "     race  sex  capital-gain  capital-loss  hours-per-week  native-country  \\\n",
       "0   Black    1             0             0              40   United-States   \n",
       "1   White    1             0             0              50   United-States   \n",
       "2   White    1             0             0              40   United-States   \n",
       "3   Black    1          7688             0              40   United-States   \n",
       "4   White    0             0             0              30   United-States   \n",
       "\n",
       "   class  education_category  \n",
       "0      0                   1  \n",
       "1      0                   1  \n",
       "2      1                   2  \n",
       "3      1                   2  \n",
       "4      0                   2  "
      ]
     },
     "execution_count": 49,
     "metadata": {},
     "output_type": "execute_result"
    }
   ],
   "source": [
    "data1.head()"
   ]
  },
  {
   "cell_type": "code",
   "execution_count": 50,
   "id": "24685bc2-6108-4a03-9ced-517a1564954e",
   "metadata": {},
   "outputs": [
    {
     "data": {
      "text/plain": [
       "Index(['age', 'workclass', 'marital-status', 'occupation', 'relationship',\n",
       "       'race', 'sex', 'capital-gain', 'capital-loss', 'hours-per-week',\n",
       "       'native-country', 'class', 'education_category'],\n",
       "      dtype='object')"
      ]
     },
     "execution_count": 50,
     "metadata": {},
     "output_type": "execute_result"
    }
   ],
   "source": [
    "data1.columns"
   ]
  },
  {
   "cell_type": "code",
   "execution_count": 51,
   "id": "d70ff72a-6e6b-4f56-bddc-d6e57f98792b",
   "metadata": {},
   "outputs": [
    {
     "name": "stdout",
     "output_type": "stream",
     "text": [
      "<class 'pandas.core.frame.DataFrame'>\n",
      "RangeIndex: 48842 entries, 0 to 48841\n",
      "Data columns (total 13 columns):\n",
      " #   Column              Non-Null Count  Dtype \n",
      "---  ------              --------------  ----- \n",
      " 0   age                 48842 non-null  int64 \n",
      " 1   workclass           48842 non-null  object\n",
      " 2   marital-status      48842 non-null  object\n",
      " 3   occupation          48842 non-null  object\n",
      " 4   relationship        48842 non-null  object\n",
      " 5   race                48842 non-null  object\n",
      " 6   sex                 48842 non-null  int64 \n",
      " 7   capital-gain        48842 non-null  int64 \n",
      " 8   capital-loss        48842 non-null  int64 \n",
      " 9   hours-per-week      48842 non-null  int64 \n",
      " 10  native-country      48842 non-null  object\n",
      " 11  class               48842 non-null  int64 \n",
      " 12  education_category  48842 non-null  int64 \n",
      "dtypes: int64(7), object(6)\n",
      "memory usage: 4.8+ MB\n"
     ]
    }
   ],
   "source": [
    "data1.info()"
   ]
  },
  {
   "cell_type": "code",
   "execution_count": 52,
   "id": "89948dd5-bdb6-4a77-9149-e103538eb593",
   "metadata": {},
   "outputs": [
    {
     "data": {
      "text/html": [
       "<div>\n",
       "<style scoped>\n",
       "    .dataframe tbody tr th:only-of-type {\n",
       "        vertical-align: middle;\n",
       "    }\n",
       "\n",
       "    .dataframe tbody tr th {\n",
       "        vertical-align: top;\n",
       "    }\n",
       "\n",
       "    .dataframe thead th {\n",
       "        text-align: right;\n",
       "    }\n",
       "</style>\n",
       "<table border=\"1\" class=\"dataframe\">\n",
       "  <thead>\n",
       "    <tr style=\"text-align: right;\">\n",
       "      <th></th>\n",
       "      <th>age</th>\n",
       "      <th>sex</th>\n",
       "      <th>hours-per-week</th>\n",
       "      <th>class</th>\n",
       "      <th>education_category</th>\n",
       "    </tr>\n",
       "  </thead>\n",
       "  <tbody>\n",
       "    <tr>\n",
       "      <th>age</th>\n",
       "      <td>1.000000</td>\n",
       "      <td>0.088120</td>\n",
       "      <td>0.071558</td>\n",
       "      <td>0.230369</td>\n",
       "      <td>-0.133161</td>\n",
       "    </tr>\n",
       "    <tr>\n",
       "      <th>sex</th>\n",
       "      <td>0.088120</td>\n",
       "      <td>1.000000</td>\n",
       "      <td>0.228560</td>\n",
       "      <td>0.214628</td>\n",
       "      <td>-0.054813</td>\n",
       "    </tr>\n",
       "    <tr>\n",
       "      <th>hours-per-week</th>\n",
       "      <td>0.071558</td>\n",
       "      <td>0.228560</td>\n",
       "      <td>1.000000</td>\n",
       "      <td>0.227687</td>\n",
       "      <td>-0.039691</td>\n",
       "    </tr>\n",
       "    <tr>\n",
       "      <th>class</th>\n",
       "      <td>0.230369</td>\n",
       "      <td>0.214628</td>\n",
       "      <td>0.227687</td>\n",
       "      <td>1.000000</td>\n",
       "      <td>-0.046742</td>\n",
       "    </tr>\n",
       "    <tr>\n",
       "      <th>education_category</th>\n",
       "      <td>-0.133161</td>\n",
       "      <td>-0.054813</td>\n",
       "      <td>-0.039691</td>\n",
       "      <td>-0.046742</td>\n",
       "      <td>1.000000</td>\n",
       "    </tr>\n",
       "  </tbody>\n",
       "</table>\n",
       "</div>"
      ],
      "text/plain": [
       "                         age       sex  hours-per-week     class  \\\n",
       "age                 1.000000  0.088120        0.071558  0.230369   \n",
       "sex                 0.088120  1.000000        0.228560  0.214628   \n",
       "hours-per-week      0.071558  0.228560        1.000000  0.227687   \n",
       "class               0.230369  0.214628        0.227687  1.000000   \n",
       "education_category -0.133161 -0.054813       -0.039691 -0.046742   \n",
       "\n",
       "                    education_category  \n",
       "age                          -0.133161  \n",
       "sex                          -0.054813  \n",
       "hours-per-week               -0.039691  \n",
       "class                        -0.046742  \n",
       "education_category            1.000000  "
      ]
     },
     "execution_count": 52,
     "metadata": {},
     "output_type": "execute_result"
    }
   ],
   "source": [
    "data_corr = data1[['age', 'sex', 'hours-per-week', 'class', 'education_category']].corr()\n",
    "data_corr"
   ]
  },
  {
   "cell_type": "code",
   "execution_count": 53,
   "id": "a3be7823-23f1-498f-9bd4-b54396b5a895",
   "metadata": {},
   "outputs": [],
   "source": [
    "import seaborn as sns"
   ]
  },
  {
   "cell_type": "code",
   "execution_count": 54,
   "id": "db7acdf0-d709-4bea-890f-2208e5d97419",
   "metadata": {},
   "outputs": [
    {
     "data": {
      "text/plain": [
       "<Axes: >"
      ]
     },
     "execution_count": 54,
     "metadata": {},
     "output_type": "execute_result"
    },
    {
     "data": {
      "image/png": "[encoded data removed]",
      "text/plain": [
       "<Figure size 640x480 with 2 Axes>"
      ]
     },
     "metadata": {},
     "output_type": "display_data"
    }
   ],
   "source": [
    "sns.heatmap(data_corr, cmap='coolwarm', annot=True, linewidths=0.5)"
   ]
  },
  {
   "cell_type": "code",
   "execution_count": 55,
   "id": "3e146dae-925f-431e-a79f-996e2f0bdcc7",
   "metadata": {},
   "outputs": [],
   "source": [
    "# 자산 감소, 증가, 주 근무 시간의 범주화"
   ]
  },
  {
   "cell_type": "code",
   "execution_count": 56,
   "id": "d86c04ec-3092-4b63-9f25-f1c047dd6f83",
   "metadata": {},
   "outputs": [
    {
     "data": {
      "text/plain": [
       "array([    0,  7688,  3103,  6418,  7298,  3908, 14084,  5178, 15024,\n",
       "       99999,  2597,  2907,  4650,  6497,  1055,  5013, 27828,  4934,\n",
       "        4064,  3674,  2174, 10605,  3418,   114,  2580,  3411,  4508,\n",
       "        4386,  8614, 13550,  6849,  2463,  3137,  2885,  2964,  1471,\n",
       "       10566,  2354,  1424,  1455,  3325,  4416, 25236,   594,  2105,\n",
       "        4787,  2829,   401,  4865,  1264,  1506, 10520,  3464,  2653,\n",
       "       20051,  4101,  1797,  2407,  3471,  1086,  1848, 14344,  1151,\n",
       "        2993,  2290, 15020,  9386,  2202,  3818,  2176,  5455, 11678,\n",
       "        7978,  7262,  6514, 41310,  3456,  7430,  2414,  2062, 34095,\n",
       "        1831,  6723,  5060, 15831,  2977,  2346,  3273,  2329,  9562,\n",
       "        2635,  4931,  1731,  6097,   914,  7896,  5556,  1409,  3781,\n",
       "        3942,  2538,  3887, 25124,  7443,  5721,  1173,  4687,  6612,\n",
       "        6767,  2961,   991,  2036,  2936,  2050,  1111,  2228, 22040,\n",
       "        3432,  6360,  2009,  1639, 18481,  2387])"
      ]
     },
     "execution_count": 56,
     "metadata": {},
     "output_type": "execute_result"
    }
   ],
   "source": [
    "data1['capital-gain'].unique()"
   ]
  },
  {
   "cell_type": "code",
   "execution_count": 57,
   "id": "eb43d799-87b4-4610-accf-92e5e121e046",
   "metadata": {},
   "outputs": [
    {
     "data": {
      "text/plain": [
       "<Axes: ylabel='Frequency'>"
      ]
     },
     "execution_count": 57,
     "metadata": {},
     "output_type": "execute_result"
    },
    {
     "data": {
      "image/png": "[encoded data removed]",
      "text/plain": [
       "<Figure size 640x480 with 1 Axes>"
      ]
     },
     "metadata": {},
     "output_type": "display_data"
    }
   ],
   "source": [
    "data1['capital-gain'].plot(kind='hist')"
   ]
  },
  {
   "cell_type": "code",
   "execution_count": 58,
   "id": "3128c4d2-86b9-4ff8-add9-1fd368409bd1",
   "metadata": {},
   "outputs": [
    {
     "data": {
      "text/plain": [
       "array([   0, 1721, 1876, 2415, 1887,  625, 1977, 2057, 1429, 1590, 1485,\n",
       "       2051, 2377, 1672, 1628, 1902, 1602, 1741, 2444, 1408, 2001, 2042,\n",
       "       1740, 1825, 1848, 1719, 3004, 2179, 1573, 2205, 1258, 2339, 1726,\n",
       "       2258, 1340, 1504, 2559, 1668, 1974, 1980, 1564, 2547, 2002, 1669,\n",
       "       1617,  323, 3175, 2472, 2174, 1579, 2129, 1510, 1735, 2282, 1870,\n",
       "       1411, 1911, 1651, 1092, 1762, 2457, 2231, 2238,  653, 1138, 2246,\n",
       "       2603, 2392, 1944, 1380, 2465, 1421, 3770, 1594,  213, 2149, 2824,\n",
       "       1844, 2467, 2163, 1816, 1648, 2206, 2352,  419, 1539,  880,  810,\n",
       "        974, 4356, 2489, 1755, 3683, 2267, 2080,  155, 3900, 2201, 2754])"
      ]
     },
     "execution_count": 58,
     "metadata": {},
     "output_type": "execute_result"
    }
   ],
   "source": [
    "data1['capital-loss'].unique()"
   ]
  },
  {
   "cell_type": "code",
   "execution_count": 59,
   "id": "2bfc953b-991e-42bd-bc61-20c4deeccb4c",
   "metadata": {},
   "outputs": [
    {
     "data": {
      "text/plain": [
       "<Axes: ylabel='Frequency'>"
      ]
     },
     "execution_count": 59,
     "metadata": {},
     "output_type": "execute_result"
    },
    {
     "data": {
      "image/png": "[encoded data removed]",
      "text/plain": [
       "<Figure size 640x480 with 1 Axes>"
      ]
     },
     "metadata": {},
     "output_type": "display_data"
    }
   ],
   "source": [
    "data1['capital-loss'].plot(kind='hist')"
   ]
  },
  {
   "cell_type": "code",
   "execution_count": 60,
   "id": "265e67a6-62a9-4880-bf22-000454c3445e",
   "metadata": {},
   "outputs": [
    {
     "data": {
      "text/plain": [
       "array([40, 50, 30, 32, 10, 39, 35, 48, 25, 20, 45, 47,  6, 43, 90, 54, 60,\n",
       "       38, 36, 18, 24, 44, 56, 28, 16, 41, 22, 55, 14, 33, 37,  8, 12, 70,\n",
       "       15, 75, 52, 84, 42, 80, 68, 99, 65,  5, 17, 72, 53, 29, 96, 21, 46,\n",
       "        3,  1, 23, 49, 67, 76,  7,  2, 58, 26, 34,  4, 51, 78, 63, 31, 92,\n",
       "       77, 27, 85, 13, 19, 98, 62, 66, 57, 11, 86, 59,  9, 64, 73, 61, 88,\n",
       "       79, 89, 74, 69, 87, 97, 94, 82, 91, 81, 95])"
      ]
     },
     "execution_count": 60,
     "metadata": {},
     "output_type": "execute_result"
    }
   ],
   "source": [
    "data1['hours-per-week'].unique()"
   ]
  },
  {
   "cell_type": "code",
   "execution_count": 61,
   "id": "6f509781-f4d1-43fd-bfa1-e250e0ecbb62",
   "metadata": {},
   "outputs": [
    {
     "data": {
      "text/plain": [
       "<Axes: ylabel='Frequency'>"
      ]
     },
     "execution_count": 61,
     "metadata": {},
     "output_type": "execute_result"
    },
    {
     "data": {
      "image/png": "[encoded data removed]",
      "text/plain": [
       "<Figure size 640x480 with 1 Axes>"
      ]
     },
     "metadata": {},
     "output_type": "display_data"
    }
   ],
   "source": [
    "data1['hours-per-week'].plot(kind='hist')"
   ]
  },
  {
   "cell_type": "code",
   "execution_count": 62,
   "id": "a9089558-abd1-46aa-8a05-bdc4e740ddb1",
   "metadata": {},
   "outputs": [
    {
     "data": {
      "text/plain": [
       "<Axes: xlabel='hours-per-week', ylabel='Count'>"
      ]
     },
     "execution_count": 62,
     "metadata": {},
     "output_type": "execute_result"
    },
    {
     "data": {
      "image/png": "[encoded data removed]",
      "text/plain": [
       "<Figure size 640x480 with 1 Axes>"
      ]
     },
     "metadata": {},
     "output_type": "display_data"
    }
   ],
   "source": [
    "sns.histplot(data1['hours-per-week'], bins=8)"
   ]
  },
  {
   "cell_type": "code",
   "execution_count": 63,
   "id": "14ed9f14-86cd-489c-8bb6-fe20ee588698",
   "metadata": {},
   "outputs": [
    {
     "data": {
      "text/plain": [
       "<seaborn.axisgrid.PairGrid at 0x1be7b08fdf0>"
      ]
     },
     "execution_count": 63,
     "metadata": {},
     "output_type": "execute_result"
    },
    {
     "data": {
      "image/png": "[encoded data removed]",
      "text/plain": [
       "<Figure size 750x750 with 12 Axes>"
      ]
     },
     "metadata": {},
     "output_type": "display_data"
    }
   ],
   "source": [
    "sns.pairplot(data[['capital-gain', 'capital-loss', 'hours-per-week']])"
   ]
  },
  {
   "cell_type": "code",
   "execution_count": 64,
   "id": "32f6e4dd-2e91-40da-9951-1c1290798aa1",
   "metadata": {},
   "outputs": [
    {
     "name": "stdout",
     "output_type": "stream",
     "text": [
      "<class 'pandas.core.frame.DataFrame'>\n",
      "RangeIndex: 48842 entries, 0 to 48841\n",
      "Data columns (total 13 columns):\n",
      " #   Column              Non-Null Count  Dtype \n",
      "---  ------              --------------  ----- \n",
      " 0   age                 48842 non-null  int64 \n",
      " 1   workclass           48842 non-null  object\n",
      " 2   marital-status      48842 non-null  object\n",
      " 3   occupation          48842 non-null  object\n",
      " 4   relationship        48842 non-null  object\n",
      " 5   race                48842 non-null  object\n",
      " 6   sex                 48842 non-null  int64 \n",
      " 7   capital-gain        48842 non-null  int64 \n",
      " 8   capital-loss        48842 non-null  int64 \n",
      " 9   hours-per-week      48842 non-null  int64 \n",
      " 10  native-country      48842 non-null  object\n",
      " 11  class               48842 non-null  int64 \n",
      " 12  education_category  48842 non-null  int64 \n",
      "dtypes: int64(7), object(6)\n",
      "memory usage: 4.8+ MB\n"
     ]
    }
   ],
   "source": [
    "data1.info()"
   ]
  },
  {
   "cell_type": "markdown",
   "id": "4144037e-24dd-4f7b-afa1-764fb8dc77d1",
   "metadata": {},
   "source": [
    "# groupby로 독립변수와 종속변수간 규칙 찾기"
   ]
  },
  {
   "cell_type": "code",
   "execution_count": 65,
   "id": "173d326e-ec87-45f2-89ba-86732f6a50c7",
   "metadata": {},
   "outputs": [
    {
     "data": {
      "text/plain": [
       "<Axes: xlabel='class,sex'>"
      ]
     },
     "execution_count": 65,
     "metadata": {},
     "output_type": "execute_result"
    },
    {
     "data": {
      "image/png": "[encoded data removed]",
      "text/plain": [
       "<Figure size 640x480 with 1 Axes>"
      ]
     },
     "metadata": {},
     "output_type": "display_data"
    }
   ],
   "source": [
    "data1[['sex', 'class']].groupby('class').value_counts(sort=False).plot(kind='bar')"
   ]
  },
  {
   "cell_type": "code",
   "execution_count": 66,
   "id": "a475f6dc-dfc1-4691-9ba0-1faa6cfd3947",
   "metadata": {},
   "outputs": [
    {
     "data": {
      "text/plain": [
       "<Axes: xlabel='class,education_category'>"
      ]
     },
     "execution_count": 66,
     "metadata": {},
     "output_type": "execute_result"
    },
    {
     "data": {
      "image/png": "[encoded data removed]",
      "text/plain": [
       "<Figure size 640x480 with 1 Axes>"
      ]
     },
     "metadata": {},
     "output_type": "display_data"
    }
   ],
   "source": [
    "data1[['education_category', 'class']].groupby('class').value_counts(sort=False).plot(kind='bar')"
   ]
  },
  {
   "cell_type": "code",
   "execution_count": 67,
   "id": "25dcb9cb-dbb9-4da7-a420-eeeb07af1040",
   "metadata": {},
   "outputs": [
    {
     "data": {
      "text/plain": [
       "array([' Female', ' Male'], dtype=object)"
      ]
     },
     "execution_count": 67,
     "metadata": {},
     "output_type": "execute_result"
    }
   ],
   "source": [
    "le.classes_"
   ]
  },
  {
   "cell_type": "code",
   "execution_count": 68,
   "id": "39264d31-39e1-495a-89f9-97c8d51d00f2",
   "metadata": {},
   "outputs": [
    {
     "data": {
      "text/plain": [
       "array([' <=50K', ' >50K'], dtype=object)"
      ]
     },
     "execution_count": 68,
     "metadata": {},
     "output_type": "execute_result"
    }
   ],
   "source": [
    "le2.classes_"
   ]
  },
  {
   "cell_type": "code",
   "execution_count": 69,
   "id": "eac1b216-813a-4931-83a3-c849e5b6ef03",
   "metadata": {},
   "outputs": [
    {
     "data": {
      "text/plain": [
       "array(['고등 교육', '기본/중등 교육', '대학 교육'], dtype=object)"
      ]
     },
     "execution_count": 69,
     "metadata": {},
     "output_type": "execute_result"
    }
   ],
   "source": [
    "le3.classes_"
   ]
  },
  {
   "cell_type": "code",
   "execution_count": 70,
   "id": "0230de26-26c4-445e-a2e4-2387798b65df",
   "metadata": {},
   "outputs": [
    {
     "data": {
      "text/plain": [
       "array([   0, 1721, 1876, 2415, 1887,  625, 1977, 2057, 1429, 1590, 1485,\n",
       "       2051, 2377, 1672, 1628, 1902, 1602, 1741, 2444, 1408, 2001, 2042,\n",
       "       1740, 1825, 1848, 1719, 3004, 2179, 1573, 2205, 1258, 2339, 1726,\n",
       "       2258, 1340, 1504, 2559, 1668, 1974, 1980, 1564, 2547, 2002, 1669,\n",
       "       1617,  323, 3175, 2472, 2174, 1579, 2129, 1510, 1735, 2282, 1870,\n",
       "       1411, 1911, 1651, 1092, 1762, 2457, 2231, 2238,  653, 1138, 2246,\n",
       "       2603, 2392, 1944, 1380, 2465, 1421, 3770, 1594,  213, 2149, 2824,\n",
       "       1844, 2467, 2163, 1816, 1648, 2206, 2352,  419, 1539,  880,  810,\n",
       "        974, 4356, 2489, 1755, 3683, 2267, 2080,  155, 3900, 2201, 2754])"
      ]
     },
     "execution_count": 70,
     "metadata": {},
     "output_type": "execute_result"
    }
   ],
   "source": [
    "data1['capital-loss'].unique()"
   ]
  },
  {
   "cell_type": "code",
   "execution_count": 71,
   "id": "25acd194-80c0-434f-ba8f-5fe2a3ab0710",
   "metadata": {},
   "outputs": [],
   "source": [
    "def capitalgain(x):\n",
    "    if 0 <= x < 1000:\n",
    "        return \"under1000\"\n",
    "    elif 1000 <= x < 5000:\n",
    "        return \"1000 to 4999\"\n",
    "    elif 5000 <= x < 10000:\n",
    "        return \"5000 to 9999\"\n",
    "    elif 10000 <= x:\n",
    "        return \"10000s\""
   ]
  },
  {
   "cell_type": "code",
   "execution_count": 72,
   "id": "7a334fe7-3670-49c0-a842-f2d75704139e",
   "metadata": {},
   "outputs": [],
   "source": [
    "def capitalloss(x):\n",
    "    if 0 <= x < 1000:\n",
    "        return \"under1000\"\n",
    "    elif 1000 <= x < 2000:\n",
    "        return \"1000s\"\n",
    "    elif 2000 <= x < 3000:\n",
    "        return \"2000s\"\n",
    "    elif 3000 <= x < 4000:\n",
    "        return \"3000s\"\n",
    "    elif 4000 <= x < 5000:\n",
    "        return \"4000s\"\n",
    "    elif 5000 <= x:\n",
    "        return \"5000s\""
   ]
  },
  {
   "cell_type": "code",
   "execution_count": 73,
   "id": "e02f9517-b959-4d2a-bb10-7afa7ad1bef7",
   "metadata": {},
   "outputs": [],
   "source": [
    "def hoursperweek(x):\n",
    "    if 0 <= x < 20:\n",
    "        return \"under20\"\n",
    "    elif 20 <= x < 40:\n",
    "        return \"20s\"\n",
    "    elif 40 <= x < 60:\n",
    "        return \"40s\"\n",
    "    elif 60 <= x < 80:\n",
    "        return \"80s\"\n",
    "    elif 80 <= x:\n",
    "        return \"over80\""
   ]
  },
  {
   "cell_type": "code",
   "execution_count": 74,
   "id": "c05f5e1c-5c3b-4215-843f-c3a0ba957a09",
   "metadata": {},
   "outputs": [],
   "source": [
    "data1['capital-gain'] = data1['capital-gain'].apply(capitalgain)"
   ]
  },
  {
   "cell_type": "code",
   "execution_count": 75,
   "id": "5ba2d9ae-6207-471a-99fa-a5053735b5e4",
   "metadata": {},
   "outputs": [],
   "source": [
    "data1['capital-loss'] = data1['capital-loss'].apply(capitalloss)"
   ]
  },
  {
   "cell_type": "code",
   "execution_count": 76,
   "id": "7517c6d8-c411-43a2-84dd-7f60a1c2538c",
   "metadata": {},
   "outputs": [],
   "source": [
    "data1['hours-per-week'] = data1['hours-per-week'].apply(hoursperweek)"
   ]
  },
  {
   "cell_type": "code",
   "execution_count": 77,
   "id": "01d064c5-6012-49ad-9e71-a3c55668dceb",
   "metadata": {},
   "outputs": [
    {
     "data": {
      "text/plain": [
       "Index(['age', 'workclass', 'marital-status', 'occupation', 'relationship',\n",
       "       'race', 'sex', 'capital-gain', 'capital-loss', 'hours-per-week',\n",
       "       'native-country', 'class', 'education_category'],\n",
       "      dtype='object')"
      ]
     },
     "execution_count": 77,
     "metadata": {},
     "output_type": "execute_result"
    }
   ],
   "source": [
    "data1.columns"
   ]
  },
  {
   "cell_type": "code",
   "execution_count": 78,
   "id": "b8307759-21e4-4ba3-ac2e-e7850631cb3f",
   "metadata": {},
   "outputs": [
    {
     "data": {
      "text/html": [
       "<div>\n",
       "<style scoped>\n",
       "    .dataframe tbody tr th:only-of-type {\n",
       "        vertical-align: middle;\n",
       "    }\n",
       "\n",
       "    .dataframe tbody tr th {\n",
       "        vertical-align: top;\n",
       "    }\n",
       "\n",
       "    .dataframe thead th {\n",
       "        text-align: right;\n",
       "    }\n",
       "</style>\n",
       "<table border=\"1\" class=\"dataframe\">\n",
       "  <thead>\n",
       "    <tr style=\"text-align: right;\">\n",
       "      <th></th>\n",
       "      <th>age</th>\n",
       "      <th>workclass</th>\n",
       "      <th>marital-status</th>\n",
       "      <th>occupation</th>\n",
       "      <th>relationship</th>\n",
       "      <th>race</th>\n",
       "      <th>sex</th>\n",
       "      <th>capital-gain</th>\n",
       "      <th>capital-loss</th>\n",
       "      <th>hours-per-week</th>\n",
       "      <th>native-country</th>\n",
       "      <th>class</th>\n",
       "      <th>education_category</th>\n",
       "    </tr>\n",
       "  </thead>\n",
       "  <tbody>\n",
       "    <tr>\n",
       "      <th>0</th>\n",
       "      <td>25</td>\n",
       "      <td>Private</td>\n",
       "      <td>Never-married</td>\n",
       "      <td>Machine-op-inspct</td>\n",
       "      <td>Own-child</td>\n",
       "      <td>Black</td>\n",
       "      <td>1</td>\n",
       "      <td>under1000</td>\n",
       "      <td>under1000</td>\n",
       "      <td>40s</td>\n",
       "      <td>United-States</td>\n",
       "      <td>0</td>\n",
       "      <td>1</td>\n",
       "    </tr>\n",
       "    <tr>\n",
       "      <th>1</th>\n",
       "      <td>38</td>\n",
       "      <td>Private</td>\n",
       "      <td>Married-civ-spouse</td>\n",
       "      <td>Farming-fishing</td>\n",
       "      <td>Husband</td>\n",
       "      <td>White</td>\n",
       "      <td>1</td>\n",
       "      <td>under1000</td>\n",
       "      <td>under1000</td>\n",
       "      <td>40s</td>\n",
       "      <td>United-States</td>\n",
       "      <td>0</td>\n",
       "      <td>1</td>\n",
       "    </tr>\n",
       "    <tr>\n",
       "      <th>2</th>\n",
       "      <td>28</td>\n",
       "      <td>Local-gov</td>\n",
       "      <td>Married-civ-spouse</td>\n",
       "      <td>Protective-serv</td>\n",
       "      <td>Husband</td>\n",
       "      <td>White</td>\n",
       "      <td>1</td>\n",
       "      <td>under1000</td>\n",
       "      <td>under1000</td>\n",
       "      <td>40s</td>\n",
       "      <td>United-States</td>\n",
       "      <td>1</td>\n",
       "      <td>2</td>\n",
       "    </tr>\n",
       "    <tr>\n",
       "      <th>3</th>\n",
       "      <td>44</td>\n",
       "      <td>Private</td>\n",
       "      <td>Married-civ-spouse</td>\n",
       "      <td>Machine-op-inspct</td>\n",
       "      <td>Husband</td>\n",
       "      <td>Black</td>\n",
       "      <td>1</td>\n",
       "      <td>5000 to 9999</td>\n",
       "      <td>under1000</td>\n",
       "      <td>40s</td>\n",
       "      <td>United-States</td>\n",
       "      <td>1</td>\n",
       "      <td>2</td>\n",
       "    </tr>\n",
       "    <tr>\n",
       "      <th>4</th>\n",
       "      <td>18</td>\n",
       "      <td>Without-pay</td>\n",
       "      <td>Never-married</td>\n",
       "      <td>Other-service</td>\n",
       "      <td>Own-child</td>\n",
       "      <td>White</td>\n",
       "      <td>0</td>\n",
       "      <td>under1000</td>\n",
       "      <td>under1000</td>\n",
       "      <td>20s</td>\n",
       "      <td>United-States</td>\n",
       "      <td>0</td>\n",
       "      <td>2</td>\n",
       "    </tr>\n",
       "    <tr>\n",
       "      <th>5</th>\n",
       "      <td>34</td>\n",
       "      <td>Private</td>\n",
       "      <td>Never-married</td>\n",
       "      <td>Other-service</td>\n",
       "      <td>Not-in-family</td>\n",
       "      <td>White</td>\n",
       "      <td>1</td>\n",
       "      <td>under1000</td>\n",
       "      <td>under1000</td>\n",
       "      <td>20s</td>\n",
       "      <td>United-States</td>\n",
       "      <td>0</td>\n",
       "      <td>1</td>\n",
       "    </tr>\n",
       "    <tr>\n",
       "      <th>6</th>\n",
       "      <td>29</td>\n",
       "      <td>Without-pay</td>\n",
       "      <td>Never-married</td>\n",
       "      <td>Other-service</td>\n",
       "      <td>Unmarried</td>\n",
       "      <td>Black</td>\n",
       "      <td>1</td>\n",
       "      <td>under1000</td>\n",
       "      <td>under1000</td>\n",
       "      <td>40s</td>\n",
       "      <td>United-States</td>\n",
       "      <td>0</td>\n",
       "      <td>1</td>\n",
       "    </tr>\n",
       "    <tr>\n",
       "      <th>7</th>\n",
       "      <td>63</td>\n",
       "      <td>Self-emp-not-inc</td>\n",
       "      <td>Married-civ-spouse</td>\n",
       "      <td>Prof-specialty</td>\n",
       "      <td>Husband</td>\n",
       "      <td>White</td>\n",
       "      <td>1</td>\n",
       "      <td>1000 to 4999</td>\n",
       "      <td>under1000</td>\n",
       "      <td>20s</td>\n",
       "      <td>United-States</td>\n",
       "      <td>1</td>\n",
       "      <td>0</td>\n",
       "    </tr>\n",
       "    <tr>\n",
       "      <th>8</th>\n",
       "      <td>24</td>\n",
       "      <td>Private</td>\n",
       "      <td>Never-married</td>\n",
       "      <td>Other-service</td>\n",
       "      <td>Unmarried</td>\n",
       "      <td>White</td>\n",
       "      <td>0</td>\n",
       "      <td>under1000</td>\n",
       "      <td>under1000</td>\n",
       "      <td>40s</td>\n",
       "      <td>United-States</td>\n",
       "      <td>0</td>\n",
       "      <td>2</td>\n",
       "    </tr>\n",
       "    <tr>\n",
       "      <th>9</th>\n",
       "      <td>55</td>\n",
       "      <td>Private</td>\n",
       "      <td>Married-civ-spouse</td>\n",
       "      <td>Craft-repair</td>\n",
       "      <td>Husband</td>\n",
       "      <td>White</td>\n",
       "      <td>1</td>\n",
       "      <td>under1000</td>\n",
       "      <td>under1000</td>\n",
       "      <td>under20</td>\n",
       "      <td>United-States</td>\n",
       "      <td>0</td>\n",
       "      <td>1</td>\n",
       "    </tr>\n",
       "  </tbody>\n",
       "</table>\n",
       "</div>"
      ],
      "text/plain": [
       "   age          workclass       marital-status          occupation  \\\n",
       "0   25            Private        Never-married   Machine-op-inspct   \n",
       "1   38            Private   Married-civ-spouse     Farming-fishing   \n",
       "2   28          Local-gov   Married-civ-spouse     Protective-serv   \n",
       "3   44            Private   Married-civ-spouse   Machine-op-inspct   \n",
       "4   18        Without-pay        Never-married       Other-service   \n",
       "5   34            Private        Never-married       Other-service   \n",
       "6   29        Without-pay        Never-married       Other-service   \n",
       "7   63   Self-emp-not-inc   Married-civ-spouse      Prof-specialty   \n",
       "8   24            Private        Never-married       Other-service   \n",
       "9   55            Private   Married-civ-spouse        Craft-repair   \n",
       "\n",
       "     relationship    race  sex  capital-gain capital-loss hours-per-week  \\\n",
       "0       Own-child   Black    1     under1000    under1000            40s   \n",
       "1         Husband   White    1     under1000    under1000            40s   \n",
       "2         Husband   White    1     under1000    under1000            40s   \n",
       "3         Husband   Black    1  5000 to 9999    under1000            40s   \n",
       "4       Own-child   White    0     under1000    under1000            20s   \n",
       "5   Not-in-family   White    1     under1000    under1000            20s   \n",
       "6       Unmarried   Black    1     under1000    under1000            40s   \n",
       "7         Husband   White    1  1000 to 4999    under1000            20s   \n",
       "8       Unmarried   White    0     under1000    under1000            40s   \n",
       "9         Husband   White    1     under1000    under1000        under20   \n",
       "\n",
       "   native-country  class  education_category  \n",
       "0   United-States      0                   1  \n",
       "1   United-States      0                   1  \n",
       "2   United-States      1                   2  \n",
       "3   United-States      1                   2  \n",
       "4   United-States      0                   2  \n",
       "5   United-States      0                   1  \n",
       "6   United-States      0                   1  \n",
       "7   United-States      1                   0  \n",
       "8   United-States      0                   2  \n",
       "9   United-States      0                   1  "
      ]
     },
     "execution_count": 78,
     "metadata": {},
     "output_type": "execute_result"
    }
   ],
   "source": [
    "data1.head(10)"
   ]
  },
  {
   "cell_type": "code",
   "execution_count": 79,
   "id": "52df1927-e32f-413a-89b4-e2cfb1cf8a3a",
   "metadata": {},
   "outputs": [],
   "source": [
    "# capital-gain 변환\n",
    "data1['capital-gain'] = data1['capital-gain'].replace({\n",
    "    'under1000': 0,\n",
    "    '1000 to 4999': 1,\n",
    "    '5000 to 9999': 2,\n",
    "    '10000 to 19999': 3,\n",
    "    '20000 or more': 4\n",
    "})\n",
    "\n",
    "# capital-loss 변환\n",
    "data1['capital-loss'] = data1['capital-loss'].replace({\n",
    "    'under1000': 0,\n",
    "    '1000 to 4999': 1,\n",
    "    '5000 to 9999': 2,\n",
    "    '10000 to 19999': 3,\n",
    "    '20000 or more': 4\n",
    "})"
   ]
  },
  {
   "cell_type": "code",
   "execution_count": 80,
   "id": "3acfc531-2b18-4126-9d58-3a180e5f6909",
   "metadata": {},
   "outputs": [],
   "source": [
    "data1['hours-per-week'] = data1['hours-per-week'].replace({\n",
    "    'under20': 10,\n",
    "    '20s': 20,\n",
    "    '30s': 30,\n",
    "    '40s': 40,\n",
    "    '50s': 50,\n",
    "    '60s': 60,\n",
    "    '70s': 70,\n",
    "    '80s': 80\n",
    "})"
   ]
  },
  {
   "cell_type": "code",
   "execution_count": 81,
   "id": "18c8f294-c830-4498-9989-7b607dd8a0c4",
   "metadata": {},
   "outputs": [
    {
     "data": {
      "text/html": [
       "<div>\n",
       "<style scoped>\n",
       "    .dataframe tbody tr th:only-of-type {\n",
       "        vertical-align: middle;\n",
       "    }\n",
       "\n",
       "    .dataframe tbody tr th {\n",
       "        vertical-align: top;\n",
       "    }\n",
       "\n",
       "    .dataframe thead th {\n",
       "        text-align: right;\n",
       "    }\n",
       "</style>\n",
       "<table border=\"1\" class=\"dataframe\">\n",
       "  <thead>\n",
       "    <tr style=\"text-align: right;\">\n",
       "      <th></th>\n",
       "      <th>age</th>\n",
       "      <th>workclass</th>\n",
       "      <th>marital-status</th>\n",
       "      <th>occupation</th>\n",
       "      <th>relationship</th>\n",
       "      <th>race</th>\n",
       "      <th>sex</th>\n",
       "      <th>capital-gain</th>\n",
       "      <th>capital-loss</th>\n",
       "      <th>hours-per-week</th>\n",
       "      <th>native-country</th>\n",
       "      <th>class</th>\n",
       "      <th>education_category</th>\n",
       "    </tr>\n",
       "  </thead>\n",
       "  <tbody>\n",
       "    <tr>\n",
       "      <th>0</th>\n",
       "      <td>25</td>\n",
       "      <td>Private</td>\n",
       "      <td>Never-married</td>\n",
       "      <td>Machine-op-inspct</td>\n",
       "      <td>Own-child</td>\n",
       "      <td>Black</td>\n",
       "      <td>1</td>\n",
       "      <td>0</td>\n",
       "      <td>0</td>\n",
       "      <td>40</td>\n",
       "      <td>United-States</td>\n",
       "      <td>0</td>\n",
       "      <td>1</td>\n",
       "    </tr>\n",
       "    <tr>\n",
       "      <th>1</th>\n",
       "      <td>38</td>\n",
       "      <td>Private</td>\n",
       "      <td>Married-civ-spouse</td>\n",
       "      <td>Farming-fishing</td>\n",
       "      <td>Husband</td>\n",
       "      <td>White</td>\n",
       "      <td>1</td>\n",
       "      <td>0</td>\n",
       "      <td>0</td>\n",
       "      <td>40</td>\n",
       "      <td>United-States</td>\n",
       "      <td>0</td>\n",
       "      <td>1</td>\n",
       "    </tr>\n",
       "    <tr>\n",
       "      <th>2</th>\n",
       "      <td>28</td>\n",
       "      <td>Local-gov</td>\n",
       "      <td>Married-civ-spouse</td>\n",
       "      <td>Protective-serv</td>\n",
       "      <td>Husband</td>\n",
       "      <td>White</td>\n",
       "      <td>1</td>\n",
       "      <td>0</td>\n",
       "      <td>0</td>\n",
       "      <td>40</td>\n",
       "      <td>United-States</td>\n",
       "      <td>1</td>\n",
       "      <td>2</td>\n",
       "    </tr>\n",
       "    <tr>\n",
       "      <th>3</th>\n",
       "      <td>44</td>\n",
       "      <td>Private</td>\n",
       "      <td>Married-civ-spouse</td>\n",
       "      <td>Machine-op-inspct</td>\n",
       "      <td>Husband</td>\n",
       "      <td>Black</td>\n",
       "      <td>1</td>\n",
       "      <td>2</td>\n",
       "      <td>0</td>\n",
       "      <td>40</td>\n",
       "      <td>United-States</td>\n",
       "      <td>1</td>\n",
       "      <td>2</td>\n",
       "    </tr>\n",
       "    <tr>\n",
       "      <th>4</th>\n",
       "      <td>18</td>\n",
       "      <td>Without-pay</td>\n",
       "      <td>Never-married</td>\n",
       "      <td>Other-service</td>\n",
       "      <td>Own-child</td>\n",
       "      <td>White</td>\n",
       "      <td>0</td>\n",
       "      <td>0</td>\n",
       "      <td>0</td>\n",
       "      <td>20</td>\n",
       "      <td>United-States</td>\n",
       "      <td>0</td>\n",
       "      <td>2</td>\n",
       "    </tr>\n",
       "  </tbody>\n",
       "</table>\n",
       "</div>"
      ],
      "text/plain": [
       "   age     workclass       marital-status          occupation relationship  \\\n",
       "0   25       Private        Never-married   Machine-op-inspct    Own-child   \n",
       "1   38       Private   Married-civ-spouse     Farming-fishing      Husband   \n",
       "2   28     Local-gov   Married-civ-spouse     Protective-serv      Husband   \n",
       "3   44       Private   Married-civ-spouse   Machine-op-inspct      Husband   \n",
       "4   18   Without-pay        Never-married       Other-service    Own-child   \n",
       "\n",
       "     race  sex capital-gain capital-loss hours-per-week  native-country  \\\n",
       "0   Black    1            0            0             40   United-States   \n",
       "1   White    1            0            0             40   United-States   \n",
       "2   White    1            0            0             40   United-States   \n",
       "3   Black    1            2            0             40   United-States   \n",
       "4   White    0            0            0             20   United-States   \n",
       "\n",
       "   class  education_category  \n",
       "0      0                   1  \n",
       "1      0                   1  \n",
       "2      1                   2  \n",
       "3      1                   2  \n",
       "4      0                   2  "
      ]
     },
     "execution_count": 81,
     "metadata": {},
     "output_type": "execute_result"
    }
   ],
   "source": [
    "data1.head()"
   ]
  },
  {
   "cell_type": "code",
   "execution_count": 84,
   "id": "39f615cb-758b-4018-8a36-e5b4006be670",
   "metadata": {},
   "outputs": [
    {
     "data": {
      "text/plain": [
       "education_category  hours-per-week  sex  class\n",
       "0                   10              0    0          36\n",
       "                                         1          15\n",
       "                                    1    0          61\n",
       "                                         1          33\n",
       "                    20              0    0         151\n",
       "                                         1          80\n",
       "                                    1    0         148\n",
       "                                         1         158\n",
       "                    40              0    0         434\n",
       "                                         1         264\n",
       "                                    1    0         565\n",
       "                                         1        1497\n",
       "                    80              0    0          35\n",
       "                                         1          55\n",
       "                                    1    0         111\n",
       "                                         1         359\n",
       "                    over80          0    0          17\n",
       "                                         1           3\n",
       "                                    1    0          20\n",
       "                                         1          43\n",
       "1                   10              0    0         651\n",
       "                                         1          18\n",
       "                                    1    0         598\n",
       "                                         1          14\n",
       "                    20              0    0        2188\n",
       "                                         1          85\n",
       "                                    1    0        2003\n",
       "                                         1         105\n",
       "                    40              0    0        3729\n",
       "                                         1         239\n",
       "                                    1    0        9062\n",
       "                                         1        2047\n",
       "                    80              0    0         128\n",
       "                                         1          14\n",
       "                                    1    0         778\n",
       "                                         1         289\n",
       "                    over80          0    0          31\n",
       "                                         1           3\n",
       "                                    1    0         155\n",
       "                                         1          55\n",
       "2                   10              0    0         625\n",
       "                                         1          53\n",
       "                                    1    0         431\n",
       "                                         1          56\n",
       "                    20              0    0        2079\n",
       "                                         1         208\n",
       "                                    1    0        1621\n",
       "                                         1         270\n",
       "                    40              0    0        4079\n",
       "                                         1         674\n",
       "                                    1    0        6394\n",
       "                                         1        4318\n",
       "                    80              0    0         215\n",
       "                                         1          50\n",
       "                                    1    0         688\n",
       "                                         1         603\n",
       "                    over80          0    0          25\n",
       "                                         1           8\n",
       "                                    1    0          97\n",
       "                                         1          71\n",
       "Name: count, dtype: int64"
      ]
     },
     "execution_count": 84,
     "metadata": {},
     "output_type": "execute_result"
    }
   ],
   "source": [
    "data1[['education_category', 'hours-per-week', 'sex', 'class']].groupby(['education_category', 'hours-per-week', 'sex']).value_counts(sort=False)"
   ]
  },
  {
   "cell_type": "code",
   "execution_count": null,
   "id": "56d8e9ce-acb1-47d7-afcd-696648b1d584",
   "metadata": {},
   "outputs": [],
   "source": []
  },
  {
   "cell_type": "code",
   "execution_count": null,
   "id": "2161c0fb-6f2b-4f6a-baa9-fde3825dfe15",
   "metadata": {},
   "outputs": [],
   "source": []
  },
  {
   "cell_type": "code",
   "execution_count": null,
   "id": "6516e43d-a6df-45a8-b478-b0321631415f",
   "metadata": {},
   "outputs": [],
   "source": []
  },
  {
   "cell_type": "code",
   "execution_count": null,
   "id": "b66de144-c268-403a-82fd-b572653f1bcb",
   "metadata": {},
   "outputs": [],
   "source": []
  },
  {
   "cell_type": "code",
   "execution_count": null,
   "id": "ccc44889-5ab9-446c-a0e1-ebf61ced6763",
   "metadata": {},
   "outputs": [],
   "source": []
  },
  {
   "cell_type": "code",
   "execution_count": null,
   "id": "c5ad078a-f5a8-4549-b405-f6b23e94f40c",
   "metadata": {},
   "outputs": [],
   "source": []
  },
  {
   "cell_type": "code",
   "execution_count": null,
   "id": "90a12760-37fa-4edf-b9a9-41019491cb4f",
   "metadata": {},
   "outputs": [],
   "source": []
  },
  {
   "cell_type": "code",
   "execution_count": null,
   "id": "75582479-b3c1-4d2c-8471-be3942c3cbf0",
   "metadata": {},
   "outputs": [],
   "source": []
  },
  {
   "cell_type": "code",
   "execution_count": null,
   "id": "8f94a7ce-73a6-4d8e-b15e-3c9c859c6a7a",
   "metadata": {},
   "outputs": [],
   "source": []
  },
  {
   "cell_type": "code",
   "execution_count": null,
   "id": "476726c3-da22-4a8c-8164-92d7b09ad8f2",
   "metadata": {},
   "outputs": [],
   "source": []
  }
 ],
 "metadata": {
  "kernelspec": {
   "display_name": "Python 3 (ipykernel)",
   "language": "python",
   "name": "python3"
  },
  "language_info": {
   "codemirror_mode": {
    "name": "ipython",
    "version": 3
   },
   "file_extension": ".py",
   "mimetype": "text/x-python",
   "name": "python",
   "nbconvert_exporter": "python",
   "pygments_lexer": "ipython3",
   "version": "3.10.14"
  }
 },
 "nbformat": 4,
 "nbformat_minor": 5
}
