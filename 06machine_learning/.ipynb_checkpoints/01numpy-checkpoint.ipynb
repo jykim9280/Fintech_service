{
 "cells": [
  {
   "cell_type": "markdown",
   "id": "8c3118df-63bd-4315-b4c4-ccb8eae49938",
   "metadata": {},
   "source": [
    "# numpy란?\n",
    "* Numerical Python 과학적, 산업적 연산을 위한 파이썬 패키지\n",
    "* 다차원 배졀, 행렬 연산에 주로 사용"
   ]
  },
  {
   "cell_type": "code",
   "execution_count": null,
   "id": "02be8644-2edf-4932-97dc-fe8250f4ef9f",
   "metadata": {},
   "outputs": [],
   "source": [
    "# !pip install numpy\n",
    "# !conda install numpy"
   ]
  },
  {
   "cell_type": "code",
   "execution_count": 5,
   "id": "71bbd018-d9b9-4348-91ad-b21407008d02",
   "metadata": {},
   "outputs": [],
   "source": [
    "import numpy as np"
   ]
  },
  {
   "cell_type": "markdown",
   "id": "c275d377-c9c2-4083-a566-bba9e30c9a70",
   "metadata": {},
   "source": [
    "## 차원\n",
    "* 0차원 = . (점) = 스칼라\n",
    "* 1차원 = -------- (선) = 벡터 [1,2,3,4,5]\n",
    "* 2차원 = ㅁ (면)\n",
    "* 3차원 = 공간, 입체\n",
    "* 4차원 = 3차원 요소가 2개 이상"
   ]
  },
  {
   "cell_type": "code",
   "execution_count": 10,
   "id": "338a3230-c0d4-4150-8f87-cd99766e2422",
   "metadata": {},
   "outputs": [
    {
     "data": {
      "text/plain": [
       "array([[1, 2, 3, 4, 5],\n",
       "       [1, 2, 3, 4, 5]])"
      ]
     },
     "execution_count": 10,
     "metadata": {},
     "output_type": "execute_result"
    }
   ],
   "source": [
    "c = np.array([[1,2,3,4,5], [1,2,3,4,5]])\n",
    "c"
   ]
  },
  {
   "cell_type": "code",
   "execution_count": 12,
   "id": "fe62d097-3016-4915-9e33-6a50333c9ca0",
   "metadata": {},
   "outputs": [
    {
     "data": {
      "text/plain": [
       "2"
      ]
     },
     "execution_count": 12,
     "metadata": {},
     "output_type": "execute_result"
    }
   ],
   "source": [
    "c.ndim #차원 확인"
   ]
  },
  {
   "cell_type": "markdown",
   "id": "2e47fa47-400e-45c4-9cf3-b157c1821048",
   "metadata": {},
   "source": [
    "# numpy를 사용하는 이유 : 행렬 연산이 쉽고 빠르기 때문 "
   ]
  },
  {
   "cell_type": "code",
   "execution_count": null,
   "id": "2fcaeb4c-88ae-4946-bb3c-6cd55d721f24",
   "metadata": {},
   "outputs": [],
   "source": []
  },
  {
   "cell_type": "code",
   "execution_count": null,
   "id": "043ddb4e-eeaf-4265-960d-c79048a522e2",
   "metadata": {},
   "outputs": [],
   "source": []
  },
  {
   "cell_type": "code",
   "execution_count": null,
   "id": "3bb1aa95-d3c5-4c1f-b374-f58154a85e4b",
   "metadata": {},
   "outputs": [],
   "source": []
  },
  {
   "cell_type": "code",
   "execution_count": null,
   "id": "dc01c1ad-fcf7-415a-b4f3-668d86418685",
   "metadata": {},
   "outputs": [],
   "source": []
  },
  {
   "cell_type": "code",
   "execution_count": null,
   "id": "e19826b4-d64d-4032-97e0-d09ec6740ae1",
   "metadata": {},
   "outputs": [],
   "source": []
  },
  {
   "cell_type": "code",
   "execution_count": null,
   "id": "53665d71-688f-4663-875b-24dd7f32234b",
   "metadata": {},
   "outputs": [],
   "source": []
  }
 ],
 "metadata": {
  "kernelspec": {
   "display_name": "Python 3 (ipykernel)",
   "language": "python",
   "name": "python3"
  },
  "language_info": {
   "codemirror_mode": {
    "name": "ipython",
    "version": 3
   },
   "file_extension": ".py",
   "mimetype": "text/x-python",
   "name": "python",
   "nbconvert_exporter": "python",
   "pygments_lexer": "ipython3",
   "version": "3.10.14"
  }
 },
 "nbformat": 4,
 "nbformat_minor": 5
}
