{
 "cells": [
  {
   "cell_type": "code",
   "execution_count": 50,
   "id": "79458259-b66c-43ee-a8af-bc2fd2d9900c",
   "metadata": {},
   "outputs": [
    {
     "data": {
      "text/plain": [
       "True"
      ]
     },
     "execution_count": 50,
     "metadata": {},
     "output_type": "execute_result"
    }
   ],
   "source": [
    "import requests\n",
    "import os\n",
    "from dotenv import load_dotenv\n",
    "import pandas as pd\n",
    "import numpy as np\n",
    "import time\n",
    "load_dotenv()"
   ]
  },
  {
   "cell_type": "code",
   "execution_count": 24,
   "id": "fb4c041d-c832-4882-ad65-eed01498ce26",
   "metadata": {},
   "outputs": [
    {
     "name": "stdout",
     "output_type": "stream",
     "text": [
      "<?xml version=\"1.0\" encoding=\"UTF-8\"?><searchLoOrgIrList><list_total_count>7</list_total_count><RESULT><CODE>INFO-000</CODE><MESSAGE>정상 처리되었습니다.</MESSAGE></RESULT>    <row>        <lo_org_cd>B01</lo_org_cd>        <lo_org_nm>국민은행</lo_org_nm>        <base_str_dt>20240425</base_str_dt>        <base_end_dt>20240724</base_end_dt>        <lo_cnt>2185</lo_cnt>        <min_lo_ir>5</min_lo_ir>        <max_lo_ir>5.8</max_lo_ir>        <avg_lo_ir>5.31</avg_lo_ir>        <min_lo_ale_ir>1.75</min_lo_ale_ir>        <max_lo_ale_ir>2.5</max_lo_ale_ir>        <avg_lo_ale_ir>1.85</avg_lo_ale_ir>    </row>    <row>        <lo_org_cd>B02</lo_org_cd>        <lo_org_nm>농협은행</lo_org_nm>        <base_str_dt>20240425</base_str_dt>        <base_end_dt>20240724</base_end_dt>        <lo_cnt>1653</lo_cnt>        <min_lo_ir>5.22</min_lo_ir>        <max_lo_ir>5.9</max_lo_ir>        <avg_lo_ir>5.34</avg_lo_ir>        <min_lo_ale_ir>1.75</min_lo_ale_ir>        <max_lo_ale_ir>2.5</max_lo_ale_ir>        <avg_lo_ale_ir>1.87</avg_lo_ale_ir>    </row>    <row>        <lo_org_cd>B06</lo_org_cd>        <lo_org_nm>신한은행</lo_org_nm>        <base_str_dt>20240425</base_str_dt>        <base_end_dt>20240724</base_end_dt>        <lo_cnt>2176</lo_cnt>        <min_lo_ir>5.2</min_lo_ir>        <max_lo_ir>6</max_lo_ir>        <avg_lo_ir>5.33</avg_lo_ir>        <min_lo_ale_ir>1.75</min_lo_ale_ir>        <max_lo_ale_ir>2.5</max_lo_ale_ir>        <avg_lo_ale_ir>1.86</avg_lo_ale_ir>    </row>    <row>        <lo_org_cd>B07</lo_org_cd>        <lo_org_nm>우리은행</lo_org_nm>        <base_str_dt>20240425</base_str_dt>        <base_end_dt>20240724</base_end_dt>        <lo_cnt>3591</lo_cnt>        <min_lo_ir>5.22</min_lo_ir>        <max_lo_ir>5.78</max_lo_ir>        <avg_lo_ir>5.34</avg_lo_ir>        <min_lo_ale_ir>1.75</min_lo_ale_ir>        <max_lo_ale_ir>2.5</max_lo_ale_ir>        <avg_lo_ale_ir>1.84</avg_lo_ale_ir>    </row>    <row>        <lo_org_cd>B08</lo_org_cd>        <lo_org_nm>기업은행</lo_org_nm>        <base_str_dt>20240425</base_str_dt>        <base_end_dt>20240724</base_end_dt>        <lo_cnt>644</lo_cnt>        <min_lo_ir>5.03</min_lo_ir>        <max_lo_ir>5.8</max_lo_ir>        <avg_lo_ir>5.35</avg_lo_ir>        <min_lo_ale_ir>1.75</min_lo_ale_ir>        <max_lo_ale_ir>2.5</max_lo_ale_ir>        <avg_lo_ale_ir>1.91</avg_lo_ale_ir>    </row></searchLoOrgIrList>\n"
     ]
    }
   ],
   "source": [
    "# KEY=os.getenv('SeoulKey')\n",
    "url = f\"http://openapi.seoul.go.kr:8088/6344694551726c613130337579776377/xml/dreamMoney/1/5/\"\n",
    "r = requests.get(url)\n",
    "# print(r.status_code)\n",
    "if r.status_code == 200:\n",
    "    data = r.text\n",
    "    print(data)\n",
    "else:\n",
    "    print(f\"Error Code: {r.status_code}\")"
   ]
  },
  {
   "cell_type": "code",
   "execution_count": 26,
   "id": "f63ad538-d2ea-424f-8075-b5aca0ca1dfc",
   "metadata": {},
   "outputs": [],
   "source": [
    "from bs4 import BeautifulSoup"
   ]
  },
  {
   "cell_type": "code",
   "execution_count": 30,
   "id": "73c33714-4574-41a6-81a1-82b3c46f4615",
   "metadata": {},
   "outputs": [
    {
     "data": {
      "text/plain": [
       "[<row> <lo_org_cd>B01</lo_org_cd> <lo_org_nm>국민은행</lo_org_nm> <base_str_dt>20240425</base_str_dt> <base_end_dt>20240724</base_end_dt> <lo_cnt>2185</lo_cnt> <min_lo_ir>5</min_lo_ir> <max_lo_ir>5.8</max_lo_ir> <avg_lo_ir>5.31</avg_lo_ir> <min_lo_ale_ir>1.75</min_lo_ale_ir> <max_lo_ale_ir>2.5</max_lo_ale_ir> <avg_lo_ale_ir>1.85</avg_lo_ale_ir> </row>,\n",
       " <row> <lo_org_cd>B02</lo_org_cd> <lo_org_nm>농협은행</lo_org_nm> <base_str_dt>20240425</base_str_dt> <base_end_dt>20240724</base_end_dt> <lo_cnt>1653</lo_cnt> <min_lo_ir>5.22</min_lo_ir> <max_lo_ir>5.9</max_lo_ir> <avg_lo_ir>5.34</avg_lo_ir> <min_lo_ale_ir>1.75</min_lo_ale_ir> <max_lo_ale_ir>2.5</max_lo_ale_ir> <avg_lo_ale_ir>1.87</avg_lo_ale_ir> </row>,\n",
       " <row> <lo_org_cd>B06</lo_org_cd> <lo_org_nm>신한은행</lo_org_nm> <base_str_dt>20240425</base_str_dt> <base_end_dt>20240724</base_end_dt> <lo_cnt>2176</lo_cnt> <min_lo_ir>5.2</min_lo_ir> <max_lo_ir>6</max_lo_ir> <avg_lo_ir>5.33</avg_lo_ir> <min_lo_ale_ir>1.75</min_lo_ale_ir> <max_lo_ale_ir>2.5</max_lo_ale_ir> <avg_lo_ale_ir>1.86</avg_lo_ale_ir> </row>,\n",
       " <row> <lo_org_cd>B07</lo_org_cd> <lo_org_nm>우리은행</lo_org_nm> <base_str_dt>20240425</base_str_dt> <base_end_dt>20240724</base_end_dt> <lo_cnt>3591</lo_cnt> <min_lo_ir>5.22</min_lo_ir> <max_lo_ir>5.78</max_lo_ir> <avg_lo_ir>5.34</avg_lo_ir> <min_lo_ale_ir>1.75</min_lo_ale_ir> <max_lo_ale_ir>2.5</max_lo_ale_ir> <avg_lo_ale_ir>1.84</avg_lo_ale_ir> </row>,\n",
       " <row> <lo_org_cd>B08</lo_org_cd> <lo_org_nm>기업은행</lo_org_nm> <base_str_dt>20240425</base_str_dt> <base_end_dt>20240724</base_end_dt> <lo_cnt>644</lo_cnt> <min_lo_ir>5.03</min_lo_ir> <max_lo_ir>5.8</max_lo_ir> <avg_lo_ir>5.35</avg_lo_ir> <min_lo_ale_ir>1.75</min_lo_ale_ir> <max_lo_ale_ir>2.5</max_lo_ale_ir> <avg_lo_ale_ir>1.91</avg_lo_ale_ir> </row>]"
      ]
     },
     "execution_count": 30,
     "metadata": {},
     "output_type": "execute_result"
    }
   ],
   "source": [
    "soup = BeautifulSoup(data, 'xml')\n",
    "rows = soup.find_all('row')\n",
    "rows"
   ]
  },
  {
   "cell_type": "code",
   "execution_count": 104,
   "id": "e7b5ca39-4204-42d4-b84e-7446a0e24c49",
   "metadata": {},
   "outputs": [
    {
     "ename": "TypeError",
     "evalue": "Index(...) must be called with a collection of some kind, 'avg_lo_ale_ir' was passed",
     "output_type": "error",
     "traceback": [
      "\u001b[1;31m---------------------------------------------------------------------------\u001b[0m",
      "\u001b[1;31mTypeError\u001b[0m                                 Traceback (most recent call last)",
      "Cell \u001b[1;32mIn[104], line 19\u001b[0m\n\u001b[0;32m     16\u001b[0m \u001b[38;5;66;03m# 결과 출력\u001b[39;00m\n\u001b[0;32m     17\u001b[0m result_all\n\u001b[1;32m---> 19\u001b[0m df \u001b[38;5;241m=\u001b[39m \u001b[43mpd\u001b[49m\u001b[38;5;241;43m.\u001b[39;49m\u001b[43mDataFrame\u001b[49m\u001b[43m(\u001b[49m\u001b[43mresult_all\u001b[49m\u001b[43m,\u001b[49m\u001b[43m \u001b[49m\u001b[43mcolumns\u001b[49m\u001b[43m \u001b[49m\u001b[38;5;241;43m=\u001b[39;49m\u001b[43m \u001b[49m\u001b[43mrow_columns\u001b[49m\u001b[43m)\u001b[49m\n\u001b[0;32m     20\u001b[0m df\n\u001b[0;32m     22\u001b[0m \u001b[38;5;66;03m# columns = list(child.name)\u001b[39;00m\n\u001b[0;32m     23\u001b[0m \u001b[38;5;66;03m# cloumns\u001b[39;00m\n\u001b[0;32m     24\u001b[0m \u001b[38;5;66;03m# df2 = pd.DataFrame(result_all, row_columns)\u001b[39;00m\n\u001b[0;32m     25\u001b[0m \u001b[38;5;66;03m# df2\u001b[39;00m\n",
      "File \u001b[1;32m~\\miniforge3\\envs\\fintech\\lib\\site-packages\\pandas\\core\\frame.py:850\u001b[0m, in \u001b[0;36mDataFrame.__init__\u001b[1;34m(self, data, index, columns, dtype, copy)\u001b[0m\n\u001b[0;32m    847\u001b[0m \u001b[38;5;28;01mif\u001b[39;00m \u001b[38;5;129;01mnot\u001b[39;00m \u001b[38;5;28misinstance\u001b[39m(data, np\u001b[38;5;241m.\u001b[39mndarray) \u001b[38;5;129;01mand\u001b[39;00m treat_as_nested(data):\n\u001b[0;32m    848\u001b[0m     \u001b[38;5;66;03m# exclude ndarray as we may have cast it a few lines above\u001b[39;00m\n\u001b[0;32m    849\u001b[0m     \u001b[38;5;28;01mif\u001b[39;00m columns \u001b[38;5;129;01mis\u001b[39;00m \u001b[38;5;129;01mnot\u001b[39;00m \u001b[38;5;28;01mNone\u001b[39;00m:\n\u001b[1;32m--> 850\u001b[0m         columns \u001b[38;5;241m=\u001b[39m \u001b[43mensure_index\u001b[49m\u001b[43m(\u001b[49m\u001b[43mcolumns\u001b[49m\u001b[43m)\u001b[49m\n\u001b[0;32m    851\u001b[0m     arrays, columns, index \u001b[38;5;241m=\u001b[39m nested_data_to_arrays(\n\u001b[0;32m    852\u001b[0m         \u001b[38;5;66;03m# error: Argument 3 to \"nested_data_to_arrays\" has incompatible\u001b[39;00m\n\u001b[0;32m    853\u001b[0m         \u001b[38;5;66;03m# type \"Optional[Collection[Any]]\"; expected \"Optional[Index]\"\u001b[39;00m\n\u001b[1;32m   (...)\u001b[0m\n\u001b[0;32m    857\u001b[0m         dtype,\n\u001b[0;32m    858\u001b[0m     )\n\u001b[0;32m    859\u001b[0m     mgr \u001b[38;5;241m=\u001b[39m arrays_to_mgr(\n\u001b[0;32m    860\u001b[0m         arrays,\n\u001b[0;32m    861\u001b[0m         columns,\n\u001b[1;32m   (...)\u001b[0m\n\u001b[0;32m    864\u001b[0m         typ\u001b[38;5;241m=\u001b[39mmanager,\n\u001b[0;32m    865\u001b[0m     )\n",
      "File \u001b[1;32m~\\miniforge3\\envs\\fintech\\lib\\site-packages\\pandas\\core\\indexes\\base.py:7649\u001b[0m, in \u001b[0;36mensure_index\u001b[1;34m(index_like, copy)\u001b[0m\n\u001b[0;32m   7647\u001b[0m         \u001b[38;5;28;01mreturn\u001b[39;00m Index(index_like, copy\u001b[38;5;241m=\u001b[39mcopy, tupleize_cols\u001b[38;5;241m=\u001b[39m\u001b[38;5;28;01mFalse\u001b[39;00m)\n\u001b[0;32m   7648\u001b[0m \u001b[38;5;28;01melse\u001b[39;00m:\n\u001b[1;32m-> 7649\u001b[0m     \u001b[38;5;28;01mreturn\u001b[39;00m \u001b[43mIndex\u001b[49m\u001b[43m(\u001b[49m\u001b[43mindex_like\u001b[49m\u001b[43m,\u001b[49m\u001b[43m \u001b[49m\u001b[43mcopy\u001b[49m\u001b[38;5;241;43m=\u001b[39;49m\u001b[43mcopy\u001b[49m\u001b[43m)\u001b[49m\n",
      "File \u001b[1;32m~\\miniforge3\\envs\\fintech\\lib\\site-packages\\pandas\\core\\indexes\\base.py:526\u001b[0m, in \u001b[0;36mIndex.__new__\u001b[1;34m(cls, data, dtype, copy, name, tupleize_cols)\u001b[0m\n\u001b[0;32m    523\u001b[0m         data \u001b[38;5;241m=\u001b[39m com\u001b[38;5;241m.\u001b[39masarray_tuplesafe(data, dtype\u001b[38;5;241m=\u001b[39m_dtype_obj)\n\u001b[0;32m    525\u001b[0m \u001b[38;5;28;01melif\u001b[39;00m is_scalar(data):\n\u001b[1;32m--> 526\u001b[0m     \u001b[38;5;28;01mraise\u001b[39;00m \u001b[38;5;28;43mcls\u001b[39;49m\u001b[38;5;241;43m.\u001b[39;49m\u001b[43m_raise_scalar_data_error\u001b[49m\u001b[43m(\u001b[49m\u001b[43mdata\u001b[49m\u001b[43m)\u001b[49m\n\u001b[0;32m    527\u001b[0m \u001b[38;5;28;01melif\u001b[39;00m \u001b[38;5;28mhasattr\u001b[39m(data, \u001b[38;5;124m\"\u001b[39m\u001b[38;5;124m__array__\u001b[39m\u001b[38;5;124m\"\u001b[39m):\n\u001b[0;32m    528\u001b[0m     \u001b[38;5;28;01mreturn\u001b[39;00m \u001b[38;5;28mcls\u001b[39m(np\u001b[38;5;241m.\u001b[39masarray(data), dtype\u001b[38;5;241m=\u001b[39mdtype, copy\u001b[38;5;241m=\u001b[39mcopy, name\u001b[38;5;241m=\u001b[39mname)\n",
      "File \u001b[1;32m~\\miniforge3\\envs\\fintech\\lib\\site-packages\\pandas\\core\\indexes\\base.py:5289\u001b[0m, in \u001b[0;36mIndex._raise_scalar_data_error\u001b[1;34m(cls, data)\u001b[0m\n\u001b[0;32m   5284\u001b[0m \u001b[38;5;129m@final\u001b[39m\n\u001b[0;32m   5285\u001b[0m \u001b[38;5;129m@classmethod\u001b[39m\n\u001b[0;32m   5286\u001b[0m \u001b[38;5;28;01mdef\u001b[39;00m \u001b[38;5;21m_raise_scalar_data_error\u001b[39m(\u001b[38;5;28mcls\u001b[39m, data):\n\u001b[0;32m   5287\u001b[0m     \u001b[38;5;66;03m# We return the TypeError so that we can raise it from the constructor\u001b[39;00m\n\u001b[0;32m   5288\u001b[0m     \u001b[38;5;66;03m#  in order to keep mypy happy\u001b[39;00m\n\u001b[1;32m-> 5289\u001b[0m     \u001b[38;5;28;01mraise\u001b[39;00m \u001b[38;5;167;01mTypeError\u001b[39;00m(\n\u001b[0;32m   5290\u001b[0m         \u001b[38;5;124mf\u001b[39m\u001b[38;5;124m\"\u001b[39m\u001b[38;5;132;01m{\u001b[39;00m\u001b[38;5;28mcls\u001b[39m\u001b[38;5;241m.\u001b[39m\u001b[38;5;18m__name__\u001b[39m\u001b[38;5;132;01m}\u001b[39;00m\u001b[38;5;124m(...) must be called with a collection of some \u001b[39m\u001b[38;5;124m\"\u001b[39m\n\u001b[0;32m   5291\u001b[0m         \u001b[38;5;124mf\u001b[39m\u001b[38;5;124m\"\u001b[39m\u001b[38;5;124mkind, \u001b[39m\u001b[38;5;132;01m{\u001b[39;00m\u001b[38;5;28mrepr\u001b[39m(data)\u001b[38;5;250m \u001b[39m\u001b[38;5;28;01mif\u001b[39;00m\u001b[38;5;250m \u001b[39m\u001b[38;5;129;01mnot\u001b[39;00m\u001b[38;5;250m \u001b[39m\u001b[38;5;28misinstance\u001b[39m(data,\u001b[38;5;250m \u001b[39mnp\u001b[38;5;241m.\u001b[39mgeneric)\u001b[38;5;250m \u001b[39m\u001b[38;5;28;01melse\u001b[39;00m\u001b[38;5;250m \u001b[39m\u001b[38;5;28mstr\u001b[39m(data)\u001b[38;5;132;01m}\u001b[39;00m\u001b[38;5;124m \u001b[39m\u001b[38;5;124m\"\u001b[39m\n\u001b[0;32m   5292\u001b[0m         \u001b[38;5;124m\"\u001b[39m\u001b[38;5;124mwas passed\u001b[39m\u001b[38;5;124m\"\u001b[39m\n\u001b[0;32m   5293\u001b[0m     )\n",
      "\u001b[1;31mTypeError\u001b[0m: Index(...) must be called with a collection of some kind, 'avg_lo_ale_ir' was passed"
     ]
    }
   ],
   "source": [
    "data_list = []\n",
    "data_columns = []\n",
    "for row in rows:\n",
    "    for child in row.find_all():\n",
    "        row_data = child.text\n",
    "        row_columns = child.name\n",
    "        data_list.append(row_columns)\n",
    "        data_list.append(row_data)\n",
    "        \n",
    "arr = np.array(data_list)\n",
    "result = [arr[i:i + 11] for i in range(0, len(arr), 11)]\n",
    "\n",
    "result_all = []\n",
    "for i in range(len(result)):\n",
    "    result_all.append(result[i])\n",
    "# 결과 출력\n",
    "result_all\n",
    "\n",
    "df = pd.DataFrame(result_all, columns = row_columns)\n",
    "df\n",
    "\n",
    "# columns = list(child.name)\n",
    "# cloumns\n",
    "# df2 = pd.DataFrame(result_all, row_columns)\n",
    "# df2"
   ]
  },
  {
   "cell_type": "code",
   "execution_count": 89,
   "id": "a5fbb69a-2572-44e4-9816-edbe8bfe0ae9",
   "metadata": {},
   "outputs": [
    {
     "data": {
      "text/plain": [
       "'avg_lo_ale_ir'"
      ]
     },
     "execution_count": 89,
     "metadata": {},
     "output_type": "execute_result"
    }
   ],
   "source": [
    "row_columns = child.name\n",
    "row_columns"
   ]
  },
  {
   "cell_type": "code",
   "execution_count": null,
   "id": "9a5a5c9f-d536-4b5b-bbdf-411c549c9968",
   "metadata": {},
   "outputs": [],
   "source": []
  }
 ],
 "metadata": {
  "kernelspec": {
   "display_name": "Python 3 (ipykernel)",
   "language": "python",
   "name": "python3"
  },
  "language_info": {
   "codemirror_mode": {
    "name": "ipython",
    "version": 3
   },
   "file_extension": ".py",
   "mimetype": "text/x-python",
   "name": "python",
   "nbconvert_exporter": "python",
   "pygments_lexer": "ipython3",
   "version": "3.10.14"
  }
 },
 "nbformat": 4,
 "nbformat_minor": 5
}
