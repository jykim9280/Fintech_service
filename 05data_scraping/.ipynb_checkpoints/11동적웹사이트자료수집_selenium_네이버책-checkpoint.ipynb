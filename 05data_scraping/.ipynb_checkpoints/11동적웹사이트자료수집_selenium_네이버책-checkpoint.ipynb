{
 "cells": [
  {
   "cell_type": "markdown",
   "id": "fcf4c7c9",
   "metadata": {},
   "source": [
    "# 1. Selenium이란?\n",
    "* 웹브라우저를 자동으로 제어하는 라이브러리\n",
    "* 원래 다양한 웹브라우저를 자동으로 테스트하는 테스트 도구\n",
    "* 동적 웹사이트에서 정보를 가져오는데 활용"
   ]
  },
  {
   "cell_type": "code",
   "execution_count": 234,
   "id": "de81cee4",
   "metadata": {},
   "outputs": [],
   "source": [
    "# !pip install selenium\n",
    "# !pip install webdriver-manager"
   ]
  },
  {
   "cell_type": "code",
   "execution_count": 312,
   "id": "7d0b3fb1",
   "metadata": {},
   "outputs": [
    {
     "name": "stdout",
     "output_type": "stream",
     "text": [
      "4.31.1\n"
     ]
    }
   ],
   "source": [
    "import selenium\n",
    "print(selenium.__version__)"
   ]
  },
  {
   "cell_type": "code",
   "execution_count": 313,
   "id": "e8d94984",
   "metadata": {},
   "outputs": [],
   "source": [
    "from selenium import webdriver\n",
    "from selenium.webdriver.chrome.service import Service as ChromeService\n",
    "from webdriver_manager.chrome import ChromeDriverManager \n",
    "from selenium.webdriver.common.keys import Keys\n",
    "from selenium.webdriver.common.by import By\n",
    "from bs4 import BeautifulSoup as bs\n",
    "import time\n",
    "\n",
    "# 크롬 옵션즈에 정보를 담아 사람인 것 처럼 만들기\n",
    "options = webdriver.ChromeOptions()\n",
    "options.add_experimental_option(\"excludeSwitches\", ['enable-logging'])\n",
    "options.add_argument(\"Mozilla/5.0 (Windows NT 10.0; Win64; x64) AppleWebKit/537.36 (KHTML, like Gecko) Chrome/127.0.0.0 Safari/537.36\")\n",
    "options.add_argument('lang=ko_KR')\n",
    "\n",
    "# 크롬 웹브라우저 드라이버 자동 다운로드\n",
    "driver = webdriver.Chrome(service=ChromeService(ChromeDriverManager().install()))\n",
    "driver.set_window_size(1920, 1080) #웹브라우저 해상도 조절\n",
    "driver.get(\"https://search.shopping.naver.com/book/home\")"
   ]
  },
  {
   "cell_type": "code",
   "execution_count": 314,
   "id": "a49984a9",
   "metadata": {},
   "outputs": [],
   "source": [
    "#lnb > div > div._lnbSearch_lnb_search_10s9T > div > div > form > input\n",
    "# _lnbSearch_search_input_YVyzR N=a:sech.input\n",
    "serch_box = driver.find_element(By.CSS_SELECTOR, \"#lnb > div > div._lnbSearch_lnb_search_10s9T > div > div > form > input\")\n",
    "serch_box.send_keys(\"핀테크\") #+Keys.ENTER)\n",
    "# serch_box.send_keys(\"핀테크\"+Keys.ENTER) 핀테크 검색됨"
   ]
  },
  {
   "cell_type": "code",
   "execution_count": 315,
   "id": "162e182f",
   "metadata": {},
   "outputs": [],
   "source": [
    "#lnb > div > div._lnbSearch_lnb_search_10s9T > div > div > form > button\n",
    "search_button = driver.find_element(By.CSS_SELECTOR, \"#lnb > div > div._lnbSearch_lnb_search_10s9T > div > div > form > button\") #돋보기 버튼\n",
    "search_button.click() #검색이 되는 것"
   ]
  },
  {
   "cell_type": "code",
   "execution_count": 316,
   "id": "aa05cfb8",
   "metadata": {
    "scrolled": true
   },
   "outputs": [
    {
     "name": "stdout",
     "output_type": "stream",
     "text": [
      "가격부분: 2\n",
      "핀테크 한석주 커뮤니케이션북스 2015-11-01 11400 8640\n",
      "가격부분: 1\n",
      "핀테크 (IT와 금융이 만나는 새로운 세상) 강창호 한빛미디어 2015-06-05 12600 0\n",
      "가격부분: 2\n",
      "핀테크 전쟁 (세계 금융 시장의 거대한 트렌드 | 새로운 돈의 시대가 온다) 브렛 킹 예문 2015-06-12 13500 9450\n",
      "가격부분: 1\n",
      "핀테크 4.0 (핀테크 혁명과 금융의 미래) 김종현 한국금융연수원 2022-05-24 17100 0\n",
      "가격부분: 1\n",
      "핀테크 혁명 (모바일 은행 설립자가 알려주는 핀테크 시대의 돈 관리 기술) 앤 보덴 유엑스리뷰 2020-03-03 20700 0\n",
      "가격부분: 2\n",
      "핀테크와 법 (제3판) 강현구, 유주선 외 1명 씨아이알 2020-11-12 19800 13860\n",
      "가격부분: 1\n",
      "핀테크가 강한 나라 (석학 9인의 금융 플랫폼 미래 통찰) 강형구, 김솔 외 3명 한울아카데미 2024-04-08 35100 0\n",
      "가격부분: 1\n",
      "내일의 핀테크 (금융대혁명의 시대, 어떻게 살아남을 것인가?) 홍장원 매경출판 2016-02-22 11700 0\n",
      "가격부분: 0\n",
      "핀테크 시대 (기술변화와 함께 다가오는 법과 규제 패러다임의 변화) 고학수, 권남훈 외 3명 박영사 2015-12-05 11700 0\n",
      "가격부분: 1\n",
      "차이나 핀테크 (중국에선 현금이 필요없다) 구자근 스리체어스 2018-02-20 10800 0\n"
     ]
    }
   ],
   "source": [
    "page_html = driver.page_source\n",
    "soup = bs(page_html, 'lxml')\n",
    "book_list = soup.select(\".list_book > li\")\n",
    "for book in book_list:\n",
    "    title = book.select_one(\"span.bookListItem_text__SL9m9\").text # 책 제목\n",
    "    author = book.select(\"span.bookListItem_define_data__IUMgt\")[0].text # 저자\n",
    "    publisher = book.select(\"span.bookListItem_define_data__IUMgt\")[1].text # 출판사\n",
    "    pub_date = book.select_one(\"div.bookListItem_detail_date__s7KQe\").text.strip(\". \").replace(\".\",\"-\") # 출간일\n",
    "    if book.select(\"span.bookPrice_price__OagxI\") != None:\n",
    "        print(\"가격부분:\",len(book.select(\"span.bookPrice_price__OagxI\")))\n",
    "        if len(book.select(\"span.bookPrice_price__OagxI\")) == 2:\n",
    "            price = book.select(\"span.bookPrice_price__OagxI\")[0].text.split(\" \")[1].replace(\",\",\"\").replace(\"원\",\"\") # 종이책 가격\n",
    "            eb_price = book.select(\"span.bookPrice_price__OagxI\")[1].text.split(\" \")[1].replace(\",\",\"\").replace(\"원\",\"\") # e북 가격\n",
    "        elif len(book.select(\"span.bookPrice_price__OagxI\")) == 1:\n",
    "            price = book.select(\"span.bookPrice_price__OagxI\")[0].text.split(\" \")[1].replace(\",\",\"\").replace(\"원\",\"\") # 종이책 가격\n",
    "            eb_price = 0\n",
    "    else:\n",
    "        price = 0\n",
    "        eb_price = 0\n",
    "    \n",
    "    print(title, author, publisher, pub_date, price, eb_price)"
   ]
  },
  {
   "cell_type": "markdown",
   "id": "c3ca543c-cf66-4194-9714-1eea9ba15a95",
   "metadata": {},
   "source": [
    "# 마우스를 스크롤해서 40개 정보 가져오기\n",
    "* window.scrollTo({시작위치}, {step})"
   ]
  },
  {
   "cell_type": "code",
   "execution_count": 265,
   "id": "6c0a8bd9-65af-4b36-98bf-0f69f9a2af39",
   "metadata": {},
   "outputs": [],
   "source": [
    "import pandas as pd"
   ]
  },
  {
   "cell_type": "code",
   "execution_count": 318,
   "id": "ef699395",
   "metadata": {
    "scrolled": true
   },
   "outputs": [],
   "source": [
    "final_result = pd.DataFrame()\n",
    "\n",
    "for page in range(1,7):\n",
    "    #마우스 스크롤로 40개 정보 가져옴\n",
    "    y = 0\n",
    "    num = 0\n",
    "    y_step = 1000\n",
    "    for scroll_times in range(1,7):\n",
    "        y += y_step\n",
    "        driver.execute_script(f\"window.scrollTo({0}, {y})\") #윈도우를 웹브라우저 절대위치 1부터 1000까지 스크롤해라\n",
    "        time.sleep(1) #2초마다 스크롤 아래로\n",
    "        #이제 페이지 넘겨서 copy 하는 코드 필요\n",
    "    page_html = driver.page_source \n",
    "    soup = bs(page_html, 'lxml') #html 페이지 parsing\n",
    "    book_list = soup.select(\".list_book > li\") #정보 추출\n",
    "\n",
    "    result = {}\n",
    "    \n",
    "    for book in book_list:\n",
    "        num +=1\n",
    "        title = book.select_one(\"span.bookListItem_text__SL9m9\").text # 책 제목\n",
    "        #저자\n",
    "        if len(book.select(\"span.bookListItem_define_data__IUMgt\")) == 0:\n",
    "            author = \"None\"   \n",
    "            publisher = \"None\"   \n",
    "        elif len(book.select(\"span.bookListItem_define_data__IUMgt\")) == 1:\n",
    "            if len(book.select(\"span.bookListItem_define_data__IUMgt\")[0]) ==0 :\n",
    "                author = \"None\"  \n",
    "                publisher = book.select(\"span.bookListItem_define_data__IUMgt\")[1].text \n",
    "            else:\n",
    "                author = book.select(\"span.bookListItem_define_data__IUMgt\")[0].text \n",
    "                publisher = \"None\"    \n",
    "        else:\n",
    "            author = book.select(\"span.bookListItem_define_data__IUMgt\")[0].text \n",
    "            publisher = book.select(\"span.bookListItem_define_data__IUMgt\")[1].text\n",
    "        #출간일\n",
    "        if book.select_one(\"div.bookListItem_detail_date__s7KQe\")  != None:\n",
    "            pub_date = book.select_one(\"div.bookListItem_detail_date__s7KQe\").text.strip(\". \").replace(\".\",\"-\") \n",
    "            \n",
    "        else:\n",
    "             pub_date = \"None\"\n",
    "        #가격\n",
    "        if book.select(\"span.bookPrice_price__OagxI\") != None:\n",
    "            # print(\"가격부분:\",len(book.select(\"span.bookPrice_price__OagxI\")))\n",
    "            if len(book.select(\"span.bookPrice_price__OagxI\")) == 2:\n",
    "                price = book.select(\"span.bookPrice_price__OagxI\")[0].text.split(\" \")[1].replace(\",\",\"\").replace(\"원\",\"\") # 종이책 가격\n",
    "                eb_price = book.select(\"span.bookPrice_price__OagxI\")[1].text.split(\" \")[1].replace(\",\",\"\").replace(\"원\",\"\") # e북 가격\n",
    "            # elif book.select_one(\"span.n_npay_info__xZATR\") == \"네이버페이\":\n",
    "            #     pass\n",
    "            elif len(book.select(\"span.bookPrice_price__OagxI\")) == 1:\n",
    "                price = book.select_one(f\"#book_list > ul > li:nth-child({num}) > div > div > div > span > em\").text #셀때마다 num 카운트되어 nthchild로 받음\n",
    "                eb_price = 0\n",
    "        else:\n",
    "            price = 0\n",
    "            eb_price = 0\n",
    "        keys = ( \"title\",\"author\",\"publisher\",\"pub_date\",\"price\",\"eb_price\" )\n",
    "        data = ( title,author,publisher,pub_date,price,eb_price )\n",
    "        for k,i in zip(keys,data):\n",
    "            result.setdefault(k, []).append(data)\n",
    "    result_df = pd.DataFrame(result)        \n",
    "    final_result = pd.concat([final_result, result_df])\n",
    "    next_page_button=  driver.find_element(By.CSS_SELECTOR, \"div.Paginator_list_paging__hUKRc > button.Paginator_btn_next__7NiBL\")\n",
    "    next_page_button.click()"
   ]
  },
  {
   "cell_type": "code",
   "execution_count": 319,
   "id": "b48dec24-e7c3-427d-8931-857fe7f0d0fc",
   "metadata": {},
   "outputs": [
    {
     "data": {
      "text/html": [
       "<div>\n",
       "<style scoped>\n",
       "    .dataframe tbody tr th:only-of-type {\n",
       "        vertical-align: middle;\n",
       "    }\n",
       "\n",
       "    .dataframe tbody tr th {\n",
       "        vertical-align: top;\n",
       "    }\n",
       "\n",
       "    .dataframe thead th {\n",
       "        text-align: right;\n",
       "    }\n",
       "</style>\n",
       "<table border=\"1\" class=\"dataframe\">\n",
       "  <thead>\n",
       "    <tr style=\"text-align: right;\">\n",
       "      <th></th>\n",
       "      <th>title</th>\n",
       "      <th>author</th>\n",
       "      <th>publisher</th>\n",
       "      <th>pub_date</th>\n",
       "      <th>price</th>\n",
       "      <th>eb_price</th>\n",
       "    </tr>\n",
       "  </thead>\n",
       "  <tbody>\n",
       "    <tr>\n",
       "      <th>0</th>\n",
       "      <td>(핀테크, 한석주, 커뮤니케이션북스, 2015-11-01, 11400, 8640)</td>\n",
       "      <td>(핀테크, 한석주, 커뮤니케이션북스, 2015-11-01, 11400, 8640)</td>\n",
       "      <td>(핀테크, 한석주, 커뮤니케이션북스, 2015-11-01, 11400, 8640)</td>\n",
       "      <td>(핀테크, 한석주, 커뮤니케이션북스, 2015-11-01, 11400, 8640)</td>\n",
       "      <td>(핀테크, 한석주, 커뮤니케이션북스, 2015-11-01, 11400, 8640)</td>\n",
       "      <td>(핀테크, 한석주, 커뮤니케이션북스, 2015-11-01, 11400, 8640)</td>\n",
       "    </tr>\n",
       "    <tr>\n",
       "      <th>1</th>\n",
       "      <td>(핀테크 (IT와 금융이 만나는 새로운 세상), 강창호, 한빛미디어, 2015-06...</td>\n",
       "      <td>(핀테크 (IT와 금융이 만나는 새로운 세상), 강창호, 한빛미디어, 2015-06...</td>\n",
       "      <td>(핀테크 (IT와 금융이 만나는 새로운 세상), 강창호, 한빛미디어, 2015-06...</td>\n",
       "      <td>(핀테크 (IT와 금융이 만나는 새로운 세상), 강창호, 한빛미디어, 2015-06...</td>\n",
       "      <td>(핀테크 (IT와 금융이 만나는 새로운 세상), 강창호, 한빛미디어, 2015-06...</td>\n",
       "      <td>(핀테크 (IT와 금융이 만나는 새로운 세상), 강창호, 한빛미디어, 2015-06...</td>\n",
       "    </tr>\n",
       "    <tr>\n",
       "      <th>2</th>\n",
       "      <td>(핀테크 전쟁 (세계 금융 시장의 거대한 트렌드 | 새로운 돈의 시대가 온다), 브...</td>\n",
       "      <td>(핀테크 전쟁 (세계 금융 시장의 거대한 트렌드 | 새로운 돈의 시대가 온다), 브...</td>\n",
       "      <td>(핀테크 전쟁 (세계 금융 시장의 거대한 트렌드 | 새로운 돈의 시대가 온다), 브...</td>\n",
       "      <td>(핀테크 전쟁 (세계 금융 시장의 거대한 트렌드 | 새로운 돈의 시대가 온다), 브...</td>\n",
       "      <td>(핀테크 전쟁 (세계 금융 시장의 거대한 트렌드 | 새로운 돈의 시대가 온다), 브...</td>\n",
       "      <td>(핀테크 전쟁 (세계 금융 시장의 거대한 트렌드 | 새로운 돈의 시대가 온다), 브...</td>\n",
       "    </tr>\n",
       "    <tr>\n",
       "      <th>3</th>\n",
       "      <td>(핀테크 4.0 (핀테크 혁명과 금융의 미래), 김종현, 한국금융연수원, 2022-...</td>\n",
       "      <td>(핀테크 4.0 (핀테크 혁명과 금융의 미래), 김종현, 한국금융연수원, 2022-...</td>\n",
       "      <td>(핀테크 4.0 (핀테크 혁명과 금융의 미래), 김종현, 한국금융연수원, 2022-...</td>\n",
       "      <td>(핀테크 4.0 (핀테크 혁명과 금융의 미래), 김종현, 한국금융연수원, 2022-...</td>\n",
       "      <td>(핀테크 4.0 (핀테크 혁명과 금융의 미래), 김종현, 한국금융연수원, 2022-...</td>\n",
       "      <td>(핀테크 4.0 (핀테크 혁명과 금융의 미래), 김종현, 한국금융연수원, 2022-...</td>\n",
       "    </tr>\n",
       "    <tr>\n",
       "      <th>4</th>\n",
       "      <td>(핀테크 혁명 (모바일 은행 설립자가 알려주는 핀테크 시대의 돈 관리 기술), 앤 ...</td>\n",
       "      <td>(핀테크 혁명 (모바일 은행 설립자가 알려주는 핀테크 시대의 돈 관리 기술), 앤 ...</td>\n",
       "      <td>(핀테크 혁명 (모바일 은행 설립자가 알려주는 핀테크 시대의 돈 관리 기술), 앤 ...</td>\n",
       "      <td>(핀테크 혁명 (모바일 은행 설립자가 알려주는 핀테크 시대의 돈 관리 기술), 앤 ...</td>\n",
       "      <td>(핀테크 혁명 (모바일 은행 설립자가 알려주는 핀테크 시대의 돈 관리 기술), 앤 ...</td>\n",
       "      <td>(핀테크 혁명 (모바일 은행 설립자가 알려주는 핀테크 시대의 돈 관리 기술), 앤 ...</td>\n",
       "    </tr>\n",
       "    <tr>\n",
       "      <th>...</th>\n",
       "      <td>...</td>\n",
       "      <td>...</td>\n",
       "      <td>...</td>\n",
       "      <td>...</td>\n",
       "      <td>...</td>\n",
       "      <td>...</td>\n",
       "    </tr>\n",
       "    <tr>\n",
       "      <th>35</th>\n",
       "      <td>(교보문고 교보문고 미래유망산업분야 기술용어사전 - 인공지능 바이오 핀테크 빅데이터...</td>\n",
       "      <td>(교보문고 교보문고 미래유망산업분야 기술용어사전 - 인공지능 바이오 핀테크 빅데이터...</td>\n",
       "      <td>(교보문고 교보문고 미래유망산업분야 기술용어사전 - 인공지능 바이오 핀테크 빅데이터...</td>\n",
       "      <td>(교보문고 교보문고 미래유망산업분야 기술용어사전 - 인공지능 바이오 핀테크 빅데이터...</td>\n",
       "      <td>(교보문고 교보문고 미래유망산업분야 기술용어사전 - 인공지능 바이오 핀테크 빅데이터...</td>\n",
       "      <td>(교보문고 교보문고 미래유망산업분야 기술용어사전 - 인공지능 바이오 핀테크 빅데이터...</td>\n",
       "    </tr>\n",
       "    <tr>\n",
       "      <th>36</th>\n",
       "      <td>([보리보리/아이와함께]NEW Live 과학 첨단과학 15 - 핀테크와 가상화폐 (...</td>\n",
       "      <td>([보리보리/아이와함께]NEW Live 과학 첨단과학 15 - 핀테크와 가상화폐 (...</td>\n",
       "      <td>([보리보리/아이와함께]NEW Live 과학 첨단과학 15 - 핀테크와 가상화폐 (...</td>\n",
       "      <td>([보리보리/아이와함께]NEW Live 과학 첨단과학 15 - 핀테크와 가상화폐 (...</td>\n",
       "      <td>([보리보리/아이와함께]NEW Live 과학 첨단과학 15 - 핀테크와 가상화폐 (...</td>\n",
       "      <td>([보리보리/아이와함께]NEW Live 과학 첨단과학 15 - 핀테크와 가상화폐 (...</td>\n",
       "    </tr>\n",
       "    <tr>\n",
       "      <th>37</th>\n",
       "      <td>(교보문고 교보문고 핀테크 산업분야 취업가이드 - 네이버 카카오뱅크 카카오페이 KG...</td>\n",
       "      <td>(교보문고 교보문고 핀테크 산업분야 취업가이드 - 네이버 카카오뱅크 카카오페이 KG...</td>\n",
       "      <td>(교보문고 교보문고 핀테크 산업분야 취업가이드 - 네이버 카카오뱅크 카카오페이 KG...</td>\n",
       "      <td>(교보문고 교보문고 핀테크 산업분야 취업가이드 - 네이버 카카오뱅크 카카오페이 KG...</td>\n",
       "      <td>(교보문고 교보문고 핀테크 산업분야 취업가이드 - 네이버 카카오뱅크 카카오페이 KG...</td>\n",
       "      <td>(교보문고 교보문고 핀테크 산업분야 취업가이드 - 네이버 카카오뱅크 카카오페이 KG...</td>\n",
       "    </tr>\n",
       "    <tr>\n",
       "      <th>38</th>\n",
       "      <td>(핀테크에반젤리스트 - 디지털 금융, 핀테크 스타트업, 금융 혁신, 핀테크 생태계,...</td>\n",
       "      <td>(핀테크에반젤리스트 - 디지털 금융, 핀테크 스타트업, 금융 혁신, 핀테크 생태계,...</td>\n",
       "      <td>(핀테크에반젤리스트 - 디지털 금융, 핀테크 스타트업, 금융 혁신, 핀테크 생태계,...</td>\n",
       "      <td>(핀테크에반젤리스트 - 디지털 금융, 핀테크 스타트업, 금융 혁신, 핀테크 생태계,...</td>\n",
       "      <td>(핀테크에반젤리스트 - 디지털 금융, 핀테크 스타트업, 금융 혁신, 핀테크 생태계,...</td>\n",
       "      <td>(핀테크에반젤리스트 - 디지털 금융, 핀테크 스타트업, 금융 혁신, 핀테크 생태계,...</td>\n",
       "    </tr>\n",
       "    <tr>\n",
       "      <th>39</th>\n",
       "      <td>(핀테크산업 육성을 위한 규제 개선방안 연구 : [현안분석 2015-08]  한국법...</td>\n",
       "      <td>(핀테크산업 육성을 위한 규제 개선방안 연구 : [현안분석 2015-08]  한국법...</td>\n",
       "      <td>(핀테크산업 육성을 위한 규제 개선방안 연구 : [현안분석 2015-08]  한국법...</td>\n",
       "      <td>(핀테크산업 육성을 위한 규제 개선방안 연구 : [현안분석 2015-08]  한국법...</td>\n",
       "      <td>(핀테크산업 육성을 위한 규제 개선방안 연구 : [현안분석 2015-08]  한국법...</td>\n",
       "      <td>(핀테크산업 육성을 위한 규제 개선방안 연구 : [현안분석 2015-08]  한국법...</td>\n",
       "    </tr>\n",
       "  </tbody>\n",
       "</table>\n",
       "<p>240 rows × 6 columns</p>\n",
       "</div>"
      ],
      "text/plain": [
       "                                                title  \\\n",
       "0       (핀테크, 한석주, 커뮤니케이션북스, 2015-11-01, 11400, 8640)   \n",
       "1   (핀테크 (IT와 금융이 만나는 새로운 세상), 강창호, 한빛미디어, 2015-06...   \n",
       "2   (핀테크 전쟁 (세계 금융 시장의 거대한 트렌드 | 새로운 돈의 시대가 온다), 브...   \n",
       "3   (핀테크 4.0 (핀테크 혁명과 금융의 미래), 김종현, 한국금융연수원, 2022-...   \n",
       "4   (핀테크 혁명 (모바일 은행 설립자가 알려주는 핀테크 시대의 돈 관리 기술), 앤 ...   \n",
       "..                                                ...   \n",
       "35  (교보문고 교보문고 미래유망산업분야 기술용어사전 - 인공지능 바이오 핀테크 빅데이터...   \n",
       "36  ([보리보리/아이와함께]NEW Live 과학 첨단과학 15 - 핀테크와 가상화폐 (...   \n",
       "37  (교보문고 교보문고 핀테크 산업분야 취업가이드 - 네이버 카카오뱅크 카카오페이 KG...   \n",
       "38  (핀테크에반젤리스트 - 디지털 금융, 핀테크 스타트업, 금융 혁신, 핀테크 생태계,...   \n",
       "39  (핀테크산업 육성을 위한 규제 개선방안 연구 : [현안분석 2015-08]  한국법...   \n",
       "\n",
       "                                               author  \\\n",
       "0       (핀테크, 한석주, 커뮤니케이션북스, 2015-11-01, 11400, 8640)   \n",
       "1   (핀테크 (IT와 금융이 만나는 새로운 세상), 강창호, 한빛미디어, 2015-06...   \n",
       "2   (핀테크 전쟁 (세계 금융 시장의 거대한 트렌드 | 새로운 돈의 시대가 온다), 브...   \n",
       "3   (핀테크 4.0 (핀테크 혁명과 금융의 미래), 김종현, 한국금융연수원, 2022-...   \n",
       "4   (핀테크 혁명 (모바일 은행 설립자가 알려주는 핀테크 시대의 돈 관리 기술), 앤 ...   \n",
       "..                                                ...   \n",
       "35  (교보문고 교보문고 미래유망산업분야 기술용어사전 - 인공지능 바이오 핀테크 빅데이터...   \n",
       "36  ([보리보리/아이와함께]NEW Live 과학 첨단과학 15 - 핀테크와 가상화폐 (...   \n",
       "37  (교보문고 교보문고 핀테크 산업분야 취업가이드 - 네이버 카카오뱅크 카카오페이 KG...   \n",
       "38  (핀테크에반젤리스트 - 디지털 금융, 핀테크 스타트업, 금융 혁신, 핀테크 생태계,...   \n",
       "39  (핀테크산업 육성을 위한 규제 개선방안 연구 : [현안분석 2015-08]  한국법...   \n",
       "\n",
       "                                            publisher  \\\n",
       "0       (핀테크, 한석주, 커뮤니케이션북스, 2015-11-01, 11400, 8640)   \n",
       "1   (핀테크 (IT와 금융이 만나는 새로운 세상), 강창호, 한빛미디어, 2015-06...   \n",
       "2   (핀테크 전쟁 (세계 금융 시장의 거대한 트렌드 | 새로운 돈의 시대가 온다), 브...   \n",
       "3   (핀테크 4.0 (핀테크 혁명과 금융의 미래), 김종현, 한국금융연수원, 2022-...   \n",
       "4   (핀테크 혁명 (모바일 은행 설립자가 알려주는 핀테크 시대의 돈 관리 기술), 앤 ...   \n",
       "..                                                ...   \n",
       "35  (교보문고 교보문고 미래유망산업분야 기술용어사전 - 인공지능 바이오 핀테크 빅데이터...   \n",
       "36  ([보리보리/아이와함께]NEW Live 과학 첨단과학 15 - 핀테크와 가상화폐 (...   \n",
       "37  (교보문고 교보문고 핀테크 산업분야 취업가이드 - 네이버 카카오뱅크 카카오페이 KG...   \n",
       "38  (핀테크에반젤리스트 - 디지털 금융, 핀테크 스타트업, 금융 혁신, 핀테크 생태계,...   \n",
       "39  (핀테크산업 육성을 위한 규제 개선방안 연구 : [현안분석 2015-08]  한국법...   \n",
       "\n",
       "                                             pub_date  \\\n",
       "0       (핀테크, 한석주, 커뮤니케이션북스, 2015-11-01, 11400, 8640)   \n",
       "1   (핀테크 (IT와 금융이 만나는 새로운 세상), 강창호, 한빛미디어, 2015-06...   \n",
       "2   (핀테크 전쟁 (세계 금융 시장의 거대한 트렌드 | 새로운 돈의 시대가 온다), 브...   \n",
       "3   (핀테크 4.0 (핀테크 혁명과 금융의 미래), 김종현, 한국금융연수원, 2022-...   \n",
       "4   (핀테크 혁명 (모바일 은행 설립자가 알려주는 핀테크 시대의 돈 관리 기술), 앤 ...   \n",
       "..                                                ...   \n",
       "35  (교보문고 교보문고 미래유망산업분야 기술용어사전 - 인공지능 바이오 핀테크 빅데이터...   \n",
       "36  ([보리보리/아이와함께]NEW Live 과학 첨단과학 15 - 핀테크와 가상화폐 (...   \n",
       "37  (교보문고 교보문고 핀테크 산업분야 취업가이드 - 네이버 카카오뱅크 카카오페이 KG...   \n",
       "38  (핀테크에반젤리스트 - 디지털 금융, 핀테크 스타트업, 금융 혁신, 핀테크 생태계,...   \n",
       "39  (핀테크산업 육성을 위한 규제 개선방안 연구 : [현안분석 2015-08]  한국법...   \n",
       "\n",
       "                                                price  \\\n",
       "0       (핀테크, 한석주, 커뮤니케이션북스, 2015-11-01, 11400, 8640)   \n",
       "1   (핀테크 (IT와 금융이 만나는 새로운 세상), 강창호, 한빛미디어, 2015-06...   \n",
       "2   (핀테크 전쟁 (세계 금융 시장의 거대한 트렌드 | 새로운 돈의 시대가 온다), 브...   \n",
       "3   (핀테크 4.0 (핀테크 혁명과 금융의 미래), 김종현, 한국금융연수원, 2022-...   \n",
       "4   (핀테크 혁명 (모바일 은행 설립자가 알려주는 핀테크 시대의 돈 관리 기술), 앤 ...   \n",
       "..                                                ...   \n",
       "35  (교보문고 교보문고 미래유망산업분야 기술용어사전 - 인공지능 바이오 핀테크 빅데이터...   \n",
       "36  ([보리보리/아이와함께]NEW Live 과학 첨단과학 15 - 핀테크와 가상화폐 (...   \n",
       "37  (교보문고 교보문고 핀테크 산업분야 취업가이드 - 네이버 카카오뱅크 카카오페이 KG...   \n",
       "38  (핀테크에반젤리스트 - 디지털 금융, 핀테크 스타트업, 금융 혁신, 핀테크 생태계,...   \n",
       "39  (핀테크산업 육성을 위한 규제 개선방안 연구 : [현안분석 2015-08]  한국법...   \n",
       "\n",
       "                                             eb_price  \n",
       "0       (핀테크, 한석주, 커뮤니케이션북스, 2015-11-01, 11400, 8640)  \n",
       "1   (핀테크 (IT와 금융이 만나는 새로운 세상), 강창호, 한빛미디어, 2015-06...  \n",
       "2   (핀테크 전쟁 (세계 금융 시장의 거대한 트렌드 | 새로운 돈의 시대가 온다), 브...  \n",
       "3   (핀테크 4.0 (핀테크 혁명과 금융의 미래), 김종현, 한국금융연수원, 2022-...  \n",
       "4   (핀테크 혁명 (모바일 은행 설립자가 알려주는 핀테크 시대의 돈 관리 기술), 앤 ...  \n",
       "..                                                ...  \n",
       "35  (교보문고 교보문고 미래유망산업분야 기술용어사전 - 인공지능 바이오 핀테크 빅데이터...  \n",
       "36  ([보리보리/아이와함께]NEW Live 과학 첨단과학 15 - 핀테크와 가상화폐 (...  \n",
       "37  (교보문고 교보문고 핀테크 산업분야 취업가이드 - 네이버 카카오뱅크 카카오페이 KG...  \n",
       "38  (핀테크에반젤리스트 - 디지털 금융, 핀테크 스타트업, 금융 혁신, 핀테크 생태계,...  \n",
       "39  (핀테크산업 육성을 위한 규제 개선방안 연구 : [현안분석 2015-08]  한국법...  \n",
       "\n",
       "[240 rows x 6 columns]"
      ]
     },
     "execution_count": 319,
     "metadata": {},
     "output_type": "execute_result"
    }
   ],
   "source": [
    "final_result"
   ]
  },
  {
   "cell_type": "code",
   "execution_count": null,
   "id": "d01d751a",
   "metadata": {},
   "outputs": [],
   "source": [
    "#container > div > div.bookSearch_book_search__Fm5Em > div > div.Paginator_list_paging__hUKRc > button\n",
    "#book_list > ul > li:nth-child(40) > div > div > div > div > span\n",
    "#container > div > div.bookSearch_book_search__Fm5Em > div > div.Paginator_list_paging__hUKRc > button\n",
    "#container > div > div.bookSearch_book_search__Fm5Em > div > div.Paginator_list_paging__hUKRc > button > svg"
   ]
  },
  {
   "cell_type": "code",
   "execution_count": 174,
   "id": "633432c8",
   "metadata": {},
   "outputs": [
    {
     "data": {
      "text/plain": [
       "'네이버페이'"
      ]
     },
     "execution_count": 174,
     "metadata": {},
     "output_type": "execute_result"
    }
   ],
   "source": [
    "npay = soup.select_one(\"#book_list > ul > li:nth-child(40) > div > div > div > div > span > span > span > span\").text\n",
    "npay\n",
    "# if \"네이버페이\" in L:\n",
    "#     print(\"있음\")\n",
    "# else:\n",
    "#     print(\"없음\")"
   ]
  },
  {
   "cell_type": "code",
   "execution_count": 54,
   "id": "6a8263ef",
   "metadata": {},
   "outputs": [],
   "source": [
    "#book_list > ul > li:nth-child(40) > div > div > div > span\n",
    "#book_list > ul > li:nth-child(40) > div > div > div > span > em\n",
    "#book_list > ul > li:nth-child(40) > div > div > div > span > em\n",
    "#book_list > ul > li:nth-child(40) > div > div > div > div > span\n",
    "#book_list > ul > li:nth-child(40) > div > div > div > div > span > span\n",
    "#book_list > ul > li:nth-child(40) > div > div > div > div > span > span > span > span\n",
    "#book_list > ul > li:nth-child(40) > div > div > div > span\n",
    "#book_list > ul > li:nth-child(40) > div > div > div > span > em\n",
    "#book_list > ul > li:nth-child(40) > div > div > div > span > em\n",
    "#book_list > ul > li:nth-child(40) > div > div > div > span > span\n",
    "#book_list > ul > li:nth-child(39) > div > div > div > span > em"
   ]
  },
  {
   "cell_type": "code",
   "execution_count": 158,
   "id": "841d34f5",
   "metadata": {},
   "outputs": [
    {
     "ename": "AttributeError",
     "evalue": "ResultSet object has no attribute 'text'. You're probably treating a list of elements like a single element. Did you call find_all() when you meant to call find()?",
     "output_type": "error",
     "traceback": [
      "\u001b[1;31m---------------------------------------------------------------------------\u001b[0m",
      "\u001b[1;31mAttributeError\u001b[0m                            Traceback (most recent call last)",
      "Cell \u001b[1;32mIn[158], line 1\u001b[0m\n\u001b[1;32m----> 1\u001b[0m price \u001b[38;5;241m=\u001b[39m \u001b[43mbook\u001b[49m\u001b[38;5;241;43m.\u001b[39;49m\u001b[43mselect\u001b[49m\u001b[43m(\u001b[49m\u001b[38;5;124;43m\"\u001b[39;49m\u001b[38;5;124;43mspan.bookPrice_price__OagxI\u001b[39;49m\u001b[38;5;124;43m\"\u001b[39;49m\u001b[43m)\u001b[49m\u001b[38;5;241;43m.\u001b[39;49m\u001b[43mtext\u001b[49m\u001b[38;5;241m.\u001b[39mreplace(\u001b[38;5;124m\"\u001b[39m\u001b[38;5;124m원\u001b[39m\u001b[38;5;124m\"\u001b[39m,\u001b[38;5;124m\"\u001b[39m\u001b[38;5;124m\"\u001b[39m)\n\u001b[0;32m      2\u001b[0m \u001b[38;5;28mprint\u001b[39m(price)\n",
      "File \u001b[1;32m~\\miniforge3\\envs\\fintech\\lib\\site-packages\\bs4\\element.py:2433\u001b[0m, in \u001b[0;36mResultSet.__getattr__\u001b[1;34m(self, key)\u001b[0m\n\u001b[0;32m   2431\u001b[0m \u001b[38;5;28;01mdef\u001b[39;00m \u001b[38;5;21m__getattr__\u001b[39m(\u001b[38;5;28mself\u001b[39m, key):\n\u001b[0;32m   2432\u001b[0m \u001b[38;5;250m    \u001b[39m\u001b[38;5;124;03m\"\"\"Raise a helpful exception to explain a common code fix.\"\"\"\u001b[39;00m\n\u001b[1;32m-> 2433\u001b[0m     \u001b[38;5;28;01mraise\u001b[39;00m \u001b[38;5;167;01mAttributeError\u001b[39;00m(\n\u001b[0;32m   2434\u001b[0m         \u001b[38;5;124m\"\u001b[39m\u001b[38;5;124mResultSet object has no attribute \u001b[39m\u001b[38;5;124m'\u001b[39m\u001b[38;5;132;01m%s\u001b[39;00m\u001b[38;5;124m'\u001b[39m\u001b[38;5;124m. You\u001b[39m\u001b[38;5;124m'\u001b[39m\u001b[38;5;124mre probably treating a list of elements like a single element. Did you call find_all() when you meant to call find()?\u001b[39m\u001b[38;5;124m\"\u001b[39m \u001b[38;5;241m%\u001b[39m key\n\u001b[0;32m   2435\u001b[0m     )\n",
      "\u001b[1;31mAttributeError\u001b[0m: ResultSet object has no attribute 'text'. You're probably treating a list of elements like a single element. Did you call find_all() when you meant to call find()?"
     ]
    }
   ],
   "source": [
    "price = book.select(\"span.bookPrice_price__OagxI\").text.replace(\"원\",\"\")\n",
    "print(price)"
   ]
  },
  {
   "cell_type": "code",
   "execution_count": 212,
   "id": "5336bc13",
   "metadata": {},
   "outputs": [
    {
     "name": "stdout",
     "output_type": "stream",
     "text": [
      "<em>2,790</em>\n"
     ]
    }
   ],
   "source": [
    "price = soup.select_one(\"#book_list > ul > li:nth-child(40) > div > div > div > span > em\")\n",
    "print(price)\n",
    "# print(len(price))"
   ]
  },
  {
   "cell_type": "code",
   "execution_count": 191,
   "id": "b52d77a8",
   "metadata": {},
   "outputs": [
    {
     "name": "stdout",
     "output_type": "stream",
     "text": [
      "3\n"
     ]
    }
   ],
   "source": [
    "np = soup.select(\"span.bookPrice_price__OagxI\")[40]\n",
    "print(len(np)"
   ]
  },
  {
   "cell_type": "code",
   "execution_count": 196,
   "id": "f88c4bb4",
   "metadata": {},
   "outputs": [
    {
     "name": "stdout",
     "output_type": "stream",
     "text": [
      "3\n"
     ]
    }
   ],
   "source": [
    "np2 = soup.select(\"span.bookPrice_price__OagxI\")[1]\n",
    "print(len(np2))"
   ]
  },
  {
   "cell_type": "code",
   "execution_count": 230,
   "id": "f6da615b-80fd-40ca-9d61-ca01d56101ac",
   "metadata": {},
   "outputs": [
    {
     "data": {
      "text/plain": [
       "'씨익북스 편집부'"
      ]
     },
     "execution_count": 230,
     "metadata": {},
     "output_type": "execute_result"
    }
   ],
   "source": [
    "auth = soup.select(\"span.bookListItem_define_data__IUMgt\")[0].text\n",
    "auth"
   ]
  },
  {
   "cell_type": "code",
   "execution_count": null,
   "id": "341cf7d3-eea5-437a-9dfe-29288239fdda",
   "metadata": {},
   "outputs": [],
   "source": []
  }
 ],
 "metadata": {
  "kernelspec": {
   "display_name": "Python 3 (ipykernel)",
   "language": "python",
   "name": "python3"
  },
  "language_info": {
   "codemirror_mode": {
    "name": "ipython",
    "version": 3
   },
   "file_extension": ".py",
   "mimetype": "text/x-python",
   "name": "python",
   "nbconvert_exporter": "python",
   "pygments_lexer": "ipython3",
   "version": "3.10.14"
  }
 },
 "nbformat": 4,
 "nbformat_minor": 5
}
