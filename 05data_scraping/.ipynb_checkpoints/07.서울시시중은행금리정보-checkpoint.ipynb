{
 "cells": [
  {
   "cell_type": "code",
   "execution_count": 1,
   "id": "79458259-b66c-43ee-a8af-bc2fd2d9900c",
   "metadata": {},
   "outputs": [
    {
     "data": {
      "text/plain": [
       "True"
      ]
     },
     "execution_count": 1,
     "metadata": {},
     "output_type": "execute_result"
    }
   ],
   "source": [
    "import requests\n",
    "import os\n",
    "from dotenv import load_dotenv\n",
    "import pandas as pd\n",
    "import time\n",
    "load_dotenv()"
   ]
  },
  {
   "cell_type": "code",
   "execution_count": 13,
   "id": "fb4c041d-c832-4882-ad65-eed01498ce26",
   "metadata": {},
   "outputs": [
    {
     "name": "stdout",
     "output_type": "stream",
     "text": [
      "200\n"
     ]
    },
    {
     "data": {
      "text/plain": [
       "'<RESULT><CODE>ERROR-332</CODE><MESSAGE><![CDATA[요청종료위치 값을 확인하십시오.\\n요청인자 중 END_INDEX를 확인하십시오.]]></MESSAGE></RESULT>'"
      ]
     },
     "execution_count": 13,
     "metadata": {},
     "output_type": "execute_result"
    }
   ],
   "source": [
    "KEY=os.getenv('ServiceKey')\n",
    "url = f\"http://openapi.seoul.go.kr:8088/{KEY}/xml/dreamMoney/1/5/\"\n",
    "r = requests.get(url)\n",
    "print(r.status_code)\n",
    "data = r.text\n",
    "data"
   ]
  },
  {
   "cell_type": "code",
   "execution_count": null,
   "id": "f63ad538-d2ea-424f-8075-b5aca0ca1dfc",
   "metadata": {},
   "outputs": [],
   "source": []
  }
 ],
 "metadata": {
  "kernelspec": {
   "display_name": "Python 3 (ipykernel)",
   "language": "python",
   "name": "python3"
  },
  "language_info": {
   "codemirror_mode": {
    "name": "ipython",
    "version": 3
   },
   "file_extension": ".py",
   "mimetype": "text/x-python",
   "name": "python",
   "nbconvert_exporter": "python",
   "pygments_lexer": "ipython3",
   "version": "3.10.14"
  }
 },
 "nbformat": 4,
 "nbformat_minor": 5
}
