{
 "cells": [
  {
   "cell_type": "markdown",
   "id": "e30f67ae",
   "metadata": {},
   "source": [
    "# 하나은행 환율정보를 수집"
   ]
  },
  {
   "cell_type": "code",
   "execution_count": 1,
   "id": "fe3a76c6",
   "metadata": {},
   "outputs": [],
   "source": [
    "# from selenium import webdriver\n",
    "# from selenium.webdriver.chrome.service import Service as ChromeService\n",
    "# from webdriver_manager.chrome import ChromeDriverManager\n",
    "# from selenium.webdriver.common.keys import Keys\n",
    "# from selenium.webdriver.common.by import By\n",
    "# from selenium.webdriver.support.ui import WebDriverWait\n",
    "# from selenium.webdriver.support import expected_conditions as EC\n",
    "# from bs4 import BeautifulSoup as bs\n",
    "# from datetime import date\n",
    "# import time\n",
    "# import pandas as pd\n",
    "# import dbio\n",
    "# import warnings\n",
    "# warnings.simplefilter(action='ignore', category=FutureWarning)"
   ]
  },
  {
   "cell_type": "code",
   "execution_count": 2,
   "id": "539d0dba",
   "metadata": {},
   "outputs": [],
   "source": [
    "# cols = ('통화', '현찰_살때_환율', '현찰_살때_Spread', '현찰_팔때_환율', '현찰_팔때_Spread', \n",
    "#        '송금_보낼때', '송금_받을때', 'T/C_살때', '외화_수표_팔때', '매매기준율', '환가_료율',\n",
    "#        '미화 환산율', 'date')\n",
    "# sorted_cols = ('date', '통화', '현찰_살때_환율', '현찰_살때_Spread', '현찰_팔때_환율', '현찰_팔때_Spread', \n",
    "#        '송금_보낼때', '송금_받을때', 'T/C_살때', '외화_수표_팔때', '매매기준율', '환가_료율',\n",
    "#        '미화 환산율')"
   ]
  },
  {
   "cell_type": "code",
   "execution_count": 3,
   "id": "708d0aa7",
   "metadata": {},
   "outputs": [],
   "source": [
    "# today = str(date.today())\n",
    "\n",
    "# # 크롬 옵션즈에 정보를 담아 사람인 것 처럼 만들기\n",
    "# options = webdriver.ChromeOptions()\n",
    "# options.add_argument(\"--headless\") # Headless모드\n",
    "# options.add_argument(\"--no-sandbox\")\n",
    "# options.add_argument(\"--disable-dev-shm-usage\")\n",
    "\n",
    "# # 크롬 웹브라우저 드라이버 자동 다운로드\n",
    "# driver = webdriver.Chrome(service=ChromeService(ChromeDriverManager().install()), options=options)\n",
    "# driver.set_window_size(1920, 1080) #웹브라우저 해상도 조절\n",
    "# driver.get(\"https://www.kebhana.com/cms/rate/index.do?contentUrl=/cms/rate/wpfxd651_01i.do#//HanaBank\")\n",
    "\n",
    "# wait = WebDriverWait(driver, 10)  # 웹 요소가 나타날 때까지 최대 10초 기다림.\n",
    "\n",
    "\n",
    "# # 날짜 입력창\n",
    "# serch_box = wait.until(EC.presence_of_element_located((By.CSS_SELECTOR, \"#tmpInqStrDt\")))\n",
    "# serch_box.clear()\n",
    "# serch_box.send_keys(today+Keys.ENTER)\n",
    "\n",
    "# # 조회 버튼\n",
    "# search_button = wait.until(EC.presence_of_element_located((By.CSS_SELECTOR, \"#HANA_CONTENTS_DIV > div.btnBoxCenter > a\")))\n",
    "# search_button.click()\n",
    "\n",
    "# # 환율 정보 테이블이 뜰 때까지 기다림\n",
    "# exchage_rate_table = wait.until(EC.presence_of_element_located((By.CSS_SELECTOR, \"#searchContentDiv > div.printdiv > table\")))\n",
    "\n",
    "# # HTML 소스를 읽어서 데이터프레임으로 만들고 DB저장                                \n",
    "# page_html = driver.page_source\n",
    "# df = pd.read_html(page_html)\n",
    "# df = df[1]\n",
    "# df['date'] = today # 날짜 컬럼 추가\n",
    "# df.columns = cols # cols에 정의한 컬럼명으로 변경하기\n",
    "# df = df[[*sorted_cols]] # date 컬럼을 가장 앞으로 보내기\n",
    "# # DB에 저장\n",
    "# dbio.exi_to_db(\"exchange_rate_test3\", today, df)  "
   ]
  },
  {
   "cell_type": "markdown",
   "id": "55f066a1",
   "metadata": {},
   "source": [
    "# 1995년1월3일부터 2024년7월31일까지 평일 환율 정보 수집"
   ]
  },
  {
   "cell_type": "code",
   "execution_count": 4,
   "id": "d6379149",
   "metadata": {},
   "outputs": [],
   "source": [
    "from selenium import webdriver\n",
    "from selenium.webdriver.chrome.service import Service as ChromeService\n",
    "from webdriver_manager.chrome import ChromeDriverManager\n",
    "from selenium.webdriver.common.keys import Keys\n",
    "from selenium.webdriver.common.by import By\n",
    "from selenium.webdriver.support.ui import WebDriverWait\n",
    "from selenium.webdriver.support import expected_conditions as EC\n",
    "from bs4 import BeautifulSoup as bs\n",
    "from datetime import date\n",
    "import time\n",
    "import pandas as pd\n",
    "import dbio\n",
    "import warnings\n",
    "warnings.simplefilter(action='ignore', category=FutureWarning)"
   ]
  },
  {
   "cell_type": "code",
   "execution_count": 5,
   "id": "e69eb946",
   "metadata": {},
   "outputs": [],
   "source": [
    "cols = ('통화', '현찰_살때_환율', '현찰_살때_Spread', '현찰_팔때_환율', '현찰_팔때_Spread', \n",
    "       '송금_보낼때', '송금_받을때', 'T/C_살때', '외화_수표_팔때', '매매기준율', '환가_료율',\n",
    "       '미화 환산율', 'date')\n",
    "sorted_cols = ('date', '통화', '현찰_살때_환율', '현찰_살때_Spread', '현찰_팔때_환율', '현찰_팔때_Spread', \n",
    "       '송금_보낼때', '송금_받을때', 'T/C_살때', '외화_수표_팔때', '매매기준율', '환가_료율',\n",
    "       '미화 환산율')"
   ]
  },
  {
   "cell_type": "markdown",
   "id": "82493cd8",
   "metadata": {},
   "source": [
    "# 날짜 리스트 생성하기"
   ]
  },
  {
   "cell_type": "code",
   "execution_count": 6,
   "id": "4585840b",
   "metadata": {},
   "outputs": [],
   "source": [
    "import datetime\n",
    "\n",
    "start_date = datetime.date(1995, 1, 3)\n",
    "end_date = datetime.date(2024, 7, 31)\n",
    "\n",
    "# 월-금요일에 해당하는 날짜 리스트 생성\n",
    "weekdays = [0, 1, 2, 3, 4]  # 월요일=0, 화요일=1, ..., 금요일=4\n",
    "date_list = []\n",
    "\n",
    "current_date = start_date\n",
    "while current_date <= end_date:\n",
    "    if current_date.weekday() in weekdays:\n",
    "        date_list.append(current_date)\n",
    "    current_date += datetime.timedelta(days=1)"
   ]
  },
  {
   "cell_type": "code",
   "execution_count": 8,
   "id": "9a7bc3a4",
   "metadata": {},
   "outputs": [
    {
     "name": "stdout",
     "output_type": "stream",
     "text": [
      "exchange_rate_1995-01-20, 저장완료                          \r"
     ]
    },
    {
     "ename": "ElementClickInterceptedException",
     "evalue": "Message: element click intercepted: Element <a href=\"#//HanaBank\" onclick=\"pbk.foreign.rate.pbld.prs.search(document.forms['inqFrm']);\" class=\"btnDefault bg\">...</a> is not clickable at point (951, 284). Other element would receive the click: <div id=\"OPB_loadingLayerID_generatedByJSOPB_modalMaskID_generatedByJS\" style=\"position: absolute; background-color: rgb(0, 0, 0); opacity: 0.2; z-index: 99991; width: 100%; height: 100%; left: 0px; top: 0px;\"></div>\n  (Session info: chrome-headless-shell=127.0.6533.89)\nStacktrace:\n\tGetHandleVerifier [0x00C48923+23283]\n\t(No symbol) [0x00C0E934]\n\t(No symbol) [0x00B40733]\n\t(No symbol) [0x00B891C7]\n\t(No symbol) [0x00B875D9]\n\t(No symbol) [0x00B854CB]\n\t(No symbol) [0x00B84AAF]\n\t(No symbol) [0x00B799EF]\n\t(No symbol) [0x00BA441C]\n\t(No symbol) [0x00B79485]\n\t(No symbol) [0x00BA46B4]\n\t(No symbol) [0x00BBCB8D]\n\t(No symbol) [0x00BA41B6]\n\t(No symbol) [0x00B78017]\n\t(No symbol) [0x00B7890D]\n\tGetHandleVerifier [0x00D3A5F3+1013699]\n\tGetHandleVerifier [0x00D43E4C+1052700]\n\tGetHandleVerifier [0x00D3D4B4+1025668]\n\tGetHandleVerifier [0x00C6EA2B+179195]\n\t(No symbol) [0x00C16833]\n\t(No symbol) [0x00C13198]\n\t(No symbol) [0x00C13337]\n\t(No symbol) [0x00C0B4BE]\n\tBaseThreadInitThunk [0x7588FCC9+25]\n\tRtlGetAppContainerNamedObjectPath [0x774980CE+286]\n\tRtlGetAppContainerNamedObjectPath [0x7749809E+238]\n",
     "output_type": "error",
     "traceback": [
      "\u001b[1;31m---------------------------------------------------------------------------\u001b[0m",
      "\u001b[1;31mElementClickInterceptedException\u001b[0m          Traceback (most recent call last)",
      "Cell \u001b[1;32mIn[8], line 25\u001b[0m\n\u001b[0;32m     23\u001b[0m \u001b[38;5;66;03m# 조회 버튼\u001b[39;00m\n\u001b[0;32m     24\u001b[0m search_button \u001b[38;5;241m=\u001b[39m wait\u001b[38;5;241m.\u001b[39muntil(EC\u001b[38;5;241m.\u001b[39mpresence_of_element_located((By\u001b[38;5;241m.\u001b[39mCSS_SELECTOR, \u001b[38;5;124m\"\u001b[39m\u001b[38;5;124m#HANA_CONTENTS_DIV > div.btnBoxCenter > a\u001b[39m\u001b[38;5;124m\"\u001b[39m)))\n\u001b[1;32m---> 25\u001b[0m \u001b[43msearch_button\u001b[49m\u001b[38;5;241;43m.\u001b[39;49m\u001b[43mclick\u001b[49m\u001b[43m(\u001b[49m\u001b[43m)\u001b[49m\n\u001b[0;32m     27\u001b[0m \u001b[38;5;66;03m# 환율 정보 테이블이 뜰 때까지 기다림\u001b[39;00m\n\u001b[0;32m     28\u001b[0m exchage_rate_table \u001b[38;5;241m=\u001b[39m wait\u001b[38;5;241m.\u001b[39muntil(EC\u001b[38;5;241m.\u001b[39mpresence_of_element_located((By\u001b[38;5;241m.\u001b[39mCSS_SELECTOR, \u001b[38;5;124m\"\u001b[39m\u001b[38;5;124m#searchContentDiv > div.printdiv > table\u001b[39m\u001b[38;5;124m\"\u001b[39m)))\n",
      "File \u001b[1;32m~\\miniforge3\\envs\\fintech\\lib\\site-packages\\selenium\\webdriver\\remote\\webelement.py:94\u001b[0m, in \u001b[0;36mWebElement.click\u001b[1;34m(self)\u001b[0m\n\u001b[0;32m     92\u001b[0m \u001b[38;5;28;01mdef\u001b[39;00m \u001b[38;5;21mclick\u001b[39m(\u001b[38;5;28mself\u001b[39m) \u001b[38;5;241m-\u001b[39m\u001b[38;5;241m>\u001b[39m \u001b[38;5;28;01mNone\u001b[39;00m:\n\u001b[0;32m     93\u001b[0m \u001b[38;5;250m    \u001b[39m\u001b[38;5;124;03m\"\"\"Clicks the element.\"\"\"\u001b[39;00m\n\u001b[1;32m---> 94\u001b[0m     \u001b[38;5;28;43mself\u001b[39;49m\u001b[38;5;241;43m.\u001b[39;49m\u001b[43m_execute\u001b[49m\u001b[43m(\u001b[49m\u001b[43mCommand\u001b[49m\u001b[38;5;241;43m.\u001b[39;49m\u001b[43mCLICK_ELEMENT\u001b[49m\u001b[43m)\u001b[49m\n",
      "File \u001b[1;32m~\\miniforge3\\envs\\fintech\\lib\\site-packages\\selenium\\webdriver\\remote\\webelement.py:395\u001b[0m, in \u001b[0;36mWebElement._execute\u001b[1;34m(self, command, params)\u001b[0m\n\u001b[0;32m    393\u001b[0m     params \u001b[38;5;241m=\u001b[39m {}\n\u001b[0;32m    394\u001b[0m params[\u001b[38;5;124m\"\u001b[39m\u001b[38;5;124mid\u001b[39m\u001b[38;5;124m\"\u001b[39m] \u001b[38;5;241m=\u001b[39m \u001b[38;5;28mself\u001b[39m\u001b[38;5;241m.\u001b[39m_id\n\u001b[1;32m--> 395\u001b[0m \u001b[38;5;28;01mreturn\u001b[39;00m \u001b[38;5;28;43mself\u001b[39;49m\u001b[38;5;241;43m.\u001b[39;49m\u001b[43m_parent\u001b[49m\u001b[38;5;241;43m.\u001b[39;49m\u001b[43mexecute\u001b[49m\u001b[43m(\u001b[49m\u001b[43mcommand\u001b[49m\u001b[43m,\u001b[49m\u001b[43m \u001b[49m\u001b[43mparams\u001b[49m\u001b[43m)\u001b[49m\n",
      "File \u001b[1;32m~\\miniforge3\\envs\\fintech\\lib\\site-packages\\selenium\\webdriver\\remote\\webdriver.py:354\u001b[0m, in \u001b[0;36mWebDriver.execute\u001b[1;34m(self, driver_command, params)\u001b[0m\n\u001b[0;32m    352\u001b[0m response \u001b[38;5;241m=\u001b[39m \u001b[38;5;28mself\u001b[39m\u001b[38;5;241m.\u001b[39mcommand_executor\u001b[38;5;241m.\u001b[39mexecute(driver_command, params)\n\u001b[0;32m    353\u001b[0m \u001b[38;5;28;01mif\u001b[39;00m response:\n\u001b[1;32m--> 354\u001b[0m     \u001b[38;5;28;43mself\u001b[39;49m\u001b[38;5;241;43m.\u001b[39;49m\u001b[43merror_handler\u001b[49m\u001b[38;5;241;43m.\u001b[39;49m\u001b[43mcheck_response\u001b[49m\u001b[43m(\u001b[49m\u001b[43mresponse\u001b[49m\u001b[43m)\u001b[49m\n\u001b[0;32m    355\u001b[0m     response[\u001b[38;5;124m\"\u001b[39m\u001b[38;5;124mvalue\u001b[39m\u001b[38;5;124m\"\u001b[39m] \u001b[38;5;241m=\u001b[39m \u001b[38;5;28mself\u001b[39m\u001b[38;5;241m.\u001b[39m_unwrap_value(response\u001b[38;5;241m.\u001b[39mget(\u001b[38;5;124m\"\u001b[39m\u001b[38;5;124mvalue\u001b[39m\u001b[38;5;124m\"\u001b[39m, \u001b[38;5;28;01mNone\u001b[39;00m))\n\u001b[0;32m    356\u001b[0m     \u001b[38;5;28;01mreturn\u001b[39;00m response\n",
      "File \u001b[1;32m~\\miniforge3\\envs\\fintech\\lib\\site-packages\\selenium\\webdriver\\remote\\errorhandler.py:229\u001b[0m, in \u001b[0;36mErrorHandler.check_response\u001b[1;34m(self, response)\u001b[0m\n\u001b[0;32m    227\u001b[0m         alert_text \u001b[38;5;241m=\u001b[39m value[\u001b[38;5;124m\"\u001b[39m\u001b[38;5;124malert\u001b[39m\u001b[38;5;124m\"\u001b[39m]\u001b[38;5;241m.\u001b[39mget(\u001b[38;5;124m\"\u001b[39m\u001b[38;5;124mtext\u001b[39m\u001b[38;5;124m\"\u001b[39m)\n\u001b[0;32m    228\u001b[0m     \u001b[38;5;28;01mraise\u001b[39;00m exception_class(message, screen, stacktrace, alert_text)  \u001b[38;5;66;03m# type: ignore[call-arg]  # mypy is not smart enough here\u001b[39;00m\n\u001b[1;32m--> 229\u001b[0m \u001b[38;5;28;01mraise\u001b[39;00m exception_class(message, screen, stacktrace)\n",
      "\u001b[1;31mElementClickInterceptedException\u001b[0m: Message: element click intercepted: Element <a href=\"#//HanaBank\" onclick=\"pbk.foreign.rate.pbld.prs.search(document.forms['inqFrm']);\" class=\"btnDefault bg\">...</a> is not clickable at point (951, 284). Other element would receive the click: <div id=\"OPB_loadingLayerID_generatedByJSOPB_modalMaskID_generatedByJS\" style=\"position: absolute; background-color: rgb(0, 0, 0); opacity: 0.2; z-index: 99991; width: 100%; height: 100%; left: 0px; top: 0px;\"></div>\n  (Session info: chrome-headless-shell=127.0.6533.89)\nStacktrace:\n\tGetHandleVerifier [0x00C48923+23283]\n\t(No symbol) [0x00C0E934]\n\t(No symbol) [0x00B40733]\n\t(No symbol) [0x00B891C7]\n\t(No symbol) [0x00B875D9]\n\t(No symbol) [0x00B854CB]\n\t(No symbol) [0x00B84AAF]\n\t(No symbol) [0x00B799EF]\n\t(No symbol) [0x00BA441C]\n\t(No symbol) [0x00B79485]\n\t(No symbol) [0x00BA46B4]\n\t(No symbol) [0x00BBCB8D]\n\t(No symbol) [0x00BA41B6]\n\t(No symbol) [0x00B78017]\n\t(No symbol) [0x00B7890D]\n\tGetHandleVerifier [0x00D3A5F3+1013699]\n\tGetHandleVerifier [0x00D43E4C+1052700]\n\tGetHandleVerifier [0x00D3D4B4+1025668]\n\tGetHandleVerifier [0x00C6EA2B+179195]\n\t(No symbol) [0x00C16833]\n\t(No symbol) [0x00C13198]\n\t(No symbol) [0x00C13337]\n\t(No symbol) [0x00C0B4BE]\n\tBaseThreadInitThunk [0x7588FCC9+25]\n\tRtlGetAppContainerNamedObjectPath [0x774980CE+286]\n\tRtlGetAppContainerNamedObjectPath [0x7749809E+238]\n"
     ]
    }
   ],
   "source": [
    "# 크롬 옵션즈에 정보를 담아 사람인 것 처럼 만들기\n",
    "options = webdriver.ChromeOptions()\n",
    "options.add_argument(\"--headless\") # Headless모드\n",
    "options.add_argument(\"--no-sandbox\")\n",
    "options.add_argument(\"--disable-dev-shm-usage\")\n",
    "\n",
    "for weekday in date_list:\n",
    "    \n",
    "    today = str(weekday)\n",
    "\n",
    "    # 크롬 웹브라우저 드라이버 자동 다운로드\n",
    "    driver = webdriver.Chrome(service=ChromeService(ChromeDriverManager().install()), options=options)\n",
    "    driver.set_window_size(1920, 1080) #웹브라우저 해상도 조절\n",
    "    driver.get(\"https://www.kebhana.com/cms/rate/index.do?contentUrl=/cms/rate/wpfxd651_01i.do#//HanaBank\")\n",
    "    wait = WebDriverWait(driver, 20)  # 웹 요소가 나타날 때까지 최대 10초 기다림.\n",
    "    \n",
    "\n",
    "    # 날짜 입력창\n",
    "    serch_box = wait.until(EC.presence_of_element_located((By.CSS_SELECTOR, \"#tmpInqStrDt\")))\n",
    "    serch_box.clear()\n",
    "    serch_box.send_keys(today+Keys.ENTER)\n",
    "    time.sleep(2)\n",
    "\n",
    "    # 조회 버튼\n",
    "    search_button = wait.until(EC.presence_of_element_located((By.CSS_SELECTOR, \"#HANA_CONTENTS_DIV > div.btnBoxCenter > a\")))\n",
    "    search_button.click()\n",
    "    time.sleep(5)\n",
    "\n",
    "    # 환율 정보 테이블이 뜰 때까지 기다림\n",
    "    exchage_rate_table = wait.until(EC.presence_of_element_located((By.CSS_SELECTOR, \"#searchContentDiv > div.printdiv > table\")))\n",
    "\n",
    "    # HTML 소스를 읽어서 데이터프레임으로 만들고 DB저장                                \n",
    "    page_html = driver.page_source\n",
    "    df = pd.read_html(page_html)\n",
    "    df = df[1]\n",
    "    df['date'] = today # 날짜 컬럼 추가\n",
    "    df.columns = cols # cols에 정의한 컬럼명으로 변경하기\n",
    "    df = df[[*sorted_cols]] # date 컬럼을 가장 앞으로 보내기\n",
    "    # DB에 저장\n",
    "    dbio.exi_to_db(\"exchange_rate\", today, df)  \n",
    "    driver.close()"
   ]
  },
  {
   "cell_type": "code",
   "execution_count": null,
   "id": "2d51d290",
   "metadata": {},
   "outputs": [],
   "source": []
  }
 ],
 "metadata": {
  "kernelspec": {
   "display_name": "Python 3 (ipykernel)",
   "language": "python",
   "name": "python3"
  },
  "language_info": {
   "codemirror_mode": {
    "name": "ipython",
    "version": 3
   },
   "file_extension": ".py",
   "mimetype": "text/x-python",
   "name": "python",
   "nbconvert_exporter": "python",
   "pygments_lexer": "ipython3",
   "version": "3.10.14"
  }
 },
 "nbformat": 4,
 "nbformat_minor": 5
}
