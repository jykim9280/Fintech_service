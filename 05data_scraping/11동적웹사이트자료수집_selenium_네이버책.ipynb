{
 "cells": [
  {
   "cell_type": "markdown",
   "id": "fcf4c7c9",
   "metadata": {},
   "source": [
    "# 1. Selenium이란?\n",
    "* 웹브라우저를 자동으로 제어하는 라이브러리\n",
    "* 원래 다양한 웹브라우저를 자동으로 테스트하는 테스트 도구\n",
    "* 동적 웹사이트에서 정보를 가져오는데 활용"
   ]
  },
  {
   "cell_type": "code",
   "execution_count": null,
   "id": "de81cee4",
   "metadata": {},
   "outputs": [],
   "source": [
    "# !pip install selenium\n",
    "# !pip install webdriver-manager"
   ]
  },
  {
   "cell_type": "code",
   "execution_count": 1,
   "id": "7d0b3fb1",
   "metadata": {},
   "outputs": [
    {
     "name": "stdout",
     "output_type": "stream",
     "text": [
      "4.31.1\n"
     ]
    }
   ],
   "source": [
    "import selenium\n",
    "print(selenium.__version__)"
   ]
  },
  {
   "cell_type": "code",
   "execution_count": 9,
   "id": "e8d94984",
   "metadata": {},
   "outputs": [],
   "source": [
    "from selenium import webdriver\n",
    "from selenium.webdriver.chrome.service import Service as ChromeService\n",
    "from webdriver_manager.chrome import ChromeDriverManager\n",
    "from selenium.webdriver.common.keys import Keys\n",
    "from selenium.webdriver.common.by import By\n",
    "from bs4 import BeautifulSoup as bs\n",
    "import time\n",
    "\n",
    "# 크롬 옵션즈에 정보를 담아 사람인 것 처럼 만들기\n",
    "options = webdriver.ChromeOptions()\n",
    "options.add_experimental_option(\"excludeSwitches\", ['enable-logging'])\n",
    "options.add_argument(\"Mozilla/5.0 (Windows NT 10.0; Win64; x64) AppleWebKit/537.36 (KHTML, like Gecko) Chrome/127.0.0.0 Safari/537.36\")\n",
    "options.add_argument('lang=ko_KR')\n",
    "\n",
    "# 크롬 웹브라우저 드라이버 자동 다운로드\n",
    "driver = webdriver.Chrome(service=ChromeService(ChromeDriverManager().install()))\n",
    "driver.set_window_size(1920, 1080) #웹브라우저 해상도 조절\n",
    "driver.get(\"https://search.shopping.naver.com/book/home\")"
   ]
  },
  {
   "cell_type": "code",
   "execution_count": 13,
   "id": "a49984a9",
   "metadata": {},
   "outputs": [],
   "source": [
    "#lnb > div > div._lnbSearch_lnb_search_10s9T > div > div > form > input\n",
    "# _lnbSearch_search_input_YVyzR N=a:sech.input\n",
    "serch_box = driver.find_element(By.CSS_SELECTOR, \"#lnb > div > div._lnbSearch_lnb_search_10s9T > div > div > form > input\")\n",
    "serch_box.send_keys(\"핀테크\") #+Keys.ENTER)"
   ]
  },
  {
   "cell_type": "code",
   "execution_count": 14,
   "id": "162e182f",
   "metadata": {},
   "outputs": [],
   "source": [
    "#lnb > div > div._lnbSearch_lnb_search_10s9T > div > div > form > button\n",
    "search_button = driver.find_element(By.CSS_SELECTOR, \"#lnb > div > div._lnbSearch_lnb_search_10s9T > div > div > form > button\")\n",
    "search_button.click()"
   ]
  },
  {
   "cell_type": "code",
   "execution_count": 48,
   "id": "aa05cfb8",
   "metadata": {},
   "outputs": [
    {
     "name": "stdout",
     "output_type": "stream",
     "text": [
      "가격부분: 2\n",
      "핀테크 한석주 커뮤니케이션북스 2015-11-01 11400 8640\n",
      "가격부분: 1\n",
      "핀테크 (IT와 금융이 만나는 새로운 세상) 강창호 한빛미디어 2015-06-05 12600 0\n",
      "가격부분: 2\n",
      "핀테크 전쟁 (세계 금융 시장의 거대한 트렌드 | 새로운 돈의 시대가 온다) 브렛 킹 예문 2015-06-12 13500 9450\n",
      "가격부분: 1\n",
      "핀테크 4.0 (핀테크 혁명과 금융의 미래) 김종현 한국금융연수원 2022-05-24 17100 0\n",
      "가격부분: 1\n",
      "핀테크 혁명 (모바일 은행 설립자가 알려주는 핀테크 시대의 돈 관리 기술) 앤 보덴 유엑스리뷰 2020-03-03 20700 0\n",
      "가격부분: 2\n",
      "핀테크와 법 (제3판) 강현구, 유주선 외 1명 씨아이알 2020-11-12 19800 13860\n",
      "가격부분: 1\n",
      "핀테크가 강한 나라 (석학 9인의 금융 플랫폼 미래 통찰) 강형구, 김솔 외 3명 한울아카데미 2024-04-08 35100 0\n",
      "가격부분: 1\n",
      "내일의 핀테크 (금융대혁명의 시대, 어떻게 살아남을 것인가?) 홍장원 매경출판 2016-02-22 11700 0\n",
      "가격부분: 0\n",
      "핀테크 시대 (기술변화와 함께 다가오는 법과 규제 패러다임의 변화) 고학수, 권남훈 외 3명 박영사 2015-12-05 11700 0\n",
      "가격부분: 1\n",
      "차이나 핀테크 (중국에선 현금이 필요없다) 구자근 스리체어스 2018-02-20 10800 0\n",
      "가격부분: 0\n",
      "핀테크 4.0 (핀테크 혁명과 금융의 미래) 김종현 한국금융연수원 2020-08-05 10800 0\n",
      "가격부분: 0\n",
      "핀테크와 법 (제2판) 강현구 씨아이알 2018-06-22 10800 0\n",
      "가격부분: 0\n",
      "핀테크 3.0 (핀테크 혁명과 금융의 미래) 김종현 한국금융연수원 2018-05-08 10800 0\n",
      "가격부분: 0\n",
      "핀테크와 법 강현구 씨아이알 2017-04-20 10800 0\n",
      "가격부분: 1\n",
      "핀테크 보안경영 (보안사령부를 구축하라) 김려성 진한엠앤비 2016-04-20 30600 0\n",
      "가격부분: 1\n",
      "핀테크 인사이트 (돈의 미래를 주도할 핀테크 기술 트렌드와 미래 예측) 메가트렌드 랩 율곡출판사 2018-02-08 15300 0\n",
      "가격부분: 0\n",
      "핀테크 에센셜 이근주 도서출판 블록체인 2020-01-18 15300 0\n",
      "가격부분: 1\n",
      "핀테크 트렌드 2024 (핀테크 현황과 전망 총망라!) 길진세 책세상 2023-12-11 17100 0\n",
      "가격부분: 1\n",
      "핀테크 규제와 실무 (지급결제와 본인인증편) 예자선 삼일인포마인 2021-08-24 31500 0\n",
      "가격부분: 2\n",
      "핀테크 세상을 열다 (30편의 카툰으로 만나는 핀테크 이야기) 김동우, 김진영 한빛미디어 2016-01-05 11520 8100\n"
     ]
    }
   ],
   "source": [
    "page_html = driver.page_source\n",
    "soup = bs(page_html, 'lxml')\n",
    "book_list = soup.select(\".list_book > li\")\n",
    "for book in book_list:\n",
    "    title = book.select_one(\"span.bookListItem_text__SL9m9\").text # 책 제목\n",
    "    author = book.select(\"span.bookListItem_define_data__IUMgt\")[0].text # 저자\n",
    "    publisher = book.select(\"span.bookListItem_define_data__IUMgt\")[1].text # 출판사\n",
    "    pub_date = book.select_one(\"div.bookListItem_detail_date__s7KQe\").text.strip(\". \").replace(\".\",\"-\") # 출간일\n",
    "    if book.select(\"span.bookPrice_price__OagxI\") != None:\n",
    "        print(\"가격부분:\",len(book.select(\"span.bookPrice_price__OagxI\")))\n",
    "        if len(book.select(\"span.bookPrice_price__OagxI\")) == 2:\n",
    "            price = book.select(\"span.bookPrice_price__OagxI\")[0].text.split(\" \")[1].replace(\",\",\"\").replace(\"원\",\"\") # 종이책 가격\n",
    "            eb_price = book.select(\"span.bookPrice_price__OagxI\")[1].text.split(\" \")[1].replace(\",\",\"\").replace(\"원\",\"\") # e북 가격\n",
    "        elif len(book.select(\"span.bookPrice_price__OagxI\")) == 1:\n",
    "            price = book.select(\"span.bookPrice_price__OagxI\")[0].text.split(\" \")[1].replace(\",\",\"\").replace(\"원\",\"\") # 종이책 가격\n",
    "            eb_price = 0\n",
    "    else:\n",
    "        price = 0\n",
    "        eb_price = 0\n",
    "    \n",
    "    print(title, author, publisher, pub_date, price, eb_price)"
   ]
  },
  {
   "cell_type": "code",
   "execution_count": 18,
   "id": "a8239285",
   "metadata": {},
   "outputs": [],
   "source": []
  },
  {
   "cell_type": "code",
   "execution_count": 21,
   "id": "ef699395",
   "metadata": {},
   "outputs": [
    {
     "data": {
      "text/plain": [
       "'핀테크'"
      ]
     },
     "execution_count": 21,
     "metadata": {},
     "output_type": "execute_result"
    }
   ],
   "source": []
  },
  {
   "cell_type": "code",
   "execution_count": 28,
   "id": "d01d751a",
   "metadata": {},
   "outputs": [
    {
     "data": {
      "text/plain": [
       "'한석주'"
      ]
     },
     "execution_count": 28,
     "metadata": {},
     "output_type": "execute_result"
    }
   ],
   "source": []
  },
  {
   "cell_type": "code",
   "execution_count": 29,
   "id": "633432c8",
   "metadata": {},
   "outputs": [
    {
     "data": {
      "text/plain": [
       "'커뮤니케이션북스'"
      ]
     },
     "execution_count": 29,
     "metadata": {},
     "output_type": "execute_result"
    }
   ],
   "source": []
  },
  {
   "cell_type": "code",
   "execution_count": 44,
   "id": "6a8263ef",
   "metadata": {},
   "outputs": [
    {
     "data": {
      "text/plain": [
       "'2015-11-01'"
      ]
     },
     "execution_count": 44,
     "metadata": {},
     "output_type": "execute_result"
    }
   ],
   "source": []
  },
  {
   "cell_type": "code",
   "execution_count": 36,
   "id": "841d34f5",
   "metadata": {},
   "outputs": [
    {
     "data": {
      "text/plain": [
       "'11400'"
      ]
     },
     "execution_count": 36,
     "metadata": {},
     "output_type": "execute_result"
    }
   ],
   "source": []
  },
  {
   "cell_type": "code",
   "execution_count": 37,
   "id": "5336bc13",
   "metadata": {},
   "outputs": [
    {
     "data": {
      "text/plain": [
       "'8640'"
      ]
     },
     "execution_count": 37,
     "metadata": {},
     "output_type": "execute_result"
    }
   ],
   "source": []
  },
  {
   "cell_type": "code",
   "execution_count": null,
   "id": "b52d77a8",
   "metadata": {},
   "outputs": [],
   "source": []
  },
  {
   "cell_type": "code",
   "execution_count": null,
   "id": "f88c4bb4",
   "metadata": {},
   "outputs": [],
   "source": []
  }
 ],
 "metadata": {
  "kernelspec": {
   "display_name": "Python 3 (ipykernel)",
   "language": "python",
   "name": "python3"
  },
  "language_info": {
   "codemirror_mode": {
    "name": "ipython",
    "version": 3
   },
   "file_extension": ".py",
   "mimetype": "text/x-python",
   "name": "python",
   "nbconvert_exporter": "python",
   "pygments_lexer": "ipython3",
   "version": "3.10.14"
  }
 },
 "nbformat": 4,
 "nbformat_minor": 5
}
