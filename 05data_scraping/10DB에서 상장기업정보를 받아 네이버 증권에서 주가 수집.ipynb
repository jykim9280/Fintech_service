{
 "cells": [
  {
   "cell_type": "markdown",
   "id": "c78b4146-ec64-4943-aa23-cc9038beeedf",
   "metadata": {},
   "source": [
    "# DB에서 상장기업정보를 받아 네이버 증권에서 주가 수집"
   ]
  },
  {
   "cell_type": "code",
   "execution_count": 3,
   "id": "da07a64b-3d1b-4f6d-8b23-1b55b2eb686c",
   "metadata": {},
   "outputs": [
    {
     "data": {
      "text/plain": [
       "True"
      ]
     },
     "execution_count": 3,
     "metadata": {},
     "output_type": "execute_result"
    }
   ],
   "source": [
    "import os\n",
    "import pandas as pd\n",
    "from datetime import date\n",
    "import time\n",
    "from sqlalchemy import create_engine, text\n",
    "import pymysql\n",
    "pymysql.install_as_MySQLdb()\n",
    "from dotenv import load_dotenv\n",
    "load_dotenv(dotenv_path=\".env_db\")"
   ]
  },
  {
   "cell_type": "code",
   "execution_count": 8,
   "id": "def37a8f-4243-479c-85a3-8d9f4d010eef",
   "metadata": {},
   "outputs": [],
   "source": [
    "engine = create_engine(f'{os.getenv(\"db\")}+{os.getenv(\"dbtype\")}://{os.getenv(\"id\")}:{os.getenv(\"pw\")}@{os.getenv(\"host\")}/{os.getenv(\"database\")}')\n",
    "conn = engine.connect()\n",
    "data = pd.read_sql(f'2024_07_29stock_company_info2', con=conn)\n",
    "conn.close()"
   ]
  },
  {
   "cell_type": "code",
   "execution_count": 9,
   "id": "04dc3794-fc75-48a1-a5f7-f71773fe5334",
   "metadata": {},
   "outputs": [
    {
     "data": {
      "text/html": [
       "<div>\n",
       "<style scoped>\n",
       "    .dataframe tbody tr th:only-of-type {\n",
       "        vertical-align: middle;\n",
       "    }\n",
       "\n",
       "    .dataframe tbody tr th {\n",
       "        vertical-align: top;\n",
       "    }\n",
       "\n",
       "    .dataframe thead th {\n",
       "        text-align: right;\n",
       "    }\n",
       "</style>\n",
       "<table border=\"1\" class=\"dataframe\">\n",
       "  <thead>\n",
       "    <tr style=\"text-align: right;\">\n",
       "      <th></th>\n",
       "      <th>증권종류</th>\n",
       "      <th>회사명</th>\n",
       "      <th>종목코드</th>\n",
       "      <th>업종</th>\n",
       "      <th>주요제품</th>\n",
       "      <th>상장일</th>\n",
       "      <th>결산월</th>\n",
       "      <th>대표자명</th>\n",
       "      <th>홈페이지</th>\n",
       "      <th>지역</th>\n",
       "    </tr>\n",
       "  </thead>\n",
       "  <tbody>\n",
       "    <tr>\n",
       "      <th>0</th>\n",
       "      <td>유가증권</td>\n",
       "      <td>산일전기</td>\n",
       "      <td>062040</td>\n",
       "      <td>전동기, 발전기 및 전기 변환 · 공급 · 제어 장치 제조업</td>\n",
       "      <td>유입, 몰드, 주상, 건식 변압기 등</td>\n",
       "      <td>2024-07-29</td>\n",
       "      <td>12월</td>\n",
       "      <td>박동석</td>\n",
       "      <td>http://www.sanil.co.kr</td>\n",
       "      <td>경기도</td>\n",
       "    </tr>\n",
       "    <tr>\n",
       "      <th>1</th>\n",
       "      <td>유가증권</td>\n",
       "      <td>에이치에스효성</td>\n",
       "      <td>487570</td>\n",
       "      <td>기타 금융업</td>\n",
       "      <td>지주사업</td>\n",
       "      <td>2024-07-29</td>\n",
       "      <td>12월</td>\n",
       "      <td>조현상..</td>\n",
       "      <td>http://www.hshyosung.com</td>\n",
       "      <td>서울특별시</td>\n",
       "    </tr>\n",
       "    <tr>\n",
       "      <th>2</th>\n",
       "      <td>코스닥, 투자주의종목</td>\n",
       "      <td>엔에이치스팩31호</td>\n",
       "      <td>481890</td>\n",
       "      <td>금융 지원 서비스업</td>\n",
       "      <td>금융지원서비스업</td>\n",
       "      <td>2024-07-26</td>\n",
       "      <td>12월</td>\n",
       "      <td>이시형</td>\n",
       "      <td></td>\n",
       "      <td>서울특별시</td>\n",
       "    </tr>\n",
       "    <tr>\n",
       "      <th>3</th>\n",
       "      <td>코스닥</td>\n",
       "      <td>SK증권제13호스팩</td>\n",
       "      <td>473950</td>\n",
       "      <td>금융 지원 서비스업</td>\n",
       "      <td>기업인수목적 주식회사</td>\n",
       "      <td>2024-07-25</td>\n",
       "      <td>12월</td>\n",
       "      <td>임율표</td>\n",
       "      <td></td>\n",
       "      <td>서울특별시</td>\n",
       "    </tr>\n",
       "    <tr>\n",
       "      <th>4</th>\n",
       "      <td>코스닥</td>\n",
       "      <td>엑셀세라퓨틱스</td>\n",
       "      <td>373110</td>\n",
       "      <td>기초 의약물질 제조업</td>\n",
       "      <td>CellCor SFD/CD(세포배양배지)</td>\n",
       "      <td>2024-07-15</td>\n",
       "      <td>12월</td>\n",
       "      <td>이의일</td>\n",
       "      <td></td>\n",
       "      <td>서울특별시</td>\n",
       "    </tr>\n",
       "    <tr>\n",
       "      <th>...</th>\n",
       "      <td>...</td>\n",
       "      <td>...</td>\n",
       "      <td>...</td>\n",
       "      <td>...</td>\n",
       "      <td>...</td>\n",
       "      <td>...</td>\n",
       "      <td>...</td>\n",
       "      <td>...</td>\n",
       "      <td>...</td>\n",
       "      <td>...</td>\n",
       "    </tr>\n",
       "    <tr>\n",
       "      <th>415</th>\n",
       "      <td>코스닥</td>\n",
       "      <td>에이치브이엠</td>\n",
       "      <td>295310</td>\n",
       "      <td>1차 비철금속 제조업</td>\n",
       "      <td>Ni계 합금, Fe계 합금, 스퍼터링타겟, Cu계 합금 등</td>\n",
       "      <td>2024-06-28</td>\n",
       "      <td>12월</td>\n",
       "      <td>문승호</td>\n",
       "      <td>http://hvm.co.kr/</td>\n",
       "      <td>경기도</td>\n",
       "    </tr>\n",
       "    <tr>\n",
       "      <th>416</th>\n",
       "      <td>코넥스</td>\n",
       "      <td>팡스카이</td>\n",
       "      <td>266350</td>\n",
       "      <td>소프트웨어 개발 및 공급업</td>\n",
       "      <td>게임 개발 및 리퍼블리싱</td>\n",
       "      <td>2024-06-28</td>\n",
       "      <td>12월</td>\n",
       "      <td>조호현..</td>\n",
       "      <td>http://www.panggame.com/</td>\n",
       "      <td>서울특별시</td>\n",
       "    </tr>\n",
       "    <tr>\n",
       "      <th>417</th>\n",
       "      <td>코스닥</td>\n",
       "      <td>하이젠알앤엠</td>\n",
       "      <td>160190</td>\n",
       "      <td>전동기, 발전기 및 전기 변환 · 공급 · 제어 장치 제조업</td>\n",
       "      <td>전동기 및 발전기 (범용모터, 서보모터)</td>\n",
       "      <td>2024-06-27</td>\n",
       "      <td>12월</td>\n",
       "      <td>김재학</td>\n",
       "      <td>http://higenrnm.com</td>\n",
       "      <td>경상남도</td>\n",
       "    </tr>\n",
       "    <tr>\n",
       "      <th>418</th>\n",
       "      <td>코스닥</td>\n",
       "      <td>한국제15호스팩</td>\n",
       "      <td>479880</td>\n",
       "      <td>금융 지원 서비스업</td>\n",
       "      <td>기업인수합병</td>\n",
       "      <td>2024-06-26</td>\n",
       "      <td>12월</td>\n",
       "      <td>유한</td>\n",
       "      <td></td>\n",
       "      <td>서울특별시</td>\n",
       "    </tr>\n",
       "    <tr>\n",
       "      <th>419</th>\n",
       "      <td>코스닥</td>\n",
       "      <td>에스오에스랩</td>\n",
       "      <td>464080</td>\n",
       "      <td>측정, 시험, 항해, 제어 및 기타 정밀기기 제조업; 광학기기 제외</td>\n",
       "      <td>산업용 및 차량용 라이다(LiDAR)</td>\n",
       "      <td>2024-06-25</td>\n",
       "      <td>12월</td>\n",
       "      <td>정지성</td>\n",
       "      <td>http://soslab.co</td>\n",
       "      <td>광주광역시</td>\n",
       "    </tr>\n",
       "  </tbody>\n",
       "</table>\n",
       "<p>420 rows × 10 columns</p>\n",
       "</div>"
      ],
      "text/plain": [
       "            증권종류            회사명    종목코드  \\\n",
       "0           유가증권          산일전기   062040   \n",
       "1           유가증권       에이치에스효성   487570   \n",
       "2    코스닥, 투자주의종목    엔에이치스팩31호    481890   \n",
       "3            코스닥    SK증권제13호스팩   473950   \n",
       "4            코스닥       엑셀세라퓨틱스   373110   \n",
       "..           ...            ...     ...   \n",
       "415          코스닥        에이치브이엠   295310   \n",
       "416          코넥스          팡스카이   266350   \n",
       "417          코스닥        하이젠알앤엠   160190   \n",
       "418          코스닥      한국제15호스팩   479880   \n",
       "419          코스닥        에스오에스랩   464080   \n",
       "\n",
       "                                        업종                              주요제품  \\\n",
       "0        전동기, 발전기 및 전기 변환 · 공급 · 제어 장치 제조업              유입, 몰드, 주상, 건식 변압기 등   \n",
       "1                                   기타 금융업                              지주사업   \n",
       "2                               금융 지원 서비스업                          금융지원서비스업   \n",
       "3                               금융 지원 서비스업                       기업인수목적 주식회사   \n",
       "4                              기초 의약물질 제조업            CellCor SFD/CD(세포배양배지)   \n",
       "..                                     ...                               ...   \n",
       "415                            1차 비철금속 제조업  Ni계 합금, Fe계 합금, 스퍼터링타겟, Cu계 합금 등   \n",
       "416                         소프트웨어 개발 및 공급업                     게임 개발 및 리퍼블리싱   \n",
       "417      전동기, 발전기 및 전기 변환 · 공급 · 제어 장치 제조업            전동기 및 발전기 (범용모터, 서보모터)   \n",
       "418                             금융 지원 서비스업                            기업인수합병   \n",
       "419  측정, 시험, 항해, 제어 및 기타 정밀기기 제조업; 광학기기 제외              산업용 및 차량용 라이다(LiDAR)   \n",
       "\n",
       "            상장일  결산월   대표자명                      홈페이지     지역  \n",
       "0    2024-07-29  12월    박동석    http://www.sanil.co.kr    경기도  \n",
       "1    2024-07-29  12월  조현상..  http://www.hshyosung.com  서울특별시  \n",
       "2    2024-07-26  12월    이시형                            서울특별시  \n",
       "3    2024-07-25  12월    임율표                            서울특별시  \n",
       "4    2024-07-15  12월    이의일                            서울특별시  \n",
       "..          ...  ...    ...                       ...    ...  \n",
       "415  2024-06-28  12월    문승호         http://hvm.co.kr/    경기도  \n",
       "416  2024-06-28  12월  조호현..  http://www.panggame.com/  서울특별시  \n",
       "417  2024-06-27  12월    김재학       http://higenrnm.com   경상남도  \n",
       "418  2024-06-26  12월     유한                            서울특별시  \n",
       "419  2024-06-25  12월    정지성          http://soslab.co  광주광역시  \n",
       "\n",
       "[420 rows x 10 columns]"
      ]
     },
     "execution_count": 9,
     "metadata": {},
     "output_type": "execute_result"
    }
   ],
   "source": [
    "data"
   ]
  },
  {
   "cell_type": "code",
   "execution_count": 15,
   "id": "5ec0981b-4455-405a-bd06-e1395f0b473a",
   "metadata": {},
   "outputs": [],
   "source": [
    "from bs4 import BeautifulSoup as bs\n",
    "import requests"
   ]
  },
  {
   "cell_type": "code",
   "execution_count": 174,
   "id": "151cfa2c-f10d-419a-93ce-0bb8987361db",
   "metadata": {
    "jupyter": {
     "source_hidden": true
    },
    "scrolled": true
   },
   "outputs": [
    {
     "name": "stdout",
     "output_type": "stream",
     "text": [
      "산일전기\n",
      "현재가 : 49250\n",
      "전일대비 : 15200\n",
      "상한가: None\n"
     ]
    }
   ],
   "source": [
    "# for code in data['종목코드'][:1]:\n",
    "#     url = f'https://finance.naver.com/item/main.naver?code={code}'\n",
    "#     r = requests.get(url)\n",
    "#     soup = bs(r.text,'lxml')\n",
    "#     name = str(soup.select_one(\"div.wrap_company > h2 > a\").text)\n",
    "#     now_info = soup.select_one(\"p.no_today\").text.split('\\n')[2].replace(',', '') #현재가\n",
    "#     today_info = soup.select_one(\"p.no_exday\").text.split('\\n')[4].replace(',', '') #전일대비\n",
    "    \n",
    "#     high_info = str(soup.select_one(\"span.sptxt sp_txt2\")) #상한가\n",
    "#     print(name)\n",
    "#     print(\"현재가 : \" + rate_info)\n",
    "#     print(\"전일대비 : \" + today_info)\n",
    "#     print(\"상한가: \" + high_info)"
   ]
  },
  {
   "cell_type": "code",
   "execution_count": 176,
   "id": "43731e77-31e0-4104-af9a-5ce4870c57ec",
   "metadata": {},
   "outputs": [
    {
     "name": "stdout",
     "output_type": "stream",
     "text": [
      "[]\n"
     ]
    }
   ],
   "source": [
    "for code in data['종목코드'][:1]:\n",
    "    url = f'https://finance.naver.com/item/main.naver?code={code}'\n",
    "    r = requests.get(url)\n",
    "    soup = bs(r.text,'lxml')"
   ]
  },
  {
   "cell_type": "code",
   "execution_count": 201,
   "id": "4f92c718-a686-49e4-b154-58d4822a93b6",
   "metadata": {},
   "outputs": [
    {
     "ename": "SyntaxError",
     "evalue": "unexpected character after line continuation character (436738178.py, line 1)",
     "output_type": "error",
     "traceback": [
      "\u001b[1;36m  Cell \u001b[1;32mIn[201], line 1\u001b[1;36m\u001b[0m\n\u001b[1;33m    price = int((soup.select_one(\".today\").text).strip(\\).split(\\)[1].replace(\",\",\"\"))\u001b[0m\n\u001b[1;37m                                                        ^\u001b[0m\n\u001b[1;31mSyntaxError\u001b[0m\u001b[1;31m:\u001b[0m unexpected character after line continuation character\n"
     ]
    }
   ],
   "source": [
    "price = int((soup.select_one(\".today\").text).strip(\\).split(\\)[1].replace(\",\",\"\"))\n",
    "price"
   ]
  },
  {
   "cell_type": "code",
   "execution_count": 210,
   "id": "bf849112-9628-4a8f-ba43-329c6b9426a8",
   "metadata": {},
   "outputs": [
    {
     "name": "stdout",
     "output_type": "stream",
     "text": [
      "\n",
      "전일\n",
      "\n",
      "35,000\n",
      "35,000\n",
      "\n",
      "\n",
      "\n",
      "고가\n",
      "\n",
      "50,20050,200\n",
      "\n",
      "(상한가\n",
      "\n",
      "140,000140,000\n",
      "\n",
      ")\n",
      "\n",
      "\n",
      "거래량\n",
      "\n",
      "17,066,335\n",
      "17,066,336\n",
      "\n",
      "\n",
      "\n",
      "시가\n",
      "\n",
      "44,90044,900\n",
      "\n",
      "\n",
      "\n",
      "저가\n",
      "\n",
      "40,20040,200\n",
      "\n",
      "(하한가\n",
      "\n",
      "21,000\n",
      "\n",
      ")\n",
      "\n",
      "\n",
      "거래대금\n",
      "\n",
      "761,358\n",
      "761,358\n",
      "\n",
      "백만\n",
      "\n"
     ]
    }
   ],
   "source": [
    "table = soup.select_one(\".no_info\")\n",
    "table\n",
    "for tr in table.select(\"tr\"):\n",
    "    for td in tr.select(\"td\"):\n",
    "        print(td.text)"
   ]
  },
  {
   "cell_type": "code",
   "execution_count": null,
   "id": "59edc011-0021-44f0-86af-5491cbf4f20c",
   "metadata": {},
   "outputs": [],
   "source": []
  },
  {
   "cell_type": "code",
   "execution_count": null,
   "id": "ca5cb6f3-29bf-4bf8-a1db-590fed8372c8",
   "metadata": {},
   "outputs": [],
   "source": []
  },
  {
   "cell_type": "code",
   "execution_count": null,
   "id": "192244d4-612a-4780-893a-da74b1add676",
   "metadata": {},
   "outputs": [],
   "source": [
    "#middle > dl > dt"
   ]
  },
  {
   "cell_type": "code",
   "execution_count": null,
   "id": "d12c94d4-1669-48f6-a1cb-e57cb024a21b",
   "metadata": {},
   "outputs": [],
   "source": [
    "#chart_area > div.rate_info > div > p.no_today > em"
   ]
  },
  {
   "cell_type": "code",
   "execution_count": null,
   "id": "a44f3cf5-cd4b-448c-bedf-dea9fe443b3f",
   "metadata": {},
   "outputs": [],
   "source": [
    "#middle > dl > dt"
   ]
  }
 ],
 "metadata": {
  "kernelspec": {
   "display_name": "Python 3 (ipykernel)",
   "language": "python",
   "name": "python3"
  },
  "language_info": {
   "codemirror_mode": {
    "name": "ipython",
    "version": 3
   },
   "file_extension": ".py",
   "mimetype": "text/x-python",
   "name": "python",
   "nbconvert_exporter": "python",
   "pygments_lexer": "ipython3",
   "version": "3.10.14"
  }
 },
 "nbformat": 4,
 "nbformat_minor": 5
}
