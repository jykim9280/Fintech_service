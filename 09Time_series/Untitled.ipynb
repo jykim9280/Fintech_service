{
 "cells": [
  {
   "cell_type": "markdown",
   "id": "e90f8abc-d5ba-4111-b3bb-b3525c90020d",
   "metadata": {},
   "source": [
    "시계열 데이터의 속성\n",
    "- 총단면 시계열 데이터 - 시간의 흐름에 따라 한 변수에 대한 자료를 수집\n",
    "- 횡단면 시계열 데이터 - 한 시점에 여러 변수에 대한 자료 수집"
   ]
  },
  {
   "cell_type": "markdown",
   "id": "f3edecae-cfa7-4a72-ae13-5951fd89fdce",
   "metadata": {},
   "source": [
    "# 시계열 데이터의 특징\n",
    "* 계절성\n",
    "* 추세성\n",
    "* 반복성\n",
    "* 순환성\n",
    "\n",
    "# 시계열 데이터의 특징을 없애고 정상성 시계열로 만드는 방법\n",
    "* decompose : 가법모형, 승법모형\n",
    "* 정상성(stationarity) 테스트\n",
    "    * KPSS 검정 : (HO) 정상성이 존재한다. P-value가 0.05 이상인 경우 정상 시계열\n",
    "    * APF 검정 : 정상성이 존재하지 않는다. P-value가 0.05 이하인 경우 정상 시계열"
   ]
  },
  {
   "cell_type": "markdown",
   "id": "6d093893-1a72-44cc-b9d6-fc1a98965ba4",
   "metadata": {},
   "source": [
    "# 데이터 가정에 따른 시계열 모형\n",
    "* 시계열 자료는 추세변동, 계절변동 등 다양한 변동 요인이 다중적으로 중첩되어 있음.\n",
    "  * 내포된 요인이 고정적 패턴을 보이는 경우(진폭 없음) : 요소분해법\n",
    "  * 다양한 변동용인이 고정적 퓨ㅐ턴을 보이지 않는 경우 : (지수) 평활법"
   ]
  },
  {
   "cell_type": "markdown",
   "id": "f7f42f4c-6ab5-44bd-b5f1-93ba4adff7b7",
   "metadata": {},
   "source": [
    "# 시계열 데이터 분석시 사용하는 확률모형(Stochastic Model) 분석 4단계\n",
    "* 모형설정: ACF, PACF 같은 지표와 Aoto,arima 같은 프로그램을 이용해서 시계열 자료에 적합한 모형 선택\n",
    "* 모수추정: 설정한 모형에 따라 모수를 추정하고 적합성 검토\n",
    "* 분석결과 검정: 모형적합도에 따른 잔차의 정상성 및 분석결과 검정 수행\n",
    "* 예측(forecasting): 시계열 자료와 분석모형을 토대로 미래 값을 예측"
   ]
  },
  {
   "cell_type": "markdown",
   "id": "584bc80b-e31c-4d20-b2b7-6eaadf8c93fd",
   "metadata": {},
   "source": [
    "# 시계열 종류에 따른 분석 모형\n",
    "## 안정적 시계열 or 정상 시계열 (staionary)\n",
    "* 자기회귀 모형(Autoregressive, AR)\n",
    "* 이동 평균 모형(Moving Average, MA)\n",
    "* 자기회귀 이동평균 모형(Autoregressive Moving Average, ARMA)\n",
    "## 불안정 시계열 or 비정상 시계열\n",
    "* 자기회귀 누적이동평균 모형(Autoregressive Integated Moving Averate, ARIMA)"
   ]
  },
  {
   "cell_type": "code",
   "execution_count": null,
   "id": "33e1abb2-17b5-4f93-9c85-02a3a506a780",
   "metadata": {},
   "outputs": [],
   "source": [
    "# 자기 상관 함수(Auto Correlation Function, ACF)\n",
    "* 동일한 변수를 시점을 달리해서 관측했을 때 시점에 따라 다른 값 사이의 상호 연관관계를 나타내는 척도\n",
    "# 부분 자기 상관 함수(Partial ACF, PACF)\n",
    "* 산정하고자 하는 연속적인 2개의 시계열 자료에서 상관계수 구함.\n",
    "* 산정하고자 하는 두 변수를 제외한 모든 변수의 영향을 제거한 상태에서 두 변수간에 존재하는 순수한 상관계수를 산정해서 정상성 검정"
   ]
  }
 ],
 "metadata": {
  "kernelspec": {
   "display_name": "Python 3 (ipykernel)",
   "language": "python",
   "name": "python3"
  },
  "language_info": {
   "codemirror_mode": {
    "name": "ipython",
    "version": 3
   },
   "file_extension": ".py",
   "mimetype": "text/x-python",
   "name": "python",
   "nbconvert_exporter": "python",
   "pygments_lexer": "ipython3",
   "version": "3.10.14"
  }
 },
 "nbformat": 4,
 "nbformat_minor": 5
}
