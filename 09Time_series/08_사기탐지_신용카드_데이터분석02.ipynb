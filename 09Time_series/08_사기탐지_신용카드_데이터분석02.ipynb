{
 "cells": [
  {
   "cell_type": "markdown",
   "id": "2bed7a41",
   "metadata": {},
   "source": [
    "# 사기탐지 신용카드 데이터분석"
   ]
  },
  {
   "cell_type": "markdown",
   "id": "41e52998",
   "metadata": {},
   "source": [
    "- 신원 도용, 계정 인수, 거래 사기를 포함하되 이에 국한되지 않는 다양한 유형의 사기에 대한 데이터를 수집하는 것이 포함됨"
   ]
  },
  {
   "cell_type": "code",
   "execution_count": 70,
   "id": "e3bdc11d",
   "metadata": {},
   "outputs": [],
   "source": [
    "import warnings\n",
    "warnings.filterwarnings(action='ignore')\n",
    "\n",
    "# 밑에 실행하면서 뜨는 빨간 경고 팝업 뜨지 않게 하기 "
   ]
  },
  {
   "cell_type": "code",
   "execution_count": 2,
   "id": "d9fcc327-89e1-42e7-b093-b62a1c088b4d",
   "metadata": {},
   "outputs": [],
   "source": [
    "# !pip install koreanize-matplotlib chart-studio pmdarima"
   ]
  },
  {
   "cell_type": "code",
   "execution_count": 3,
   "id": "2b8f4af0",
   "metadata": {},
   "outputs": [
    {
     "data": {
      "text/html": [
       "        <script type=\"text/javascript\">\n",
       "        window.PlotlyConfig = {MathJaxConfig: 'local'};\n",
       "        if (window.MathJax && window.MathJax.Hub && window.MathJax.Hub.Config) {window.MathJax.Hub.Config({SVG: {font: \"STIX-Web\"}});}\n",
       "        if (typeof require !== 'undefined') {\n",
       "        require.undef(\"plotly\");\n",
       "        requirejs.config({\n",
       "            paths: {\n",
       "                'plotly': ['https://cdn.plot.ly/plotly-2.35.2.min']\n",
       "            }\n",
       "        });\n",
       "        require(['plotly'], function(Plotly) {\n",
       "            window._Plotly = Plotly;\n",
       "        });\n",
       "        }\n",
       "        </script>\n",
       "        "
      ]
     },
     "metadata": {},
     "output_type": "display_data"
    }
   ],
   "source": [
    "import pandas as pd\n",
    "import numpy as np\n",
    "import matplotlib.pyplot as plt\n",
    "import seaborn as sns\n",
    "import koreanize_matplotlib   # 한국어 출력되게 \n",
    "import os\n",
    "import chart_studio.plotly as py\n",
    "from plotly.offline import init_notebook_mode, iplot\n",
    "init_notebook_mode(connected = True)\n",
    "import plotly.graph_objs as go\n",
    "import pmdarima as pm\n",
    "from pmdarima.arima import ndiffs"
   ]
  },
  {
   "cell_type": "markdown",
   "id": "ef259a91",
   "metadata": {},
   "source": [
    "### 칼럼 설명\n",
    "\n",
    "- trans_date_trans_time (object): 거래가 발생한 날짜 및 시간\n",
    "- cc_num (int64): 사용된 신용카드 번호를 나타내는 숫자\n",
    "- merchant (object): 상점명 또는 거래가 발생한 가맹점의 이름\n",
    "- category (object): 거래가 발생한 상품 또는 서비스의 범주\n",
    "- amt (float64): 해당 거래의 거래 금액\n",
    "- first (object): 카드 소유자의 이름\n",
    "- last (object): 카드 소유자의 성\n",
    "- gender (object): 카드 소유자의 성별\n",
    "- street (object): 카드 소유자의 거주지 주소의 거리\n",
    "- city (object): 카드 소유자의 거주지 도시\n",
    "- state (object): 카드 소유자의 거주지 주(State)\n",
    "- zip (int64): 카드 소유자의 거주지 우편번호\n",
    "- lat (float64): 카드 소유자의 거주지 위도(latitude)\n",
    "- long (float64): 카드 소유자의 거주지 경도(longitude)\n",
    "- city_pop (int64): 카드 소유자가 거주하는 도시의 인구 수\n",
    "- job (object): 카드 소유자의 직업\n",
    "- dob (object): 카드 소유자의 출생일(Date of Birth)\n",
    "- trans_num (object): 각 거래에 할당된 고유 거래 번호\n",
    "- unix_time (int64): 거래가 발생한 시간을 유닉스 타임스탬프 형식으로 나타낸 값\n",
    "- merch_lat (float64): 가맹점의 위도(latitude) 거래가 발생한 상점의 위치 정보\n",
    "- merch_long (float64): 가맹점의 경도(longitude)\n",
    "- is_fraud (int64): 거래가 사기(fraud)여부를 나타내는 열입니다. 1은 사기, 0은 정상 거래\n"
   ]
  },
  {
   "cell_type": "code",
   "execution_count": 73,
   "id": "85df3b70",
   "metadata": {},
   "outputs": [
    {
     "data": {
      "text/html": [
       "<div>\n",
       "<style scoped>\n",
       "    .dataframe tbody tr th:only-of-type {\n",
       "        vertical-align: middle;\n",
       "    }\n",
       "\n",
       "    .dataframe tbody tr th {\n",
       "        vertical-align: top;\n",
       "    }\n",
       "\n",
       "    .dataframe thead th {\n",
       "        text-align: right;\n",
       "    }\n",
       "</style>\n",
       "<table border=\"1\" class=\"dataframe\">\n",
       "  <thead>\n",
       "    <tr style=\"text-align: right;\">\n",
       "      <th></th>\n",
       "      <th>trans_date_trans_time</th>\n",
       "      <th>cc_num</th>\n",
       "      <th>merchant</th>\n",
       "      <th>category</th>\n",
       "      <th>amt</th>\n",
       "      <th>first</th>\n",
       "      <th>last</th>\n",
       "      <th>gender</th>\n",
       "      <th>street</th>\n",
       "      <th>city</th>\n",
       "      <th>...</th>\n",
       "      <th>lat</th>\n",
       "      <th>long</th>\n",
       "      <th>city_pop</th>\n",
       "      <th>job</th>\n",
       "      <th>dob</th>\n",
       "      <th>trans_num</th>\n",
       "      <th>unix_time</th>\n",
       "      <th>merch_lat</th>\n",
       "      <th>merch_long</th>\n",
       "      <th>is_fraud</th>\n",
       "    </tr>\n",
       "  </thead>\n",
       "  <tbody>\n",
       "    <tr>\n",
       "      <th>0</th>\n",
       "      <td>2019-01-01 00:00:18</td>\n",
       "      <td>2703186189652095</td>\n",
       "      <td>fraud_Rippin, Kub and Mann</td>\n",
       "      <td>misc_net</td>\n",
       "      <td>4.970000</td>\n",
       "      <td>Jennifer</td>\n",
       "      <td>Banks</td>\n",
       "      <td>F</td>\n",
       "      <td>561 Perry Cove</td>\n",
       "      <td>Moravian Falls</td>\n",
       "      <td>...</td>\n",
       "      <td>36.078800</td>\n",
       "      <td>-81.178100</td>\n",
       "      <td>3495</td>\n",
       "      <td>Psychologist, counselling</td>\n",
       "      <td>1988-03-09</td>\n",
       "      <td>0b242abb623afc578575680df30655b9</td>\n",
       "      <td>1325376018</td>\n",
       "      <td>36.011293</td>\n",
       "      <td>-82.048315</td>\n",
       "      <td>0</td>\n",
       "    </tr>\n",
       "    <tr>\n",
       "      <th>1</th>\n",
       "      <td>2019-01-01 00:00:44</td>\n",
       "      <td>630423337322</td>\n",
       "      <td>fraud_Heller, Gutmann and Zieme</td>\n",
       "      <td>grocery_pos</td>\n",
       "      <td>107.230000</td>\n",
       "      <td>Stephanie</td>\n",
       "      <td>Gill</td>\n",
       "      <td>F</td>\n",
       "      <td>43039 Riley Greens Suite 393</td>\n",
       "      <td>Orient</td>\n",
       "      <td>...</td>\n",
       "      <td>48.887800</td>\n",
       "      <td>-118.210500</td>\n",
       "      <td>149</td>\n",
       "      <td>Special educational needs teacher</td>\n",
       "      <td>1978-06-21</td>\n",
       "      <td>1f76529f8574734946361c461b024d99</td>\n",
       "      <td>1325376044</td>\n",
       "      <td>49.159047</td>\n",
       "      <td>-118.186462</td>\n",
       "      <td>0</td>\n",
       "    </tr>\n",
       "    <tr>\n",
       "      <th>2</th>\n",
       "      <td>2019-01-01 00:00:51</td>\n",
       "      <td>38859492057661</td>\n",
       "      <td>fraud_Lind-Buckridge</td>\n",
       "      <td>entertainment</td>\n",
       "      <td>220.110000</td>\n",
       "      <td>Edward</td>\n",
       "      <td>Sanchez</td>\n",
       "      <td>M</td>\n",
       "      <td>594 White Dale Suite 530</td>\n",
       "      <td>Malad City</td>\n",
       "      <td>...</td>\n",
       "      <td>42.180800</td>\n",
       "      <td>-112.262000</td>\n",
       "      <td>4154</td>\n",
       "      <td>Nature conservation officer</td>\n",
       "      <td>1962-01-19</td>\n",
       "      <td>a1a22d70485983eac12b5b88dad1cf95</td>\n",
       "      <td>1325376051</td>\n",
       "      <td>43.150704</td>\n",
       "      <td>-112.154481</td>\n",
       "      <td>0</td>\n",
       "    </tr>\n",
       "    <tr>\n",
       "      <th>3</th>\n",
       "      <td>2019-01-01 00:01:16</td>\n",
       "      <td>3534093764340240</td>\n",
       "      <td>fraud_Kutch, Hermiston and Farrell</td>\n",
       "      <td>gas_transport</td>\n",
       "      <td>45.000000</td>\n",
       "      <td>Jeremy</td>\n",
       "      <td>White</td>\n",
       "      <td>M</td>\n",
       "      <td>9443 Cynthia Court Apt. 038</td>\n",
       "      <td>Boulder</td>\n",
       "      <td>...</td>\n",
       "      <td>46.230600</td>\n",
       "      <td>-112.113800</td>\n",
       "      <td>1939</td>\n",
       "      <td>Patent attorney</td>\n",
       "      <td>1967-01-12</td>\n",
       "      <td>6b849c168bdad6f867558c3793159a81</td>\n",
       "      <td>1325376076</td>\n",
       "      <td>47.034331</td>\n",
       "      <td>-112.561071</td>\n",
       "      <td>0</td>\n",
       "    </tr>\n",
       "    <tr>\n",
       "      <th>4</th>\n",
       "      <td>2019-01-01 00:03:06</td>\n",
       "      <td>375534208663984</td>\n",
       "      <td>fraud_Keeling-Crist</td>\n",
       "      <td>misc_pos</td>\n",
       "      <td>41.960000</td>\n",
       "      <td>Tyler</td>\n",
       "      <td>Garcia</td>\n",
       "      <td>M</td>\n",
       "      <td>408 Bradley Rest</td>\n",
       "      <td>Doe Hill</td>\n",
       "      <td>...</td>\n",
       "      <td>38.420700</td>\n",
       "      <td>-79.462900</td>\n",
       "      <td>99</td>\n",
       "      <td>Dance movement psychotherapist</td>\n",
       "      <td>1986-03-28</td>\n",
       "      <td>a41d7549acf90789359a9aa5346dcb46</td>\n",
       "      <td>1325376186</td>\n",
       "      <td>38.674999</td>\n",
       "      <td>-78.632459</td>\n",
       "      <td>0</td>\n",
       "    </tr>\n",
       "    <tr>\n",
       "      <th>...</th>\n",
       "      <td>...</td>\n",
       "      <td>...</td>\n",
       "      <td>...</td>\n",
       "      <td>...</td>\n",
       "      <td>...</td>\n",
       "      <td>...</td>\n",
       "      <td>...</td>\n",
       "      <td>...</td>\n",
       "      <td>...</td>\n",
       "      <td>...</td>\n",
       "      <td>...</td>\n",
       "      <td>...</td>\n",
       "      <td>...</td>\n",
       "      <td>...</td>\n",
       "      <td>...</td>\n",
       "      <td>...</td>\n",
       "      <td>...</td>\n",
       "      <td>...</td>\n",
       "      <td>...</td>\n",
       "      <td>...</td>\n",
       "      <td>...</td>\n",
       "    </tr>\n",
       "    <tr>\n",
       "      <th>1852389</th>\n",
       "      <td>2020-12-31 23:59:07</td>\n",
       "      <td>30560609640617</td>\n",
       "      <td>fraud_Reilly and Sons</td>\n",
       "      <td>health_fitness</td>\n",
       "      <td>43.770000</td>\n",
       "      <td>Michael</td>\n",
       "      <td>Olson</td>\n",
       "      <td>M</td>\n",
       "      <td>558 Michael Estates</td>\n",
       "      <td>Luray</td>\n",
       "      <td>...</td>\n",
       "      <td>40.493100</td>\n",
       "      <td>-91.891200</td>\n",
       "      <td>519</td>\n",
       "      <td>Town planner</td>\n",
       "      <td>1966-02-13</td>\n",
       "      <td>9b1f753c79894c9f4b71f04581835ada</td>\n",
       "      <td>1388534347</td>\n",
       "      <td>39.946837</td>\n",
       "      <td>-91.333331</td>\n",
       "      <td>0</td>\n",
       "    </tr>\n",
       "    <tr>\n",
       "      <th>1852390</th>\n",
       "      <td>2020-12-31 23:59:09</td>\n",
       "      <td>3556613125071656</td>\n",
       "      <td>fraud_Hoppe-Parisian</td>\n",
       "      <td>kids_pets</td>\n",
       "      <td>111.840000</td>\n",
       "      <td>Jose</td>\n",
       "      <td>Vasquez</td>\n",
       "      <td>M</td>\n",
       "      <td>572 Davis Mountains</td>\n",
       "      <td>Lake Jackson</td>\n",
       "      <td>...</td>\n",
       "      <td>29.039300</td>\n",
       "      <td>-95.440100</td>\n",
       "      <td>28739</td>\n",
       "      <td>Futures trader</td>\n",
       "      <td>1999-12-27</td>\n",
       "      <td>2090647dac2c89a1d86c514c427f5b91</td>\n",
       "      <td>1388534349</td>\n",
       "      <td>29.661049</td>\n",
       "      <td>-96.186633</td>\n",
       "      <td>0</td>\n",
       "    </tr>\n",
       "    <tr>\n",
       "      <th>1852391</th>\n",
       "      <td>2020-12-31 23:59:15</td>\n",
       "      <td>6011724471098086</td>\n",
       "      <td>fraud_Rau-Robel</td>\n",
       "      <td>kids_pets</td>\n",
       "      <td>86.880000</td>\n",
       "      <td>Ann</td>\n",
       "      <td>Lawson</td>\n",
       "      <td>F</td>\n",
       "      <td>144 Evans Islands Apt. 683</td>\n",
       "      <td>Burbank</td>\n",
       "      <td>...</td>\n",
       "      <td>46.196600</td>\n",
       "      <td>-118.901700</td>\n",
       "      <td>3684</td>\n",
       "      <td>Musician</td>\n",
       "      <td>1981-11-29</td>\n",
       "      <td>6c5b7c8add471975aa0fec023b2e8408</td>\n",
       "      <td>1388534355</td>\n",
       "      <td>46.658340</td>\n",
       "      <td>-119.715054</td>\n",
       "      <td>0</td>\n",
       "    </tr>\n",
       "    <tr>\n",
       "      <th>1852392</th>\n",
       "      <td>2020-12-31 23:59:24</td>\n",
       "      <td>4079773899158</td>\n",
       "      <td>fraud_Breitenberg LLC</td>\n",
       "      <td>travel</td>\n",
       "      <td>7.990000</td>\n",
       "      <td>Eric</td>\n",
       "      <td>Preston</td>\n",
       "      <td>M</td>\n",
       "      <td>7020 Doyle Stream Apt. 951</td>\n",
       "      <td>Mesa</td>\n",
       "      <td>...</td>\n",
       "      <td>44.625500</td>\n",
       "      <td>-116.449300</td>\n",
       "      <td>129</td>\n",
       "      <td>Cartographer</td>\n",
       "      <td>1965-12-15</td>\n",
       "      <td>14392d723bb7737606b2700ac791b7aa</td>\n",
       "      <td>1388534364</td>\n",
       "      <td>44.470525</td>\n",
       "      <td>-117.080888</td>\n",
       "      <td>0</td>\n",
       "    </tr>\n",
       "    <tr>\n",
       "      <th>1852393</th>\n",
       "      <td>2020-12-31 23:59:34</td>\n",
       "      <td>4170689372027579</td>\n",
       "      <td>fraud_Dare-Marvin</td>\n",
       "      <td>entertainment</td>\n",
       "      <td>38.130000</td>\n",
       "      <td>Samuel</td>\n",
       "      <td>Frey</td>\n",
       "      <td>M</td>\n",
       "      <td>830 Myers Plaza Apt. 384</td>\n",
       "      <td>Edmond</td>\n",
       "      <td>...</td>\n",
       "      <td>35.666500</td>\n",
       "      <td>-97.479800</td>\n",
       "      <td>116001</td>\n",
       "      <td>Media buyer</td>\n",
       "      <td>1993-05-10</td>\n",
       "      <td>1765bb45b3aa3224b4cdcb6e7a96cee3</td>\n",
       "      <td>1388534374</td>\n",
       "      <td>36.210097</td>\n",
       "      <td>-97.036372</td>\n",
       "      <td>0</td>\n",
       "    </tr>\n",
       "  </tbody>\n",
       "</table>\n",
       "<p>1852394 rows × 22 columns</p>\n",
       "</div>"
      ],
      "text/plain": [
       "        trans_date_trans_time            cc_num  \\\n",
       "0         2019-01-01 00:00:18  2703186189652095   \n",
       "1         2019-01-01 00:00:44      630423337322   \n",
       "2         2019-01-01 00:00:51    38859492057661   \n",
       "3         2019-01-01 00:01:16  3534093764340240   \n",
       "4         2019-01-01 00:03:06   375534208663984   \n",
       "...                       ...               ...   \n",
       "1852389   2020-12-31 23:59:07    30560609640617   \n",
       "1852390   2020-12-31 23:59:09  3556613125071656   \n",
       "1852391   2020-12-31 23:59:15  6011724471098086   \n",
       "1852392   2020-12-31 23:59:24     4079773899158   \n",
       "1852393   2020-12-31 23:59:34  4170689372027579   \n",
       "\n",
       "                                   merchant        category        amt  \\\n",
       "0                fraud_Rippin, Kub and Mann        misc_net   4.970000   \n",
       "1           fraud_Heller, Gutmann and Zieme     grocery_pos 107.230000   \n",
       "2                      fraud_Lind-Buckridge   entertainment 220.110000   \n",
       "3        fraud_Kutch, Hermiston and Farrell   gas_transport  45.000000   \n",
       "4                       fraud_Keeling-Crist        misc_pos  41.960000   \n",
       "...                                     ...             ...        ...   \n",
       "1852389               fraud_Reilly and Sons  health_fitness  43.770000   \n",
       "1852390                fraud_Hoppe-Parisian       kids_pets 111.840000   \n",
       "1852391                     fraud_Rau-Robel       kids_pets  86.880000   \n",
       "1852392               fraud_Breitenberg LLC          travel   7.990000   \n",
       "1852393                   fraud_Dare-Marvin   entertainment  38.130000   \n",
       "\n",
       "             first     last gender                        street  \\\n",
       "0         Jennifer    Banks      F                561 Perry Cove   \n",
       "1        Stephanie     Gill      F  43039 Riley Greens Suite 393   \n",
       "2           Edward  Sanchez      M      594 White Dale Suite 530   \n",
       "3           Jeremy    White      M   9443 Cynthia Court Apt. 038   \n",
       "4            Tyler   Garcia      M              408 Bradley Rest   \n",
       "...            ...      ...    ...                           ...   \n",
       "1852389    Michael    Olson      M           558 Michael Estates   \n",
       "1852390       Jose  Vasquez      M           572 Davis Mountains   \n",
       "1852391        Ann   Lawson      F    144 Evans Islands Apt. 683   \n",
       "1852392       Eric  Preston      M    7020 Doyle Stream Apt. 951   \n",
       "1852393     Samuel     Frey      M      830 Myers Plaza Apt. 384   \n",
       "\n",
       "                   city  ...       lat        long  city_pop  \\\n",
       "0        Moravian Falls  ... 36.078800  -81.178100      3495   \n",
       "1                Orient  ... 48.887800 -118.210500       149   \n",
       "2            Malad City  ... 42.180800 -112.262000      4154   \n",
       "3               Boulder  ... 46.230600 -112.113800      1939   \n",
       "4              Doe Hill  ... 38.420700  -79.462900        99   \n",
       "...                 ...  ...       ...         ...       ...   \n",
       "1852389           Luray  ... 40.493100  -91.891200       519   \n",
       "1852390    Lake Jackson  ... 29.039300  -95.440100     28739   \n",
       "1852391         Burbank  ... 46.196600 -118.901700      3684   \n",
       "1852392            Mesa  ... 44.625500 -116.449300       129   \n",
       "1852393          Edmond  ... 35.666500  -97.479800    116001   \n",
       "\n",
       "                                       job         dob  \\\n",
       "0                Psychologist, counselling  1988-03-09   \n",
       "1        Special educational needs teacher  1978-06-21   \n",
       "2              Nature conservation officer  1962-01-19   \n",
       "3                          Patent attorney  1967-01-12   \n",
       "4           Dance movement psychotherapist  1986-03-28   \n",
       "...                                    ...         ...   \n",
       "1852389                       Town planner  1966-02-13   \n",
       "1852390                     Futures trader  1999-12-27   \n",
       "1852391                           Musician  1981-11-29   \n",
       "1852392                       Cartographer  1965-12-15   \n",
       "1852393                        Media buyer  1993-05-10   \n",
       "\n",
       "                                trans_num   unix_time merch_lat  merch_long  \\\n",
       "0        0b242abb623afc578575680df30655b9  1325376018 36.011293  -82.048315   \n",
       "1        1f76529f8574734946361c461b024d99  1325376044 49.159047 -118.186462   \n",
       "2        a1a22d70485983eac12b5b88dad1cf95  1325376051 43.150704 -112.154481   \n",
       "3        6b849c168bdad6f867558c3793159a81  1325376076 47.034331 -112.561071   \n",
       "4        a41d7549acf90789359a9aa5346dcb46  1325376186 38.674999  -78.632459   \n",
       "...                                   ...         ...       ...         ...   \n",
       "1852389  9b1f753c79894c9f4b71f04581835ada  1388534347 39.946837  -91.333331   \n",
       "1852390  2090647dac2c89a1d86c514c427f5b91  1388534349 29.661049  -96.186633   \n",
       "1852391  6c5b7c8add471975aa0fec023b2e8408  1388534355 46.658340 -119.715054   \n",
       "1852392  14392d723bb7737606b2700ac791b7aa  1388534364 44.470525 -117.080888   \n",
       "1852393  1765bb45b3aa3224b4cdcb6e7a96cee3  1388534374 36.210097  -97.036372   \n",
       "\n",
       "         is_fraud  \n",
       "0               0  \n",
       "1               0  \n",
       "2               0  \n",
       "3               0  \n",
       "4               0  \n",
       "...           ...  \n",
       "1852389         0  \n",
       "1852390         0  \n",
       "1852391         0  \n",
       "1852392         0  \n",
       "1852393         0  \n",
       "\n",
       "[1852394 rows x 22 columns]"
      ]
     },
     "execution_count": 73,
     "metadata": {},
     "output_type": "execute_result"
    }
   ],
   "source": [
    "data = pd.read_csv(\"./data/creaditcard_fraud_data.csv\")\n",
    "data"
   ]
  },
  {
   "cell_type": "markdown",
   "id": "8525ebeb",
   "metadata": {},
   "source": [
    "1. 데이터 전처리(결측값, 이상값)\n",
    "2. EDA\n",
    "3. Feature Engineering\n",
    "4. Feature Selection\n",
    "5. 데이터 분할\n",
    "6. k-fold 교차검증, gridsearch, randomsearch, 데이터 증폭 pipeline 이용해서 모델 3가지로 비교 분석\n"
   ]
  },
  {
   "cell_type": "code",
   "execution_count": 5,
   "id": "1fe84f3b",
   "metadata": {},
   "outputs": [
    {
     "name": "stdout",
     "output_type": "stream",
     "text": [
      "<class 'pandas.core.frame.DataFrame'>\n",
      "RangeIndex: 1852394 entries, 0 to 1852393\n",
      "Data columns (total 22 columns):\n",
      " #   Column                 Dtype  \n",
      "---  ------                 -----  \n",
      " 0   trans_date_trans_time  object \n",
      " 1   cc_num                 int64  \n",
      " 2   merchant               object \n",
      " 3   category               object \n",
      " 4   amt                    float64\n",
      " 5   first                  object \n",
      " 6   last                   object \n",
      " 7   gender                 object \n",
      " 8   street                 object \n",
      " 9   city                   object \n",
      " 10  state                  object \n",
      " 11  zip                    int64  \n",
      " 12  lat                    float64\n",
      " 13  long                   float64\n",
      " 14  city_pop               int64  \n",
      " 15  job                    object \n",
      " 16  dob                    object \n",
      " 17  trans_num              object \n",
      " 18  unix_time              int64  \n",
      " 19  merch_lat              float64\n",
      " 20  merch_long             float64\n",
      " 21  is_fraud               int64  \n",
      "dtypes: float64(5), int64(5), object(12)\n",
      "memory usage: 310.9+ MB\n"
     ]
    }
   ],
   "source": [
    "data.info()"
   ]
  },
  {
   "cell_type": "code",
   "execution_count": 6,
   "id": "00abb51a",
   "metadata": {},
   "outputs": [
    {
     "name": "stdout",
     "output_type": "stream",
     "text": [
      "<class 'pandas.core.frame.DataFrame'>\n",
      "RangeIndex: 1852394 entries, 0 to 1852393\n",
      "Data columns (total 22 columns):\n",
      " #   Column                 Non-Null Count    Dtype  \n",
      "---  ------                 --------------    -----  \n",
      " 0   trans_date_trans_time  1852394 non-null  object \n",
      " 1   cc_num                 1852394 non-null  int64  \n",
      " 2   merchant               1852394 non-null  object \n",
      " 3   category               1852394 non-null  object \n",
      " 4   amt                    1852394 non-null  float64\n",
      " 5   first                  1852394 non-null  object \n",
      " 6   last                   1852394 non-null  object \n",
      " 7   gender                 1852394 non-null  object \n",
      " 8   street                 1852394 non-null  object \n",
      " 9   city                   1852394 non-null  object \n",
      " 10  state                  1852394 non-null  object \n",
      " 11  zip                    1852394 non-null  int64  \n",
      " 12  lat                    1852394 non-null  float64\n",
      " 13  long                   1852394 non-null  float64\n",
      " 14  city_pop               1852394 non-null  int64  \n",
      " 15  job                    1852394 non-null  object \n",
      " 16  dob                    1852394 non-null  object \n",
      " 17  trans_num              1852394 non-null  object \n",
      " 18  unix_time              1852394 non-null  int64  \n",
      " 19  merch_lat              1852394 non-null  float64\n",
      " 20  merch_long             1852394 non-null  float64\n",
      " 21  is_fraud               1852394 non-null  int64  \n",
      "dtypes: float64(5), int64(5), object(12)\n",
      "memory usage: 310.9+ MB\n"
     ]
    }
   ],
   "source": [
    "data.info(show_counts=True)"
   ]
  },
  {
   "cell_type": "code",
   "execution_count": 7,
   "id": "aeb03c52",
   "metadata": {},
   "outputs": [
    {
     "data": {
      "text/plain": [
       "Index(['trans_date_trans_time', 'cc_num', 'merchant', 'category', 'amt',\n",
       "       'first', 'last', 'gender', 'street', 'city', 'state', 'zip', 'lat',\n",
       "       'long', 'city_pop', 'job', 'dob', 'trans_num', 'unix_time', 'merch_lat',\n",
       "       'merch_long', 'is_fraud'],\n",
       "      dtype='object')"
      ]
     },
     "execution_count": 7,
     "metadata": {},
     "output_type": "execute_result"
    }
   ],
   "source": [
    "data.columns"
   ]
  },
  {
   "cell_type": "code",
   "execution_count": 8,
   "id": "9079911f",
   "metadata": {},
   "outputs": [],
   "source": [
    "# float 형식의 숫자를 소수점 아래 6자리까지 출력\n",
    "\n",
    "pd.options.display.float_format = '{:.6f}'.format"
   ]
  },
  {
   "cell_type": "code",
   "execution_count": 9,
   "id": "dc3c8960",
   "metadata": {},
   "outputs": [
    {
     "data": {
      "text/html": [
       "<div>\n",
       "<style scoped>\n",
       "    .dataframe tbody tr th:only-of-type {\n",
       "        vertical-align: middle;\n",
       "    }\n",
       "\n",
       "    .dataframe tbody tr th {\n",
       "        vertical-align: top;\n",
       "    }\n",
       "\n",
       "    .dataframe thead th {\n",
       "        text-align: right;\n",
       "    }\n",
       "</style>\n",
       "<table border=\"1\" class=\"dataframe\">\n",
       "  <thead>\n",
       "    <tr style=\"text-align: right;\">\n",
       "      <th></th>\n",
       "      <th>cc_num</th>\n",
       "      <th>amt</th>\n",
       "      <th>zip</th>\n",
       "      <th>lat</th>\n",
       "      <th>long</th>\n",
       "      <th>city_pop</th>\n",
       "      <th>unix_time</th>\n",
       "      <th>merch_lat</th>\n",
       "      <th>merch_long</th>\n",
       "      <th>is_fraud</th>\n",
       "    </tr>\n",
       "  </thead>\n",
       "  <tbody>\n",
       "    <tr>\n",
       "      <th>count</th>\n",
       "      <td>1852394.000000</td>\n",
       "      <td>1852394.000000</td>\n",
       "      <td>1852394.000000</td>\n",
       "      <td>1852394.000000</td>\n",
       "      <td>1852394.000000</td>\n",
       "      <td>1852394.000000</td>\n",
       "      <td>1852394.000000</td>\n",
       "      <td>1852394.000000</td>\n",
       "      <td>1852394.000000</td>\n",
       "      <td>1852394.000000</td>\n",
       "    </tr>\n",
       "    <tr>\n",
       "      <th>mean</th>\n",
       "      <td>417386038393710400.000000</td>\n",
       "      <td>70.063567</td>\n",
       "      <td>48813.258191</td>\n",
       "      <td>38.539311</td>\n",
       "      <td>-90.227832</td>\n",
       "      <td>88643.674509</td>\n",
       "      <td>1358674218.834364</td>\n",
       "      <td>38.538976</td>\n",
       "      <td>-90.227940</td>\n",
       "      <td>0.005210</td>\n",
       "    </tr>\n",
       "    <tr>\n",
       "      <th>std</th>\n",
       "      <td>1309115265318734848.000000</td>\n",
       "      <td>159.253975</td>\n",
       "      <td>26881.845966</td>\n",
       "      <td>5.071470</td>\n",
       "      <td>13.747895</td>\n",
       "      <td>301487.618344</td>\n",
       "      <td>18195081.387560</td>\n",
       "      <td>5.105604</td>\n",
       "      <td>13.759692</td>\n",
       "      <td>0.071992</td>\n",
       "    </tr>\n",
       "    <tr>\n",
       "      <th>min</th>\n",
       "      <td>60416207185.000000</td>\n",
       "      <td>1.000000</td>\n",
       "      <td>1257.000000</td>\n",
       "      <td>20.027100</td>\n",
       "      <td>-165.672300</td>\n",
       "      <td>23.000000</td>\n",
       "      <td>1325376018.000000</td>\n",
       "      <td>19.027422</td>\n",
       "      <td>-166.671575</td>\n",
       "      <td>0.000000</td>\n",
       "    </tr>\n",
       "    <tr>\n",
       "      <th>25%</th>\n",
       "      <td>180042946491150.000000</td>\n",
       "      <td>9.640000</td>\n",
       "      <td>26237.000000</td>\n",
       "      <td>34.668900</td>\n",
       "      <td>-96.798000</td>\n",
       "      <td>741.000000</td>\n",
       "      <td>1343016823.750000</td>\n",
       "      <td>34.740122</td>\n",
       "      <td>-96.899440</td>\n",
       "      <td>0.000000</td>\n",
       "    </tr>\n",
       "    <tr>\n",
       "      <th>50%</th>\n",
       "      <td>3521417320836166.000000</td>\n",
       "      <td>47.450000</td>\n",
       "      <td>48174.000000</td>\n",
       "      <td>39.354300</td>\n",
       "      <td>-87.476900</td>\n",
       "      <td>2443.000000</td>\n",
       "      <td>1357089331.000000</td>\n",
       "      <td>39.368900</td>\n",
       "      <td>-87.440694</td>\n",
       "      <td>0.000000</td>\n",
       "    </tr>\n",
       "    <tr>\n",
       "      <th>75%</th>\n",
       "      <td>4642255475285942.000000</td>\n",
       "      <td>83.100000</td>\n",
       "      <td>72042.000000</td>\n",
       "      <td>41.940400</td>\n",
       "      <td>-80.158000</td>\n",
       "      <td>20328.000000</td>\n",
       "      <td>1374581485.250000</td>\n",
       "      <td>41.956263</td>\n",
       "      <td>-80.245108</td>\n",
       "      <td>0.000000</td>\n",
       "    </tr>\n",
       "    <tr>\n",
       "      <th>max</th>\n",
       "      <td>4992346398065154048.000000</td>\n",
       "      <td>28948.900000</td>\n",
       "      <td>99921.000000</td>\n",
       "      <td>66.693300</td>\n",
       "      <td>-67.950300</td>\n",
       "      <td>2906700.000000</td>\n",
       "      <td>1388534374.000000</td>\n",
       "      <td>67.510267</td>\n",
       "      <td>-66.950902</td>\n",
       "      <td>1.000000</td>\n",
       "    </tr>\n",
       "  </tbody>\n",
       "</table>\n",
       "</div>"
      ],
      "text/plain": [
       "                          cc_num            amt            zip            lat  \\\n",
       "count             1852394.000000 1852394.000000 1852394.000000 1852394.000000   \n",
       "mean   417386038393710400.000000      70.063567   48813.258191      38.539311   \n",
       "std   1309115265318734848.000000     159.253975   26881.845966       5.071470   \n",
       "min           60416207185.000000       1.000000    1257.000000      20.027100   \n",
       "25%       180042946491150.000000       9.640000   26237.000000      34.668900   \n",
       "50%      3521417320836166.000000      47.450000   48174.000000      39.354300   \n",
       "75%      4642255475285942.000000      83.100000   72042.000000      41.940400   \n",
       "max   4992346398065154048.000000   28948.900000   99921.000000      66.693300   \n",
       "\n",
       "                long       city_pop         unix_time      merch_lat  \\\n",
       "count 1852394.000000 1852394.000000    1852394.000000 1852394.000000   \n",
       "mean      -90.227832   88643.674509 1358674218.834364      38.538976   \n",
       "std        13.747895  301487.618344   18195081.387560       5.105604   \n",
       "min      -165.672300      23.000000 1325376018.000000      19.027422   \n",
       "25%       -96.798000     741.000000 1343016823.750000      34.740122   \n",
       "50%       -87.476900    2443.000000 1357089331.000000      39.368900   \n",
       "75%       -80.158000   20328.000000 1374581485.250000      41.956263   \n",
       "max       -67.950300 2906700.000000 1388534374.000000      67.510267   \n",
       "\n",
       "          merch_long       is_fraud  \n",
       "count 1852394.000000 1852394.000000  \n",
       "mean      -90.227940       0.005210  \n",
       "std        13.759692       0.071992  \n",
       "min      -166.671575       0.000000  \n",
       "25%       -96.899440       0.000000  \n",
       "50%       -87.440694       0.000000  \n",
       "75%       -80.245108       0.000000  \n",
       "max       -66.950902       1.000000  "
      ]
     },
     "execution_count": 9,
     "metadata": {},
     "output_type": "execute_result"
    }
   ],
   "source": [
    "data.describe()"
   ]
  },
  {
   "cell_type": "markdown",
   "id": "33e1c7f3",
   "metadata": {},
   "source": [
    "### 데이터가 많기 때문에 train 과 test 미리 쪼개기"
   ]
  },
  {
   "cell_type": "code",
   "execution_count": 10,
   "id": "ac174384",
   "metadata": {},
   "outputs": [],
   "source": [
    "from sklearn.model_selection import train_test_split"
   ]
  },
  {
   "cell_type": "code",
   "execution_count": null,
   "id": "730dc906",
   "metadata": {},
   "outputs": [],
   "source": [
    "train, test = train_test_split(data, stratify=data['is_fraud'], test_size=0.4, random_state=10)"
   ]
  },
  {
   "cell_type": "code",
   "execution_count": null,
   "id": "4911c902",
   "metadata": {},
   "outputs": [],
   "source": [
    "train['is_fraud'].value_counts()"
   ]
  },
  {
   "cell_type": "code",
   "execution_count": null,
   "id": "496c7846",
   "metadata": {},
   "outputs": [],
   "source": [
    "test['is_fraud'].value_counts()"
   ]
  },
  {
   "cell_type": "code",
   "execution_count": null,
   "id": "f0be237a",
   "metadata": {},
   "outputs": [],
   "source": [
    "train"
   ]
  },
  {
   "cell_type": "code",
   "execution_count": null,
   "id": "3f5abf8e",
   "metadata": {},
   "outputs": [],
   "source": [
    "train['cc_num'].nunique()\n",
    "\n",
    "# "
   ]
  },
  {
   "cell_type": "code",
   "execution_count": null,
   "id": "7925dff1",
   "metadata": {},
   "outputs": [],
   "source": [
    "data['name'] = data['first'] + \" \" + data['last']\n",
    "data['name'].nunique()\n",
    "# 중복되는 값 빼고 이름 총 개수"
   ]
  },
  {
   "cell_type": "code",
   "execution_count": null,
   "id": "57cb67e6",
   "metadata": {},
   "outputs": [],
   "source": [
    "data.head()"
   ]
  },
  {
   "cell_type": "code",
   "execution_count": null,
   "id": "024f0895",
   "metadata": {},
   "outputs": [],
   "source": [
    "data = data.drop(['first', 'last', 'street','city','zip','trans_num','unix_time', 'name'],axis=1)\n",
    "data.head(3)"
   ]
  },
  {
   "cell_type": "markdown",
   "id": "32559fb5",
   "metadata": {},
   "source": [
    "### 카드 번호에 따른 평균 지출액, 표준편차 구하기 "
   ]
  },
  {
   "cell_type": "code",
   "execution_count": null,
   "id": "92aa02e0",
   "metadata": {},
   "outputs": [],
   "source": [
    "train.groupby('cc_num')['amt'].agg(['mean', 'std']).reset_index()"
   ]
  },
  {
   "cell_type": "code",
   "execution_count": null,
   "id": "046c9720",
   "metadata": {},
   "outputs": [],
   "source": [
    "amt_by_cc_num = train.groupby('cc_num')['amt'].agg(['mean', 'std']).reset_index()\n",
    "amt_by_cc_num "
   ]
  },
  {
   "cell_type": "code",
   "execution_count": null,
   "id": "b341c41a",
   "metadata": {},
   "outputs": [],
   "source": [
    "train = pd.merge(train, amt_by_cc_num, how='left', on='cc_num')\n",
    "train.head()\n",
    "\n",
    "# 맨 뒤에 mean, std 칼럼 합쳐짐"
   ]
  },
  {
   "cell_type": "markdown",
   "id": "a29d87b0",
   "metadata": {},
   "source": [
    "### 이상지출 탐지하기 1\n",
    "- 평소 사용자가 지출하던 금액보다 과도하게 높은 경우\n",
    "- z 스코어를 이용해 탐지\n",
    "- z-score = (원래있던값 - 평균) / 표준편차 "
   ]
  },
  {
   "cell_type": "markdown",
   "id": "039d4a6f",
   "metadata": {},
   "source": [
    "$$\n",
    "z-score  =  \\frac{{\\text{amt} - \\text{mean}}}{\\text{std}}\n",
    "$$\n"
   ]
  },
  {
   "cell_type": "code",
   "execution_count": null,
   "id": "39d79277",
   "metadata": {},
   "outputs": [],
   "source": [
    "train['amt_z_score'] = (train['amt'] - train['mean']) / train['std']"
   ]
  },
  {
   "cell_type": "code",
   "execution_count": null,
   "id": "17c955fe",
   "metadata": {},
   "outputs": [],
   "source": [
    "train[['amt', 'mean', 'std', 'amt_z_score']]"
   ]
  },
  {
   "cell_type": "code",
   "execution_count": null,
   "id": "51cc0ce3",
   "metadata": {},
   "outputs": [],
   "source": [
    "amt_z_over_3 = train[train['amt_z_score'] > 3]"
   ]
  },
  {
   "cell_type": "code",
   "execution_count": null,
   "id": "986aedc1",
   "metadata": {},
   "outputs": [],
   "source": [
    "amt_z_over_3['is_fraud'].mean()"
   ]
  },
  {
   "cell_type": "code",
   "execution_count": null,
   "id": "4d3133e3",
   "metadata": {},
   "outputs": [],
   "source": [
    "train['is_fraud'].mean()"
   ]
  },
  {
   "cell_type": "markdown",
   "id": "8b60dcb8",
   "metadata": {},
   "source": [
    "### 이상지출 탐지하기 2\n",
    "- 사람별로 지출하는 카테고리가 다르기 때문에 평소 지출하는 카테고리가 아닌 경우를 필터링\n",
    "- 평소 많이 지출하는 카테고리가 아닌 경우 의심"
   ]
  },
  {
   "cell_type": "code",
   "execution_count": null,
   "id": "de71521e",
   "metadata": {},
   "outputs": [],
   "source": [
    "train[train['cc_num'] == 377895991033232 ]['category'].value_counts()"
   ]
  },
  {
   "cell_type": "code",
   "execution_count": null,
   "id": "5f2b62f2",
   "metadata": {},
   "outputs": [],
   "source": [
    "train['category'].nunique()"
   ]
  },
  {
   "cell_type": "code",
   "execution_count": null,
   "id": "47beb38f",
   "metadata": {},
   "outputs": [],
   "source": [
    "amtbycategory = train.groupby(['cc_num', 'category'])['amt'].agg(['mean', 'std'])\n",
    "amtbycategory"
   ]
  },
  {
   "cell_type": "code",
   "execution_count": null,
   "id": "78c403d3",
   "metadata": {},
   "outputs": [],
   "source": [
    "train = pd.merge(train, amtbycategory, how='left', on=['cc_num', 'category'])\n",
    "train"
   ]
  },
  {
   "cell_type": "code",
   "execution_count": null,
   "id": "be23b9e2",
   "metadata": {},
   "outputs": [],
   "source": [
    "train"
   ]
  },
  {
   "cell_type": "code",
   "execution_count": null,
   "id": "95a15645",
   "metadata": {},
   "outputs": [],
   "source": [
    "train['category_z_score'] = (train['amt'] - train['mean_y']) / train['std_y']\n",
    "train.head()"
   ]
  },
  {
   "cell_type": "code",
   "execution_count": null,
   "id": "b8910940",
   "metadata": {},
   "outputs": [],
   "source": [
    "train = train.drop(['mean_x','std_x','mean_y','std_y'], axis=1)\n",
    "train"
   ]
  },
  {
   "cell_type": "code",
   "execution_count": null,
   "id": "baefe47f",
   "metadata": {},
   "outputs": [],
   "source": [
    "train.groupby('is_fraud')['merchant'].value_counts()"
   ]
  },
  {
   "cell_type": "code",
   "execution_count": null,
   "id": "acd5e22c",
   "metadata": {},
   "outputs": [],
   "source": [
    "train.head(2)"
   ]
  },
  {
   "cell_type": "code",
   "execution_count": null,
   "id": "c91f6d6c",
   "metadata": {},
   "outputs": [],
   "source": [
    "train = train.drop(['first', 'last', 'street','city','zip','trans_num','unix_time'],axis=1)\n",
    "train.head(3)"
   ]
  },
  {
   "cell_type": "code",
   "execution_count": null,
   "id": "084a7865",
   "metadata": {},
   "outputs": [],
   "source": [
    "happen_fraud = train.groupby(['merchant', 'category'])[['is_fraud']].mean().sort_values(by='is_fraud', ascending=False).reset_index()\n",
    "happen_fraud "
   ]
  },
  {
   "cell_type": "code",
   "execution_count": null,
   "id": "b09ccb08",
   "metadata": {},
   "outputs": [],
   "source": [
    "happen_fraud.columns = ['merchant', 'category', 'is_fraud_rate']\n",
    "happen_fraud"
   ]
  },
  {
   "cell_type": "code",
   "execution_count": null,
   "id": "e5ca4c96",
   "metadata": {},
   "outputs": [],
   "source": [
    "train = pd.merge(train, happen_fraud, how='left', on=['merchant', 'category'])\n",
    "train"
   ]
  },
  {
   "cell_type": "code",
   "execution_count": null,
   "id": "e9c44edd",
   "metadata": {},
   "outputs": [],
   "source": [
    "# 사기 거래 당한 수가 많은 상위 10개 직업군\n",
    "\n",
    "train[train['is_fraud'] == 1]['job'].value_counts().head(10)"
   ]
  },
  {
   "cell_type": "code",
   "execution_count": null,
   "id": "bb798194",
   "metadata": {},
   "outputs": [],
   "source": [
    "train.groupby('job')['is_fraud'].value_counts()"
   ]
  },
  {
   "cell_type": "code",
   "execution_count": null,
   "id": "da3681ae",
   "metadata": {},
   "outputs": [],
   "source": [
    "# 각 city_pop에서 is_fraud가 1인 비율을 계산\n",
    "fraudbyjob = train.groupby(['job', 'is_fraud'])['is_fraud'].count().unstack()\n",
    "\n",
    "# is_fraud가 1인 비율 계산 (사기 거래의 비율)\n",
    "fraudbyjob['fraud_ratio'] = fraudbyjob[1] / fraudbyjob.sum(axis=1)\n"
   ]
  },
  {
   "cell_type": "code",
   "execution_count": null,
   "id": "4541c430",
   "metadata": {},
   "outputs": [],
   "source": [
    "print(fraudbyjob[['fraud_ratio']].sort_values(by='fraud_ratio', ascending=False))"
   ]
  },
  {
   "cell_type": "code",
   "execution_count": null,
   "id": "66c72eda",
   "metadata": {},
   "outputs": [],
   "source": [
    "train['trans_date_trans_time'] = pd.to_datetime(train['trans_date_trans_time'])"
   ]
  },
  {
   "cell_type": "code",
   "execution_count": null,
   "id": "118c67cb",
   "metadata": {},
   "outputs": [],
   "source": [
    "train['trans_date_trans_time'].dtype"
   ]
  },
  {
   "cell_type": "code",
   "execution_count": null,
   "id": "39c41311",
   "metadata": {},
   "outputs": [],
   "source": [
    "train['trans_date_trans_time'].apply(lambda x: x.year)"
   ]
  },
  {
   "cell_type": "code",
   "execution_count": null,
   "id": "5e227c3d",
   "metadata": {},
   "outputs": [],
   "source": [
    "train['age'] = train['dob'].apply(lambda x: 2020-int(x[:4]))"
   ]
  },
  {
   "cell_type": "code",
   "execution_count": null,
   "id": "791f7cfe",
   "metadata": {},
   "outputs": [],
   "source": [
    "train"
   ]
  },
  {
   "cell_type": "code",
   "execution_count": null,
   "id": "bd15aded",
   "metadata": {},
   "outputs": [],
   "source": []
  },
  {
   "cell_type": "markdown",
   "id": "5a6e80b5",
   "metadata": {},
   "source": [
    "### 위도 경도 정보로 거리 계산하기\n",
    "- 카드 사용자의 주거지 위치와 카드 사용처의 거리를 계산해서 너무 멀면 사기일 가능성이 높다.\n"
   ]
  },
  {
   "cell_type": "code",
   "execution_count": null,
   "id": "d0b3e1f0",
   "metadata": {},
   "outputs": [],
   "source": [
    "#!pip install geopy"
   ]
  },
  {
   "cell_type": "code",
   "execution_count": null,
   "id": "2e849ac2",
   "metadata": {},
   "outputs": [],
   "source": [
    "import geopy.distance"
   ]
  },
  {
   "cell_type": "code",
   "execution_count": null,
   "id": "13d03569",
   "metadata": {},
   "outputs": [],
   "source": [
    "# 고객의 좌표 (위도, 경도)를 계산해서 'customer_coord' 열에 저장\n",
    "\n",
    "train['customer_coord'] = pd.Series(zip(train['lat'], train['long']))\n",
    "train['merchant_coord'] = pd.Series(zip(train['merch_lat'], train['merch_long']))\n",
    "train"
   ]
  },
  {
   "cell_type": "code",
   "execution_count": null,
   "id": "305aab7a",
   "metadata": {},
   "outputs": [],
   "source": [
    "train['distance'] = train.apply(lambda x: geopy.distance.distance(x['customer_coord'], x['merchant_coord']).km, axis=1)"
   ]
  },
  {
   "cell_type": "code",
   "execution_count": null,
   "id": "5d19c6bb",
   "metadata": {},
   "outputs": [],
   "source": [
    "train"
   ]
  },
  {
   "cell_type": "code",
   "execution_count": null,
   "id": "354dff6b",
   "metadata": {},
   "outputs": [],
   "source": [
    "train['distance'].describe()"
   ]
  },
  {
   "cell_type": "code",
   "execution_count": null,
   "id": "e40cc218",
   "metadata": {},
   "outputs": [],
   "source": [
    "train.columns"
   ]
  },
  {
   "cell_type": "code",
   "execution_count": null,
   "id": "b1832fcd",
   "metadata": {},
   "outputs": [],
   "source": [
    "spendbydistance = train.groupby('cc_num')['distance'].agg(['mean','std']).reset_index()\n",
    "spendbydistance"
   ]
  },
  {
   "cell_type": "code",
   "execution_count": null,
   "id": "226fd161",
   "metadata": {},
   "outputs": [],
   "source": [
    "train = pd.merge(train, spendbydistance, how='left', on='cc_num')\n",
    "train"
   ]
  },
  {
   "cell_type": "code",
   "execution_count": null,
   "id": "7ac01b73",
   "metadata": {},
   "outputs": [],
   "source": [
    "train['distance_z_score'] = (train['distance'] - train['mean']) / train['std']\n",
    "train"
   ]
  },
  {
   "cell_type": "code",
   "execution_count": null,
   "id": "6f7af077",
   "metadata": {},
   "outputs": [],
   "source": [
    "train = train.drop(['mean', 'std'], axis=1)\n",
    "train"
   ]
  },
  {
   "cell_type": "code",
   "execution_count": null,
   "id": "fd19baba",
   "metadata": {},
   "outputs": [],
   "source": [
    "train.columns"
   ]
  },
  {
   "cell_type": "code",
   "execution_count": null,
   "id": "df61046a",
   "metadata": {},
   "outputs": [],
   "source": [
    "train = train[['gender', 'age', 'amt', 'amt_z_score', 'category_z_score',\n",
    "       'is_fraud_rate', 'distance_z_score', 'is_fraud']]\n",
    "train"
   ]
  },
  {
   "cell_type": "code",
   "execution_count": null,
   "id": "84300bf2",
   "metadata": {},
   "outputs": [],
   "source": [
    "train = train.dropna()"
   ]
  },
  {
   "cell_type": "code",
   "execution_count": null,
   "id": "f6fd6369",
   "metadata": {},
   "outputs": [],
   "source": [
    "X = train.drop('is_fraud', axis=1)\n",
    "y = train['is_fraud']"
   ]
  },
  {
   "cell_type": "code",
   "execution_count": null,
   "id": "2b9ce1b1",
   "metadata": {},
   "outputs": [],
   "source": [
    "X = pd.get_dummies(X, drop_first=True)\n",
    "X"
   ]
  },
  {
   "cell_type": "code",
   "execution_count": null,
   "id": "9762f364",
   "metadata": {},
   "outputs": [],
   "source": [
    "y"
   ]
  },
  {
   "cell_type": "code",
   "execution_count": null,
   "id": "e4ad5d20",
   "metadata": {},
   "outputs": [],
   "source": [
    "X_train, X_valid, y_train, y_valid = train_test_split(X, y, test_size=0.4, stratify=y, random_state=10)"
   ]
  },
  {
   "cell_type": "code",
   "execution_count": null,
   "id": "81107aae",
   "metadata": {},
   "outputs": [],
   "source": [
    "sns.boxplot(X_train)"
   ]
  },
  {
   "cell_type": "code",
   "execution_count": null,
   "id": "bf555abf",
   "metadata": {},
   "outputs": [],
   "source": [
    "from sklearn.preprocessing import RobustScaler"
   ]
  },
  {
   "cell_type": "code",
   "execution_count": null,
   "id": "d054ae78",
   "metadata": {},
   "outputs": [],
   "source": [
    "rs = RobustScaler()\n",
    "X_train_scaled = rs.fit_transform(X_train)\n",
    "X_train_scaled = pd.DataFrame(X_train_scaled, columns=X_train.columns)\n",
    "X_train_scaled"
   ]
  },
  {
   "cell_type": "code",
   "execution_count": null,
   "id": "51d5e1e4",
   "metadata": {},
   "outputs": [],
   "source": [
    "X_valid = rs.transform(X_valid)\n",
    "X_valid"
   ]
  },
  {
   "cell_type": "code",
   "execution_count": null,
   "id": "e217ad3d",
   "metadata": {},
   "outputs": [],
   "source": [
    "from xgboost import XGBClassifier\n",
    "from sklearn.metrics import classification_report, roc_auc_score"
   ]
  },
  {
   "cell_type": "code",
   "execution_count": null,
   "id": "fce567f2",
   "metadata": {},
   "outputs": [],
   "source": [
    "xgb = XGBClassifier(max_depth=5, n_estimators=500, n_jobs=-1, random_state=10)\n",
    "xgb.fit(X_train_scaled, y_train)\n",
    "valid_pred = xgb.predict(X_valid)\n",
    "print(classification_report(y_valid, valid_pred))\n",
    "print(\"roc_auc_score: \", roc_auc_score(y_valid, valid_pred))"
   ]
  },
  {
   "cell_type": "code",
   "execution_count": null,
   "id": "017dcc11",
   "metadata": {},
   "outputs": [],
   "source": [
    "y.value_counts()"
   ]
  },
  {
   "cell_type": "code",
   "execution_count": null,
   "id": "8a03ba83",
   "metadata": {},
   "outputs": [],
   "source": [
    "from imblearn.over_sampling import SMOTE"
   ]
  },
  {
   "cell_type": "code",
   "execution_count": null,
   "id": "9a588de5",
   "metadata": {},
   "outputs": [],
   "source": [
    "sm = SMOTE(random_state=10)\n",
    "X_smt, y_smt = sm.fit_resample(X_train_scaled, y_train)"
   ]
  },
  {
   "cell_type": "code",
   "execution_count": null,
   "id": "6b19616d",
   "metadata": {},
   "outputs": [],
   "source": [
    "y_smt.value_counts()"
   ]
  },
  {
   "cell_type": "code",
   "execution_count": null,
   "id": "5e54ce75",
   "metadata": {},
   "outputs": [],
   "source": [
    "len(X_valid)"
   ]
  },
  {
   "cell_type": "code",
   "execution_count": null,
   "id": "324d22e0",
   "metadata": {},
   "outputs": [],
   "source": [
    "y_valid.value_counts()"
   ]
  },
  {
   "cell_type": "code",
   "execution_count": null,
   "id": "4edd9601",
   "metadata": {},
   "outputs": [],
   "source": [
    "xgb = XGBClassifier(max_depth=5, n_estimators=500, n_jobs=-1, random_state=10)\n",
    "xgb.fit(X_smt, y_smt)\n",
    "valid_pred = xgb.predict(X_valid)\n",
    "print(classification_report(y_valid, valid_pred))\n",
    "print(\"roc_auc_score: \", roc_auc_score(y_valid, valid_pred))"
   ]
  },
  {
   "cell_type": "code",
   "execution_count": null,
   "id": "760cbba7",
   "metadata": {},
   "outputs": [],
   "source": [
    "from sklearn.model_selection import RandomizedSearchCV, StratifiedKFold\n",
    "#from sklearn.pipeline import Pipeline\n",
    "from sklearn.ensemble import RandomForestClassifier\n",
    "from lightgbm import LGBMClassifier\n",
    "from imblearn.pipeline import Pipeline"
   ]
  },
  {
   "cell_type": "code",
   "execution_count": null,
   "id": "d05f6e41",
   "metadata": {},
   "outputs": [],
   "source": [
    "pipe = Pipeline([\n",
    "    ('rs', RobustScaler()),\n",
    "    ('smt', SMOTE(random_state=10)),\n",
    "    ('rfc', RandomForestClassifier(n_jobs=-1, random_state=10))\n",
    "])"
   ]
  },
  {
   "cell_type": "code",
   "execution_count": null,
   "id": "8e7ad06b",
   "metadata": {},
   "outputs": [],
   "source": [
    "# 랜덤서치를 위한 파라미터 정의\n",
    "\n",
    "params_rv = {\n",
    "    'rfc__n_estimators' : [100, 200, 300],\n",
    "    'rfc__max_depth' : [3, 5, 7],\n",
    "}"
   ]
  },
  {
   "cell_type": "code",
   "execution_count": null,
   "id": "95d142b6",
   "metadata": {},
   "outputs": [],
   "source": [
    "# 교차 검증을 위한 stratify-k-fold\n",
    "\n",
    "scv = StratifiedKFold(n_splits=5, random_state=10, shuffle=True)"
   ]
  },
  {
   "cell_type": "code",
   "execution_count": null,
   "id": "7a74a776",
   "metadata": {
    "scrolled": true
   },
   "outputs": [],
   "source": [
    "random_cv = RandomizedSearchCV(pipe, param_distributions=params_rv, n_iter=10, \n",
    "                              scoring='roc_auc', cv=scv, random_state=10, n_jobs=-1)\n",
    "\n",
    "random_cv.fit(X_train, y_train)\n",
    "print(\"Best params:\", random_cv.best_params_)\n",
    "print(\"Best score:\", random_cv.best_score_)\n",
    "print(\"Best model test score:\", random_cv.score(X_valid, y_valid))"
   ]
  },
  {
   "cell_type": "code",
   "execution_count": null,
   "id": "d847b49c",
   "metadata": {},
   "outputs": [],
   "source": []
  },
  {
   "cell_type": "markdown",
   "id": "2d7dc431",
   "metadata": {},
   "source": [
    "## 여러개의 모델을 파이프라인으로 분석"
   ]
  },
  {
   "cell_type": "code",
   "execution_count": null,
   "id": "65208a47",
   "metadata": {},
   "outputs": [],
   "source": [
    "models = { 'XGB' : XGBClassifier(n_jobs=-1, random_state=10),\n",
    "           'RFC' : RandomForestClassifier(n_jobs=-1, random_state=10),\n",
    "           'LGBM' : LGBMClassifier(n_jobs=-1, random_state=10)\n",
    "         }\n",
    "models"
   ]
  },
  {
   "cell_type": "code",
   "execution_count": null,
   "id": "0ddc15e2",
   "metadata": {},
   "outputs": [],
   "source": [
    "params = {\n",
    "    'XGB': {\n",
    "        'XGB__max_depth': [3, 5, 7],\n",
    "        'XGB__n_estimators': [100, 300, 500],\n",
    "        'XGB__subsample': [0.6, 0.8, 1.0]\n",
    "    },\n",
    "    'RFC': {\n",
    "        'RFC__max_depth': [3, 5, 7],\n",
    "        'RFC__n_estimators': [100, 300, 500]\n",
    "    },\n",
    "    'LGBM': {\n",
    "        'LGBM__max_depth': [3, 5, 7],\n",
    "        'LGBM__n_estimators': [100, 300, 500],\n",
    "        'LGBM__subsample': [0.6, 0.8, 1.0]\n",
    "    }\n",
    "}"
   ]
  },
  {
   "cell_type": "code",
   "execution_count": null,
   "id": "c6237175",
   "metadata": {},
   "outputs": [],
   "source": [
    "# 각 모델별로 최적의 파라미터 찾고 성능 평가\n",
    "best_estimators = {}\n",
    "roc_auc_scores = {}\n",
    "classification_reports = {}"
   ]
  },
  {
   "cell_type": "code",
   "execution_count": null,
   "id": "c7602e39",
   "metadata": {},
   "outputs": [],
   "source": [
    "skf = StratifiedKFold(n_splits=5, random_state=10, shuffle=True)"
   ]
  },
  {
   "cell_type": "code",
   "execution_count": null,
   "id": "4a14e47e",
   "metadata": {},
   "outputs": [],
   "source": [
    "from sklearn.linear_model import LogisticRegression\n"
   ]
  },
  {
   "cell_type": "code",
   "execution_count": null,
   "id": "7b9e25a2",
   "metadata": {},
   "outputs": [],
   "source": [
    "pipe = Pipeline([\n",
    "    ('rs', RobustScaler()),\n",
    "    ('smt', SMOTE(random_state=10)),\n",
    "    ('lr', LogisticRegression(n_jobs=3, random_state=10))\n",
    "])"
   ]
  },
  {
   "cell_type": "code",
   "execution_count": null,
   "id": "51981562",
   "metadata": {},
   "outputs": [],
   "source": [
    "# 시간이 엄청 오래 걸림\n",
    "# 주석처리 해놓기 \n",
    "\n",
    "# %%time\n",
    "for model_name, model in models.items():\n",
    "    print(model_name, model)\n",
    "    pipe = Pipeline([('rs', RobustScaler()),\n",
    "                     ('smt', SMOTE(random_state=10)),\n",
    "                     (model_name, model)])\n",
    "    \n",
    "    rand_cv = RandomizedSearchCV(pipe, param_distributions=params[model_name],\n",
    "                                 cv=skf, scoring='roc_auc', n_jobs=3)\n",
    "\n",
    "    rand_cv.fit(X_train, y_train)\n",
    "    \n",
    "    print('best_params: ', rand_cv.best_params_)\n",
    "    best_model = rand_cv.best_estimator_\n",
    "    best_pred = best_model.predict(X_valid)\n",
    "    \n",
    "    print(classification_report(y_valid, valid_pred))\n",
    "    print('roc_auc_score: ', roc_auc_score(y_valid, valid_pred))\n"
   ]
  },
  {
   "cell_type": "code",
   "execution_count": null,
   "id": "739b7235",
   "metadata": {},
   "outputs": [],
   "source": []
  },
  {
   "cell_type": "code",
   "execution_count": null,
   "id": "3253fbfe",
   "metadata": {},
   "outputs": [],
   "source": [
    "밑에서부턴 돌리지 말기 "
   ]
  },
  {
   "cell_type": "markdown",
   "id": "ef76bbac",
   "metadata": {},
   "source": [
    "# __________________________________________"
   ]
  },
  {
   "cell_type": "code",
   "execution_count": null,
   "id": "17cafa75",
   "metadata": {},
   "outputs": [],
   "source": [
    "data['is_fraud'].value_counts()\n",
    "\n",
    "# 0은 정상 거래\n",
    "# 1은 사기"
   ]
  },
  {
   "cell_type": "code",
   "execution_count": null,
   "id": "cc83a66e",
   "metadata": {},
   "outputs": [],
   "source": [
    "data['job'].value_counts()"
   ]
  },
  {
   "cell_type": "code",
   "execution_count": null,
   "id": "8c83e9bc",
   "metadata": {},
   "outputs": [],
   "source": [
    "job_counts = data['job'].value_counts()\n",
    "\n",
    "for job, count in job_counts.items():\n",
    "    print(f'{job}: {count}')"
   ]
  },
  {
   "cell_type": "code",
   "execution_count": null,
   "id": "fab4a9e5",
   "metadata": {},
   "outputs": [],
   "source": [
    "data.isnull().sum()"
   ]
  },
  {
   "cell_type": "code",
   "execution_count": null,
   "id": "6be30f08",
   "metadata": {},
   "outputs": [],
   "source": [
    "data.head(2)"
   ]
  },
  {
   "cell_type": "code",
   "execution_count": null,
   "id": "dbc6c1b2",
   "metadata": {},
   "outputs": [],
   "source": [
    "data['trans_date_trans_time']"
   ]
  },
  {
   "cell_type": "code",
   "execution_count": null,
   "id": "c528b218",
   "metadata": {},
   "outputs": [],
   "source": [
    "data['trans_date_trans_time'] = pd.to_datetime(data['trans_date_trans_time'])"
   ]
  },
  {
   "cell_type": "code",
   "execution_count": null,
   "id": "d2d121ae",
   "metadata": {},
   "outputs": [],
   "source": [
    "data.info()"
   ]
  },
  {
   "cell_type": "code",
   "execution_count": null,
   "id": "874e6610",
   "metadata": {},
   "outputs": [],
   "source": [
    "data.head(7)"
   ]
  },
  {
   "cell_type": "code",
   "execution_count": null,
   "id": "35337121",
   "metadata": {},
   "outputs": [],
   "source": [
    "data = data.drop(['first', 'last', 'street','city','zip','trans_num','unix_time'],axis=1)\n",
    "data.head(3)"
   ]
  },
  {
   "cell_type": "code",
   "execution_count": null,
   "id": "2cac0bf0",
   "metadata": {},
   "outputs": [],
   "source": [
    "data.info()"
   ]
  },
  {
   "cell_type": "code",
   "execution_count": null,
   "id": "07063764",
   "metadata": {},
   "outputs": [],
   "source": [
    "#df = df.reset_index(drop=True)"
   ]
  },
  {
   "cell_type": "code",
   "execution_count": null,
   "id": "a29274a9",
   "metadata": {},
   "outputs": [],
   "source": [
    "# 이름 + 성 합치기 \n",
    "\n",
    "data['full_name'] = data['first'] + \" \" + data['last']\n",
    "data.head()"
   ]
  },
  {
   "cell_type": "code",
   "execution_count": null,
   "id": "47480306",
   "metadata": {},
   "outputs": [],
   "source": [
    "data['full_name']"
   ]
  },
  {
   "cell_type": "code",
   "execution_count": null,
   "id": "88773e4e",
   "metadata": {},
   "outputs": [],
   "source": [
    "data = data.drop(['first', 'last'],axis=1)\n",
    "data.head(3)"
   ]
  },
  {
   "cell_type": "code",
   "execution_count": null,
   "id": "e04f4bf5",
   "metadata": {},
   "outputs": [],
   "source": [
    "data"
   ]
  },
  {
   "cell_type": "code",
   "execution_count": null,
   "id": "c915aad0",
   "metadata": {},
   "outputs": [],
   "source": [
    "data.columns"
   ]
  },
  {
   "cell_type": "code",
   "execution_count": null,
   "id": "660b186b",
   "metadata": {},
   "outputs": [],
   "source": [
    "# 성별에 따른 사기 (=1) 여부 \n",
    "\n",
    "data.groupby('gender')['is_fraud'].sum()\n",
    "\n",
    "# 여자가 사기 비율이 조금 더 높다"
   ]
  },
  {
   "cell_type": "code",
   "execution_count": null,
   "id": "20e42ded",
   "metadata": {},
   "outputs": [],
   "source": [
    "# 1은 사기, 0은 정상 거래\n",
    "\n",
    "pd.crosstab(data['gender'], data['is_fraud'])"
   ]
  },
  {
   "cell_type": "code",
   "execution_count": null,
   "id": "ddb25333",
   "metadata": {},
   "outputs": [],
   "source": [
    "data.groupby('gender')['is_fraud'].count()"
   ]
  },
  {
   "cell_type": "code",
   "execution_count": null,
   "id": "1388ef77",
   "metadata": {},
   "outputs": [],
   "source": [
    "pd.crosstab(data['state'], data['is_fraud'])"
   ]
  },
  {
   "cell_type": "code",
   "execution_count": null,
   "id": "b704ca95",
   "metadata": {},
   "outputs": [],
   "source": [
    "# 주별 사기 거래 수 (is_fraud == 1)\n",
    "fraud_transactions_by_state = data[data['is_fraud'] == 1].groupby('state')['is_fraud'].count()\n",
    "\n",
    "# NaN을 0으로 변경 (사기 거래가 없는 주는 비율이 NaN이 되므로 0으로 처리)\n",
    "fraud_transactions_by_state = fraud_transactions_by_state.fillna(0)"
   ]
  },
  {
   "cell_type": "code",
   "execution_count": null,
   "id": "b6f0ed7b",
   "metadata": {},
   "outputs": [],
   "source": [
    "fraud_transactions_by_state.plot(kind='bar', figsize=(10, 6))\n",
    "plt.title('Number of Fraud Transactions by State')\n",
    "plt.xlabel('State')\n",
    "plt.ylabel('Number of Fraud Transactions')\n",
    "plt.show()"
   ]
  },
  {
   "cell_type": "markdown",
   "id": "8addf53d",
   "metadata": {},
   "source": [
    "미국에서 NY 뉴욕의 사기 거래 비율이 제일 높은 것을 확인할 수 있다. "
   ]
  },
  {
   "cell_type": "code",
   "execution_count": null,
   "id": "19b0a3ee",
   "metadata": {},
   "outputs": [],
   "source": [
    "# 각 주별 사기 거래(1) 수가 가장 높은 순서대로 상위 10개 주를 출력\n",
    "\n",
    "fraud_transactions_by_state = data[data['is_fraud'] == 1].groupby('state')['is_fraud'].count()\n",
    "top_10_fraud_states = fraud_transactions_by_state.sort_values(ascending=False).head(10)\n",
    "print(top_10_fraud_states)\n"
   ]
  },
  {
   "cell_type": "markdown",
   "id": "4d71531a",
   "metadata": {},
   "source": [
    "* NY: New York (뉴욕)\n",
    "* TX: Texas (텍사스)\n",
    "* PA: Pennsylvania (펜실베이니아)\n",
    "* CA: California (캘리포니아)\n",
    "* OH: Ohio (오하이오)"
   ]
  },
  {
   "cell_type": "code",
   "execution_count": null,
   "id": "b132d074",
   "metadata": {},
   "outputs": [],
   "source": [
    "# 거래 금액(amt)과 사기 여부의 관계\n",
    "data['amt']"
   ]
  },
  {
   "cell_type": "code",
   "execution_count": null,
   "id": "ee10463d",
   "metadata": {},
   "outputs": [],
   "source": [
    "data.groupby('is_fraud')['amt'].describe()"
   ]
  },
  {
   "cell_type": "code",
   "execution_count": null,
   "id": "31fd28e3",
   "metadata": {},
   "outputs": [],
   "source": [
    "data.groupby('is_fraud')['amt'].mean()\n",
    "\n",
    "# 평균 사기 금액 : 530 불 "
   ]
  },
  {
   "cell_type": "code",
   "execution_count": null,
   "id": "bde4a382",
   "metadata": {},
   "outputs": [],
   "source": [
    "# 사기 거래 당한 수가 많은 상위 10개 직업군\n",
    "\n",
    "data[data['is_fraud'] == 1]['job'].value_counts().head(10)"
   ]
  },
  {
   "cell_type": "markdown",
   "id": "fb7f5bb4",
   "metadata": {},
   "source": [
    "- Quantity surveyor: 건설 원가 계산사\n",
    "- Naval architect: 선박 건조 기술자\n",
    "- Materials engineer: 재료 공학자\n",
    "- Audiological scientist: 청각 과학자\n",
    "- Senior tax professional/tax inspector: 고위 세무 전문가/세무 조사관\n",
    "- Trading standards officer: 거래 기준 감독관\n",
    "- Podiatrist: 족부 전문의\n",
    "- Film/video editor: 영화/비디오 편집자\n",
    "- Colour technologist: 색채 기술자\n",
    "- Exhibition designer: 전시 디자이너"
   ]
  },
  {
   "cell_type": "code",
   "execution_count": null,
   "id": "c7938869",
   "metadata": {},
   "outputs": [],
   "source": []
  }
 ],
 "metadata": {
  "kernelspec": {
   "display_name": "Python 3 (ipykernel)",
   "language": "python",
   "name": "python3"
  },
  "language_info": {
   "codemirror_mode": {
    "name": "ipython",
    "version": 3
   },
   "file_extension": ".py",
   "mimetype": "text/x-python",
   "name": "python",
   "nbconvert_exporter": "python",
   "pygments_lexer": "ipython3",
   "version": "3.10.14"
  }
 },
 "nbformat": 4,
 "nbformat_minor": 5
}
