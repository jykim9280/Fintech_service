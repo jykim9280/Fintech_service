{
 "cells": [
  {
   "cell_type": "code",
   "execution_count": 3,
   "id": "d7cfa1f8",
   "metadata": {
    "scrolled": false
   },
   "outputs": [
    {
     "name": "stderr",
     "output_type": "stream",
     "text": [
      "Warning message:\n",
      "\"패키지 'forecast'가 사용중이므로 설치되지 않을 것입니다\"\n",
      "Warning message:\n",
      "\"패키지 'TSA'가 사용중이므로 설치되지 않을 것입니다\"\n"
     ]
    }
   ],
   "source": [
    "install.packages('forecast')\n",
    "install.packages('TSA')\n",
    "library(forecast)\n",
    "library(TSA)"
   ]
  },
  {
   "cell_type": "code",
   "execution_count": 4,
   "id": "d2c6705a",
   "metadata": {},
   "outputs": [
    {
     "data": {
      "image/png": "[encoded data removed]",
      "text/plain": [
       "Plot with title \"Milk Sales -- Seasonal Adjustment\""
      ]
     },
     "metadata": {
      "image/png": {
       "height": 420,
       "width": 420
      }
     },
     "output_type": "display_data"
    }
   ],
   "source": [
    "data(milk)\n",
    "plot(milk, main='Milk Sales -- Seasonal Adjustment')\n",
    "lines (seasadj(decompose(milk)), col=2, lwd=2)"
   ]
  },
  {
   "cell_type": "code",
   "execution_count": 5,
   "id": "a8310ba2",
   "metadata": {},
   "outputs": [],
   "source": [
    "mm3 <- filter(milk, f=rep(1/3, 3))\n",
    "mm6 <- filter(milk, f=rep(1/6, 6))\n",
    "mm12 <- filter(milk, f=rep(1/12, 12))"
   ]
  },
  {
   "cell_type": "code",
   "execution_count": 6,
   "id": "8cc7e922",
   "metadata": {},
   "outputs": [
    {
     "data": {
      "image/png": "[encoded data removed]",
      "text/plain": [
       "Plot with title \"12-points moving average\""
      ]
     },
     "metadata": {
      "image/png": {
       "height": 420,
       "width": 420
      }
     },
     "output_type": "display_data"
    }
   ],
   "source": [
    "par(mfcol=c(4,1))\n",
    "plot(milk, main=\"Milk: origianl data\")\n",
    "plot(mm3, main=\"3-points moving average\")\n",
    "plot(mm6, main=\"6-points moving average\")\n",
    "plot(mm12, main=\"12-points moving average\")"
   ]
  },
  {
   "cell_type": "markdown",
   "id": "93493a04",
   "metadata": {},
   "source": [
    "# 이동평균 평활법 4가지"
   ]
  },
  {
   "cell_type": "code",
   "execution_count": 9,
   "id": "88340dde",
   "metadata": {},
   "outputs": [],
   "source": [
    "# install.packages('forecast')\n",
    "library(forecast)"
   ]
  },
  {
   "cell_type": "code",
   "execution_count": 10,
   "id": "eb80cb01",
   "metadata": {},
   "outputs": [],
   "source": [
    "dd1 <- matrix(c(1342, 1442, 1252, 1343,\n",
    "                1425, 1362, 1256, 1272,\n",
    "                1243, 1359, 1412, 1253,\n",
    "                1201, 1478, 1322, 1406,\n",
    "                1254, 1289, 1497, 1208))"
   ]
  },
  {
   "cell_type": "code",
   "execution_count": 11,
   "id": "17429bed",
   "metadata": {},
   "outputs": [
    {
     "data": {
      "text/html": [
       "<table class=\"dataframe\">\n",
       "<caption>A Time Series: 5 × 4</caption>\n",
       "<thead>\n",
       "\t<tr><th></th><th scope=col>Qtr1</th><th scope=col>Qtr2</th><th scope=col>Qtr3</th><th scope=col>Qtr4</th></tr>\n",
       "</thead>\n",
       "<tbody>\n",
       "\t<tr><th scope=row>2016</th><td>1342</td><td>1442</td><td>1252</td><td>1343</td></tr>\n",
       "\t<tr><th scope=row>2017</th><td>1425</td><td>1362</td><td>1256</td><td>1272</td></tr>\n",
       "\t<tr><th scope=row>2018</th><td>1243</td><td>1359</td><td>1412</td><td>1253</td></tr>\n",
       "\t<tr><th scope=row>2019</th><td>1201</td><td>1478</td><td>1322</td><td>1406</td></tr>\n",
       "\t<tr><th scope=row>2020</th><td>1254</td><td>1289</td><td>1497</td><td>1208</td></tr>\n",
       "</tbody>\n",
       "</table>\n"
      ],
      "text/latex": [
       "A Time Series: 5 × 4\n",
       "\\begin{tabular}{r|llll}\n",
       "  & Qtr1 & Qtr2 & Qtr3 & Qtr4\\\\\n",
       "\\hline\n",
       "\t2016 & 1342 & 1442 & 1252 & 1343\\\\\n",
       "\t2017 & 1425 & 1362 & 1256 & 1272\\\\\n",
       "\t2018 & 1243 & 1359 & 1412 & 1253\\\\\n",
       "\t2019 & 1201 & 1478 & 1322 & 1406\\\\\n",
       "\t2020 & 1254 & 1289 & 1497 & 1208\\\\\n",
       "\\end{tabular}\n"
      ],
      "text/markdown": [
       "\n",
       "A Time Series: 5 × 4\n",
       "\n",
       "| <!--/--> | Qtr1 | Qtr2 | Qtr3 | Qtr4 |\n",
       "|---|---|---|---|---|\n",
       "| 2016 | 1342 | 1442 | 1252 | 1343 |\n",
       "| 2017 | 1425 | 1362 | 1256 | 1272 |\n",
       "| 2018 | 1243 | 1359 | 1412 | 1253 |\n",
       "| 2019 | 1201 | 1478 | 1322 | 1406 |\n",
       "| 2020 | 1254 | 1289 | 1497 | 1208 |\n",
       "\n"
      ],
      "text/plain": [
       "     Qtr1 Qtr2 Qtr3 Qtr4\n",
       "2016 1342 1442 1252 1343\n",
       "2017 1425 1362 1256 1272\n",
       "2018 1243 1359 1412 1253\n",
       "2019 1201 1478 1322 1406\n",
       "2020 1254 1289 1497 1208"
      ]
     },
     "metadata": {},
     "output_type": "display_data"
    }
   ],
   "source": [
    "dd1.ts <- ts(data=dd1, start=c(2016,1), frequency=4)\n",
    "dd1.ts"
   ]
  },
  {
   "cell_type": "markdown",
   "id": "6ae1a4bb",
   "metadata": {},
   "source": [
    "1. 단순 이동평균 평활법(Simple Moving Average Smoothing)"
   ]
  },
  {
   "cell_type": "code",
   "execution_count": 12,
   "id": "c53c7c35",
   "metadata": {},
   "outputs": [],
   "source": [
    "ff <- filter(dd1.ts, filter=rep(1, 4)/4, method=\"convolution\", sides=1)"
   ]
  },
  {
   "cell_type": "code",
   "execution_count": 13,
   "id": "256cb038",
   "metadata": {},
   "outputs": [
    {
     "data": {
      "text/html": [
       "<table class=\"dataframe\">\n",
       "<caption>A Time Series: 5 × 4</caption>\n",
       "<thead>\n",
       "\t<tr><th></th><th scope=col>Qtr1</th><th scope=col>Qtr2</th><th scope=col>Qtr3</th><th scope=col>Qtr4</th></tr>\n",
       "</thead>\n",
       "<tbody>\n",
       "\t<tr><th scope=row>2016</th><td>     NA</td><td>     NA</td><td>     NA</td><td>1344.75</td></tr>\n",
       "\t<tr><th scope=row>2017</th><td>1365.50</td><td>1345.50</td><td>1346.50</td><td>1328.75</td></tr>\n",
       "\t<tr><th scope=row>2018</th><td>1283.25</td><td>1282.50</td><td>1321.50</td><td>1316.75</td></tr>\n",
       "\t<tr><th scope=row>2019</th><td>1306.25</td><td>1336.00</td><td>1313.50</td><td>1351.75</td></tr>\n",
       "\t<tr><th scope=row>2020</th><td>1365.00</td><td>1317.75</td><td>1361.50</td><td>1312.00</td></tr>\n",
       "</tbody>\n",
       "</table>\n"
      ],
      "text/latex": [
       "A Time Series: 5 × 4\n",
       "\\begin{tabular}{r|llll}\n",
       "  & Qtr1 & Qtr2 & Qtr3 & Qtr4\\\\\n",
       "\\hline\n",
       "\t2016 &      NA &      NA &      NA & 1344.75\\\\\n",
       "\t2017 & 1365.50 & 1345.50 & 1346.50 & 1328.75\\\\\n",
       "\t2018 & 1283.25 & 1282.50 & 1321.50 & 1316.75\\\\\n",
       "\t2019 & 1306.25 & 1336.00 & 1313.50 & 1351.75\\\\\n",
       "\t2020 & 1365.00 & 1317.75 & 1361.50 & 1312.00\\\\\n",
       "\\end{tabular}\n"
      ],
      "text/markdown": [
       "\n",
       "A Time Series: 5 × 4\n",
       "\n",
       "| <!--/--> | Qtr1 | Qtr2 | Qtr3 | Qtr4 |\n",
       "|---|---|---|---|---|\n",
       "| 2016 |      NA |      NA |      NA | 1344.75 |\n",
       "| 2017 | 1365.50 | 1345.50 | 1346.50 | 1328.75 |\n",
       "| 2018 | 1283.25 | 1282.50 | 1321.50 | 1316.75 |\n",
       "| 2019 | 1306.25 | 1336.00 | 1313.50 | 1351.75 |\n",
       "| 2020 | 1365.00 | 1317.75 | 1361.50 | 1312.00 |\n",
       "\n"
      ],
      "text/plain": [
       "     Qtr1    Qtr2    Qtr3    Qtr4   \n",
       "2016      NA      NA      NA 1344.75\n",
       "2017 1365.50 1345.50 1346.50 1328.75\n",
       "2018 1283.25 1282.50 1321.50 1316.75\n",
       "2019 1306.25 1336.00 1313.50 1351.75\n",
       "2020 1365.00 1317.75 1361.50 1312.00"
      ]
     },
     "metadata": {},
     "output_type": "display_data"
    }
   ],
   "source": [
    "ff"
   ]
  },
  {
   "cell_type": "code",
   "execution_count": 14,
   "id": "b6fa3dbc",
   "metadata": {},
   "outputs": [
    {
     "data": {
      "image/png": "[encoded data removed]",
      "text/plain": [
       "Plot with title \"Simple Moving Averate Smoothing: dd1\""
      ]
     },
     "metadata": {
      "image/png": {
       "height": 420,
       "width": 420
      }
     },
     "output_type": "display_data"
    }
   ],
   "source": [
    "plot(dd1.ts, main=\"Simple Moving Averate Smoothing: dd1\")\n",
    "lines(ff, col=\"red\", lty=2, lwd=2)\n",
    "abline(h=mean(dd1.ts), col='red')"
   ]
  },
  {
   "cell_type": "markdown",
   "id": "f3a85c10",
   "metadata": {},
   "source": [
    "### Box-Pierce test \n",
    "* 귀무가설은 독립적이다.\n",
    "* 대립가설은 자기상관이 있다.\n",
    "* p-value가 0.05보다 크면 독립성 획득, 0.05보다 작으면 자기 상관성 유지"
   ]
  },
  {
   "cell_type": "code",
   "execution_count": 15,
   "id": "f5daa1d1",
   "metadata": {
    "scrolled": true
   },
   "outputs": [
    {
     "data": {
      "text/plain": [
       "\n",
       "\tBox-Pierce test\n",
       "\n",
       "data:  res\n",
       "X-squared = 0.68668, df = 1, p-value = 0.4073\n"
      ]
     },
     "metadata": {},
     "output_type": "display_data"
    }
   ],
   "source": [
    "res <- ff[-1:-3, ] - dd1.ts[-1:-3, ]\n",
    "Box.test(res) "
   ]
  },
  {
   "cell_type": "markdown",
   "id": "e9851b9c",
   "metadata": {},
   "source": [
    "2. 이중 이동평균 평활법(Double Moving Average Smoothing)"
   ]
  },
  {
   "cell_type": "code",
   "execution_count": 18,
   "id": "a328a9d3",
   "metadata": {},
   "outputs": [],
   "source": [
    "ff1 <- filter(dd1.ts, filter=rep(1,3)/3, method=\"convolution\", sides=1)\n",
    "ff2 <- filter(ff1, filter=rep(1,3)/3, method=\"convolution\", sides=1)"
   ]
  },
  {
   "cell_type": "code",
   "execution_count": 19,
   "id": "9c6f181b",
   "metadata": {},
   "outputs": [
    {
     "data": {
      "text/html": [
       "<table class=\"dataframe\">\n",
       "<caption>A Time Series: 5 × 4</caption>\n",
       "<thead>\n",
       "\t<tr><th></th><th scope=col>Qtr1</th><th scope=col>Qtr2</th><th scope=col>Qtr3</th><th scope=col>Qtr4</th></tr>\n",
       "</thead>\n",
       "<tbody>\n",
       "\t<tr><th scope=row>2016</th><td>      NA</td><td>      NA</td><td>1345.333</td><td>1345.667</td></tr>\n",
       "\t<tr><th scope=row>2017</th><td>1340.000</td><td>1376.667</td><td>1347.667</td><td>1296.667</td></tr>\n",
       "\t<tr><th scope=row>2018</th><td>1257.000</td><td>1291.333</td><td>1338.000</td><td>1341.333</td></tr>\n",
       "\t<tr><th scope=row>2019</th><td>1288.667</td><td>1310.667</td><td>1333.667</td><td>1402.000</td></tr>\n",
       "\t<tr><th scope=row>2020</th><td>1327.333</td><td>1316.333</td><td>1346.667</td><td>1331.333</td></tr>\n",
       "</tbody>\n",
       "</table>\n"
      ],
      "text/latex": [
       "A Time Series: 5 × 4\n",
       "\\begin{tabular}{r|llll}\n",
       "  & Qtr1 & Qtr2 & Qtr3 & Qtr4\\\\\n",
       "\\hline\n",
       "\t2016 &       NA &       NA & 1345.333 & 1345.667\\\\\n",
       "\t2017 & 1340.000 & 1376.667 & 1347.667 & 1296.667\\\\\n",
       "\t2018 & 1257.000 & 1291.333 & 1338.000 & 1341.333\\\\\n",
       "\t2019 & 1288.667 & 1310.667 & 1333.667 & 1402.000\\\\\n",
       "\t2020 & 1327.333 & 1316.333 & 1346.667 & 1331.333\\\\\n",
       "\\end{tabular}\n"
      ],
      "text/markdown": [
       "\n",
       "A Time Series: 5 × 4\n",
       "\n",
       "| <!--/--> | Qtr1 | Qtr2 | Qtr3 | Qtr4 |\n",
       "|---|---|---|---|---|\n",
       "| 2016 |       NA |       NA | 1345.333 | 1345.667 |\n",
       "| 2017 | 1340.000 | 1376.667 | 1347.667 | 1296.667 |\n",
       "| 2018 | 1257.000 | 1291.333 | 1338.000 | 1341.333 |\n",
       "| 2019 | 1288.667 | 1310.667 | 1333.667 | 1402.000 |\n",
       "| 2020 | 1327.333 | 1316.333 | 1346.667 | 1331.333 |\n",
       "\n"
      ],
      "text/plain": [
       "     Qtr1     Qtr2     Qtr3     Qtr4    \n",
       "2016       NA       NA 1345.333 1345.667\n",
       "2017 1340.000 1376.667 1347.667 1296.667\n",
       "2018 1257.000 1291.333 1338.000 1341.333\n",
       "2019 1288.667 1310.667 1333.667 1402.000\n",
       "2020 1327.333 1316.333 1346.667 1331.333"
      ]
     },
     "metadata": {},
     "output_type": "display_data"
    }
   ],
   "source": [
    "ff1"
   ]
  },
  {
   "cell_type": "code",
   "execution_count": 20,
   "id": "3d0c8a5a",
   "metadata": {},
   "outputs": [
    {
     "data": {
      "text/html": [
       "<table class=\"dataframe\">\n",
       "<caption>A Time Series: 5 × 4</caption>\n",
       "<thead>\n",
       "\t<tr><th></th><th scope=col>Qtr1</th><th scope=col>Qtr2</th><th scope=col>Qtr3</th><th scope=col>Qtr4</th></tr>\n",
       "</thead>\n",
       "<tbody>\n",
       "\t<tr><th scope=row>2016</th><td>      NA</td><td>      NA</td><td>      NA</td><td>      NA</td></tr>\n",
       "\t<tr><th scope=row>2017</th><td>1343.667</td><td>1354.111</td><td>1354.778</td><td>1340.333</td></tr>\n",
       "\t<tr><th scope=row>2018</th><td>1300.444</td><td>1281.667</td><td>1295.444</td><td>1323.556</td></tr>\n",
       "\t<tr><th scope=row>2019</th><td>1322.667</td><td>1313.556</td><td>1311.000</td><td>1348.778</td></tr>\n",
       "\t<tr><th scope=row>2020</th><td>1354.333</td><td>1348.556</td><td>1330.111</td><td>1331.444</td></tr>\n",
       "</tbody>\n",
       "</table>\n"
      ],
      "text/latex": [
       "A Time Series: 5 × 4\n",
       "\\begin{tabular}{r|llll}\n",
       "  & Qtr1 & Qtr2 & Qtr3 & Qtr4\\\\\n",
       "\\hline\n",
       "\t2016 &       NA &       NA &       NA &       NA\\\\\n",
       "\t2017 & 1343.667 & 1354.111 & 1354.778 & 1340.333\\\\\n",
       "\t2018 & 1300.444 & 1281.667 & 1295.444 & 1323.556\\\\\n",
       "\t2019 & 1322.667 & 1313.556 & 1311.000 & 1348.778\\\\\n",
       "\t2020 & 1354.333 & 1348.556 & 1330.111 & 1331.444\\\\\n",
       "\\end{tabular}\n"
      ],
      "text/markdown": [
       "\n",
       "A Time Series: 5 × 4\n",
       "\n",
       "| <!--/--> | Qtr1 | Qtr2 | Qtr3 | Qtr4 |\n",
       "|---|---|---|---|---|\n",
       "| 2016 |       NA |       NA |       NA |       NA |\n",
       "| 2017 | 1343.667 | 1354.111 | 1354.778 | 1340.333 |\n",
       "| 2018 | 1300.444 | 1281.667 | 1295.444 | 1323.556 |\n",
       "| 2019 | 1322.667 | 1313.556 | 1311.000 | 1348.778 |\n",
       "| 2020 | 1354.333 | 1348.556 | 1330.111 | 1331.444 |\n",
       "\n"
      ],
      "text/plain": [
       "     Qtr1     Qtr2     Qtr3     Qtr4    \n",
       "2016       NA       NA       NA       NA\n",
       "2017 1343.667 1354.111 1354.778 1340.333\n",
       "2018 1300.444 1281.667 1295.444 1323.556\n",
       "2019 1322.667 1313.556 1311.000 1348.778\n",
       "2020 1354.333 1348.556 1330.111 1331.444"
      ]
     },
     "metadata": {},
     "output_type": "display_data"
    }
   ],
   "source": [
    "ff2"
   ]
  },
  {
   "cell_type": "code",
   "execution_count": 21,
   "id": "29ddfc5d",
   "metadata": {},
   "outputs": [
    {
     "data": {
      "image/png": "[encoded data removed]",
      "text/plain": [
       "Plot with title \"Double Moving Average Smoothing: dd1\""
      ]
     },
     "metadata": {
      "image/png": {
       "height": 420,
       "width": 420
      }
     },
     "output_type": "display_data"
    }
   ],
   "source": [
    "plot(dd1.ts, main=\"Double Moving Average Smoothing: dd1\")\n",
    "lines(ff2, col='red', lty=2, lwd=2)\n",
    "abline(h=mean(dd1.ts), col='red')"
   ]
  },
  {
   "cell_type": "code",
   "execution_count": 22,
   "id": "384d99f8",
   "metadata": {},
   "outputs": [
    {
     "data": {
      "text/plain": [
       "\n",
       "\tBox-Pierce test\n",
       "\n",
       "data:  res\n",
       "X-squared = 0.737, df = 1, p-value = 0.3906\n"
      ]
     },
     "metadata": {},
     "output_type": "display_data"
    }
   ],
   "source": [
    "res <- ff2[-1:-3, ] - dd1.ts[-1:-3, ]\n",
    "Box.test(res) "
   ]
  },
  {
   "cell_type": "markdown",
   "id": "b8776ad0",
   "metadata": {},
   "source": [
    "3. 가중 이동평균 평활법(Weighted Moving Average Smoothing)\n",
    "* 최근 트랜드에 가중치를 두고 평활"
   ]
  },
  {
   "cell_type": "code",
   "execution_count": 23,
   "id": "73764d66",
   "metadata": {},
   "outputs": [
    {
     "data": {
      "text/html": [
       "<table class=\"dataframe\">\n",
       "<caption>A Time Series: 5 × 4</caption>\n",
       "<thead>\n",
       "\t<tr><th></th><th scope=col>Qtr1</th><th scope=col>Qtr2</th><th scope=col>Qtr3</th><th scope=col>Qtr4</th></tr>\n",
       "</thead>\n",
       "<tbody>\n",
       "\t<tr><th scope=row>2016</th><td>    NA</td><td>    NA</td><td>    NA</td><td>1335.4</td></tr>\n",
       "\t<tr><th scope=row>2017</th><td>1367.5</td><td>1366.1</td><td>1330.3</td><td>1300.5</td></tr>\n",
       "\t<tr><th scope=row>2018</th><td>1266.2</td><td>1296.5</td><td>1348.3</td><td>1320.9</td></tr>\n",
       "\t<tr><th scope=row>2019</th><td>1274.6</td><td>1343.3</td><td>1337.7</td><td>1374.7</td></tr>\n",
       "\t<tr><th scope=row>2020</th><td>1335.6</td><td>1305.2</td><td>1376.9</td><td>1315.5</td></tr>\n",
       "</tbody>\n",
       "</table>\n"
      ],
      "text/latex": [
       "A Time Series: 5 × 4\n",
       "\\begin{tabular}{r|llll}\n",
       "  & Qtr1 & Qtr2 & Qtr3 & Qtr4\\\\\n",
       "\\hline\n",
       "\t2016 &     NA &     NA &     NA & 1335.4\\\\\n",
       "\t2017 & 1367.5 & 1366.1 & 1330.3 & 1300.5\\\\\n",
       "\t2018 & 1266.2 & 1296.5 & 1348.3 & 1320.9\\\\\n",
       "\t2019 & 1274.6 & 1343.3 & 1337.7 & 1374.7\\\\\n",
       "\t2020 & 1335.6 & 1305.2 & 1376.9 & 1315.5\\\\\n",
       "\\end{tabular}\n"
      ],
      "text/markdown": [
       "\n",
       "A Time Series: 5 × 4\n",
       "\n",
       "| <!--/--> | Qtr1 | Qtr2 | Qtr3 | Qtr4 |\n",
       "|---|---|---|---|---|\n",
       "| 2016 |     NA |     NA |     NA | 1335.4 |\n",
       "| 2017 | 1367.5 | 1366.1 | 1330.3 | 1300.5 |\n",
       "| 2018 | 1266.2 | 1296.5 | 1348.3 | 1320.9 |\n",
       "| 2019 | 1274.6 | 1343.3 | 1337.7 | 1374.7 |\n",
       "| 2020 | 1335.6 | 1305.2 | 1376.9 | 1315.5 |\n",
       "\n"
      ],
      "text/plain": [
       "     Qtr1   Qtr2   Qtr3   Qtr4  \n",
       "2016     NA     NA     NA 1335.4\n",
       "2017 1367.5 1366.1 1330.3 1300.5\n",
       "2018 1266.2 1296.5 1348.3 1320.9\n",
       "2019 1274.6 1343.3 1337.7 1374.7\n",
       "2020 1335.6 1305.2 1376.9 1315.5"
      ]
     },
     "metadata": {},
     "output_type": "display_data"
    }
   ],
   "source": [
    "w1 <- c(0.4, 0.3, 0.2, 0.1) # 직전시간에 40%, 전전시간 30%\n",
    "ff3 <- filter(dd1.ts, filter=w1, method=\"convolution\", sides=1)\n",
    "ff3"
   ]
  },
  {
   "cell_type": "code",
   "execution_count": 24,
   "id": "189c0397",
   "metadata": {},
   "outputs": [
    {
     "data": {
      "image/png": "[encoded data removed]",
      "text/plain": [
       "Plot with title \"Weighted Moving Average Smoothing: dd1\""
      ]
     },
     "metadata": {
      "image/png": {
       "height": 420,
       "width": 420
      }
     },
     "output_type": "display_data"
    }
   ],
   "source": [
    "plot(dd1.ts, main=\"Weighted Moving Average Smoothing: dd1\")\n",
    "lines(ff3, col='red', lty=2, lwd=2)\n",
    "abline(h=mean(dd1.ts), col='red')"
   ]
  },
  {
   "cell_type": "code",
   "execution_count": 25,
   "id": "6a541dad",
   "metadata": {},
   "outputs": [
    {
     "data": {
      "text/plain": [
       "\n",
       "\tBox-Pierce test\n",
       "\n",
       "data:  res\n",
       "X-squared = 1.2749, df = 1, p-value = 0.2588\n"
      ]
     },
     "metadata": {},
     "output_type": "display_data"
    }
   ],
   "source": [
    "res <- ff3[-1:-3, ] - dd1.ts[-1:-3, ]\n",
    "Box.test(res) "
   ]
  },
  {
   "cell_type": "markdown",
   "id": "ea43c5a8",
   "metadata": {},
   "source": [
    "4. 이동 가중 이동평균 평활법(Double Weight Moving Average Smoothing)"
   ]
  },
  {
   "cell_type": "code",
   "execution_count": 26,
   "id": "7653061e",
   "metadata": {},
   "outputs": [
    {
     "data": {
      "text/html": [
       "<table class=\"dataframe\">\n",
       "<caption>A Time Series: 5 × 4</caption>\n",
       "<thead>\n",
       "\t<tr><th></th><th scope=col>Qtr1</th><th scope=col>Qtr2</th><th scope=col>Qtr3</th><th scope=col>Qtr4</th></tr>\n",
       "</thead>\n",
       "<tbody>\n",
       "\t<tr><th scope=row>2016</th><td>     NA</td><td>     NA</td><td>     NA</td><td>     NA</td></tr>\n",
       "\t<tr><th scope=row>2017</th><td>     NA</td><td>     NA</td><td>1348.99</td><td>1329.26</td></tr>\n",
       "\t<tr><th scope=row>2018</th><td>1299.30</td><td>1291.59</td><td>1311.56</td><td>1318.77</td></tr>\n",
       "\t<tr><th scope=row>2019</th><td>1305.42</td><td>1318.71</td><td>1325.08</td><td>1347.31</td></tr>\n",
       "\t<tr><th scope=row>2020</th><td>1348.52</td><td>1331.47</td><td>1346.91</td><td>1333.87</td></tr>\n",
       "</tbody>\n",
       "</table>\n"
      ],
      "text/latex": [
       "A Time Series: 5 × 4\n",
       "\\begin{tabular}{r|llll}\n",
       "  & Qtr1 & Qtr2 & Qtr3 & Qtr4\\\\\n",
       "\\hline\n",
       "\t2016 &      NA &      NA &      NA &      NA\\\\\n",
       "\t2017 &      NA &      NA & 1348.99 & 1329.26\\\\\n",
       "\t2018 & 1299.30 & 1291.59 & 1311.56 & 1318.77\\\\\n",
       "\t2019 & 1305.42 & 1318.71 & 1325.08 & 1347.31\\\\\n",
       "\t2020 & 1348.52 & 1331.47 & 1346.91 & 1333.87\\\\\n",
       "\\end{tabular}\n"
      ],
      "text/markdown": [
       "\n",
       "A Time Series: 5 × 4\n",
       "\n",
       "| <!--/--> | Qtr1 | Qtr2 | Qtr3 | Qtr4 |\n",
       "|---|---|---|---|---|\n",
       "| 2016 |      NA |      NA |      NA |      NA |\n",
       "| 2017 |      NA |      NA | 1348.99 | 1329.26 |\n",
       "| 2018 | 1299.30 | 1291.59 | 1311.56 | 1318.77 |\n",
       "| 2019 | 1305.42 | 1318.71 | 1325.08 | 1347.31 |\n",
       "| 2020 | 1348.52 | 1331.47 | 1346.91 | 1333.87 |\n",
       "\n"
      ],
      "text/plain": [
       "     Qtr1    Qtr2    Qtr3    Qtr4   \n",
       "2016      NA      NA      NA      NA\n",
       "2017      NA      NA 1348.99 1329.26\n",
       "2018 1299.30 1291.59 1311.56 1318.77\n",
       "2019 1305.42 1318.71 1325.08 1347.31\n",
       "2020 1348.52 1331.47 1346.91 1333.87"
      ]
     },
     "metadata": {},
     "output_type": "display_data"
    }
   ],
   "source": [
    "w1 <- c(0.4, 0.3, 0.2, 0.1) # 직전시간에 40%, 전전시간 30%\n",
    "ff3 <- filter(dd1.ts, filter=w1, method=\"convolution\", sides=1)\n",
    "ff4 <- filter(ff3, filter=w1, method=\"convolution\", sides=1)\n",
    "ff4"
   ]
  },
  {
   "cell_type": "code",
   "execution_count": 27,
   "id": "998dcaba",
   "metadata": {},
   "outputs": [
    {
     "data": {
      "image/png": "[encoded data removed]",
      "text/plain": [
       "Plot with title \"Double Weight Moving Average Smoothing\""
      ]
     },
     "metadata": {
      "image/png": {
       "height": 420,
       "width": 420
      }
     },
     "output_type": "display_data"
    }
   ],
   "source": [
    "plot(dd1.ts, main=\"Double Weight Moving Average Smoothing\")\n",
    "lines(ff4, col='red', lty=2, lwd=2)\n",
    "abline(h=mean(dd1.ts), col='red')"
   ]
  },
  {
   "cell_type": "code",
   "execution_count": 28,
   "id": "178519c4",
   "metadata": {},
   "outputs": [
    {
     "name": "stderr",
     "output_type": "stream",
     "text": [
      "Warning message in ets(object, lambda = lambda, biasadj = biasadj, allow.multiplicative.trend = allow.multiplicative.trend, :\n",
      "\"Missing values encountered. Using longest contiguous portion of time series\"\n",
      "Warning message in ets(object, lambda = lambda, biasadj = biasadj, allow.multiplicative.trend = allow.multiplicative.trend, :\n",
      "\"Missing values encountered. Using longest contiguous portion of time series\"\n",
      "Warning message in ets(object, lambda = lambda, biasadj = biasadj, allow.multiplicative.trend = allow.multiplicative.trend, :\n",
      "\"Missing values encountered. Using longest contiguous portion of time series\"\n",
      "Warning message in ets(object, lambda = lambda, biasadj = biasadj, allow.multiplicative.trend = allow.multiplicative.trend, :\n",
      "\"Missing values encountered. Using longest contiguous portion of time series\"\n"
     ]
    }
   ],
   "source": [
    "f1 <- forecast(ff, h=1)  # 1시점 미래 값 예측\n",
    "f2 <- forecast(ff2, h=1)\n",
    "f3 <- forecast(ff3, h=1)\n",
    "f4 <- forecast(ff4, h=1)"
   ]
  },
  {
   "cell_type": "code",
   "execution_count": 29,
   "id": "f55ce645",
   "metadata": {},
   "outputs": [
    {
     "data": {
      "text/plain": [
       "        Point Forecast    Lo 80    Hi 80    Lo 95   Hi 95\n",
       "2021 Q1       1330.823 1295.575 1366.071 1276.916 1384.73"
      ]
     },
     "metadata": {},
     "output_type": "display_data"
    }
   ],
   "source": [
    "f1"
   ]
  },
  {
   "cell_type": "code",
   "execution_count": 31,
   "id": "a764d47e",
   "metadata": {},
   "outputs": [
    {
     "data": {
      "text/plain": [
       "        Point Forecast    Lo 80    Hi 80   Lo 95    Hi 95\n",
       "2021 Q1       1331.444 1306.824 1356.065 1293.79 1369.098"
      ]
     },
     "metadata": {},
     "output_type": "display_data"
    }
   ],
   "source": [
    "f2"
   ]
  },
  {
   "cell_type": "code",
   "execution_count": 32,
   "id": "4222be46",
   "metadata": {},
   "outputs": [
    {
     "data": {
      "text/plain": [
       "        Point Forecast    Lo 80    Hi 80    Lo 95    Hi 95\n",
       "2021 Q1       1329.126 1285.268 1372.984 1262.051 1396.201"
      ]
     },
     "metadata": {},
     "output_type": "display_data"
    }
   ],
   "source": [
    "f3"
   ]
  },
  {
   "cell_type": "code",
   "execution_count": 33,
   "id": "e648ddd6",
   "metadata": {},
   "outputs": [
    {
     "data": {
      "text/plain": [
       "        Point Forecast   Lo 80    Hi 80    Lo 95    Hi 95\n",
       "2021 Q1       1333.871 1312.34 1355.403 1300.942 1366.801"
      ]
     },
     "metadata": {},
     "output_type": "display_data"
    }
   ],
   "source": [
    "f4"
   ]
  },
  {
   "cell_type": "markdown",
   "id": "46b2cb66",
   "metadata": {},
   "source": [
    "# 요소분해\n",
    "* 계절성, 추세성, 주기변동등 다양한 변동 성분이 있는데 그것을 분해해서 정상 시계열로 만들어주는 것\n",
    "* 선형적으로 구성되는 가법모형(Additive)\n",
    "* 비선형적으로 구성되는 승법모형(Multiplicative)"
   ]
  },
  {
   "cell_type": "markdown",
   "id": "c42b727c",
   "metadata": {},
   "source": [
    "시계열 자료의 분해 decompose (가법모형)"
   ]
  },
  {
   "cell_type": "code",
   "execution_count": 34,
   "id": "c64c292e",
   "metadata": {},
   "outputs": [],
   "source": [
    "# 기본 시계열 자료\n",
    "dd <- matrix( c(1342, 1442, 1252, 1343,\n",
    "                1425, 1362, 1256, 1272,\n",
    "                1243, 1359, 1412, 1253,\n",
    "                1201, 1478, 1322, 1406,\n",
    "                1254, 1289, 1497, 1208))\n",
    "\n",
    "\n",
    "# 계절변동 자료\n",
    "dd2 <- matrix( c(1142, 1242, 1452, 1543,\n",
    "                1125, 1262, 1456, 1572,\n",
    "                1143, 1259, 1412, 1553,\n",
    "                1121, 1258, 1472, 1546,\n",
    "                1154, 1249, 1477, 1548))\n",
    "\n",
    "# 계절추세변동 자료\n",
    "dd4 <- matrix( c(1142, 1242, 1452, 1543,\n",
    "                1225, 1362, 1556, 1672,\n",
    "                1343, 1459, 1662, 1753,\n",
    "                1421, 1558, 1772, 1846,\n",
    "                1554, 1649, 1877, 1948))\n"
   ]
  },
  {
   "cell_type": "code",
   "execution_count": 35,
   "id": "7aef591e",
   "metadata": {},
   "outputs": [],
   "source": [
    "dd.ts <- ts(data=dd, start=c(2016, 1), frequency=4)\n",
    "dd2.ts <- ts(data=dd2, start=c(2016, 1), frequency=4)\n",
    "dd4.ts <- ts(data=dd4, start=c(2016, 1), frequency=4)"
   ]
  },
  {
   "cell_type": "code",
   "execution_count": 36,
   "id": "3e7043fb",
   "metadata": {},
   "outputs": [
    {
     "data": {
      "text/html": [
       "<table class=\"dataframe\">\n",
       "<caption>A Time Series: 5 × 4</caption>\n",
       "<thead>\n",
       "\t<tr><th></th><th scope=col>Qtr1</th><th scope=col>Qtr2</th><th scope=col>Qtr3</th><th scope=col>Qtr4</th></tr>\n",
       "</thead>\n",
       "<tbody>\n",
       "\t<tr><th scope=row>2016</th><td>1342</td><td>1442</td><td>1252</td><td>1343</td></tr>\n",
       "\t<tr><th scope=row>2017</th><td>1425</td><td>1362</td><td>1256</td><td>1272</td></tr>\n",
       "\t<tr><th scope=row>2018</th><td>1243</td><td>1359</td><td>1412</td><td>1253</td></tr>\n",
       "\t<tr><th scope=row>2019</th><td>1201</td><td>1478</td><td>1322</td><td>1406</td></tr>\n",
       "\t<tr><th scope=row>2020</th><td>1254</td><td>1289</td><td>1497</td><td>1208</td></tr>\n",
       "</tbody>\n",
       "</table>\n"
      ],
      "text/latex": [
       "A Time Series: 5 × 4\n",
       "\\begin{tabular}{r|llll}\n",
       "  & Qtr1 & Qtr2 & Qtr3 & Qtr4\\\\\n",
       "\\hline\n",
       "\t2016 & 1342 & 1442 & 1252 & 1343\\\\\n",
       "\t2017 & 1425 & 1362 & 1256 & 1272\\\\\n",
       "\t2018 & 1243 & 1359 & 1412 & 1253\\\\\n",
       "\t2019 & 1201 & 1478 & 1322 & 1406\\\\\n",
       "\t2020 & 1254 & 1289 & 1497 & 1208\\\\\n",
       "\\end{tabular}\n"
      ],
      "text/markdown": [
       "\n",
       "A Time Series: 5 × 4\n",
       "\n",
       "| <!--/--> | Qtr1 | Qtr2 | Qtr3 | Qtr4 |\n",
       "|---|---|---|---|---|\n",
       "| 2016 | 1342 | 1442 | 1252 | 1343 |\n",
       "| 2017 | 1425 | 1362 | 1256 | 1272 |\n",
       "| 2018 | 1243 | 1359 | 1412 | 1253 |\n",
       "| 2019 | 1201 | 1478 | 1322 | 1406 |\n",
       "| 2020 | 1254 | 1289 | 1497 | 1208 |\n",
       "\n"
      ],
      "text/plain": [
       "     Qtr1 Qtr2 Qtr3 Qtr4\n",
       "2016 1342 1442 1252 1343\n",
       "2017 1425 1362 1256 1272\n",
       "2018 1243 1359 1412 1253\n",
       "2019 1201 1478 1322 1406\n",
       "2020 1254 1289 1497 1208"
      ]
     },
     "metadata": {},
     "output_type": "display_data"
    }
   ],
   "source": [
    "dd.ts"
   ]
  },
  {
   "cell_type": "code",
   "execution_count": 37,
   "id": "988b6918",
   "metadata": {},
   "outputs": [
    {
     "data": {
      "text/html": [
       "<table class=\"dataframe\">\n",
       "<caption>A Time Series: 5 × 4</caption>\n",
       "<thead>\n",
       "\t<tr><th></th><th scope=col>Qtr1</th><th scope=col>Qtr2</th><th scope=col>Qtr3</th><th scope=col>Qtr4</th></tr>\n",
       "</thead>\n",
       "<tbody>\n",
       "\t<tr><th scope=row>2016</th><td>1142</td><td>1242</td><td>1452</td><td>1543</td></tr>\n",
       "\t<tr><th scope=row>2017</th><td>1125</td><td>1262</td><td>1456</td><td>1572</td></tr>\n",
       "\t<tr><th scope=row>2018</th><td>1143</td><td>1259</td><td>1412</td><td>1553</td></tr>\n",
       "\t<tr><th scope=row>2019</th><td>1121</td><td>1258</td><td>1472</td><td>1546</td></tr>\n",
       "\t<tr><th scope=row>2020</th><td>1154</td><td>1249</td><td>1477</td><td>1548</td></tr>\n",
       "</tbody>\n",
       "</table>\n"
      ],
      "text/latex": [
       "A Time Series: 5 × 4\n",
       "\\begin{tabular}{r|llll}\n",
       "  & Qtr1 & Qtr2 & Qtr3 & Qtr4\\\\\n",
       "\\hline\n",
       "\t2016 & 1142 & 1242 & 1452 & 1543\\\\\n",
       "\t2017 & 1125 & 1262 & 1456 & 1572\\\\\n",
       "\t2018 & 1143 & 1259 & 1412 & 1553\\\\\n",
       "\t2019 & 1121 & 1258 & 1472 & 1546\\\\\n",
       "\t2020 & 1154 & 1249 & 1477 & 1548\\\\\n",
       "\\end{tabular}\n"
      ],
      "text/markdown": [
       "\n",
       "A Time Series: 5 × 4\n",
       "\n",
       "| <!--/--> | Qtr1 | Qtr2 | Qtr3 | Qtr4 |\n",
       "|---|---|---|---|---|\n",
       "| 2016 | 1142 | 1242 | 1452 | 1543 |\n",
       "| 2017 | 1125 | 1262 | 1456 | 1572 |\n",
       "| 2018 | 1143 | 1259 | 1412 | 1553 |\n",
       "| 2019 | 1121 | 1258 | 1472 | 1546 |\n",
       "| 2020 | 1154 | 1249 | 1477 | 1548 |\n",
       "\n"
      ],
      "text/plain": [
       "     Qtr1 Qtr2 Qtr3 Qtr4\n",
       "2016 1142 1242 1452 1543\n",
       "2017 1125 1262 1456 1572\n",
       "2018 1143 1259 1412 1553\n",
       "2019 1121 1258 1472 1546\n",
       "2020 1154 1249 1477 1548"
      ]
     },
     "metadata": {},
     "output_type": "display_data"
    }
   ],
   "source": [
    "dd2.ts"
   ]
  },
  {
   "cell_type": "code",
   "execution_count": 38,
   "id": "7326b565",
   "metadata": {},
   "outputs": [
    {
     "data": {
      "text/html": [
       "<table class=\"dataframe\">\n",
       "<caption>A Time Series: 5 × 4</caption>\n",
       "<thead>\n",
       "\t<tr><th></th><th scope=col>Qtr1</th><th scope=col>Qtr2</th><th scope=col>Qtr3</th><th scope=col>Qtr4</th></tr>\n",
       "</thead>\n",
       "<tbody>\n",
       "\t<tr><th scope=row>2016</th><td>1142</td><td>1242</td><td>1452</td><td>1543</td></tr>\n",
       "\t<tr><th scope=row>2017</th><td>1225</td><td>1362</td><td>1556</td><td>1672</td></tr>\n",
       "\t<tr><th scope=row>2018</th><td>1343</td><td>1459</td><td>1662</td><td>1753</td></tr>\n",
       "\t<tr><th scope=row>2019</th><td>1421</td><td>1558</td><td>1772</td><td>1846</td></tr>\n",
       "\t<tr><th scope=row>2020</th><td>1554</td><td>1649</td><td>1877</td><td>1948</td></tr>\n",
       "</tbody>\n",
       "</table>\n"
      ],
      "text/latex": [
       "A Time Series: 5 × 4\n",
       "\\begin{tabular}{r|llll}\n",
       "  & Qtr1 & Qtr2 & Qtr3 & Qtr4\\\\\n",
       "\\hline\n",
       "\t2016 & 1142 & 1242 & 1452 & 1543\\\\\n",
       "\t2017 & 1225 & 1362 & 1556 & 1672\\\\\n",
       "\t2018 & 1343 & 1459 & 1662 & 1753\\\\\n",
       "\t2019 & 1421 & 1558 & 1772 & 1846\\\\\n",
       "\t2020 & 1554 & 1649 & 1877 & 1948\\\\\n",
       "\\end{tabular}\n"
      ],
      "text/markdown": [
       "\n",
       "A Time Series: 5 × 4\n",
       "\n",
       "| <!--/--> | Qtr1 | Qtr2 | Qtr3 | Qtr4 |\n",
       "|---|---|---|---|---|\n",
       "| 2016 | 1142 | 1242 | 1452 | 1543 |\n",
       "| 2017 | 1225 | 1362 | 1556 | 1672 |\n",
       "| 2018 | 1343 | 1459 | 1662 | 1753 |\n",
       "| 2019 | 1421 | 1558 | 1772 | 1846 |\n",
       "| 2020 | 1554 | 1649 | 1877 | 1948 |\n",
       "\n"
      ],
      "text/plain": [
       "     Qtr1 Qtr2 Qtr3 Qtr4\n",
       "2016 1142 1242 1452 1543\n",
       "2017 1225 1362 1556 1672\n",
       "2018 1343 1459 1662 1753\n",
       "2019 1421 1558 1772 1846\n",
       "2020 1554 1649 1877 1948"
      ]
     },
     "metadata": {},
     "output_type": "display_data"
    }
   ],
   "source": [
    "dd4.ts"
   ]
  },
  {
   "cell_type": "code",
   "execution_count": 39,
   "id": "bd072344",
   "metadata": {},
   "outputs": [
    {
     "data": {
      "image/png": "[encoded data removed]",
      "text/plain": [
       "plot without title"
      ]
     },
     "metadata": {
      "image/png": {
       "height": 420,
       "width": 420
      }
     },
     "output_type": "display_data"
    }
   ],
   "source": [
    "plot(dd.ts)"
   ]
  },
  {
   "cell_type": "code",
   "execution_count": 40,
   "id": "4d1257d0",
   "metadata": {},
   "outputs": [
    {
     "data": {
      "image/png": "[encoded data removed]",
      "text/plain": [
       "plot without title"
      ]
     },
     "metadata": {
      "image/png": {
       "height": 420,
       "width": 420
      }
     },
     "output_type": "display_data"
    }
   ],
   "source": [
    "plot(dd2.ts)"
   ]
  },
  {
   "cell_type": "code",
   "execution_count": 41,
   "id": "cf85296d",
   "metadata": {},
   "outputs": [
    {
     "data": {
      "image/png": "[encoded data removed]",
      "text/plain": [
       "plot without title"
      ]
     },
     "metadata": {
      "image/png": {
       "height": 420,
       "width": 420
      }
     },
     "output_type": "display_data"
    }
   ],
   "source": [
    "plot(dd4.ts)"
   ]
  },
  {
   "cell_type": "code",
   "execution_count": 42,
   "id": "fb39147b",
   "metadata": {},
   "outputs": [
    {
     "data": {
      "image/png": "[encoded data removed]",
      "text/plain": [
       "plot without title"
      ]
     },
     "metadata": {
      "image/png": {
       "height": 420,
       "width": 420
      }
     },
     "output_type": "display_data"
    }
   ],
   "source": [
    "plot(decompose(dd2.ts, type='additive')) # 차분"
   ]
  },
  {
   "cell_type": "code",
   "execution_count": 43,
   "id": "093fec6f",
   "metadata": {},
   "outputs": [
    {
     "data": {
      "image/png": "[encoded data removed]",
      "text/plain": [
       "plot without title"
      ]
     },
     "metadata": {
      "image/png": {
       "height": 420,
       "width": 420
      }
     },
     "output_type": "display_data"
    }
   ],
   "source": [
    "plot(decompose(dd4.ts, type='additive')) # 차분"
   ]
  },
  {
   "cell_type": "code",
   "execution_count": 53,
   "id": "1d36aad4",
   "metadata": {},
   "outputs": [
    {
     "data": {
      "text/plain": [
       "$x\n",
       "     Qtr1 Qtr2 Qtr3 Qtr4\n",
       "2016 1142 1242 1452 1543\n",
       "2017 1225 1362 1556 1672\n",
       "2018 1343 1459 1662 1753\n",
       "2019 1421 1558 1772 1846\n",
       "2020 1554 1649 1877 1948\n",
       "\n",
       "$seasonal\n",
       "           Qtr1       Qtr2       Qtr3       Qtr4\n",
       "2016 -178.85156  -83.53906   97.49219  164.89844\n",
       "2017 -178.85156  -83.53906   97.49219  164.89844\n",
       "2018 -178.85156  -83.53906   97.49219  164.89844\n",
       "2019 -178.85156  -83.53906   97.49219  164.89844\n",
       "2020 -178.85156  -83.53906   97.49219  164.89844\n",
       "\n",
       "$trend\n",
       "         Qtr1     Qtr2     Qtr3     Qtr4\n",
       "2016       NA       NA 1355.125 1380.500\n",
       "2017 1408.500 1437.625 1468.500 1495.375\n",
       "2018 1520.750 1544.125 1564.000 1586.125\n",
       "2019 1612.250 1637.625 1665.875 1693.875\n",
       "2020 1718.375 1744.250       NA       NA\n",
       "\n",
       "$random\n",
       "            Qtr1        Qtr2        Qtr3        Qtr4\n",
       "2016          NA          NA  -0.6171875  -2.3984375\n",
       "2017  -4.6484375   7.9140625  -9.9921875  11.7265625\n",
       "2018   1.1015625  -1.5859375   0.5078125   1.9765625\n",
       "2019 -12.3984375   3.9140625   8.6328125 -12.7734375\n",
       "2020  14.4765625 -11.7109375          NA          NA\n",
       "\n",
       "$figure\n",
       "[1] -178.85156  -83.53906   97.49219  164.89844\n",
       "\n",
       "$type\n",
       "[1] \"additive\"\n",
       "\n",
       "attr(,\"class\")\n",
       "[1] \"decomposed.ts\""
      ]
     },
     "metadata": {},
     "output_type": "display_data"
    }
   ],
   "source": [
    "dd4_a <- decompose(dd4.ts, type='additive')\n",
    "dd4_a"
   ]
  },
  {
   "cell_type": "code",
   "execution_count": 45,
   "id": "ded1c4fc",
   "metadata": {},
   "outputs": [
    {
     "data": {
      "text/html": [
       "<table class=\"dataframe\">\n",
       "<caption>A Time Series: 5 × 4</caption>\n",
       "<thead>\n",
       "\t<tr><th></th><th scope=col>Qtr1</th><th scope=col>Qtr2</th><th scope=col>Qtr3</th><th scope=col>Qtr4</th></tr>\n",
       "</thead>\n",
       "<tbody>\n",
       "\t<tr><th scope=row>2016</th><td>-178.85156</td><td> -83.53906</td><td>  97.49219</td><td> 164.89844</td></tr>\n",
       "\t<tr><th scope=row>2017</th><td>-178.85156</td><td> -83.53906</td><td>  97.49219</td><td> 164.89844</td></tr>\n",
       "\t<tr><th scope=row>2018</th><td>-178.85156</td><td> -83.53906</td><td>  97.49219</td><td> 164.89844</td></tr>\n",
       "\t<tr><th scope=row>2019</th><td>-178.85156</td><td> -83.53906</td><td>  97.49219</td><td> 164.89844</td></tr>\n",
       "\t<tr><th scope=row>2020</th><td>-178.85156</td><td> -83.53906</td><td>  97.49219</td><td> 164.89844</td></tr>\n",
       "</tbody>\n",
       "</table>\n"
      ],
      "text/latex": [
       "A Time Series: 5 × 4\n",
       "\\begin{tabular}{r|llll}\n",
       "  & Qtr1 & Qtr2 & Qtr3 & Qtr4\\\\\n",
       "\\hline\n",
       "\t2016 & -178.85156 &  -83.53906 &   97.49219 &  164.89844\\\\\n",
       "\t2017 & -178.85156 &  -83.53906 &   97.49219 &  164.89844\\\\\n",
       "\t2018 & -178.85156 &  -83.53906 &   97.49219 &  164.89844\\\\\n",
       "\t2019 & -178.85156 &  -83.53906 &   97.49219 &  164.89844\\\\\n",
       "\t2020 & -178.85156 &  -83.53906 &   97.49219 &  164.89844\\\\\n",
       "\\end{tabular}\n"
      ],
      "text/markdown": [
       "\n",
       "A Time Series: 5 × 4\n",
       "\n",
       "| <!--/--> | Qtr1 | Qtr2 | Qtr3 | Qtr4 |\n",
       "|---|---|---|---|---|\n",
       "| 2016 | -178.85156 |  -83.53906 |   97.49219 |  164.89844 |\n",
       "| 2017 | -178.85156 |  -83.53906 |   97.49219 |  164.89844 |\n",
       "| 2018 | -178.85156 |  -83.53906 |   97.49219 |  164.89844 |\n",
       "| 2019 | -178.85156 |  -83.53906 |   97.49219 |  164.89844 |\n",
       "| 2020 | -178.85156 |  -83.53906 |   97.49219 |  164.89844 |\n",
       "\n"
      ],
      "text/plain": [
       "     Qtr1       Qtr2       Qtr3       Qtr4      \n",
       "2016 -178.85156  -83.53906   97.49219  164.89844\n",
       "2017 -178.85156  -83.53906   97.49219  164.89844\n",
       "2018 -178.85156  -83.53906   97.49219  164.89844\n",
       "2019 -178.85156  -83.53906   97.49219  164.89844\n",
       "2020 -178.85156  -83.53906   97.49219  164.89844"
      ]
     },
     "metadata": {},
     "output_type": "display_data"
    }
   ],
   "source": [
    "dd4_a$seasonal # 계절변동 분석결과"
   ]
  },
  {
   "cell_type": "code",
   "execution_count": 46,
   "id": "0e622961",
   "metadata": {},
   "outputs": [
    {
     "data": {
      "text/html": [
       "<table class=\"dataframe\">\n",
       "<caption>A Time Series: 5 × 4</caption>\n",
       "<thead>\n",
       "\t<tr><th></th><th scope=col>Qtr1</th><th scope=col>Qtr2</th><th scope=col>Qtr3</th><th scope=col>Qtr4</th></tr>\n",
       "</thead>\n",
       "<tbody>\n",
       "\t<tr><th scope=row>2016</th><td>      NA</td><td>      NA</td><td>1355.125</td><td>1380.500</td></tr>\n",
       "\t<tr><th scope=row>2017</th><td>1408.500</td><td>1437.625</td><td>1468.500</td><td>1495.375</td></tr>\n",
       "\t<tr><th scope=row>2018</th><td>1520.750</td><td>1544.125</td><td>1564.000</td><td>1586.125</td></tr>\n",
       "\t<tr><th scope=row>2019</th><td>1612.250</td><td>1637.625</td><td>1665.875</td><td>1693.875</td></tr>\n",
       "\t<tr><th scope=row>2020</th><td>1718.375</td><td>1744.250</td><td>      NA</td><td>      NA</td></tr>\n",
       "</tbody>\n",
       "</table>\n"
      ],
      "text/latex": [
       "A Time Series: 5 × 4\n",
       "\\begin{tabular}{r|llll}\n",
       "  & Qtr1 & Qtr2 & Qtr3 & Qtr4\\\\\n",
       "\\hline\n",
       "\t2016 &       NA &       NA & 1355.125 & 1380.500\\\\\n",
       "\t2017 & 1408.500 & 1437.625 & 1468.500 & 1495.375\\\\\n",
       "\t2018 & 1520.750 & 1544.125 & 1564.000 & 1586.125\\\\\n",
       "\t2019 & 1612.250 & 1637.625 & 1665.875 & 1693.875\\\\\n",
       "\t2020 & 1718.375 & 1744.250 &       NA &       NA\\\\\n",
       "\\end{tabular}\n"
      ],
      "text/markdown": [
       "\n",
       "A Time Series: 5 × 4\n",
       "\n",
       "| <!--/--> | Qtr1 | Qtr2 | Qtr3 | Qtr4 |\n",
       "|---|---|---|---|---|\n",
       "| 2016 |       NA |       NA | 1355.125 | 1380.500 |\n",
       "| 2017 | 1408.500 | 1437.625 | 1468.500 | 1495.375 |\n",
       "| 2018 | 1520.750 | 1544.125 | 1564.000 | 1586.125 |\n",
       "| 2019 | 1612.250 | 1637.625 | 1665.875 | 1693.875 |\n",
       "| 2020 | 1718.375 | 1744.250 |       NA |       NA |\n",
       "\n"
      ],
      "text/plain": [
       "     Qtr1     Qtr2     Qtr3     Qtr4    \n",
       "2016       NA       NA 1355.125 1380.500\n",
       "2017 1408.500 1437.625 1468.500 1495.375\n",
       "2018 1520.750 1544.125 1564.000 1586.125\n",
       "2019 1612.250 1637.625 1665.875 1693.875\n",
       "2020 1718.375 1744.250       NA       NA"
      ]
     },
     "metadata": {},
     "output_type": "display_data"
    }
   ],
   "source": [
    "dd4_a$trend # 추세변동 분석 결과"
   ]
  },
  {
   "cell_type": "code",
   "execution_count": 49,
   "id": "d212cfa6",
   "metadata": {},
   "outputs": [
    {
     "data": {
      "text/html": [
       "<table class=\"dataframe\">\n",
       "<caption>A Time Series: 5 × 4</caption>\n",
       "<thead>\n",
       "\t<tr><th></th><th scope=col>Qtr1</th><th scope=col>Qtr2</th><th scope=col>Qtr3</th><th scope=col>Qtr4</th></tr>\n",
       "</thead>\n",
       "<tbody>\n",
       "\t<tr><th scope=row>2016</th><td>1142</td><td>1242</td><td>1452</td><td>1543</td></tr>\n",
       "\t<tr><th scope=row>2017</th><td>1225</td><td>1362</td><td>1556</td><td>1672</td></tr>\n",
       "\t<tr><th scope=row>2018</th><td>1343</td><td>1459</td><td>1662</td><td>1753</td></tr>\n",
       "\t<tr><th scope=row>2019</th><td>1421</td><td>1558</td><td>1772</td><td>1846</td></tr>\n",
       "\t<tr><th scope=row>2020</th><td>1554</td><td>1649</td><td>1877</td><td>1948</td></tr>\n",
       "</tbody>\n",
       "</table>\n"
      ],
      "text/latex": [
       "A Time Series: 5 × 4\n",
       "\\begin{tabular}{r|llll}\n",
       "  & Qtr1 & Qtr2 & Qtr3 & Qtr4\\\\\n",
       "\\hline\n",
       "\t2016 & 1142 & 1242 & 1452 & 1543\\\\\n",
       "\t2017 & 1225 & 1362 & 1556 & 1672\\\\\n",
       "\t2018 & 1343 & 1459 & 1662 & 1753\\\\\n",
       "\t2019 & 1421 & 1558 & 1772 & 1846\\\\\n",
       "\t2020 & 1554 & 1649 & 1877 & 1948\\\\\n",
       "\\end{tabular}\n"
      ],
      "text/markdown": [
       "\n",
       "A Time Series: 5 × 4\n",
       "\n",
       "| <!--/--> | Qtr1 | Qtr2 | Qtr3 | Qtr4 |\n",
       "|---|---|---|---|---|\n",
       "| 2016 | 1142 | 1242 | 1452 | 1543 |\n",
       "| 2017 | 1225 | 1362 | 1556 | 1672 |\n",
       "| 2018 | 1343 | 1459 | 1662 | 1753 |\n",
       "| 2019 | 1421 | 1558 | 1772 | 1846 |\n",
       "| 2020 | 1554 | 1649 | 1877 | 1948 |\n",
       "\n"
      ],
      "text/plain": [
       "     Qtr1 Qtr2 Qtr3 Qtr4\n",
       "2016 1142 1242 1452 1543\n",
       "2017 1225 1362 1556 1672\n",
       "2018 1343 1459 1662 1753\n",
       "2019 1421 1558 1772 1846\n",
       "2020 1554 1649 1877 1948"
      ]
     },
     "metadata": {},
     "output_type": "display_data"
    }
   ],
   "source": [
    "dd4.ts"
   ]
  },
  {
   "cell_type": "code",
   "execution_count": 47,
   "id": "5e39659f",
   "metadata": {
    "scrolled": true
   },
   "outputs": [
    {
     "data": {
      "text/html": [
       "<table class=\"dataframe\">\n",
       "<caption>A Time Series: 5 × 4</caption>\n",
       "<thead>\n",
       "\t<tr><th></th><th scope=col>Qtr1</th><th scope=col>Qtr2</th><th scope=col>Qtr3</th><th scope=col>Qtr4</th></tr>\n",
       "</thead>\n",
       "<tbody>\n",
       "\t<tr><th scope=row>2016</th><td>1320.852</td><td>1325.539</td><td>1354.508</td><td>1378.102</td></tr>\n",
       "\t<tr><th scope=row>2017</th><td>1403.852</td><td>1445.539</td><td>1458.508</td><td>1507.102</td></tr>\n",
       "\t<tr><th scope=row>2018</th><td>1521.852</td><td>1542.539</td><td>1564.508</td><td>1588.102</td></tr>\n",
       "\t<tr><th scope=row>2019</th><td>1599.852</td><td>1641.539</td><td>1674.508</td><td>1681.102</td></tr>\n",
       "\t<tr><th scope=row>2020</th><td>1732.852</td><td>1732.539</td><td>1779.508</td><td>1783.102</td></tr>\n",
       "</tbody>\n",
       "</table>\n"
      ],
      "text/latex": [
       "A Time Series: 5 × 4\n",
       "\\begin{tabular}{r|llll}\n",
       "  & Qtr1 & Qtr2 & Qtr3 & Qtr4\\\\\n",
       "\\hline\n",
       "\t2016 & 1320.852 & 1325.539 & 1354.508 & 1378.102\\\\\n",
       "\t2017 & 1403.852 & 1445.539 & 1458.508 & 1507.102\\\\\n",
       "\t2018 & 1521.852 & 1542.539 & 1564.508 & 1588.102\\\\\n",
       "\t2019 & 1599.852 & 1641.539 & 1674.508 & 1681.102\\\\\n",
       "\t2020 & 1732.852 & 1732.539 & 1779.508 & 1783.102\\\\\n",
       "\\end{tabular}\n"
      ],
      "text/markdown": [
       "\n",
       "A Time Series: 5 × 4\n",
       "\n",
       "| <!--/--> | Qtr1 | Qtr2 | Qtr3 | Qtr4 |\n",
       "|---|---|---|---|---|\n",
       "| 2016 | 1320.852 | 1325.539 | 1354.508 | 1378.102 |\n",
       "| 2017 | 1403.852 | 1445.539 | 1458.508 | 1507.102 |\n",
       "| 2018 | 1521.852 | 1542.539 | 1564.508 | 1588.102 |\n",
       "| 2019 | 1599.852 | 1641.539 | 1674.508 | 1681.102 |\n",
       "| 2020 | 1732.852 | 1732.539 | 1779.508 | 1783.102 |\n",
       "\n"
      ],
      "text/plain": [
       "     Qtr1     Qtr2     Qtr3     Qtr4    \n",
       "2016 1320.852 1325.539 1354.508 1378.102\n",
       "2017 1403.852 1445.539 1458.508 1507.102\n",
       "2018 1521.852 1542.539 1564.508 1588.102\n",
       "2019 1599.852 1641.539 1674.508 1681.102\n",
       "2020 1732.852 1732.539 1779.508 1783.102"
      ]
     },
     "metadata": {},
     "output_type": "display_data"
    }
   ],
   "source": [
    "ddd1 <- dd4 - dd4_a$seasonal # 계절 변동 제거\n",
    "ddd1"
   ]
  },
  {
   "cell_type": "code",
   "execution_count": 50,
   "id": "4e3bdc86",
   "metadata": {},
   "outputs": [
    {
     "data": {
      "image/png": "[encoded data removed]",
      "text/plain": [
       "Plot with title \"계절변동 제거 시계열\""
      ]
     },
     "metadata": {
      "image/png": {
       "height": 420,
       "width": 420
      }
     },
     "output_type": "display_data"
    }
   ],
   "source": [
    "plot(ddd1, main=\"계절변동 제거 시계열\")"
   ]
  },
  {
   "cell_type": "code",
   "execution_count": 51,
   "id": "229b0662",
   "metadata": {},
   "outputs": [
    {
     "data": {
      "text/html": [
       "<table class=\"dataframe\">\n",
       "<caption>A Time Series: 5 × 4</caption>\n",
       "<thead>\n",
       "\t<tr><th></th><th scope=col>Qtr1</th><th scope=col>Qtr2</th><th scope=col>Qtr3</th><th scope=col>Qtr4</th></tr>\n",
       "</thead>\n",
       "<tbody>\n",
       "\t<tr><th scope=row>2016</th><td>      NA</td><td>      NA</td><td>  96.875</td><td> 162.500</td></tr>\n",
       "\t<tr><th scope=row>2017</th><td>-183.500</td><td> -75.625</td><td>  87.500</td><td> 176.625</td></tr>\n",
       "\t<tr><th scope=row>2018</th><td>-177.750</td><td> -85.125</td><td>  98.000</td><td> 166.875</td></tr>\n",
       "\t<tr><th scope=row>2019</th><td>-191.250</td><td> -79.625</td><td> 106.125</td><td> 152.125</td></tr>\n",
       "\t<tr><th scope=row>2020</th><td>-164.375</td><td> -95.250</td><td>      NA</td><td>      NA</td></tr>\n",
       "</tbody>\n",
       "</table>\n"
      ],
      "text/latex": [
       "A Time Series: 5 × 4\n",
       "\\begin{tabular}{r|llll}\n",
       "  & Qtr1 & Qtr2 & Qtr3 & Qtr4\\\\\n",
       "\\hline\n",
       "\t2016 &       NA &       NA &   96.875 &  162.500\\\\\n",
       "\t2017 & -183.500 &  -75.625 &   87.500 &  176.625\\\\\n",
       "\t2018 & -177.750 &  -85.125 &   98.000 &  166.875\\\\\n",
       "\t2019 & -191.250 &  -79.625 &  106.125 &  152.125\\\\\n",
       "\t2020 & -164.375 &  -95.250 &       NA &       NA\\\\\n",
       "\\end{tabular}\n"
      ],
      "text/markdown": [
       "\n",
       "A Time Series: 5 × 4\n",
       "\n",
       "| <!--/--> | Qtr1 | Qtr2 | Qtr3 | Qtr4 |\n",
       "|---|---|---|---|---|\n",
       "| 2016 |       NA |       NA |   96.875 |  162.500 |\n",
       "| 2017 | -183.500 |  -75.625 |   87.500 |  176.625 |\n",
       "| 2018 | -177.750 |  -85.125 |   98.000 |  166.875 |\n",
       "| 2019 | -191.250 |  -79.625 |  106.125 |  152.125 |\n",
       "| 2020 | -164.375 |  -95.250 |       NA |       NA |\n",
       "\n"
      ],
      "text/plain": [
       "     Qtr1     Qtr2     Qtr3     Qtr4    \n",
       "2016       NA       NA   96.875  162.500\n",
       "2017 -183.500  -75.625   87.500  176.625\n",
       "2018 -177.750  -85.125   98.000  166.875\n",
       "2019 -191.250  -79.625  106.125  152.125\n",
       "2020 -164.375  -95.250       NA       NA"
      ]
     },
     "metadata": {},
     "output_type": "display_data"
    }
   ],
   "source": [
    "ddd2 <- dd4 - dd4_a$trend # 추세 변동 제거\n",
    "ddd2"
   ]
  },
  {
   "cell_type": "code",
   "execution_count": 52,
   "id": "cabbe26c",
   "metadata": {},
   "outputs": [
    {
     "data": {
      "image/png": "[encoded data removed]",
      "text/plain": [
       "Plot with title \"추세 변동 제거\""
      ]
     },
     "metadata": {
      "image/png": {
       "height": 420,
       "width": 420
      }
     },
     "output_type": "display_data"
    }
   ],
   "source": [
    "plot(ddd2, main=\"추세 변동 제거\")"
   ]
  },
  {
   "cell_type": "code",
   "execution_count": 68,
   "id": "50bc894f",
   "metadata": {},
   "outputs": [
    {
     "data": {
      "image/png": "[encoded data removed]",
      "text/plain": [
       "plot without title"
      ]
     },
     "metadata": {
      "image/png": {
       "height": 420,
       "width": 420
      }
     },
     "output_type": "display_data"
    }
   ],
   "source": [
    "ddd5 <-  ddd2 - dd4_a$seasonal\n",
    "plot(ddd5)"
   ]
  },
  {
   "cell_type": "code",
   "execution_count": null,
   "id": "b5ad8c45",
   "metadata": {},
   "outputs": [],
   "source": []
  },
  {
   "cell_type": "code",
   "execution_count": null,
   "id": "7bdeba70",
   "metadata": {},
   "outputs": [],
   "source": []
  },
  {
   "cell_type": "code",
   "execution_count": null,
   "id": "11afc84c",
   "metadata": {},
   "outputs": [],
   "source": []
  },
  {
   "cell_type": "markdown",
   "id": "92b58e82",
   "metadata": {},
   "source": [
    "시계열 자료의 분해: decompose 승법모형"
   ]
  },
  {
   "cell_type": "code",
   "execution_count": 54,
   "id": "458f2f23",
   "metadata": {},
   "outputs": [
    {
     "data": {
      "image/png": "[encoded data removed]",
      "text/plain": [
       "plot without title"
      ]
     },
     "metadata": {
      "image/png": {
       "height": 420,
       "width": 420
      }
     },
     "output_type": "display_data"
    }
   ],
   "source": [
    "plot(decompose(dd2.ts, type=\"multiplicative\"))"
   ]
  },
  {
   "cell_type": "code",
   "execution_count": 55,
   "id": "a1a59339",
   "metadata": {},
   "outputs": [
    {
     "data": {
      "image/png": "[encoded data removed]",
      "text/plain": [
       "plot without title"
      ]
     },
     "metadata": {
      "image/png": {
       "height": 420,
       "width": 420
      }
     },
     "output_type": "display_data"
    }
   ],
   "source": [
    "plot(decompose(dd4.ts, type=\"multiplicative\"))"
   ]
  },
  {
   "cell_type": "code",
   "execution_count": 69,
   "id": "2758a919",
   "metadata": {},
   "outputs": [],
   "source": [
    "dd4_m <- decompose(dd4.ts, type=\"m\")"
   ]
  },
  {
   "cell_type": "code",
   "execution_count": 70,
   "id": "340c3259",
   "metadata": {},
   "outputs": [
    {
     "data": {
      "text/plain": [
       "$x\n",
       "     Qtr1 Qtr2 Qtr3 Qtr4\n",
       "2016 1142 1242 1452 1543\n",
       "2017 1225 1362 1556 1672\n",
       "2018 1343 1459 1662 1753\n",
       "2019 1421 1558 1772 1846\n",
       "2020 1554 1649 1877 1948\n",
       "\n",
       "$seasonal\n",
       "          Qtr1      Qtr2      Qtr3      Qtr4\n",
       "2016 0.8837622 0.9463204 1.0633044 1.1066129\n",
       "2017 0.8837622 0.9463204 1.0633044 1.1066129\n",
       "2018 0.8837622 0.9463204 1.0633044 1.1066129\n",
       "2019 0.8837622 0.9463204 1.0633044 1.1066129\n",
       "2020 0.8837622 0.9463204 1.0633044 1.1066129\n",
       "\n",
       "$trend\n",
       "         Qtr1     Qtr2     Qtr3     Qtr4\n",
       "2016       NA       NA 1355.125 1380.500\n",
       "2017 1408.500 1437.625 1468.500 1495.375\n",
       "2018 1520.750 1544.125 1564.000 1586.125\n",
       "2019 1612.250 1637.625 1665.875 1693.875\n",
       "2020 1718.375 1744.250       NA       NA\n",
       "\n",
       "$random\n",
       "          Qtr1      Qtr2      Qtr3      Qtr4\n",
       "2016        NA        NA 1.0076962 1.0100289\n",
       "2017 0.9841104 1.0011364 0.9965016 1.0103932\n",
       "2018 0.9992698 0.9984691 0.9993938 0.9987316\n",
       "2019 0.9973010 1.0053442 1.0003770 0.9848149\n",
       "2020 1.0232874 0.9990189        NA        NA\n",
       "\n",
       "$figure\n",
       "[1] 0.8837622 0.9463204 1.0633044 1.1066129\n",
       "\n",
       "$type\n",
       "[1] \"multiplicative\"\n",
       "\n",
       "attr(,\"class\")\n",
       "[1] \"decomposed.ts\""
      ]
     },
     "metadata": {},
     "output_type": "display_data"
    }
   ],
   "source": [
    "dd4_m"
   ]
  },
  {
   "cell_type": "code",
   "execution_count": 89,
   "id": "fbc01e0b",
   "metadata": {
    "scrolled": true
   },
   "outputs": [
    {
     "data": {
      "text/html": [
       "<table class=\"dataframe\">\n",
       "<caption>A Time Series: 5 × 4</caption>\n",
       "<thead>\n",
       "\t<tr><th></th><th scope=col>Qtr1</th><th scope=col>Qtr2</th><th scope=col>Qtr3</th><th scope=col>Qtr4</th></tr>\n",
       "</thead>\n",
       "<tbody>\n",
       "\t<tr><th scope=row>2016</th><td>       NA</td><td>       NA</td><td>1.0714879</td><td>1.1177110</td></tr>\n",
       "\t<tr><th scope=row>2017</th><td>0.8697196</td><td>0.9473959</td><td>1.0595846</td><td>1.1181142</td></tr>\n",
       "\t<tr><th scope=row>2018</th><td>0.8831169</td><td>0.9448717</td><td>1.0626598</td><td>1.1052092</td></tr>\n",
       "\t<tr><th scope=row>2019</th><td>0.8813770</td><td>0.9513778</td><td>1.0637053</td><td>1.0898089</td></tr>\n",
       "\t<tr><th scope=row>2020</th><td>0.9043428</td><td>0.9453920</td><td>       NA</td><td>       NA</td></tr>\n",
       "</tbody>\n",
       "</table>\n"
      ],
      "text/latex": [
       "A Time Series: 5 × 4\n",
       "\\begin{tabular}{r|llll}\n",
       "  & Qtr1 & Qtr2 & Qtr3 & Qtr4\\\\\n",
       "\\hline\n",
       "\t2016 &        NA &        NA & 1.0714879 & 1.1177110\\\\\n",
       "\t2017 & 0.8697196 & 0.9473959 & 1.0595846 & 1.1181142\\\\\n",
       "\t2018 & 0.8831169 & 0.9448717 & 1.0626598 & 1.1052092\\\\\n",
       "\t2019 & 0.8813770 & 0.9513778 & 1.0637053 & 1.0898089\\\\\n",
       "\t2020 & 0.9043428 & 0.9453920 &        NA &        NA\\\\\n",
       "\\end{tabular}\n"
      ],
      "text/markdown": [
       "\n",
       "A Time Series: 5 × 4\n",
       "\n",
       "| <!--/--> | Qtr1 | Qtr2 | Qtr3 | Qtr4 |\n",
       "|---|---|---|---|---|\n",
       "| 2016 |        NA |        NA | 1.0714879 | 1.1177110 |\n",
       "| 2017 | 0.8697196 | 0.9473959 | 1.0595846 | 1.1181142 |\n",
       "| 2018 | 0.8831169 | 0.9448717 | 1.0626598 | 1.1052092 |\n",
       "| 2019 | 0.8813770 | 0.9513778 | 1.0637053 | 1.0898089 |\n",
       "| 2020 | 0.9043428 | 0.9453920 |        NA |        NA |\n",
       "\n"
      ],
      "text/plain": [
       "     Qtr1      Qtr2      Qtr3      Qtr4     \n",
       "2016        NA        NA 1.0714879 1.1177110\n",
       "2017 0.8697196 0.9473959 1.0595846 1.1181142\n",
       "2018 0.8831169 0.9448717 1.0626598 1.1052092\n",
       "2019 0.8813770 0.9513778 1.0637053 1.0898089\n",
       "2020 0.9043428 0.9453920        NA        NA"
      ]
     },
     "metadata": {},
     "output_type": "display_data"
    }
   ],
   "source": [
    "ddd3 <- dd4/dd4_m$trend # 추세 변동 제거\n",
    "ddd3"
   ]
  },
  {
   "cell_type": "code",
   "execution_count": 90,
   "id": "80d7016a",
   "metadata": {},
   "outputs": [
    {
     "data": {
      "image/png": "[encoded data removed]",
      "text/plain": [
       "plot without title"
      ]
     },
     "metadata": {
      "image/png": {
       "height": 420,
       "width": 420
      }
     },
     "output_type": "display_data"
    }
   ],
   "source": [
    "plot(ddd3)"
   ]
  },
  {
   "cell_type": "code",
   "execution_count": 91,
   "id": "83adfc8e",
   "metadata": {},
   "outputs": [
    {
     "data": {
      "text/html": [
       "<table class=\"dataframe\">\n",
       "<caption>A Time Series: 5 × 4</caption>\n",
       "<thead>\n",
       "\t<tr><th></th><th scope=col>Qtr1</th><th scope=col>Qtr2</th><th scope=col>Qtr3</th><th scope=col>Qtr4</th></tr>\n",
       "</thead>\n",
       "<tbody>\n",
       "\t<tr><th scope=row>2016</th><td>1292.203</td><td>1312.452</td><td>1365.554</td><td>1394.345</td></tr>\n",
       "\t<tr><th scope=row>2017</th><td>1386.119</td><td>1439.259</td><td>1463.363</td><td>1510.917</td></tr>\n",
       "\t<tr><th scope=row>2018</th><td>1519.640</td><td>1541.761</td><td>1563.052</td><td>1584.113</td></tr>\n",
       "\t<tr><th scope=row>2019</th><td>1607.899</td><td>1646.377</td><td>1666.503</td><td>1668.153</td></tr>\n",
       "\t<tr><th scope=row>2020</th><td>1758.392</td><td>1742.539</td><td>1765.252</td><td>1760.326</td></tr>\n",
       "</tbody>\n",
       "</table>\n"
      ],
      "text/latex": [
       "A Time Series: 5 × 4\n",
       "\\begin{tabular}{r|llll}\n",
       "  & Qtr1 & Qtr2 & Qtr3 & Qtr4\\\\\n",
       "\\hline\n",
       "\t2016 & 1292.203 & 1312.452 & 1365.554 & 1394.345\\\\\n",
       "\t2017 & 1386.119 & 1439.259 & 1463.363 & 1510.917\\\\\n",
       "\t2018 & 1519.640 & 1541.761 & 1563.052 & 1584.113\\\\\n",
       "\t2019 & 1607.899 & 1646.377 & 1666.503 & 1668.153\\\\\n",
       "\t2020 & 1758.392 & 1742.539 & 1765.252 & 1760.326\\\\\n",
       "\\end{tabular}\n"
      ],
      "text/markdown": [
       "\n",
       "A Time Series: 5 × 4\n",
       "\n",
       "| <!--/--> | Qtr1 | Qtr2 | Qtr3 | Qtr4 |\n",
       "|---|---|---|---|---|\n",
       "| 2016 | 1292.203 | 1312.452 | 1365.554 | 1394.345 |\n",
       "| 2017 | 1386.119 | 1439.259 | 1463.363 | 1510.917 |\n",
       "| 2018 | 1519.640 | 1541.761 | 1563.052 | 1584.113 |\n",
       "| 2019 | 1607.899 | 1646.377 | 1666.503 | 1668.153 |\n",
       "| 2020 | 1758.392 | 1742.539 | 1765.252 | 1760.326 |\n",
       "\n"
      ],
      "text/plain": [
       "     Qtr1     Qtr2     Qtr3     Qtr4    \n",
       "2016 1292.203 1312.452 1365.554 1394.345\n",
       "2017 1386.119 1439.259 1463.363 1510.917\n",
       "2018 1519.640 1541.761 1563.052 1584.113\n",
       "2019 1607.899 1646.377 1666.503 1668.153\n",
       "2020 1758.392 1742.539 1765.252 1760.326"
      ]
     },
     "metadata": {},
     "output_type": "display_data"
    }
   ],
   "source": [
    "ddd4 <- dd4/dd4_m$seasonal # 계절 변동 제거\n",
    "ddd4"
   ]
  },
  {
   "cell_type": "code",
   "execution_count": 86,
   "id": "c4648c61",
   "metadata": {},
   "outputs": [
    {
     "data": {
      "image/png": "[encoded data removed]",
      "text/plain": [
       "plot without title"
      ]
     },
     "metadata": {
      "image/png": {
       "height": 420,
       "width": 420
      }
     },
     "output_type": "display_data"
    }
   ],
   "source": [
    "plot(ddd4)"
   ]
  },
  {
   "cell_type": "code",
   "execution_count": 93,
   "id": "ae63f7f4",
   "metadata": {},
   "outputs": [
    {
     "data": {
      "image/png": "[encoded data removed]",
      "text/plain": [
       "plot without title"
      ]
     },
     "metadata": {
      "image/png": {
       "height": 420,
       "width": 420
      }
     },
     "output_type": "display_data"
    }
   ],
   "source": [
    "ddd6 <- ddd4/dd4_m$trend # 계절 변동 제거\n",
    "plot(ddd6)"
   ]
  },
  {
   "cell_type": "code",
   "execution_count": null,
   "id": "d292aefc",
   "metadata": {},
   "outputs": [],
   "source": []
  },
  {
   "cell_type": "markdown",
   "id": "00019468",
   "metadata": {},
   "source": [
    "# Air Passinser 데이터를 가법/승법모형으로 정상시계열 만들기"
   ]
  },
  {
   "cell_type": "code",
   "execution_count": 76,
   "id": "0c2a794c",
   "metadata": {},
   "outputs": [],
   "source": [
    "library(TSA)"
   ]
  },
  {
   "cell_type": "code",
   "execution_count": 78,
   "id": "05e99992",
   "metadata": {
    "scrolled": true
   },
   "outputs": [],
   "source": [
    "data(airpass)"
   ]
  },
  {
   "cell_type": "code",
   "execution_count": 79,
   "id": "56e84118",
   "metadata": {},
   "outputs": [
    {
     "data": {
      "text/html": [
       "<table class=\"dataframe\">\n",
       "<caption>A Time Series: 12 × 12</caption>\n",
       "<thead>\n",
       "\t<tr><th></th><th scope=col>Jan</th><th scope=col>Feb</th><th scope=col>Mar</th><th scope=col>Apr</th><th scope=col>May</th><th scope=col>Jun</th><th scope=col>Jul</th><th scope=col>Aug</th><th scope=col>Sep</th><th scope=col>Oct</th><th scope=col>Nov</th><th scope=col>Dec</th></tr>\n",
       "</thead>\n",
       "<tbody>\n",
       "\t<tr><th scope=row>1960</th><td>112</td><td>118</td><td>132</td><td>129</td><td>121</td><td>135</td><td>148</td><td>148</td><td>136</td><td>119</td><td>104</td><td>118</td></tr>\n",
       "\t<tr><th scope=row>1961</th><td>115</td><td>126</td><td>141</td><td>135</td><td>125</td><td>149</td><td>170</td><td>170</td><td>158</td><td>133</td><td>114</td><td>140</td></tr>\n",
       "\t<tr><th scope=row>1962</th><td>145</td><td>150</td><td>178</td><td>163</td><td>172</td><td>178</td><td>199</td><td>199</td><td>184</td><td>162</td><td>146</td><td>166</td></tr>\n",
       "\t<tr><th scope=row>1963</th><td>171</td><td>180</td><td>193</td><td>181</td><td>183</td><td>218</td><td>230</td><td>242</td><td>209</td><td>191</td><td>172</td><td>194</td></tr>\n",
       "\t<tr><th scope=row>1964</th><td>196</td><td>196</td><td>236</td><td>235</td><td>229</td><td>243</td><td>264</td><td>272</td><td>237</td><td>211</td><td>180</td><td>201</td></tr>\n",
       "\t<tr><th scope=row>1965</th><td>204</td><td>188</td><td>235</td><td>227</td><td>234</td><td>264</td><td>302</td><td>293</td><td>259</td><td>229</td><td>203</td><td>229</td></tr>\n",
       "\t<tr><th scope=row>1966</th><td>242</td><td>233</td><td>267</td><td>269</td><td>270</td><td>315</td><td>364</td><td>347</td><td>312</td><td>274</td><td>237</td><td>278</td></tr>\n",
       "\t<tr><th scope=row>1967</th><td>284</td><td>277</td><td>317</td><td>313</td><td>318</td><td>374</td><td>413</td><td>405</td><td>355</td><td>306</td><td>271</td><td>306</td></tr>\n",
       "\t<tr><th scope=row>1968</th><td>315</td><td>301</td><td>356</td><td>348</td><td>355</td><td>422</td><td>465</td><td>467</td><td>404</td><td>347</td><td>305</td><td>336</td></tr>\n",
       "\t<tr><th scope=row>1969</th><td>340</td><td>318</td><td>362</td><td>348</td><td>363</td><td>435</td><td>491</td><td>505</td><td>404</td><td>359</td><td>310</td><td>337</td></tr>\n",
       "\t<tr><th scope=row>1970</th><td>360</td><td>342</td><td>406</td><td>396</td><td>420</td><td>472</td><td>548</td><td>559</td><td>463</td><td>407</td><td>362</td><td>405</td></tr>\n",
       "\t<tr><th scope=row>1971</th><td>417</td><td>391</td><td>419</td><td>461</td><td>472</td><td>535</td><td>622</td><td>606</td><td>508</td><td>461</td><td>390</td><td>432</td></tr>\n",
       "</tbody>\n",
       "</table>\n"
      ],
      "text/latex": [
       "A Time Series: 12 × 12\n",
       "\\begin{tabular}{r|llllllllllll}\n",
       "  & Jan & Feb & Mar & Apr & May & Jun & Jul & Aug & Sep & Oct & Nov & Dec\\\\\n",
       "\\hline\n",
       "\t1960 & 112 & 118 & 132 & 129 & 121 & 135 & 148 & 148 & 136 & 119 & 104 & 118\\\\\n",
       "\t1961 & 115 & 126 & 141 & 135 & 125 & 149 & 170 & 170 & 158 & 133 & 114 & 140\\\\\n",
       "\t1962 & 145 & 150 & 178 & 163 & 172 & 178 & 199 & 199 & 184 & 162 & 146 & 166\\\\\n",
       "\t1963 & 171 & 180 & 193 & 181 & 183 & 218 & 230 & 242 & 209 & 191 & 172 & 194\\\\\n",
       "\t1964 & 196 & 196 & 236 & 235 & 229 & 243 & 264 & 272 & 237 & 211 & 180 & 201\\\\\n",
       "\t1965 & 204 & 188 & 235 & 227 & 234 & 264 & 302 & 293 & 259 & 229 & 203 & 229\\\\\n",
       "\t1966 & 242 & 233 & 267 & 269 & 270 & 315 & 364 & 347 & 312 & 274 & 237 & 278\\\\\n",
       "\t1967 & 284 & 277 & 317 & 313 & 318 & 374 & 413 & 405 & 355 & 306 & 271 & 306\\\\\n",
       "\t1968 & 315 & 301 & 356 & 348 & 355 & 422 & 465 & 467 & 404 & 347 & 305 & 336\\\\\n",
       "\t1969 & 340 & 318 & 362 & 348 & 363 & 435 & 491 & 505 & 404 & 359 & 310 & 337\\\\\n",
       "\t1970 & 360 & 342 & 406 & 396 & 420 & 472 & 548 & 559 & 463 & 407 & 362 & 405\\\\\n",
       "\t1971 & 417 & 391 & 419 & 461 & 472 & 535 & 622 & 606 & 508 & 461 & 390 & 432\\\\\n",
       "\\end{tabular}\n"
      ],
      "text/markdown": [
       "\n",
       "A Time Series: 12 × 12\n",
       "\n",
       "| <!--/--> | Jan | Feb | Mar | Apr | May | Jun | Jul | Aug | Sep | Oct | Nov | Dec |\n",
       "|---|---|---|---|---|---|---|---|---|---|---|---|---|\n",
       "| 1960 | 112 | 118 | 132 | 129 | 121 | 135 | 148 | 148 | 136 | 119 | 104 | 118 |\n",
       "| 1961 | 115 | 126 | 141 | 135 | 125 | 149 | 170 | 170 | 158 | 133 | 114 | 140 |\n",
       "| 1962 | 145 | 150 | 178 | 163 | 172 | 178 | 199 | 199 | 184 | 162 | 146 | 166 |\n",
       "| 1963 | 171 | 180 | 193 | 181 | 183 | 218 | 230 | 242 | 209 | 191 | 172 | 194 |\n",
       "| 1964 | 196 | 196 | 236 | 235 | 229 | 243 | 264 | 272 | 237 | 211 | 180 | 201 |\n",
       "| 1965 | 204 | 188 | 235 | 227 | 234 | 264 | 302 | 293 | 259 | 229 | 203 | 229 |\n",
       "| 1966 | 242 | 233 | 267 | 269 | 270 | 315 | 364 | 347 | 312 | 274 | 237 | 278 |\n",
       "| 1967 | 284 | 277 | 317 | 313 | 318 | 374 | 413 | 405 | 355 | 306 | 271 | 306 |\n",
       "| 1968 | 315 | 301 | 356 | 348 | 355 | 422 | 465 | 467 | 404 | 347 | 305 | 336 |\n",
       "| 1969 | 340 | 318 | 362 | 348 | 363 | 435 | 491 | 505 | 404 | 359 | 310 | 337 |\n",
       "| 1970 | 360 | 342 | 406 | 396 | 420 | 472 | 548 | 559 | 463 | 407 | 362 | 405 |\n",
       "| 1971 | 417 | 391 | 419 | 461 | 472 | 535 | 622 | 606 | 508 | 461 | 390 | 432 |\n",
       "\n"
      ],
      "text/plain": [
       "     Jan Feb Mar Apr May Jun Jul Aug Sep Oct Nov Dec\n",
       "1960 112 118 132 129 121 135 148 148 136 119 104 118\n",
       "1961 115 126 141 135 125 149 170 170 158 133 114 140\n",
       "1962 145 150 178 163 172 178 199 199 184 162 146 166\n",
       "1963 171 180 193 181 183 218 230 242 209 191 172 194\n",
       "1964 196 196 236 235 229 243 264 272 237 211 180 201\n",
       "1965 204 188 235 227 234 264 302 293 259 229 203 229\n",
       "1966 242 233 267 269 270 315 364 347 312 274 237 278\n",
       "1967 284 277 317 313 318 374 413 405 355 306 271 306\n",
       "1968 315 301 356 348 355 422 465 467 404 347 305 336\n",
       "1969 340 318 362 348 363 435 491 505 404 359 310 337\n",
       "1970 360 342 406 396 420 472 548 559 463 407 362 405\n",
       "1971 417 391 419 461 472 535 622 606 508 461 390 432"
      ]
     },
     "metadata": {},
     "output_type": "display_data"
    }
   ],
   "source": [
    "airpass"
   ]
  },
  {
   "cell_type": "code",
   "execution_count": 80,
   "id": "87dcb33d",
   "metadata": {},
   "outputs": [
    {
     "data": {
      "image/png": "[encoded data removed]",
      "text/plain": [
       "Plot with title \"air dataset\""
      ]
     },
     "metadata": {
      "image/png": {
       "height": 420,
       "width": 420
      }
     },
     "output_type": "display_data"
    }
   ],
   "source": [
    "plot(airpass, main=\"air dataset\")"
   ]
  },
  {
   "cell_type": "code",
   "execution_count": 81,
   "id": "93e00896",
   "metadata": {},
   "outputs": [
    {
     "data": {
      "image/png": "[encoded data removed]",
      "text/plain": [
       "plot without title"
      ]
     },
     "metadata": {
      "image/png": {
       "height": 420,
       "width": 420
      }
     },
     "output_type": "display_data"
    },
    {
     "data": {
      "image/png": "[encoded data removed]",
      "text/plain": [
       "plot without title"
      ]
     },
     "metadata": {
      "image/png": {
       "height": 420,
       "width": 420
      }
     },
     "output_type": "display_data"
    }
   ],
   "source": [
    "# 가법/승법 모형 분석 결과\n",
    "plot(decompose(airpass, type=\"a\"))\n",
    "plot(decompose(airpass, type=\"m\"))"
   ]
  },
  {
   "cell_type": "code",
   "execution_count": 82,
   "id": "f1f60cbc",
   "metadata": {},
   "outputs": [],
   "source": [
    "ddd = decompose(airpass, type=\"m\")"
   ]
  },
  {
   "cell_type": "code",
   "execution_count": 83,
   "id": "fd79c0fe",
   "metadata": {},
   "outputs": [
    {
     "data": {
      "text/plain": [
       "$x\n",
       "     Jan Feb Mar Apr May Jun Jul Aug Sep Oct Nov Dec\n",
       "1960 112 118 132 129 121 135 148 148 136 119 104 118\n",
       "1961 115 126 141 135 125 149 170 170 158 133 114 140\n",
       "1962 145 150 178 163 172 178 199 199 184 162 146 166\n",
       "1963 171 180 193 181 183 218 230 242 209 191 172 194\n",
       "1964 196 196 236 235 229 243 264 272 237 211 180 201\n",
       "1965 204 188 235 227 234 264 302 293 259 229 203 229\n",
       "1966 242 233 267 269 270 315 364 347 312 274 237 278\n",
       "1967 284 277 317 313 318 374 413 405 355 306 271 306\n",
       "1968 315 301 356 348 355 422 465 467 404 347 305 336\n",
       "1969 340 318 362 348 363 435 491 505 404 359 310 337\n",
       "1970 360 342 406 396 420 472 548 559 463 407 362 405\n",
       "1971 417 391 419 461 472 535 622 606 508 461 390 432\n",
       "\n",
       "$seasonal\n",
       "           Jan       Feb       Mar       Apr       May       Jun       Jul\n",
       "1960 0.9102304 0.8836253 1.0073663 0.9759060 0.9813780 1.1127758 1.2265555\n",
       "1961 0.9102304 0.8836253 1.0073663 0.9759060 0.9813780 1.1127758 1.2265555\n",
       "1962 0.9102304 0.8836253 1.0073663 0.9759060 0.9813780 1.1127758 1.2265555\n",
       "1963 0.9102304 0.8836253 1.0073663 0.9759060 0.9813780 1.1127758 1.2265555\n",
       "1964 0.9102304 0.8836253 1.0073663 0.9759060 0.9813780 1.1127758 1.2265555\n",
       "1965 0.9102304 0.8836253 1.0073663 0.9759060 0.9813780 1.1127758 1.2265555\n",
       "1966 0.9102304 0.8836253 1.0073663 0.9759060 0.9813780 1.1127758 1.2265555\n",
       "1967 0.9102304 0.8836253 1.0073663 0.9759060 0.9813780 1.1127758 1.2265555\n",
       "1968 0.9102304 0.8836253 1.0073663 0.9759060 0.9813780 1.1127758 1.2265555\n",
       "1969 0.9102304 0.8836253 1.0073663 0.9759060 0.9813780 1.1127758 1.2265555\n",
       "1970 0.9102304 0.8836253 1.0073663 0.9759060 0.9813780 1.1127758 1.2265555\n",
       "1971 0.9102304 0.8836253 1.0073663 0.9759060 0.9813780 1.1127758 1.2265555\n",
       "           Aug       Sep       Oct       Nov       Dec\n",
       "1960 1.2199110 1.0604919 0.9217572 0.8011781 0.8988244\n",
       "1961 1.2199110 1.0604919 0.9217572 0.8011781 0.8988244\n",
       "1962 1.2199110 1.0604919 0.9217572 0.8011781 0.8988244\n",
       "1963 1.2199110 1.0604919 0.9217572 0.8011781 0.8988244\n",
       "1964 1.2199110 1.0604919 0.9217572 0.8011781 0.8988244\n",
       "1965 1.2199110 1.0604919 0.9217572 0.8011781 0.8988244\n",
       "1966 1.2199110 1.0604919 0.9217572 0.8011781 0.8988244\n",
       "1967 1.2199110 1.0604919 0.9217572 0.8011781 0.8988244\n",
       "1968 1.2199110 1.0604919 0.9217572 0.8011781 0.8988244\n",
       "1969 1.2199110 1.0604919 0.9217572 0.8011781 0.8988244\n",
       "1970 1.2199110 1.0604919 0.9217572 0.8011781 0.8988244\n",
       "1971 1.2199110 1.0604919 0.9217572 0.8011781 0.8988244\n",
       "\n",
       "$trend\n",
       "          Jan      Feb      Mar      Apr      May      Jun      Jul      Aug\n",
       "1960       NA       NA       NA       NA       NA       NA 126.7917 127.2500\n",
       "1961 131.2500 133.0833 134.9167 136.4167 137.4167 138.7500 140.9167 143.1667\n",
       "1962 157.1250 159.5417 161.8333 164.1250 166.6667 169.0833 171.2500 173.5833\n",
       "1963 183.1250 186.2083 189.0417 191.2917 193.5833 195.8333 198.0417 199.7500\n",
       "1964 215.8333 218.5000 220.9167 222.9167 224.0833 224.7083 225.3333 225.3333\n",
       "1965 228.0000 230.4583 232.2500 233.9167 235.6250 237.7500 240.5000 243.9583\n",
       "1966 261.8333 266.6667 271.1250 275.2083 278.5000 281.9583 285.7500 289.3333\n",
       "1967 309.9583 314.4167 318.6250 321.7500 324.5000 327.0833 329.5417 331.8333\n",
       "1968 348.2500 353.0000 357.6250 361.3750 364.5000 367.1667 369.4583 371.2083\n",
       "1969 375.2500 377.9167 379.5000 380.0000 380.7083 380.9583 381.8333 383.6667\n",
       "1970 402.5417 407.1667 411.8750 416.3333 420.5000 425.5000 430.7083 435.1250\n",
       "1971 456.3333 461.3750 465.2083 469.3333 472.7500 475.0417       NA       NA\n",
       "          Sep      Oct      Nov      Dec\n",
       "1960 127.9583 128.5833 129.0000 129.7500\n",
       "1961 145.7083 148.4167 151.5417 154.7083\n",
       "1962 175.4583 176.8333 178.0417 180.1667\n",
       "1963 202.2083 206.2500 210.4167 213.3750\n",
       "1964 224.9583 224.5833 224.4583 225.5417\n",
       "1965 247.1667 250.2500 253.5000 257.1250\n",
       "1966 293.2500 297.1667 301.0000 305.4583\n",
       "1967 334.4583 337.5417 340.5417 344.0833\n",
       "1968 372.1667 372.4167 372.7500 373.6250\n",
       "1969 386.5000 390.3333 394.7083 398.6250\n",
       "1970 437.7083 440.9583 445.8333 450.6250\n",
       "1971       NA       NA       NA       NA\n",
       "\n",
       "$random\n",
       "           Jan       Feb       Mar       Apr       May       Jun       Jul\n",
       "1960        NA        NA        NA        NA        NA        NA 0.9516643\n",
       "1961 0.9626030 1.0714668 1.0374474 1.0140476 0.9269030 0.9650406 0.9835566\n",
       "1962 1.0138446 1.0640180 1.0918541 1.0176651 1.0515825 0.9460444 0.9474041\n",
       "1963 1.0258814 1.0939696 1.0134734 0.9695596 0.9632673 1.0003735 0.9468562\n",
       "1964 0.9976684 1.0151646 1.0604644 1.0802327 1.0413329 0.9718056 0.9551933\n",
       "1965 0.9829785 0.9232032 1.0044417 0.9943899 1.0119479 0.9978740 1.0237753\n",
       "1966 1.0154046 0.9888241 0.9775844 1.0015732 0.9878755 1.0039635 1.0385512\n",
       "1967 1.0066157 0.9970250 0.9876248 0.9968224 0.9985644 1.0275560 1.0217685\n",
       "1968 0.9937293 0.9649918 0.9881769 0.9867637 0.9924177 1.0328601 1.0261250\n",
       "1969 0.9954212 0.9522762 0.9469115 0.9383993 0.9715785 1.0261340 1.0483841\n",
       "1970 0.9825176 0.9505736 0.9785278 0.9746440 1.0177637 0.9968613 1.0373136\n",
       "1971 1.0039279 0.9590794 0.8940857 1.0064948 1.0173588 1.0120790        NA\n",
       "           Aug       Sep       Oct       Nov       Dec\n",
       "1960 0.9534014 1.0022198 1.0040278 1.0062701 1.0118119\n",
       "1961 0.9733720 1.0225047 0.9721928 0.9389527 1.0067914\n",
       "1962 0.9397599 0.9888637 0.9938809 1.0235337 1.0250824\n",
       "1963 0.9931171 0.9746302 1.0046687 1.0202797 1.0115407\n",
       "1964 0.9894989 0.9934337 1.0192680 1.0009392 0.9915039\n",
       "1965 0.9845184 0.9881036 0.9927613 0.9995143 0.9908692\n",
       "1966 0.9831117 1.0032501 1.0003084 0.9827720 1.0125535\n",
       "1967 1.0004765 1.0008730 0.9835071 0.9932761 0.9894251\n",
       "1968 1.0312668 1.0236147 1.0108432 1.0212995 1.0005263\n",
       "1969 1.0789695 0.9856540 0.9977971 0.9802940 0.9405687\n",
       "1970 1.0531001 0.9974447 1.0013371 1.0134608 0.9999192\n",
       "1971        NA        NA        NA        NA        NA\n",
       "\n",
       "$figure\n",
       " [1] 0.9102304 0.8836253 1.0073663 0.9759060 0.9813780 1.1127758 1.2265555\n",
       " [8] 1.2199110 1.0604919 0.9217572 0.8011781 0.8988244\n",
       "\n",
       "$type\n",
       "[1] \"multiplicative\"\n",
       "\n",
       "attr(,\"class\")\n",
       "[1] \"decomposed.ts\""
      ]
     },
     "metadata": {},
     "output_type": "display_data"
    }
   ],
   "source": [
    "ddd"
   ]
  },
  {
   "cell_type": "code",
   "execution_count": 84,
   "id": "f148dcd0",
   "metadata": {},
   "outputs": [
    {
     "data": {
      "image/png": "[encoded data removed]",
      "text/plain": [
       "Plot with title \"계절변동 제거\""
      ]
     },
     "metadata": {
      "image/png": {
       "height": 420,
       "width": 420
      }
     },
     "output_type": "display_data"
    },
    {
     "data": {
      "image/png": "[encoded data removed]",
      "text/plain": [
       "Plot with title \"추세변동 제거\""
      ]
     },
     "metadata": {
      "image/png": {
       "height": 420,
       "width": 420
      }
     },
     "output_type": "display_data"
    }
   ],
   "source": [
    "plot(airpass/ddd$seasonal, main=\"계절변동 제거\")\n",
    "plot(airpass/ddd$trend, main=\"추세변동 제거\")"
   ]
  },
  {
   "cell_type": "code",
   "execution_count": 94,
   "id": "82186bfb",
   "metadata": {},
   "outputs": [
    {
     "data": {
      "image/png": "[encoded data removed]",
      "text/plain": [
       "plot without title"
      ]
     },
     "metadata": {
      "image/png": {
       "height": 420,
       "width": 420
      }
     },
     "output_type": "display_data"
    }
   ],
   "source": [
    "result <- airpass/ddd$seasonal/ddd$trend\n",
    "plot(result)"
   ]
  },
  {
   "cell_type": "code",
   "execution_count": 95,
   "id": "3e3d582d",
   "metadata": {},
   "outputs": [
    {
     "data": {
      "image/png": "[encoded data removed]",
      "text/plain": [
       "Plot with title \"\""
      ]
     },
     "metadata": {
      "image/png": {
       "height": 420,
       "width": 420
      }
     },
     "output_type": "display_data"
    }
   ],
   "source": [
    "tsdisplay(airpass)"
   ]
  },
  {
   "cell_type": "markdown",
   "id": "bcf5285a",
   "metadata": {},
   "source": [
    "# kpss 검정: 가법모형/승법모형의 random 결과를 검증하여 p-value가 0.05이상이면 독립, 미만이면 자가상관이 있다."
   ]
  },
  {
   "cell_type": "code",
   "execution_count": 96,
   "id": "7a2ede9b",
   "metadata": {},
   "outputs": [
    {
     "data": {
      "text/plain": [
       "\n",
       "\tBox-Pierce test\n",
       "\n",
       "data:  res\n",
       "X-squared = 0.93339, df = 1, p-value = 0.334\n"
      ]
     },
     "metadata": {},
     "output_type": "display_data"
    }
   ],
   "source": [
    "res <- ff4 - dd1.ts\n",
    "Box.test(res)"
   ]
  },
  {
   "cell_type": "code",
   "execution_count": 100,
   "id": "412c648f",
   "metadata": {},
   "outputs": [],
   "source": [
    "library(tseries)"
   ]
  },
  {
   "cell_type": "code",
   "execution_count": 97,
   "id": "f3eeb429",
   "metadata": {},
   "outputs": [],
   "source": [
    "da <- decompose(airpass, type=\"a\")"
   ]
  },
  {
   "cell_type": "code",
   "execution_count": 98,
   "id": "c7862b10",
   "metadata": {},
   "outputs": [],
   "source": [
    "dm <- decompose(airpass, type=\"m\")"
   ]
  },
  {
   "cell_type": "code",
   "execution_count": 101,
   "id": "b8b4ca63",
   "metadata": {},
   "outputs": [
    {
     "name": "stderr",
     "output_type": "stream",
     "text": [
      "Warning message in kpss.test(da$random):\n",
      "\"p-value greater than printed p-value\"\n"
     ]
    },
    {
     "data": {
      "text/plain": [
       "\n",
       "\tKPSS Test for Level Stationarity\n",
       "\n",
       "data:  da$random\n",
       "KPSS Level = 0.016442, Truncation lag parameter = 4, p-value = 0.1\n"
      ]
     },
     "metadata": {},
     "output_type": "display_data"
    }
   ],
   "source": [
    "kpss.test(da$random)"
   ]
  },
  {
   "cell_type": "code",
   "execution_count": 102,
   "id": "a51a54ee",
   "metadata": {},
   "outputs": [
    {
     "name": "stderr",
     "output_type": "stream",
     "text": [
      "Warning message in kpss.test(dm$random):\n",
      "\"p-value greater than printed p-value\"\n"
     ]
    },
    {
     "data": {
      "text/plain": [
       "\n",
       "\tKPSS Test for Level Stationarity\n",
       "\n",
       "data:  dm$random\n",
       "KPSS Level = 0.033058, Truncation lag parameter = 4, p-value = 0.1\n"
      ]
     },
     "metadata": {},
     "output_type": "display_data"
    }
   ],
   "source": [
    "kpss.test(dm$random)"
   ]
  }
 ],
 "metadata": {
  "kernelspec": {
   "display_name": "R",
   "language": "R",
   "name": "ir"
  },
  "language_info": {
   "codemirror_mode": "r",
   "file_extension": ".r",
   "mimetype": "text/x-r-source",
   "name": "R",
   "pygments_lexer": "r",
   "version": "4.1.3"
  }
 },
 "nbformat": 4,
 "nbformat_minor": 5
}
