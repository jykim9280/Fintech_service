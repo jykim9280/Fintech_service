{
 "cells": [
  {
   "cell_type": "code",
   "execution_count": 29,
   "id": "99238829-614e-4310-8d59-781e49ac86ed",
   "metadata": {},
   "outputs": [
    {
     "name": "stdout",
     "output_type": "stream",
     "text": [
      "Index(['코드1', '코드5', '항목명5'], dtype='object')\n"
     ]
    }
   ],
   "source": [
    "print(classification_data.columns)"
   ]
  },
  {
   "cell_type": "code",
   "execution_count": 30,
   "id": "429a7d3a-711a-443b-b0c2-81750dfa8406",
   "metadata": {},
   "outputs": [
    {
     "name": "stdout",
     "output_type": "stream",
     "text": [
      "  코드1   코드5                  항목명5\n",
      "0   A  1110      곡물 및 기타 식량작물 재배업\n",
      "1   A  1121              채소작물 재배업\n",
      "2   A  1122              화훼작물 재배업\n",
      "3   A  1123           종자 및 묘목 생산업\n",
      "4   A  1131              과실작물 재배업\n",
      "5   A  1132      음료용 및 향신용 작물 재배업\n",
      "6   A  1140             기타 작물 재배업\n",
      "7   A  1151               콩나물 재배업\n",
      "8   A  1152  채소, 화훼 및 과실작물 시설 재배업\n",
      "9   A  1159           기타 시설작물 재배업\n"
     ]
    }
   ],
   "source": [
    "import pandas as pd\n",
    "\n",
    "# 엑셀 파일 불러오기\n",
    "file_path = './data/한국표준산업분류체계.xlsx'\n",
    "classification_data = pd.read_excel(file_path)\n",
    "\n",
    "# 필요한 열만 추출 (코드1, 코드5, 항목명5)\n",
    "selected_columns = classification_data[['코드1', '코드5', '항목명5']].dropna()\n",
    "\n",
    "# 결과 확인\n",
    "print(selected_columns.head(10))\n"
   ]
  },
  {
   "cell_type": "code",
   "execution_count": null,
   "id": "862099c1-1b37-4040-805d-0a652a3d7840",
   "metadata": {},
   "outputs": [],
   "source": []
  }
 ],
 "metadata": {
  "kernelspec": {
   "display_name": "Python 3 (ipykernel)",
   "language": "python",
   "name": "python3"
  },
  "language_info": {
   "codemirror_mode": {
    "name": "ipython",
    "version": 3
   },
   "file_extension": ".py",
   "mimetype": "text/x-python",
   "name": "python",
   "nbconvert_exporter": "python",
   "pygments_lexer": "ipython3",
   "version": "3.10.14"
  }
 },
 "nbformat": 4,
 "nbformat_minor": 5
}
