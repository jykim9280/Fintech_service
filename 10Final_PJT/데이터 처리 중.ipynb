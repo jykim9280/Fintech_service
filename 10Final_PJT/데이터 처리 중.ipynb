{
 "cells": [
  {
   "cell_type": "code",
   "execution_count": null,
   "id": "c05e267a-8500-4a52-a56f-9639b55c865a",
   "metadata": {},
   "outputs": [],
   "source": [
    "import requests\n",
    "import xml.etree.ElementTree as ET\n",
    "import pandas as pd\n",
    "from concurrent.futures import ThreadPoolExecutor, as_completed\n",
    "from tqdm import tqdm\n",
    "import time\n",
    "\n",
    "# API 요청 URL 및 기본 파라미터 설정\n",
    "url = \"https://apis.data.go.kr/B553077/api/open/sdsc2/storeListInDong\"\n",
    "service_key = \"VllPGBHyYqwt8xReydqLPRy08DwNkL3jvkbl/pADFjWJ28QlggjEvMQd4UpVqjxqDeV/GHBtun4WRLF+8mZjxA==\"\n",
    "numOfRows = 100  # 페이지당 결과 수를 100개로 설정\n",
    "max_page = 20   # 최대 페이지 수 설정 (예: 100페이지까지)\n",
    "\n",
    "# 요청을 통해 데이터를 가져오는 함수 정의\n",
    "def fetch_data(pageNo):\n",
    "    params = {\n",
    "        \"ServiceKey\": service_key,    # 인증키 (인코딩된 형태로 입력)\n",
    "        \"pageNo\": pageNo,             # 페이지 번호\n",
    "        \"numOfRows\": numOfRows,       # 한 페이지 결과 수\n",
    "        \"divId\": \"ctprvnCd\",          # 구분 ID (시도 코드 사용)\n",
    "        \"key\": \"41\",                  # 시도 코드 값\n",
    "        \"indsLclsCd\": \"I2\",           # 업종 대분류 코드\n",
    "        \"type\": \"xml\"                 # 응답 타입 (xml 또는 json)\n",
    "    }\n",
    "    response = requests.get(url, params=params)\n",
    "    \n",
    "    if response.status_code == 200:\n",
    "        root = ET.fromstring(response.text)\n",
    "        items = root.find(\".//items\")\n",
    "        page_data = []\n",
    "        if items is not None and len(items) > 0:\n",
    "            for item in items:\n",
    "                data = {\n",
    "                    \"bizesId\": item.findtext(\"bizesId\"),\n",
    "                    \"bizesNm\": item.findtext(\"bizesNm\"),\n",
    "                    \"brchNm\": item.findtext(\"brchNm\"),\n",
    "                    \"indsLclsCd\": item.findtext(\"indsLclsCd\"),\n",
    "                    \"indsLclsNm\": item.findtext(\"indsLclsNm\"),\n",
    "                    \"indsMclsCd\": item.findtext(\"indsMclsCd\"),\n",
    "                    \"indsMclsNm\": item.findtext(\"indsMclsNm\"),\n",
    "                    \"indsSclsCd\": item.findtext(\"indsSclsCd\"),\n",
    "                    \"indsSclsNm\": item.findtext(\"indsSclsNm\"),\n",
    "                    \"ksicCd\": item.findtext(\"ksicCd\"),\n",
    "                    \"ksicNm\": item.findtext(\"ksicNm\"),\n",
    "                    \"adongCd\": item.findtext(\"adongCd\"),\n",
    "                    \"rdnmCd\": item.findtext(\"rdnmCd\"),\n",
    "                    \"rdnm\": item.findtext(\"rdnm\"),\n",
    "                    \"lon\": item.findtext(\"lon\"),\n",
    "                    \"lat\": item.findtext(\"lat\")\n",
    "                }\n",
    "                page_data.append(data)\n",
    "            return page_data\n",
    "        else:\n",
    "            return None\n",
    "    else:\n",
    "        print(f\"페이지 {pageNo}에서 요청 실패: {response.status_code}\")\n",
    "        return None\n",
    "\n",
    "# 병렬 처리를 통해 데이터를 빠르게 수집하여 DataFrame에 저장\n",
    "all_data = []\n",
    "print(\"데이터 추출 중...\")\n",
    "\n",
    "with ThreadPoolExecutor(max_workers=10) as executor:  # 최대 10개의 스레드 사용\n",
    "    futures = {executor.submit(fetch_data, page): page for page in range(1, max_page + 1)}\n",
    "    for future in tqdm(as_completed(futures), total=len(futures), desc=\"페이지 처리 중\"):\n",
    "        page_data = future.result()\n",
    "        if page_data:\n",
    "            all_data.extend(page_data)\n",
    "\n",
    "# DataFrame으로 변환\n",
    "df = pd.DataFrame(all_data)\n",
    "\n",
    "# 결과 출력 (또는 파일로 저장)\n",
    "print(f\"\\n총 데이터 개수: {len(df)}\")\n",
    "print(df.head())  # 데이터의 상위 5개 행을 출력\n"
   ]
  },
  {
   "cell_type": "code",
   "execution_count": 2,
   "id": "9ca38c16-a1a0-4b72-b99c-060a5114e5ea",
   "metadata": {},
   "outputs": [
    {
     "name": "stdout",
     "output_type": "stream",
     "text": [
      "데이터가 JSON 파일로 'extracted_data2.json'에 저장되었습니다.\n"
     ]
    }
   ],
   "source": [
    "# # DataFrame을 JSON 파일로 변환하고 저장\n",
    "# json_file_path = \"extracted_data1000.json\"\n",
    "# df.to_json(json_file_path, orient=\"records\", force_ascii=False, indent=4)\n",
    "\n",
    "# print(f\"데이터가 JSON 파일로 '{json_file_path}'에 저장되었습니다.\")"
   ]
  },
  {
   "cell_type": "code",
   "execution_count": null,
   "id": "487430a7-ef99-41e3-8c0c-1c0a1e8dd0ae",
   "metadata": {},
   "outputs": [
    {
     "name": "stdout",
     "output_type": "stream",
     "text": [
      "데이터 추출 중...\n"
     ]
    },
    {
     "name": "stderr",
     "output_type": "stream",
     "text": [
      "페이지 처리 중:   0%|                                                                         | 0/1500 [00:00<?, ?it/s]"
     ]
    },
    {
     "name": "stdout",
     "output_type": "stream",
     "text": [
      "\n",
      "더 이상 가져올 데이터가 없습니다. 작업을 종료합니다.\n"
     ]
    },
    {
     "name": "stderr",
     "output_type": "stream",
     "text": [
      "\n"
     ]
    }
   ],
   "source": [
    "# import requests\n",
    "# import xml.etree.ElementTree as ET\n",
    "# import pandas as pd\n",
    "# from concurrent.futures import ThreadPoolExecutor, as_completed\n",
    "# from tqdm import tqdm\n",
    "# import time\n",
    "\n",
    "# # API 요청 URL 및 기본 파라미터 설정\n",
    "# url = \"https://apis.data.go.kr/B553077/api/open/sdsc2/storeListInDong\"\n",
    "# service_key = \"VllPGBHyYqwt8xReydqLPRy08DwNkL3jvkbl/pADFjWJ28QlggjEvMQd4UpVqjxqDeV/GHBtun4WRLF+8mZjxA==\"\n",
    "# numOfRows = 100  # 페이지당 결과 수를 100개로 설정\n",
    "# max_page = 1500   # 최대 페이지 수 설정\n",
    "\n",
    "# # 요청을 통해 데이터를 가져오는 함수 정의\n",
    "# def fetch_data(pageNo):\n",
    "#     params = {\n",
    "#         \"ServiceKey\": service_key,    # 인증키 (인코딩된 형태로 입력)\n",
    "#         \"pageNo\": pageNo,             # 페이지 번호\n",
    "#         \"numOfRows\": numOfRows,       # 한 페이지 결과 수\n",
    "#         \"divId\": \"ctprvnCd\",          # 구분 ID (시도 코드 사용)\n",
    "#         \"key\": \"41\",                  # 시도 코드 값\n",
    "#         \"indsLclsCd\": \"I2\",           # 업종 대분류 코드\n",
    "#         \"type\": \"xml\"                 # 응답 타입 (xml 또는 json)\n",
    "#     }\n",
    "#     response = requests.get(url, params=params)\n",
    "    \n",
    "#     if response.status_code == 200:\n",
    "#         root = ET.fromstring(response.text)\n",
    "#         items = root.find(\".//items\")\n",
    "#         page_data = []\n",
    "#         if items is not None and len(items) > 0:\n",
    "#             for item in items:\n",
    "#                 data = {\n",
    "#                     \"bizesId\": item.findtext(\"bizesId\"),\n",
    "#                     \"bizesNm\": item.findtext(\"bizesNm\"),\n",
    "#                     \"brchNm\": item.findtext(\"brchNm\"),\n",
    "#                     \"indsLclsCd\": item.findtext(\"indsLclsCd\"),\n",
    "#                     \"indsLclsNm\": item.findtext(\"indsLclsNm\"),\n",
    "#                     \"indsMclsCd\": item.findtext(\"indsMclsCd\"),\n",
    "#                     \"indsMclsNm\": item.findtext(\"indsMclsNm\"),\n",
    "#                     \"indsSclsCd\": item.findtext(\"indsSclsCd\"),\n",
    "#                     \"indsSclsNm\": item.findtext(\"indsSclsNm\"),\n",
    "#                     \"ksicCd\": item.findtext(\"ksicCd\"),\n",
    "#                     \"ksicNm\": item.findtext(\"ksicNm\"),\n",
    "#                     \"adongCd\": item.findtext(\"adongCd\"),\n",
    "#                     \"rdnmCd\": item.findtext(\"rdnmCd\"),\n",
    "#                     \"rdnm\": item.findtext(\"rdnm\"),\n",
    "#                     \"lon\": item.findtext(\"lon\"),\n",
    "#                     \"lat\": item.findtext(\"lat\")\n",
    "#                 }\n",
    "#                 page_data.append(data)\n",
    "#             return page_data\n",
    "#         else:\n",
    "#             return None  # 데이터가 없는 경우 None 반환\n",
    "#     else:\n",
    "#         print(f\"페이지 {pageNo}에서 요청 실패: {response.status_code}\")\n",
    "#         return None\n",
    "\n",
    "# # 병렬 처리를 통해 데이터를 빠르게 수집하여 DataFrame에 저장\n",
    "# all_data3 = []\n",
    "# print(\"데이터 추출 중...\")\n",
    "\n",
    "# with ThreadPoolExecutor(max_workers=10) as executor:  # 최대 10개의 스레드 사용\n",
    "#     futures = {executor.submit(fetch_data, page): page for page in range(1, max_page + 1)}\n",
    "    \n",
    "#     # 페이지에 데이터가 없으면 종료하기 위해 break 조건 추가\n",
    "#     for future in tqdm(as_completed(futures), total=len(futures), desc=\"페이지 처리 중\"):\n",
    "#         page_data = future.result()\n",
    "#         if page_data:\n",
    "#             all_dat3a.extend(page_data)\n",
    "#         else:\n",
    "#             # 데이터가 없으면 더 이상의 작업 중단\n",
    "#             print(\"\\n더 이상 가져올 데이터가 없습니다. 작업을 종료합니다.\")\n",
    "#             break\n",
    "\n",
    "# # DataFrame으로 변환\n",
    "# df3 = pd.DataFrame(all_data3)\n",
    "\n",
    "# # 결과 출력 (또는 파일로 저장)\n",
    "# print(f\"\\n총 데이터 개수: {len(df3)}\")\n",
    "# print(df3.head())  # 데이터의 상위 5개 행을 출력\n"
   ]
  },
  {
   "cell_type": "code",
   "execution_count": null,
   "id": "6dfd4659-a38e-4637-b70c-d15600a6cae0",
   "metadata": {},
   "outputs": [],
   "source": []
  }
 ],
 "metadata": {
  "kernelspec": {
   "display_name": "Python 3 (ipykernel)",
   "language": "python",
   "name": "python3"
  },
  "language_info": {
   "codemirror_mode": {
    "name": "ipython",
    "version": 3
   },
   "file_extension": ".py",
   "mimetype": "text/x-python",
   "name": "python",
   "nbconvert_exporter": "python",
   "pygments_lexer": "ipython3",
   "version": "3.10.14"
  }
 },
 "nbformat": 4,
 "nbformat_minor": 5
}
