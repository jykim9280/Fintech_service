{
 "cells": [
  {
   "cell_type": "markdown",
   "id": "aee7d5c1-dbcc-418f-b6f4-0c36f368a79b",
   "metadata": {},
   "source": [
    "# 서식지정자, format 메서드\n",
    "* 서식 지정자나 format method를 사용하는 이유는 문자열로만 입력해야 하는 상황에서 같은 위치의 문자를 여러번 바꿔야 할 때가 있기 때문\n",
    "* 문자의 자릿수 맞춤, 위치 정렬 등에도 사용"
   ]
  },
  {
   "cell_type": "markdown",
   "id": "cd188dfe-6301-43c9-8c9f-8be17dbdd783",
   "metadata": {},
   "source": [
    "### 1. 서식지정자 %d, %s, %f, %길이s\n",
    "* 문자를 입력할 때 %s"
   ]
  },
  {
   "cell_type": "code",
   "execution_count": null,
   "id": "3be3ad75-9d91-4a5d-a570-f01e097bc03e",
   "metadata": {},
   "outputs": [],
   "source": [
    "print('이 수업의 이름은 %s 입니다.' % '핀테크 서비스 기획자')"
   ]
  },
  {
   "cell_type": "code",
   "execution_count": 2,
   "id": "d4c244e3-6783-48be-b62e-2d8c7699d90e",
   "metadata": {},
   "outputs": [],
   "source": [
    "subject = ['국어','영어','수학','과학','파이썬','database']"
   ]
  },
  {
   "cell_type": "code",
   "execution_count": 6,
   "id": "2b0fbfe0-9e24-4002-9499-e0485abfdd3a",
   "metadata": {},
   "outputs": [
    {
     "name": "stdout",
     "output_type": "stream",
     "text": [
      "이 수업의 이름은 국어 입니다.\n",
      "이 수업의 이름은 영어 입니다.\n",
      "이 수업의 이름은 수학 입니다.\n",
      "이 수업의 이름은 과학 입니다.\n",
      "이 수업의 이름은 파이썬 입니다.\n",
      "이 수업의 이름은 database 입니다.\n"
     ]
    }
   ],
   "source": [
    "for sub_name in subject:\n",
    "    print('이 수업의 이름은 %s 입니다.' % sub_name)"
   ]
  },
  {
   "cell_type": "code",
   "execution_count": 7,
   "id": "1a682be3-4b2f-4d07-9a19-d365c017d6fd",
   "metadata": {},
   "outputs": [
    {
     "name": "stdout",
     "output_type": "stream",
     "text": [
      "올해는 20년 입니다.\n"
     ]
    }
   ],
   "source": [
    "print('올해는 %d년 입니다.' % 20.74)"
   ]
  },
  {
   "cell_type": "code",
   "execution_count": 11,
   "id": "30bebb69-b82e-4873-957f-743c59b7e337",
   "metadata": {},
   "outputs": [
    {
     "name": "stdout",
     "output_type": "stream",
     "text": [
      "올해는 2019년 입니다\n",
      "올해는 2020년 입니다\n",
      "올해는 2021년 입니다\n",
      "올해는 2022년 입니다\n",
      "올해는 2023년 입니다\n",
      "올해는 2024년 입니다\n"
     ]
    }
   ],
   "source": [
    "year = [2019, 2020, 2021, 2022, 2023, 2024]\n",
    "for yyyy in year:\n",
    "    print('올해는 %d년 입니다' % yyyy)"
   ]
  },
  {
   "cell_type": "code",
   "execution_count": 13,
   "id": "3802ac11-1901-4b56-a09f-8f4f957a2b06",
   "metadata": {},
   "outputs": [
    {
     "name": "stdout",
     "output_type": "stream",
     "text": [
      "가격은   15000000 입니다.\n",
      "가격은       1500 입니다.\n"
     ]
    }
   ],
   "source": [
    "print('가격은 %10d 입니다.' % 15000000)\n",
    "print('가격은 %10d 입니다.' % 1500)"
   ]
  },
  {
   "cell_type": "code",
   "execution_count": 17,
   "id": "3f51b6b0-31db-48bb-a62c-b96b26efe255",
   "metadata": {},
   "outputs": [
    {
     "name": "stdout",
     "output_type": "stream",
     "text": [
      "오늘은 2024년  7월 16일 입니다.\n"
     ]
    }
   ],
   "source": [
    "## 여러 항목 동시에 넣기\n",
    "print('오늘은 %4d년 %2d월 %2d일 입니다.' % (2024, 7, 16))"
   ]
  },
  {
   "cell_type": "code",
   "execution_count": 22,
   "id": "e399fa92-fc47-4952-be18-3ef8b09fabdc",
   "metadata": {},
   "outputs": [],
   "source": [
    "company = ['삼성전자', 'LG전자', '현대차', '대한항공', '하나투어']\n",
    "stock = [71800, 121000, 1950000, 31900, 86600]"
   ]
  },
  {
   "cell_type": "code",
   "execution_count": 24,
   "id": "9db90cbf-9dfc-4fae-af87-bebe40ad2cc9",
   "metadata": {},
   "outputs": [
    {
     "name": "stdout",
     "output_type": "stream",
     "text": [
      "삼성전자 의 주가는 71800원 입니다.\n",
      "LG전자 의 주가는 121000원 입니다.\n",
      "현대차 의 주가는 1950000원 입니다.\n",
      "대한항공 의 주가는 31900원 입니다.\n",
      "하나투어 의 주가는 86600원 입니다.\n"
     ]
    }
   ],
   "source": [
    "for com, sto in zip(company, stock):\n",
    "    print(\"%s 의 주가는 %d원 입니다.\" % (com, sto))"
   ]
  },
  {
   "cell_type": "code",
   "execution_count": 27,
   "id": "b54c9a57-f193-41d1-a852-6979927f8fd9",
   "metadata": {},
   "outputs": [
    {
     "name": "stdout",
     "output_type": "stream",
     "text": [
      "(0, ('삼성전자', 71800))\n",
      "(1, ('LG전자', 121000))\n",
      "(2, ('현대차', 1950000))\n",
      "(3, ('대한항공', 31900))\n",
      "(4, ('하나투어', 86600))\n",
      "하나투어 86600\n",
      "2\n"
     ]
    }
   ],
   "source": [
    "for com in enumerate(zip(company, stock)):\n",
    "    print(com)\n",
    "#print(com[1][0], com[1][1])\n",
    "#print(len(com))"
   ]
  },
  {
   "cell_type": "markdown",
   "id": "66d15e1b-2f31-4bea-a1fe-8240d4f06620",
   "metadata": {},
   "source": [
    "## 2. format 메서드 사용하기, f-string 문자열 포매팅\n",
    "* format 메서드 사용하기\n",
    "  '{인덱스}'.format(값)"
   ]
  },
  {
   "cell_type": "code",
   "execution_count": 28,
   "id": "9877a61d-2548-404c-8b3e-eea1eb8abc63",
   "metadata": {},
   "outputs": [
    {
     "name": "stdout",
     "output_type": "stream",
     "text": [
      "삼성전자의 주가는 71800원 입니다.\n"
     ]
    }
   ],
   "source": [
    "print('{0}의 주가는 {1}원 입니다.'.format('삼성전자', 71800))"
   ]
  },
  {
   "cell_type": "markdown",
   "id": "b5658b34-ce1f-42c6-9f8a-20b5a01b6fad",
   "metadata": {},
   "source": [
    "format 메서드에 변수로 값 넣기"
   ]
  },
  {
   "cell_type": "code",
   "execution_count": 31,
   "id": "d0a10f31-749d-4289-9e76-283bfe0da106",
   "metadata": {},
   "outputs": [
    {
     "name": "stdout",
     "output_type": "stream",
     "text": [
      "넷플릭스 오징어 게임위 드라마는 1입니다.\n"
     ]
    }
   ],
   "source": [
    "drama = '오징어 게임'\n",
    "ranking = 1\n",
    "\n",
    "print('넷플릭스 {0}위 드라마는 {1}입니다.'.format(drama, ranking))"
   ]
  },
  {
   "cell_type": "code",
   "execution_count": 33,
   "id": "0fd2fb90-1c19-429c-874b-b8ded3f803f1",
   "metadata": {},
   "outputs": [
    {
     "name": "stdout",
     "output_type": "stream",
     "text": [
      "삼성전자의 주가는 71800원 입니다.\n",
      "LG전자의 주가는 121000원 입니다.\n",
      "현대차의 주가는 1950000원 입니다.\n",
      "대한항공의 주가는 31900원 입니다.\n",
      "하나투어의 주가는 86600원 입니다.\n"
     ]
    }
   ],
   "source": [
    "company = ['삼성전자', 'LG전자', '현대차', '대한항공', '하나투어']\n",
    "stock = [71800, 121000, 1950000, 31900, 86600]\n",
    "\n",
    "for com, sto in zip(company, stock):\n",
    "    print(\"{0}의 주가는 {1}원 입니다.\".format(com, sto))"
   ]
  },
  {
   "cell_type": "markdown",
   "id": "18163cb4-2bcd-4380-a02a-3176a43cd94b",
   "metadata": {},
   "source": [
    "f-string으로 값 넣기 python 3.6부터 사용 가능"
   ]
  },
  {
   "cell_type": "code",
   "execution_count": 35,
   "id": "549b3e95-cd98-48ab-8ecc-e7c500bc7766",
   "metadata": {},
   "outputs": [
    {
     "name": "stdout",
     "output_type": "stream",
     "text": [
      "삼성전자의 주가는 71800원 입니다.\n",
      "LG전자의 주가는 121000원 입니다.\n",
      "현대차의 주가는 1950000원 입니다.\n",
      "대한항공의 주가는 31900원 입니다.\n",
      "하나투어의 주가는 86600원 입니다.\n"
     ]
    }
   ],
   "source": [
    "for com, sto in zip(company, stock):\n",
    "    print(f'{com}의 주가는 {sto}원 입니다.')"
   ]
  },
  {
   "cell_type": "code",
   "execution_count": null,
   "id": "79c95744-5bf8-4b0e-8041-a62d65ffed59",
   "metadata": {},
   "outputs": [],
   "source": [
    "## 3. format 메서드와 f-string으로 문자열 정렬하기, 자리수 지정해 출력하기\n",
    "* '{인덱스: < 길이}'.format(값)\n",
    "f'{값:<길이}'"
   ]
  },
  {
   "cell_type": "code",
   "execution_count": 36,
   "id": "3438f51a-dd95-4703-b4fc-f1abfe045959",
   "metadata": {},
   "outputs": [
    {
     "name": "stdout",
     "output_type": "stream",
     "text": [
      "삼성전자      \n"
     ]
    }
   ],
   "source": [
    "print('{0:<10}'.format('삼성전자'))"
   ]
  },
  {
   "cell_type": "code",
   "execution_count": 38,
   "id": "2cc0a090-6233-4b99-b019-656eb5654562",
   "metadata": {},
   "outputs": [
    {
     "data": {
      "text/plain": [
       "'      삼성전자'"
      ]
     },
     "execution_count": 38,
     "metadata": {},
     "output_type": "execute_result"
    }
   ],
   "source": [
    "# < 10   공간을 10칸 확보하고 글자를 왼쪽 정렬\n",
    "'{0:<10}'.format('삼성전자')\n",
    "# > 10   공간을 10칸 확보하고 글자를 오른쪽 정렬\n",
    "'{0:>10}'.format('삼성전자')"
   ]
  },
  {
   "cell_type": "code",
   "execution_count": 41,
   "id": "3aace233-da14-43d2-ade6-dd71f996ca5f",
   "metadata": {},
   "outputs": [
    {
     "name": "stdout",
     "output_type": "stream",
     "text": [
      "삼성전자      \n"
     ]
    }
   ],
   "source": [
    "print(f\"{'삼성전자':<10}\")"
   ]
  },
  {
   "cell_type": "markdown",
   "id": "8634e6c9-c3b0-4e5c-a7ff-eaf2380c6449",
   "metadata": {},
   "source": [
    "숫자 자리수 맞추고 기본 값 지정하기<br>\n",
    "* '{인덱스:채울 숫자 길이 서식지정자}'.format(값)<br>\n",
    "단, 서식 지정자에서 %는 빼고 적는다.<br>\n",
    "* f'{값:채울 숫자길이 서식지정자}'"
   ]
  },
  {
   "cell_type": "code",
   "execution_count": 45,
   "id": "936996cc-b79b-4470-b5a2-2b48a0270f17",
   "metadata": {},
   "outputs": [
    {
     "name": "stdout",
     "output_type": "stream",
     "text": [
      "01\n"
     ]
    }
   ],
   "source": [
    "# 1자리 숫자 앞에 0 추가하기\n",
    "print('{0:02d}'.format(1))"
   ]
  },
  {
   "cell_type": "code",
   "execution_count": 48,
   "id": "25d02853-4ad8-4c80-aecd-1c9dc4a51086",
   "metadata": {},
   "outputs": [
    {
     "name": "stdout",
     "output_type": "stream",
     "text": [
      "01월\n"
     ]
    }
   ],
   "source": [
    "print(f'{1:02d}월')"
   ]
  },
  {
   "cell_type": "code",
   "execution_count": 50,
   "id": "2dc41bf4-76ca-42ec-ba0f-9ff5433be31c",
   "metadata": {},
   "outputs": [
    {
     "name": "stdout",
     "output_type": "stream",
     "text": [
      "0002.235\n"
     ]
    }
   ],
   "source": [
    "print('{0:08.3f}'.format(2.2345678))"
   ]
  },
  {
   "cell_type": "code",
   "execution_count": 52,
   "id": "9e8ec437-3a0c-4162-ab88-ef02a3de4128",
   "metadata": {
    "scrolled": true
   },
   "outputs": [
    {
     "name": "stdout",
     "output_type": "stream",
     "text": [
      "01월 1일\n",
      "01월 2일\n",
      "01월 3일\n",
      "01월 4일\n",
      "01월 5일\n",
      "01월 6일\n",
      "01월 7일\n",
      "01월 8일\n",
      "01월 9일\n",
      "01월 10일\n",
      "01월 11일\n",
      "01월 12일\n",
      "01월 13일\n",
      "01월 14일\n",
      "01월 15일\n",
      "01월 16일\n",
      "01월 17일\n",
      "01월 18일\n",
      "01월 19일\n",
      "01월 20일\n",
      "01월 21일\n",
      "01월 22일\n",
      "01월 23일\n",
      "01월 24일\n",
      "01월 25일\n",
      "01월 26일\n",
      "01월 27일\n",
      "01월 28일\n",
      "01월 29일\n",
      "01월 30일\n",
      "01월 31일\n",
      "02월 1일\n",
      "02월 2일\n",
      "02월 3일\n",
      "02월 4일\n",
      "02월 5일\n",
      "02월 6일\n",
      "02월 7일\n",
      "02월 8일\n",
      "02월 9일\n",
      "02월 10일\n",
      "02월 11일\n",
      "02월 12일\n",
      "02월 13일\n",
      "02월 14일\n",
      "02월 15일\n",
      "02월 16일\n",
      "02월 17일\n",
      "02월 18일\n",
      "02월 19일\n",
      "02월 20일\n",
      "02월 21일\n",
      "02월 22일\n",
      "02월 23일\n",
      "02월 24일\n",
      "02월 25일\n",
      "02월 26일\n",
      "02월 27일\n",
      "02월 28일\n",
      "03월 1일\n",
      "03월 2일\n",
      "03월 3일\n",
      "03월 4일\n",
      "03월 5일\n",
      "03월 6일\n",
      "03월 7일\n",
      "03월 8일\n",
      "03월 9일\n",
      "03월 10일\n",
      "03월 11일\n",
      "03월 12일\n",
      "03월 13일\n",
      "03월 14일\n",
      "03월 15일\n",
      "03월 16일\n",
      "03월 17일\n",
      "03월 18일\n",
      "03월 19일\n",
      "03월 20일\n",
      "03월 21일\n",
      "03월 22일\n",
      "03월 23일\n",
      "03월 24일\n",
      "03월 25일\n",
      "03월 26일\n",
      "03월 27일\n",
      "03월 28일\n",
      "03월 29일\n",
      "03월 30일\n",
      "03월 31일\n",
      "04월 1일\n",
      "04월 2일\n",
      "04월 3일\n",
      "04월 4일\n",
      "04월 5일\n",
      "04월 6일\n",
      "04월 7일\n",
      "04월 8일\n",
      "04월 9일\n",
      "04월 10일\n",
      "04월 11일\n",
      "04월 12일\n",
      "04월 13일\n",
      "04월 14일\n",
      "04월 15일\n",
      "04월 16일\n",
      "04월 17일\n",
      "04월 18일\n",
      "04월 19일\n",
      "04월 20일\n",
      "04월 21일\n",
      "04월 22일\n",
      "04월 23일\n",
      "04월 24일\n",
      "04월 25일\n",
      "04월 26일\n",
      "04월 27일\n",
      "04월 28일\n",
      "04월 29일\n",
      "04월 30일\n",
      "05월 1일\n",
      "05월 2일\n",
      "05월 3일\n",
      "05월 4일\n",
      "05월 5일\n",
      "05월 6일\n",
      "05월 7일\n",
      "05월 8일\n",
      "05월 9일\n",
      "05월 10일\n",
      "05월 11일\n",
      "05월 12일\n",
      "05월 13일\n",
      "05월 14일\n",
      "05월 15일\n",
      "05월 16일\n",
      "05월 17일\n",
      "05월 18일\n",
      "05월 19일\n",
      "05월 20일\n",
      "05월 21일\n",
      "05월 22일\n",
      "05월 23일\n",
      "05월 24일\n",
      "05월 25일\n",
      "05월 26일\n",
      "05월 27일\n",
      "05월 28일\n",
      "05월 29일\n",
      "05월 30일\n",
      "05월 31일\n",
      "06월 1일\n",
      "06월 2일\n",
      "06월 3일\n",
      "06월 4일\n",
      "06월 5일\n",
      "06월 6일\n",
      "06월 7일\n",
      "06월 8일\n",
      "06월 9일\n",
      "06월 10일\n",
      "06월 11일\n",
      "06월 12일\n",
      "06월 13일\n",
      "06월 14일\n",
      "06월 15일\n",
      "06월 16일\n",
      "06월 17일\n",
      "06월 18일\n",
      "06월 19일\n",
      "06월 20일\n",
      "06월 21일\n",
      "06월 22일\n",
      "06월 23일\n",
      "06월 24일\n",
      "06월 25일\n",
      "06월 26일\n",
      "06월 27일\n",
      "06월 28일\n",
      "06월 29일\n",
      "06월 30일\n",
      "07월 1일\n",
      "07월 2일\n",
      "07월 3일\n",
      "07월 4일\n",
      "07월 5일\n",
      "07월 6일\n",
      "07월 7일\n",
      "07월 8일\n",
      "07월 9일\n",
      "07월 10일\n",
      "07월 11일\n",
      "07월 12일\n",
      "07월 13일\n",
      "07월 14일\n",
      "07월 15일\n",
      "07월 16일\n",
      "07월 17일\n",
      "07월 18일\n",
      "07월 19일\n",
      "07월 20일\n",
      "07월 21일\n",
      "07월 22일\n",
      "07월 23일\n",
      "07월 24일\n",
      "07월 25일\n",
      "07월 26일\n",
      "07월 27일\n",
      "07월 28일\n",
      "07월 29일\n",
      "07월 30일\n",
      "07월 31일\n",
      "08월 1일\n",
      "08월 2일\n",
      "08월 3일\n",
      "08월 4일\n",
      "08월 5일\n",
      "08월 6일\n",
      "08월 7일\n",
      "08월 8일\n",
      "08월 9일\n",
      "08월 10일\n",
      "08월 11일\n",
      "08월 12일\n",
      "08월 13일\n",
      "08월 14일\n",
      "08월 15일\n",
      "08월 16일\n",
      "08월 17일\n",
      "08월 18일\n",
      "08월 19일\n",
      "08월 20일\n",
      "08월 21일\n",
      "08월 22일\n",
      "08월 23일\n",
      "08월 24일\n",
      "08월 25일\n",
      "08월 26일\n",
      "08월 27일\n",
      "08월 28일\n",
      "08월 29일\n",
      "08월 30일\n",
      "08월 31일\n",
      "09월 1일\n",
      "09월 2일\n",
      "09월 3일\n",
      "09월 4일\n",
      "09월 5일\n",
      "09월 6일\n",
      "09월 7일\n",
      "09월 8일\n",
      "09월 9일\n",
      "09월 10일\n",
      "09월 11일\n",
      "09월 12일\n",
      "09월 13일\n",
      "09월 14일\n",
      "09월 15일\n",
      "09월 16일\n",
      "09월 17일\n",
      "09월 18일\n",
      "09월 19일\n",
      "09월 20일\n",
      "09월 21일\n",
      "09월 22일\n",
      "09월 23일\n",
      "09월 24일\n",
      "09월 25일\n",
      "09월 26일\n",
      "09월 27일\n",
      "09월 28일\n",
      "09월 29일\n",
      "09월 30일\n",
      "10월 1일\n",
      "10월 2일\n",
      "10월 3일\n",
      "10월 4일\n",
      "10월 5일\n",
      "10월 6일\n",
      "10월 7일\n",
      "10월 8일\n",
      "10월 9일\n",
      "10월 10일\n",
      "10월 11일\n",
      "10월 12일\n",
      "10월 13일\n",
      "10월 14일\n",
      "10월 15일\n",
      "10월 16일\n",
      "10월 17일\n",
      "10월 18일\n",
      "10월 19일\n",
      "10월 20일\n",
      "10월 21일\n",
      "10월 22일\n",
      "10월 23일\n",
      "10월 24일\n",
      "10월 25일\n",
      "10월 26일\n",
      "10월 27일\n",
      "10월 28일\n",
      "10월 29일\n",
      "10월 30일\n",
      "10월 31일\n",
      "11월 1일\n",
      "11월 2일\n",
      "11월 3일\n",
      "11월 4일\n",
      "11월 5일\n",
      "11월 6일\n",
      "11월 7일\n",
      "11월 8일\n",
      "11월 9일\n",
      "11월 10일\n",
      "11월 11일\n",
      "11월 12일\n",
      "11월 13일\n",
      "11월 14일\n",
      "11월 15일\n",
      "11월 16일\n",
      "11월 17일\n",
      "11월 18일\n",
      "11월 19일\n",
      "11월 20일\n",
      "11월 21일\n",
      "11월 22일\n",
      "11월 23일\n",
      "11월 24일\n",
      "11월 25일\n",
      "11월 26일\n",
      "11월 27일\n",
      "11월 28일\n",
      "11월 29일\n",
      "11월 30일\n",
      "12월 1일\n",
      "12월 2일\n",
      "12월 3일\n",
      "12월 4일\n",
      "12월 5일\n",
      "12월 6일\n",
      "12월 7일\n",
      "12월 8일\n",
      "12월 9일\n",
      "12월 10일\n",
      "12월 11일\n",
      "12월 12일\n",
      "12월 13일\n",
      "12월 14일\n",
      "12월 15일\n",
      "12월 16일\n",
      "12월 17일\n",
      "12월 18일\n",
      "12월 19일\n",
      "12월 20일\n",
      "12월 21일\n",
      "12월 22일\n",
      "12월 23일\n",
      "12월 24일\n",
      "12월 25일\n",
      "12월 26일\n",
      "12월 27일\n",
      "12월 28일\n",
      "12월 29일\n",
      "12월 30일\n",
      "12월 31일\n"
     ]
    }
   ],
   "source": [
    "for m in range(1,13):\n",
    "    if m == 2:\n",
    "        for d in range(1,29):\n",
    "            print(f'{m:02d}월 {d}일')\n",
    "    elif m in (1,3,5,7,8,10,12):\n",
    "        for d in range(1,32):\n",
    "            print(f'{m:02d}월 {d}일')\n",
    "    else:\n",
    "        for d in range(1,31):\n",
    "            print(f'{m:02d}월 {d}일')"
   ]
  },
  {
   "cell_type": "markdown",
   "id": "93a5bd53-7a69-4597-ac13-3cd0f91e8fde",
   "metadata": {},
   "source": [
    ".format f-string으로 url 자동 생성하기 sosok 부분의 값을 01-10까지 변경 "
   ]
  },
  {
   "cell_type": "code",
   "execution_count": 60,
   "id": "cf4456aa-9b4a-48a2-aa22-fac517ca8b61",
   "metadata": {},
   "outputs": [],
   "source": [
    "url = 'https://finance.naver.com/sise/sise_trans_style.naver?sosok=01'"
   ]
  },
  {
   "cell_type": "code",
   "execution_count": 53,
   "id": "d01ae723-8385-4516-a607-2540690f731f",
   "metadata": {},
   "outputs": [
    {
     "name": "stdout",
     "output_type": "stream",
     "text": [
      "https://finance.naver.com/sise/sise_trans_style.naver?sosok=01\n",
      "https://finance.naver.com/sise/sise_trans_style.naver?sosok=02\n",
      "https://finance.naver.com/sise/sise_trans_style.naver?sosok=03\n",
      "https://finance.naver.com/sise/sise_trans_style.naver?sosok=04\n",
      "https://finance.naver.com/sise/sise_trans_style.naver?sosok=05\n",
      "https://finance.naver.com/sise/sise_trans_style.naver?sosok=06\n",
      "https://finance.naver.com/sise/sise_trans_style.naver?sosok=07\n",
      "https://finance.naver.com/sise/sise_trans_style.naver?sosok=08\n",
      "https://finance.naver.com/sise/sise_trans_style.naver?sosok=09\n",
      "https://finance.naver.com/sise/sise_trans_style.naver?sosok=10\n"
     ]
    }
   ],
   "source": [
    "for sosok in range(1,11):\n",
    "    print(f'https://finance.naver.com/sise/sise_trans_style.naver?sosok={sosok:02d}')"
   ]
  },
  {
   "cell_type": "code",
   "execution_count": 58,
   "id": "968a8dc3-8428-4705-9b5e-e5c097cd849a",
   "metadata": {},
   "outputs": [
    {
     "name": "stdout",
     "output_type": "stream",
     "text": [
      "https://finance.naver.com/sise/sise_trans_style.naver?sosok=01\n",
      "https://finance.naver.com/sise/sise_trans_style.naver?sosok=02\n",
      "https://finance.naver.com/sise/sise_trans_style.naver?sosok=03\n",
      "https://finance.naver.com/sise/sise_trans_style.naver?sosok=04\n",
      "https://finance.naver.com/sise/sise_trans_style.naver?sosok=05\n",
      "https://finance.naver.com/sise/sise_trans_style.naver?sosok=06\n",
      "https://finance.naver.com/sise/sise_trans_style.naver?sosok=07\n",
      "https://finance.naver.com/sise/sise_trans_style.naver?sosok=08\n",
      "https://finance.naver.com/sise/sise_trans_style.naver?sosok=09\n",
      "https://finance.naver.com/sise/sise_trans_style.naver?sosok=10\n"
     ]
    }
   ],
   "source": [
    "for sosok in range(1,11):\n",
    "    print('https://finance.naver.com/sise/sise_trans_style.naver?sosok={0:02d}'.format(sosok))"
   ]
  },
  {
   "cell_type": "code",
   "execution_count": 76,
   "id": "e30b96ed-948b-4f27-917e-768af04b02d2",
   "metadata": {},
   "outputs": [
    {
     "name": "stdout",
     "output_type": "stream",
     "text": [
      "https://finance.naver.com/sise/sise_trans_style.naver?sosok=01\n",
      "https://finance.naver.com/sise/sise_trans_style.naver?sosok=02\n",
      "https://finance.naver.com/sise/sise_trans_style.naver?sosok=03\n",
      "https://finance.naver.com/sise/sise_trans_style.naver?sosok=04\n",
      "https://finance.naver.com/sise/sise_trans_style.naver?sosok=05\n",
      "https://finance.naver.com/sise/sise_trans_style.naver?sosok=06\n",
      "https://finance.naver.com/sise/sise_trans_style.naver?sosok=07\n",
      "https://finance.naver.com/sise/sise_trans_style.naver?sosok=08\n",
      "https://finance.naver.com/sise/sise_trans_style.naver?sosok=09\n",
      "https://finance.naver.com/sise/sise_trans_style.naver?sosok=10\n"
     ]
    }
   ],
   "source": [
    "for sosok in range(1,11):\n",
    "    newurl = url.replace(url[-2:],'{0:02d}'.format(sosok))\n",
    "    print(newurl)"
   ]
  },
  {
   "cell_type": "code",
   "execution_count": null,
   "id": "8f0abfc2-16a1-45d1-ae93-65f5a1651ae8",
   "metadata": {},
   "outputs": [],
   "source": [
    "파일 이름을 한 번에 바꾸기\n",
    "숫자로 되어 있는 1자리 혹은 2자리 수 파일 이름을 앞을 0을 채우는 3자리 숫자 형태의 문자열로 이름을 변경"
   ]
  },
  {
   "cell_type": "code",
   "execution_count": 77,
   "id": "925d7c90-87f5-4cfe-982f-e10fb8ded3bd",
   "metadata": {},
   "outputs": [],
   "source": [
    "img_list = ['1.jpg', '10.jpg', '11.jpg', '2.jpg', '3.png']"
   ]
  },
  {
   "cell_type": "code",
   "execution_count": 140,
   "id": "4e5f775a-d67e-4342-be53-f48088605040",
   "metadata": {},
   "outputs": [
    {
     "name": "stdout",
     "output_type": "stream",
     "text": [
      "['001.jpg', '010.jpg', '011.jpg', '002.jpg', '003.png']\n"
     ]
    }
   ],
   "source": [
    "img_list2 = []\n",
    "\n",
    "for i in img_list:\n",
    "    new = '{0:0>7}'.format(i) #포맷은 0이 i를 뜻함!\n",
    "    img_list2.append(new)\n",
    "\n",
    "print(img_list2)"
   ]
  },
  {
   "cell_type": "code",
   "execution_count": 141,
   "id": "df191580-e5c3-43e8-8ddf-b370fd619a2e",
   "metadata": {},
   "outputs": [
    {
     "name": "stdout",
     "output_type": "stream",
     "text": [
      "['001.jpg', '010.jpg', '011.jpg', '002.jpg', '003.png']\n"
     ]
    }
   ],
   "source": [
    "img_list2 = []\n",
    "\n",
    "for i in img_list:\n",
    "    new = f'{i:0>7}'\n",
    "    img_list2.append(new)\n",
    "\n",
    "print(img_list2)"
   ]
  },
  {
   "cell_type": "code",
   "execution_count": 138,
   "id": "fa52a72d-f94e-4b7e-8803-bfcb0b28639b",
   "metadata": {},
   "outputs": [
    {
     "data": {
      "text/plain": [
       "['001.jpg', '010.jpg', '011.jpg', '002.jpg', '003.png']"
      ]
     },
     "execution_count": 138,
     "metadata": {},
     "output_type": "execute_result"
    }
   ],
   "source": [
    "img_list3 = ['{0:0>7}'.format(i) for i in img_list]\n",
    "img_list3"
   ]
  }
 ],
 "metadata": {
  "kernelspec": {
   "display_name": "Python 3 (ipykernel)",
   "language": "python",
   "name": "python3"
  },
  "language_info": {
   "codemirror_mode": {
    "name": "ipython",
    "version": 3
   },
   "file_extension": ".py",
   "mimetype": "text/x-python",
   "name": "python",
   "nbconvert_exporter": "python",
   "pygments_lexer": "ipython3",
   "version": "3.10.14"
  }
 },
 "nbformat": 4,
 "nbformat_minor": 5
}
