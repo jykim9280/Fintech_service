{
 "cells": [
  {
   "cell_type": "markdown",
   "id": "3cfc6b41-c82f-442c-8999-75acdd19f6d1",
   "metadata": {
    "jp-MarkdownHeadingCollapsed": true
   },
   "source": [
    "ctrl + enter 현재 셀 실행<br>\n",
    "shift + enter 현재 셀 실행 후 아래 한줄 내려옴<br>\n",
    "셀 선택이 아닌 박스 선택에서 m 마크다운 y 코드모드<br>\n",
    "ctrl + / 주석 처리<br>\n",
    "변수 - 스네이크 표기법 사용 ex)user_name<br>\n",
    "클래스 - 카멜 표기법 사용 ex)UserName"
   ]
  },
  {
   "cell_type": "markdown",
   "id": "24b1cc38-e383-4a69-8cb6-9cc52e795a20",
   "metadata": {},
   "source": [
    "* h1 태그\n",
    "  *\n"
   ]
  },
  {
   "cell_type": "markdown",
   "id": "1b287704-82da-47c2-a3a2-4ceeadb2fda2",
   "metadata": {},
   "source": [
    "* 링크걸기<br>\n",
    "  [네이버 링크](https://naver.com)"
   ]
  },
  {
   "cell_type": "markdown",
   "id": "b5fc0fd0-00b9-47c8-bec2-9bd4ace8b59e",
   "metadata": {},
   "source": [
    "# 수식 넣기\n",
    "$$ tex $$\n",
    "$$ (A \\cap B) $$\n",
    "\n",
    "[수식 기호 위키문서](https://discordapp.com/channels/1240560508659175437/1251093047043952651/1259765129898233909)"
   ]
  },
  {
   "cell_type": "code",
   "execution_count": 10,
   "id": "c26acdcb-d3f1-4270-9134-2959da2405d1",
   "metadata": {},
   "outputs": [
    {
     "name": "stdout",
     "output_type": "stream",
     "text": [
      "hello, python hello, world\n"
     ]
    }
   ],
   "source": [
    "print('hello, python','hello, world')"
   ]
  },
  {
   "cell_type": "code",
   "execution_count": 12,
   "id": "37fd4773-5834-4aa4-bd5d-33da3d49bc59",
   "metadata": {},
   "outputs": [
    {
     "name": "stdout",
     "output_type": "stream",
     "text": [
      "hello, python--hello, world\n"
     ]
    }
   ],
   "source": [
    "print('hello, python','hello, world', sep=\"--\") #SEP=구분자"
   ]
  },
  {
   "cell_type": "code",
   "execution_count": 15,
   "id": "4ce0b12b-77d1-46e8-b256-bc40b6cb3c1a",
   "metadata": {},
   "outputs": [
    {
     "name": "stdout",
     "output_type": "stream",
     "text": [
      "hello, python hello, world\n"
     ]
    }
   ],
   "source": [
    "print('hello, python', end=\" \") #end 옵션 미설정시 <br> 되는 \\n이 들어있는데 이를 띄어쓰기로 바꿔줌\n",
    "print('hello, world')"
   ]
  },
  {
   "cell_type": "code",
   "execution_count": 17,
   "id": "325bad68-3599-4f13-bc0b-a7c36aae1649",
   "metadata": {},
   "outputs": [
    {
     "name": "stdout",
     "output_type": "stream",
     "text": [
      "hello, worldn\n"
     ]
    }
   ],
   "source": [
    "print('hello, python', sep=\" \", end=\"\\r\") #\\r 하면 처음으로 돌아가서 덮어쓰기(like 타자기)\n",
    "print('hello, world')"
   ]
  },
  {
   "cell_type": "code",
   "execution_count": 18,
   "id": "d4425d41-eebe-444f-bdbe-beb2fe9ae7ee",
   "metadata": {},
   "outputs": [
    {
     "name": "stdout",
     "output_type": "stream",
     "text": [
      "64\r"
     ]
    },
    {
     "ename": "KeyboardInterrupt",
     "evalue": "",
     "output_type": "error",
     "traceback": [
      "\u001b[1;31m---------------------------------------------------------------------------\u001b[0m",
      "\u001b[1;31mKeyboardInterrupt\u001b[0m                         Traceback (most recent call last)",
      "Cell \u001b[1;32mIn[18], line 3\u001b[0m\n\u001b[0;32m      1\u001b[0m \u001b[38;5;28;01mimport\u001b[39;00m \u001b[38;5;21;01mtime\u001b[39;00m\n\u001b[0;32m      2\u001b[0m \u001b[38;5;28;01mfor\u001b[39;00m i \u001b[38;5;129;01min\u001b[39;00m \u001b[38;5;28mrange\u001b[39m(\u001b[38;5;241m1\u001b[39m,\u001b[38;5;241m100\u001b[39m):\n\u001b[1;32m----> 3\u001b[0m     \u001b[43mtime\u001b[49m\u001b[38;5;241;43m.\u001b[39;49m\u001b[43msleep\u001b[49m\u001b[43m(\u001b[49m\u001b[38;5;241;43m1\u001b[39;49m\u001b[43m)\u001b[49m\n\u001b[0;32m      4\u001b[0m     \u001b[38;5;28mprint\u001b[39m(i, end\u001b[38;5;241m=\u001b[39m\u001b[38;5;124m\"\u001b[39m\u001b[38;5;130;01m\\r\u001b[39;00m\u001b[38;5;124m\"\u001b[39m)\n",
      "\u001b[1;31mKeyboardInterrupt\u001b[0m: "
     ]
    }
   ],
   "source": [
    "import time\n",
    "for i in range(1,100):\n",
    "    time.sleep(1)\n",
    "    print(i, end=\"\\r\")"
   ]
  },
  {
   "cell_type": "markdown",
   "id": "fe5a4573-78cd-4306-ae80-20d610b091fd",
   "metadata": {},
   "source": [
    "# 변수\n",
    "* 영문, 숫자를 조합해서 만들 수 있다.\n",
    "* 문자부터 시작해야 하며 숫자부터 시작하면 안된다.\n",
    "* 대소문자를 구분한다.\n",
    "* _로 시작할 수 있다. - 는 안됨\n",
    "* 특수문자 사용 불가능하다.\n",
    "* 파이썬의 키워드(예약어) if, for, while, str은 사용할 수 없다.\n",
    "* 스네이크 표기법으로 명명"
   ]
  },
  {
   "cell_type": "code",
   "execution_count": 20,
   "id": "49dac32f-8947-4b1c-9def-2fc122d03cab",
   "metadata": {},
   "outputs": [
    {
     "name": "stdout",
     "output_type": "stream",
     "text": [
      "10\n",
      "10\n"
     ]
    }
   ],
   "source": [
    "a = 10\n",
    "b = '10'\n",
    "print(a)\n",
    "print(b)"
   ]
  },
  {
   "cell_type": "code",
   "execution_count": 21,
   "id": "42cf1ba4-3ae2-46c2-9869-72351073d9ff",
   "metadata": {},
   "outputs": [
    {
     "data": {
      "text/plain": [
       "10"
      ]
     },
     "execution_count": 21,
     "metadata": {},
     "output_type": "execute_result"
    }
   ],
   "source": [
    "a"
   ]
  },
  {
   "cell_type": "code",
   "execution_count": 22,
   "id": "3e7ed517-d8a3-4652-94b3-f34f10a2e040",
   "metadata": {},
   "outputs": [
    {
     "data": {
      "text/plain": [
       "'10'"
      ]
     },
     "execution_count": 22,
     "metadata": {},
     "output_type": "execute_result"
    }
   ],
   "source": [
    "b"
   ]
  },
  {
   "cell_type": "markdown",
   "id": "b0d9bf5a-a43c-4344-a4fa-4e2425c052f4",
   "metadata": {},
   "source": [
    "# 키보드 입력받기 (input)\n",
    "* input() 함수로 입력받는 모든 값은 문자열로 저장된다.\n",
    "* 반드시 형변환이 필요"
   ]
  },
  {
   "cell_type": "code",
   "execution_count": 25,
   "id": "9aecd885-a52d-4ea4-be73-a533049f4e4b",
   "metadata": {},
   "outputs": [
    {
     "name": "stdin",
     "output_type": "stream",
     "text": [
      " 10\n",
      " 20\n"
     ]
    },
    {
     "name": "stdout",
     "output_type": "stream",
     "text": [
      "1020\n",
      "30\n"
     ]
    }
   ],
   "source": [
    "num = input()\n",
    "num2 = input()\n",
    "print(num + num2)\n",
    "print(int(num)+int(num2))"
   ]
  },
  {
   "cell_type": "markdown",
   "id": "9d58362f-7a65-40f3-9334-4ae2e11cf2c2",
   "metadata": {},
   "source": [
    "# 변수 여러개를 한 번에 만들기\n",
    "* 변수 개수와 데이터 개수는 일치시켜야 한다."
   ]
  },
  {
   "cell_type": "code",
   "execution_count": 28,
   "id": "57159e39-7d0c-4147-b9cf-83e6891a7857",
   "metadata": {},
   "outputs": [],
   "source": [
    "x, y, z = 10, 20, 30"
   ]
  },
  {
   "cell_type": "code",
   "execution_count": 29,
   "id": "906b347e-61fa-4f85-8857-3eeeb6824a00",
   "metadata": {},
   "outputs": [
    {
     "name": "stdout",
     "output_type": "stream",
     "text": [
      "10 20 30\n"
     ]
    }
   ],
   "source": [
    "print(x,y,z)"
   ]
  },
  {
   "cell_type": "code",
   "execution_count": 31,
   "id": "895c2987-6c9a-4682-8ce4-370d864e28fe",
   "metadata": {},
   "outputs": [
    {
     "ename": "NameError",
     "evalue": "name 'z' is not defined",
     "output_type": "error",
     "traceback": [
      "\u001b[1;31m---------------------------------------------------------------------------\u001b[0m",
      "\u001b[1;31mNameError\u001b[0m                                 Traceback (most recent call last)",
      "Cell \u001b[1;32mIn[31], line 1\u001b[0m\n\u001b[1;32m----> 1\u001b[0m \u001b[38;5;28;01mdel\u001b[39;00m z\n",
      "\u001b[1;31mNameError\u001b[0m: name 'z' is not defined"
     ]
    }
   ],
   "source": [
    "del z"
   ]
  },
  {
   "cell_type": "markdown",
   "id": "d3d778e6-f7ea-44e0-bd2f-1e88efb804b0",
   "metadata": {},
   "source": [
    "## 파이썬은 변수에 담는 자료에 따라서 동적으로 자료형 정해짐"
   ]
  },
  {
   "cell_type": "markdown",
   "id": "2ba8b870-e3a1-47b8-9723-9bcc2dbf50f1",
   "metadata": {},
   "source": [
    "## 문단을 통채로 넣는 법 ''' '''', \"\"\""
   ]
  },
  {
   "cell_type": "code",
   "execution_count": 35,
   "id": "135f1c68-dbfd-442f-b378-c14c477cdadb",
   "metadata": {},
   "outputs": [],
   "source": [
    "s5 = '''문자형 변수에는 단어 뿐만 아니라\n",
    "문장도 넣을 수 있다.\n",
    "줄바꿈도 가능'''"
   ]
  },
  {
   "cell_type": "code",
   "execution_count": 36,
   "id": "2c116788-dba9-4e80-bf68-2c923802e78c",
   "metadata": {},
   "outputs": [
    {
     "name": "stdout",
     "output_type": "stream",
     "text": [
      "문자형 변수에는 단어 뿐만 아니라\n",
      "문장도 넣을 수 있다.\n",
      "줄바꿈도 가능\n"
     ]
    }
   ],
   "source": [
    "print(s5)"
   ]
  },
  {
   "cell_type": "markdown",
   "id": "7d402be2-e231-4cef-80d1-35d0b08783b2",
   "metadata": {},
   "source": [
    "## 리스트(list), 튜플(tuple)\n",
    "* 순서가 있는 자료형\n",
    "* 여러 개의 자료를 넣을 수 있다.\n",
    "* 여러 개의 데이터 타입의 자료를 넣을 수 있다.\n",
    "* 인덱스로 호출이 가능\n",
    "* 슬라이싱으로 부분 출력이 가능\n",
    "* 리스트는 [ ] 안에 자료를 넣어 만듦\n",
    "* 튜플은 ( ) 안에 자료를 넣어 만듦\n",
    "* "
   ]
  },
  {
   "cell_type": "code",
   "execution_count": 38,
   "id": "d04b66f2-3149-45d2-8dc0-120bb6d70b11",
   "metadata": {},
   "outputs": [],
   "source": [
    "L =[1, 3.14, \"파이썬\", [1,2,3,4], (5,6,7,8)]"
   ]
  },
  {
   "cell_type": "code",
   "execution_count": 39,
   "id": "419c5747-4f88-42b8-90e9-e2dd38c8464a",
   "metadata": {},
   "outputs": [
    {
     "data": {
      "text/plain": [
       "[1, 3.14, '파이썬', [1, 2, 3, 4], (5, 6, 7, 8)]"
      ]
     },
     "execution_count": 39,
     "metadata": {},
     "output_type": "execute_result"
    }
   ],
   "source": [
    "L"
   ]
  },
  {
   "cell_type": "code",
   "execution_count": 42,
   "id": "7211b76b-c050-44d8-b1bf-439048133b46",
   "metadata": {},
   "outputs": [
    {
     "data": {
      "text/plain": [
       "tuple"
      ]
     },
     "execution_count": 42,
     "metadata": {},
     "output_type": "execute_result"
    }
   ],
   "source": [
    "type(L[4])"
   ]
  },
  {
   "cell_type": "markdown",
   "id": "c0ed5ac1-5765-4bed-9bad-80e9ad2fb41d",
   "metadata": {},
   "source": [
    "## 슬라이싱:인덱스의 범위 지정해서 여러개의 자료를 가져오는 것\n",
    "* 변수명[시작 인덱스:끝 인덱스+1]"
   ]
  },
  {
   "cell_type": "code",
   "execution_count": 43,
   "id": "cd83f1d5-8a8a-455e-b3a5-04a8f77dd8a2",
   "metadata": {},
   "outputs": [
    {
     "data": {
      "text/plain": [
       "[1, 3.14]"
      ]
     },
     "execution_count": 43,
     "metadata": {},
     "output_type": "execute_result"
    }
   ],
   "source": [
    "L[0:2]"
   ]
  },
  {
   "cell_type": "code",
   "execution_count": 49,
   "id": "754e1a0f-db58-44be-b9f3-34407797dfd4",
   "metadata": {},
   "outputs": [
    {
     "data": {
      "text/plain": [
       "[(5, 6, 7, 8), [1, 2, 3, 4], '파이썬', 3.14, 1]"
      ]
     },
     "execution_count": 49,
     "metadata": {},
     "output_type": "execute_result"
    }
   ],
   "source": [
    "L[::-1] #리스트 순서 뒤집기"
   ]
  },
  {
   "cell_type": "code",
   "execution_count": 51,
   "id": "aa5fe37e-7a25-49c1-912e-51305042e3d0",
   "metadata": {},
   "outputs": [
    {
     "data": {
      "text/plain": [
       "[[1, 2, 3, 4], (5, 6, 7, 8)]"
      ]
     },
     "execution_count": 51,
     "metadata": {},
     "output_type": "execute_result"
    }
   ],
   "source": [
    "L[-2:]"
   ]
  },
  {
   "cell_type": "markdown",
   "id": "08ca7060-621c-49b8-8f88-fcfdf7bfb6cc",
   "metadata": {},
   "source": [
    "## 튜플\n",
    "* 리스트처럼 순서가 있는 자료형\n",
    "* 인덱스가 있어서 인덱스로 자료 출력 가능\n",
    "* 인덱스로 슬라이싱도 가능\n",
    "* 자료의 추가 삭제가 안됨\n"
   ]
  },
  {
   "cell_type": "markdown",
   "id": "ac388b78-5dea-4799-887d-fca937c4fbc4",
   "metadata": {},
   "source": []
  },
  {
   "cell_type": "code",
   "execution_count": null,
   "id": "f1b80a4a-1e9b-43b3-814a-85e02aaeffa8",
   "metadata": {},
   "outputs": [],
   "source": []
  },
  {
   "cell_type": "code",
   "execution_count": null,
   "id": "5287c7fb-bb3f-4a5b-a9d8-d64a7a6f369e",
   "metadata": {},
   "outputs": [],
   "source": []
  },
  {
   "cell_type": "code",
   "execution_count": null,
   "id": "38e0b1f1-3e2a-4115-9c5e-3e84433dff71",
   "metadata": {},
   "outputs": [],
   "source": []
  },
  {
   "cell_type": "code",
   "execution_count": null,
   "id": "ace29afa-4f1b-41a3-baf8-aad69f90e134",
   "metadata": {},
   "outputs": [],
   "source": []
  }
 ],
 "metadata": {
  "kernelspec": {
   "display_name": "Python 3 (ipykernel)",
   "language": "python",
   "name": "python3"
  },
  "language_info": {
   "codemirror_mode": {
    "name": "ipython",
    "version": 3
   },
   "file_extension": ".py",
   "mimetype": "text/x-python",
   "name": "python",
   "nbconvert_exporter": "python",
   "pygments_lexer": "ipython3",
   "version": "3.10.14"
  }
 },
 "nbformat": 4,
 "nbformat_minor": 5
}
