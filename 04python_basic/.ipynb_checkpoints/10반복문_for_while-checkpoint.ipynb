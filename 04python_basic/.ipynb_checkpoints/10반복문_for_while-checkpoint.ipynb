{
 "cells": [
  {
   "cell_type": "markdown",
   "id": "c4299ec6-99dd-42e8-b3a8-cdd7803cc9b7",
   "metadata": {},
   "source": [
    "# 반복문 for, while\n",
    "* 반복문은 동일한 작업을 여러 번 반복해야 할 경우 사용하는 명령\n",
    "* for, while 두 종류의 반복문이 있음.\n",
    "* for는 반복 횟수가 정해져 있는 경우에 사용.\n",
    "* while은 반복 횟수가 정해지지 않은 경우에 사용."
   ]
  },
  {
   "cell_type": "markdown",
   "id": "ad047343-9621-4c5b-bb76-b0a9a21c5949",
   "metadata": {},
   "source": [
    "## for 반복문 : 반복할 횟수가 정해져 있는 경우\n",
    "for 변수 in 반복할 객체, 자료:<br>\n",
    "____반복할 코드"
   ]
  },
  {
   "cell_type": "code",
   "execution_count": 1,
   "id": "77e83203-1f2f-418a-a8b4-4e978433eb07",
   "metadata": {},
   "outputs": [
    {
     "name": "stdout",
     "output_type": "stream",
     "text": [
      "1 2 3 4 5 6 7 8 9 10 "
     ]
    }
   ],
   "source": [
    "# for 문을 이용해서 1-10 숫자 출력\n",
    "for i in range(1,11):\n",
    "    print(i, end =\" \")"
   ]
  },
  {
   "cell_type": "markdown",
   "id": "83376416-f4f3-49ab-8c97-d14d2bea1725",
   "metadata": {},
   "source": [
    "* 순서가 있는 자료형은 모두 for 문에 사용 가능\n",
    "    * 문자열, list, tuple"
   ]
  },
  {
   "cell_type": "code",
   "execution_count": 2,
   "id": "ff192de9-93a5-403a-8046-0a7fd4a3a839",
   "metadata": {},
   "outputs": [
    {
     "name": "stdout",
     "output_type": "stream",
     "text": [
      "파 이 썬 "
     ]
    }
   ],
   "source": [
    "for char in \"파이썬\":\n",
    "    print(char, end=\" \")"
   ]
  },
  {
   "cell_type": "code",
   "execution_count": 3,
   "id": "b8220654-2dcf-4a4a-997b-b0b746569ac1",
   "metadata": {},
   "outputs": [
    {
     "name": "stdout",
     "output_type": "stream",
     "text": [
      "1 2 3 4 5 "
     ]
    }
   ],
   "source": [
    "for item in [1, 2, 3, 4, 5]:\n",
    "    print(item, end = \" \")"
   ]
  },
  {
   "cell_type": "code",
   "execution_count": 4,
   "id": "b35935c4-0581-4ca0-9e92-c90122a4ff7f",
   "metadata": {},
   "outputs": [],
   "source": [
    "L = [1,2,3,3, \"문자열\", [1,2,3], (4,5,6), {'key':'value'}]"
   ]
  },
  {
   "cell_type": "code",
   "execution_count": 5,
   "id": "5d7fd67c-9267-465a-9727-f77055f9d92a",
   "metadata": {},
   "outputs": [
    {
     "name": "stdout",
     "output_type": "stream",
     "text": [
      "1 2 3 3 문자열 [1, 2, 3] (4, 5, 6) {'key': 'value'} "
     ]
    }
   ],
   "source": [
    "for item in L:\n",
    "    print(item, end = \" \")"
   ]
  },
  {
   "cell_type": "code",
   "execution_count": 6,
   "id": "9681072d-92a5-4fec-9905-237fb5846f3c",
   "metadata": {},
   "outputs": [
    {
     "name": "stdout",
     "output_type": "stream",
     "text": [
      "1 2 3 3 문자열 [1, 2, 3] (4, 5, 6) {'key': 'value'} "
     ]
    }
   ],
   "source": [
    "T = tuple(L)\n",
    "for item in T:\n",
    "    print(item, end = \" \")"
   ]
  },
  {
   "cell_type": "code",
   "execution_count": 7,
   "id": "b6972caf-16ce-42bd-ae9a-f988533bfa20",
   "metadata": {},
   "outputs": [
    {
     "name": "stdout",
     "output_type": "stream",
     "text": [
      "1 서울 010-1234-5678 홍길동 "
     ]
    }
   ],
   "source": [
    "d = dict(번호=1, 주소='서울', 전화번호='010-1234-5678', 이름='홍길동')\n",
    "for key in d:\n",
    "    print(d[key], end=\" \")\n",
    "#딕셔너리는 반복문에 넣었을 때 key만 출력되므로, value 넣기 위해서는 key로 value 호출하기"
   ]
  },
  {
   "cell_type": "code",
   "execution_count": 8,
   "id": "ace1ec87-a383-492e-9ffc-9f64a1a526c4",
   "metadata": {},
   "outputs": [
    {
     "name": "stdout",
     "output_type": "stream",
     "text": [
      "1 서울 010-1234-5678 홍길동 "
     ]
    }
   ],
   "source": [
    "for key in d:\n",
    "    print(d.get(key,0), end = \" \")\n",
    "#key가 없으면 0으로 출력해라."
   ]
  },
  {
   "cell_type": "code",
   "execution_count": 9,
   "id": "e9e803f0-a420-4e8b-b378-9bf792702786",
   "metadata": {},
   "outputs": [
    {
     "name": "stdout",
     "output_type": "stream",
     "text": [
      "번호 1\n",
      "주소 서울\n",
      "전화번호 010-1234-5678\n",
      "이름 홍길동\n"
     ]
    }
   ],
   "source": [
    "for k,v in d.items():\n",
    "    print(k,v)"
   ]
  },
  {
   "cell_type": "code",
   "execution_count": 10,
   "id": "80ae67c9-85fd-4a09-8a7c-f14d282e1fdb",
   "metadata": {},
   "outputs": [
    {
     "name": "stdout",
     "output_type": "stream",
     "text": [
      "55\n"
     ]
    }
   ],
   "source": [
    "#for 반복문을 이용해서 1부터 10까지 정수를 더한 합만을 출력하세요.\n",
    "L = []\n",
    "for i in range(1,11):\n",
    "    L.append(i)\n",
    "print(sum(L))"
   ]
  },
  {
   "cell_type": "code",
   "execution_count": 11,
   "id": "91e68c10-67ad-4946-a025-d206fcbf0637",
   "metadata": {},
   "outputs": [
    {
     "name": "stdout",
     "output_type": "stream",
     "text": [
      "93326215443944152681699238856266700490715968264381621468592963895217599993229915608941463976156518286253697920827223758251185210916864000000000000000000000000\n"
     ]
    }
   ],
   "source": [
    "#1~100까지 곱한 값을 출력하세요.\n",
    "num = 1\n",
    "for i in range(1,101):\n",
    "    num *= i\n",
    "print(num)"
   ]
  },
  {
   "cell_type": "markdown",
   "id": "f4dcbc5c-4142-4d79-9e42-8ba71bf8c738",
   "metadata": {},
   "source": [
    "1~50까지 수 중에서 짝수인 수의 합을 구하시오.\n",
    "* 1-50 수를 만들기\n",
    "* 홀 짝 구분 if else\n",
    "* 짝수면 덧셈 누적합\n",
    "* print()"
   ]
  },
  {
   "cell_type": "code",
   "execution_count": 12,
   "id": "0b3de8cd-12c3-4a1a-8b30-5ddfb3ceb8b4",
   "metadata": {},
   "outputs": [
    {
     "name": "stdout",
     "output_type": "stream",
     "text": [
      "650\n"
     ]
    }
   ],
   "source": [
    "num = 0\n",
    "for i in range(1,51):\n",
    "    if i % 2 == 0:\n",
    "        num += i\n",
    "    else:\n",
    "        pass\n",
    "print(num)"
   ]
  },
  {
   "cell_type": "code",
   "execution_count": 13,
   "id": "5be60090-3afb-4c81-b32c-a8a41128280c",
   "metadata": {},
   "outputs": [
    {
     "name": "stdout",
     "output_type": "stream",
     "text": [
      "59126328543388935628800\n"
     ]
    }
   ],
   "source": [
    "#1부터 100까지의 수 중에서 7의 배수만 찾아 곱한 값을 출력하세요.\n",
    "num = 1\n",
    "for i in range(1,101):\n",
    "    if i % 7 == 0:\n",
    "        num *= i\n",
    "    else:\n",
    "        pass\n",
    "print(num)"
   ]
  },
  {
   "cell_type": "code",
   "execution_count": 23,
   "id": "31f0e5ea-c931-454d-b1bc-c041bd247e63",
   "metadata": {},
   "outputs": [
    {
     "name": "stdout",
     "output_type": "stream",
     "text": [
      "2050\n"
     ]
    }
   ],
   "source": [
    "#1부터 100까지 수를 만들고 그 중 30~70까지만 더해서 출력하세요.\n",
    "num = 0\n",
    "for i in range(1,101):\n",
    "    if 30 <= i <= 70:\n",
    "        num += i\n",
    "    else:\n",
    "        pass\n",
    "\n",
    "print(num)"
   ]
  },
  {
   "cell_type": "code",
   "execution_count": 24,
   "id": "01bae463-870b-4616-b9ba-e4aefdd4ee7f",
   "metadata": {},
   "outputs": [
    {
     "data": {
      "text/plain": [
       "2050"
      ]
     },
     "execution_count": 24,
     "metadata": {},
     "output_type": "execute_result"
    }
   ],
   "source": [
    "my_list = list(range(1,101)) #range 슬라이싱할 때 인덱스 번호 달라지는 것 주의\n",
    "\n",
    "sum(my_list[29:70])"
   ]
  },
  {
   "cell_type": "code",
   "execution_count": 27,
   "id": "9418e20f-011e-48f2-adf5-45f3e5bd46e6",
   "metadata": {},
   "outputs": [
    {
     "name": "stdout",
     "output_type": "stream",
     "text": [
      "[1, 3, 5, 7, 9]\n",
      "[0, 2, 4, 6, 8]\n"
     ]
    }
   ],
   "source": [
    "L1 = list(range(1,10,2))\n",
    "L2 = list(range(0,10,2))\n",
    "print(L1)\n",
    "print(L2)"
   ]
  },
  {
   "cell_type": "code",
   "execution_count": 29,
   "id": "7951bf44-f7c1-45d2-b5fe-fcc2550ec313",
   "metadata": {},
   "outputs": [
    {
     "name": "stdout",
     "output_type": "stream",
     "text": [
      "1 0 1\n",
      "3 2 5\n",
      "5 4 9\n",
      "7 6 13\n",
      "9 8 17\n"
     ]
    }
   ],
   "source": [
    "temp = 0\n",
    "for num, num2 in zip(L1, L2):\n",
    "    temp = num + num2\n",
    "    print(num, num2, temp)"
   ]
  },
  {
   "cell_type": "markdown",
   "id": "259e592c-b86e-480d-911d-38890849c6a4",
   "metadata": {},
   "source": [
    "enumerate(): index를 만들어주는 함수"
   ]
  },
  {
   "cell_type": "code",
   "execution_count": 32,
   "id": "265694fc-de1a-4735-9ddb-d677e9168deb",
   "metadata": {},
   "outputs": [
    {
     "name": "stdout",
     "output_type": "stream",
     "text": [
      "0 파1 이2 썬3 은4  5 문6 자7 열8 을9  10 반11 복12 문13 에14  15 넣16 어17  18 출19 력20  21 가22 능"
     ]
    }
   ],
   "source": [
    "for index, char in enumerate(\"파이썬은 문자열을 반복문에 넣어 출력 가능\"):\n",
    "    print(index, char, end= \"\")"
   ]
  },
  {
   "cell_type": "code",
   "execution_count": 36,
   "id": "22c09cba-fd89-46d9-af78-5143de0fd6c9",
   "metadata": {},
   "outputs": [
    {
     "name": "stdout",
     "output_type": "stream",
     "text": [
      "(1, 0)\n",
      "2\n",
      "(3, 2)\n",
      "2\n",
      "(5, 4)\n",
      "2\n",
      "(7, 6)\n",
      "2\n",
      "(9, 8)\n",
      "2\n"
     ]
    }
   ],
   "source": [
    "for index, num1 in enumerate(zip(L1, L2)):\n",
    "    print(num1)\n",
    "    print(len(num1))"
   ]
  },
  {
   "cell_type": "markdown",
   "id": "9b269354-9523-410c-bb4e-1b2868aa5fc4",
   "metadata": {},
   "source": [
    "1-10 까지 숫자를 만들고 역순으로 출력하세요"
   ]
  },
  {
   "cell_type": "code",
   "execution_count": 43,
   "id": "cae9147f-8129-493e-b451-cf37b890c1a7",
   "metadata": {},
   "outputs": [
    {
     "name": "stdout",
     "output_type": "stream",
     "text": [
      "10 9 8 7 6 5 4 3 2 1 "
     ]
    }
   ],
   "source": [
    "for num in range(10,0,-1):\n",
    "    print(num, end= \" \")"
   ]
  },
  {
   "cell_type": "code",
   "execution_count": 40,
   "id": "afed2de5-6565-470d-9c6a-df95f83417c7",
   "metadata": {},
   "outputs": [
    {
     "name": "stdout",
     "output_type": "stream",
     "text": [
      "10 9 8 7 6 5 4 3 2 1 "
     ]
    }
   ],
   "source": [
    "for num in reversed(range(1,11)):\n",
    "    print(num, end= \" \")"
   ]
  },
  {
   "cell_type": "code",
   "execution_count": 42,
   "id": "286b38c4-80ea-46fc-8427-d700b99fc32d",
   "metadata": {},
   "outputs": [
    {
     "name": "stdout",
     "output_type": "stream",
     "text": [
      "10 9 8 7 6 5 4 3 2 1 "
     ]
    }
   ],
   "source": [
    "for num in range(1,11)[::-1]:\n",
    "    print(num, end= \" \")"
   ]
  },
  {
   "cell_type": "code",
   "execution_count": 48,
   "id": "ce6d8a99-1499-467e-80d7-2213692dcd23",
   "metadata": {},
   "outputs": [
    {
     "name": "stdout",
     "output_type": "stream",
     "text": [
      "1 3 5 7 9 "
     ]
    }
   ],
   "source": [
    "for num in range(1,11, 2):\n",
    "    print(num, end= \" \")"
   ]
  },
  {
   "cell_type": "markdown",
   "id": "15c9e368-26cd-45fb-be25-a70b83a244a5",
   "metadata": {},
   "source": [
    "# while 반복할 횟수가 정해지지 않은 경우\n",
    "* 무한 반복 가능\n",
    "* 무한 반복 되지 않도록 조건식을 잘 짜주는 것이 중요"
   ]
  },
  {
   "cell_type": "code",
   "execution_count": null,
   "id": "626d4db0-a6e6-4cbc-ab56-fac38580cceb",
   "metadata": {},
   "outputs": [],
   "source": [
    "#while문을 이용해서 1-10까지 더해서 결과를 출력하세요.\n",
    "i = 1\n",
    "while i <= 10:\n",
    "    print(i, end=\" \")\n",
    "    i += 1"
   ]
  },
  {
   "cell_type": "code",
   "execution_count": null,
   "id": "2b63040f-c953-4bca-a046-5a24d492189d",
   "metadata": {},
   "outputs": [],
   "source": [
    "# 웹 크롤링시, while 많이 사용\n",
    "# while문을 이용해서 1-10까지 더해서 결과를 출력하세요.\n",
    "i = 1\n",
    "hap = 0\n",
    "while i <= 10:\n",
    "    hap += i\n",
    "    i += 1\n",
    "print(hap)"
   ]
  },
  {
   "cell_type": "code",
   "execution_count": null,
   "id": "36a85089-4120-4e1b-afbe-e78442b003e6",
   "metadata": {},
   "outputs": [],
   "source": [
    "#20에서 1까지 숫자를 더한 값을 출력하세요.\n",
    "i = 20\n",
    "hap = 0\n",
    "while i > 0:\n",
    "    hap += i\n",
    "    i -= 1\n",
    "print(hap)"
   ]
  },
  {
   "cell_type": "code",
   "execution_count": null,
   "id": "685fcf72-fa18-4279-bc0d-11c4424ae73f",
   "metadata": {},
   "outputs": [],
   "source": [
    "#1-50 까지 수 중에서 3의 배수이거나, 짝수인 수를 찾아서 더한 값을 출력하시오.\n",
    "i = 1\n",
    "hap = 0\n",
    "while i <= 50:\n",
    "    if i % 3 == 0 or i % 2 ==0:\n",
    "        hap += i\n",
    "    i += 1\n",
    "print(hap)"
   ]
  },
  {
   "cell_type": "code",
   "execution_count": null,
   "id": "a8512416-a660-4c0b-a56f-44cf3a2cf172",
   "metadata": {},
   "outputs": [],
   "source": [
    "# #반복 횟수가 정해지지 않은 경우: 무한반복\n",
    "# while True:\n",
    "#     print(\"무한반복\")"
   ]
  },
  {
   "cell_type": "code",
   "execution_count": null,
   "id": "e7e242e1-5876-44da-a123-5de52c10b850",
   "metadata": {},
   "outputs": [],
   "source": []
  }
 ],
 "metadata": {
  "kernelspec": {
   "display_name": "Python 3 (ipykernel)",
   "language": "python",
   "name": "python3"
  },
  "language_info": {
   "codemirror_mode": {
    "name": "ipython",
    "version": 3
   },
   "file_extension": ".py",
   "mimetype": "text/x-python",
   "name": "python",
   "nbconvert_exporter": "python",
   "pygments_lexer": "ipython3",
   "version": "3.10.14"
  }
 },
 "nbformat": 4,
 "nbformat_minor": 5
}
