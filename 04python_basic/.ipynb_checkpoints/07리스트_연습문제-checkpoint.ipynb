{
 "cells": [
  {
   "cell_type": "markdown",
   "id": "d1a9593d",
   "metadata": {},
   "source": [
    "1. 다음과 같이 코드 실행 결과가 나오도록 코드의 빈칸을 완성하세요.\n",
    "실행결과"
   ]
  },
  {
   "cell_type": "code",
   "execution_count": null,
   "id": "cc1ad7f4",
   "metadata": {},
   "outputs": [],
   "source": []
  },
  {
   "cell_type": "code",
   "execution_count": null,
   "id": "b39d067f",
   "metadata": {},
   "outputs": [],
   "source": []
  },
  {
   "cell_type": "code",
   "execution_count": null,
   "id": "e4a34702",
   "metadata": {},
   "outputs": [],
   "source": []
  },
  {
   "cell_type": "code",
   "execution_count": null,
   "id": "7a234efb",
   "metadata": {},
   "outputs": [],
   "source": []
  }
 ],
 "metadata": {
  "kernelspec": {
   "display_name": "Python 3 (ipykernel)",
   "language": "python",
   "name": "python3"
  },
  "language_info": {
   "codemirror_mode": {
    "name": "ipython",
    "version": 3
   },
   "file_extension": ".py",
   "mimetype": "text/x-python",
   "name": "python",
   "nbconvert_exporter": "python",
   "pygments_lexer": "ipython3",
   "version": "3.10.14"
  }
 },
 "nbformat": 4,
 "nbformat_minor": 5
}
