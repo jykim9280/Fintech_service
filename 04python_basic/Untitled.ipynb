{
 "cells": [
  {
   "cell_type": "code",
   "execution_count": 2,
   "id": "14efa906-92de-4e42-a569-d5f5785b97b2",
   "metadata": {},
   "outputs": [
    {
     "name": "stdin",
     "output_type": "stream",
     "text": [
      "첫 번째 정수를 입력하세요: 1\n",
      "두 번째 정수를 입력하세요: 10\n"
     ]
    },
    {
     "name": "stdout",
     "output_type": "stream",
     "text": [
      "1와 10 사이 짝수들만의 합은 30 입니다.\n"
     ]
    }
   ],
   "source": [
    "a = int(input('첫 번째 정수를 입력하세요:'))\n",
    "b = int(input('두 번째 정수를 입력하세요:'))\n",
    "\n",
    "while True:\n",
    "    if b > a:\n",
    "        sum1 = 0\n",
    "        for i in range(a, b+1):\n",
    "            if i % 2 == 0:\n",
    "                sum1 += i\n",
    "        print(f\"{a}와 {b} 사이 짝수들만의 합은 {sum1} 입니다.\")\n",
    "        break\n",
    "    else:\n",
    "        print(\"두 번째 숫자는 첫 번째 숫자보다 큰 숫자를 입력해야 합니다. 다시 입력해 주세요\")"
   ]
  },
  {
   "cell_type": "code",
   "execution_count": 3,
   "id": "fe2b862b-e0e3-49f0-b8a4-83a4a3704b11",
   "metadata": {},
   "outputs": [
    {
     "ename": "SyntaxError",
     "evalue": "unterminated string literal (detected at line 1) (1733290286.py, line 1)",
     "output_type": "error",
     "traceback": [
      "\u001b[1;36m  Cell \u001b[1;32mIn[3], line 1\u001b[1;36m\u001b[0m\n\u001b[1;33m    name = ['우진,'시은','메이킷']\u001b[0m\n\u001b[1;37m                         ^\u001b[0m\n\u001b[1;31mSyntaxError\u001b[0m\u001b[1;31m:\u001b[0m unterminated string literal (detected at line 1)\n"
     ]
    }
   ],
   "source": [
    "name = ['우진,'시은','메이킷']"
   ]
  },
  {
   "cell_type": "code",
   "execution_count": null,
   "id": "14219e94-db30-4a1b-a04b-89bcb1cf963e",
   "metadata": {},
   "outputs": [],
   "source": [
    "for num, name in enumerate(names):\n",
    "    num = num + 1\n",
    "    print(f\"{num} 번 친구 {name}을 소개합니다.\""
   ]
  }
 ],
 "metadata": {
  "kernelspec": {
   "display_name": "Python 3 (ipykernel)",
   "language": "python",
   "name": "python3"
  },
  "language_info": {
   "codemirror_mode": {
    "name": "ipython",
    "version": 3
   },
   "file_extension": ".py",
   "mimetype": "text/x-python",
   "name": "python",
   "nbconvert_exporter": "python",
   "pygments_lexer": "ipython3",
   "version": "3.10.14"
  }
 },
 "nbformat": 4,
 "nbformat_minor": 5
}
