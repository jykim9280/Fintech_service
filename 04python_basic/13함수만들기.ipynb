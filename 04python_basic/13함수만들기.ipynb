{
 "cells": [
  {
   "cell_type": "markdown",
   "id": "80ca5061-8ab1-4a45-a287-8610be2d12e2",
   "metadata": {},
   "source": [
    "# 함수 만들기"
   ]
  },
  {
   "cell_type": "markdown",
   "id": "f2dd4bab-2084-416a-9775-b3e53d5c2b7b",
   "metadata": {
    "scrolled": true
   },
   "source": [
    "* print(), split(), input() => 함수\n",
    "* 함수의 괄호 안에 값을 넣으면 출력을 해주거나 입력을 받거나 변환을 해 줌"
   ]
  },
  {
   "cell_type": "code",
   "execution_count": 2,
   "id": "d92aaabc-1bb5-4733-8f65-ed5c63179293",
   "metadata": {},
   "outputs": [
    {
     "data": {
      "text/plain": [
       "[10, 20, 30, 40, 50]"
      ]
     },
     "execution_count": 2,
     "metadata": {},
     "output_type": "execute_result"
    }
   ],
   "source": [
    "L = [1,2,3,4,5]\n",
    "\n",
    "result = []\n",
    "for i in L:\n",
    "    result.append(i*10)\n",
    "result"
   ]
  },
  {
   "cell_type": "markdown",
   "id": "0b329a6a-02a9-41f7-bc06-b0b9e7203208",
   "metadata": {},
   "source": [
    "## 1) 함수 만드는 법\n",
    "def 함수이름():\n",
    "___실행 코드\n",
    "___return 리턴 값"
   ]
  },
  {
   "cell_type": "code",
   "execution_count": 3,
   "id": "0b24798b-fe50-4c14-b915-5380627cadb2",
   "metadata": {},
   "outputs": [],
   "source": [
    "def hello():\n",
    "    print(\"hello 파이썬 함수 만들기\")"
   ]
  },
  {
   "cell_type": "code",
   "execution_count": 4,
   "id": "8ecfb016-8023-482f-ad70-ad7f6d0a54e7",
   "metadata": {},
   "outputs": [
    {
     "name": "stdout",
     "output_type": "stream",
     "text": [
      "hello 파이썬 함수 만들기\n"
     ]
    }
   ],
   "source": [
    "hello()"
   ]
  },
  {
   "cell_type": "markdown",
   "id": "0be3874b-a6d7-4df9-b516-89d40610ab18",
   "metadata": {},
   "source": [
    "## 2) 함수 호출 순서\n",
    "* 함수는 호출하기 전에 반드시 먼저 정의되어야 하고(만들어 놓아야 함)\n",
    "* 함수 정의가 실행보다 위에 있어야 한다."
   ]
  },
  {
   "cell_type": "code",
   "execution_count": 5,
   "id": "664cb569-6318-4e4b-85e6-cc4f8912e4b3",
   "metadata": {},
   "outputs": [],
   "source": [
    "# 매개변수 1개짜리 함수\n",
    "# 원의 넓이를 구하는 함수 - 반지름 * 반지름 * 3.14\n",
    "\n",
    "def circle(c):\n",
    "    print(\"원의 넓이는: \", c * c * 3.14, \"입니다\")\n",
    "    return c * c * 3.14"
   ]
  },
  {
   "cell_type": "code",
   "execution_count": 7,
   "id": "6ead0fde-4dbf-44d0-b5cd-700995228b94",
   "metadata": {},
   "outputs": [
    {
     "name": "stdout",
     "output_type": "stream",
     "text": [
      "원의 넓이는:  78.5 입니다\n"
     ]
    },
    {
     "data": {
      "text/plain": [
       "78.5"
      ]
     },
     "execution_count": 7,
     "metadata": {},
     "output_type": "execute_result"
    }
   ],
   "source": [
    "circle(5)"
   ]
  },
  {
   "cell_type": "code",
   "execution_count": 10,
   "id": "ebf8a566-b54a-4291-a450-e644e2cd9aa1",
   "metadata": {},
   "outputs": [],
   "source": [
    "# 매개변수 2개짜리 함수 - 덧셈 함수 만들기\n",
    "\n",
    "def add(a,b):\n",
    "    return a + b"
   ]
  },
  {
   "cell_type": "code",
   "execution_count": 11,
   "id": "8a536e56-4196-4cdf-91f6-c03c8ce221e0",
   "metadata": {},
   "outputs": [
    {
     "name": "stdout",
     "output_type": "stream",
     "text": [
      "result: 13\n"
     ]
    }
   ],
   "source": [
    "result = add(10, 3)\n",
    "print(\"result:\", result)"
   ]
  },
  {
   "cell_type": "code",
   "execution_count": 12,
   "id": "0dd1db49-6ecf-498b-b115-190062978f55",
   "metadata": {},
   "outputs": [
    {
     "data": {
      "text/plain": [
       "123672135324"
      ]
     },
     "execution_count": 12,
     "metadata": {},
     "output_type": "execute_result"
    }
   ],
   "source": [
    "add(999, 123672134325)"
   ]
  },
  {
   "cell_type": "code",
   "execution_count": null,
   "id": "ba69cc9a-8e7f-4517-97ab-129b66ae434b",
   "metadata": {},
   "outputs": [],
   "source": [
    "매개 변수 3개짜리 함수 - a: 시작, b:끝, c: 증감 <br>\n",
    "interval이라는 이름의 함수를 만드세요.<br>\n",
    "숫자를 입력받아 시작, 끝, 증감이 반영되게 출력하세요.<br>\n",
    "interval(1, 10, 2) <br>\n",
    "1,3,5,7,9"
   ]
  },
  {
   "cell_type": "code",
   "execution_count": 14,
   "id": "0b90c26f-1d76-45c7-8e3c-1f6fbedc00bd",
   "metadata": {},
   "outputs": [],
   "source": [
    "def num_maker(a, b, c):\n",
    "    print([i for i in range(a, b, c)])"
   ]
  },
  {
   "cell_type": "code",
   "execution_count": 15,
   "id": "f564638e-6497-4d1d-a5ff-56b04b42b6a1",
   "metadata": {},
   "outputs": [
    {
     "name": "stdout",
     "output_type": "stream",
     "text": [
      "[1, 3, 5, 7, 9]\n"
     ]
    }
   ],
   "source": [
    "num_maker(1, 10, 2)"
   ]
  },
  {
   "cell_type": "markdown",
   "id": "245cd7db-0047-4124-9842-014fcb215e50",
   "metadata": {},
   "source": [
    "리턴 값이 여러 개인 함수"
   ]
  },
  {
   "cell_type": "code",
   "execution_count": 18,
   "id": "5aed2d66-6e4f-4c15-b83d-cced66fef4dd",
   "metadata": {},
   "outputs": [],
   "source": [
    "def add_sub(a, b):\n",
    "    add = a + b\n",
    "    sub = a - b\n",
    "    return add, sub"
   ]
  },
  {
   "cell_type": "code",
   "execution_count": 19,
   "id": "9fb146cb-cb9c-414b-98ab-096126bde7c3",
   "metadata": {},
   "outputs": [
    {
     "data": {
      "text/plain": [
       "(10, 4)"
      ]
     },
     "execution_count": 19,
     "metadata": {},
     "output_type": "execute_result"
    }
   ],
   "source": [
    "add_sub(7, 3)"
   ]
  },
  {
   "cell_type": "code",
   "execution_count": 20,
   "id": "5d0eb3f1-b9d8-4733-9435-8d47976e6ee2",
   "metadata": {},
   "outputs": [
    {
     "name": "stdout",
     "output_type": "stream",
     "text": [
      "<class 'tuple'>\n"
     ]
    }
   ],
   "source": [
    "result = add_sub(7, 3)\n",
    "print(type(result))"
   ]
  },
  {
   "cell_type": "code",
   "execution_count": 21,
   "id": "d8bed2d2-c0ac-4136-a07b-1423a9cf5dfc",
   "metadata": {},
   "outputs": [],
   "source": [
    "def num_maker2(a, b, c):\n",
    "    asc = [i for i in range(a, b, c)]\n",
    "    desc = [i for i in range(a, b, c)][::-1]\n",
    "    return asc, desc"
   ]
  },
  {
   "cell_type": "code",
   "execution_count": 23,
   "id": "97874e28-8258-4886-bb29-118da34dad05",
   "metadata": {},
   "outputs": [
    {
     "data": {
      "text/plain": [
       "([1, 3, 5, 7, 9], [9, 7, 5, 3, 1])"
      ]
     },
     "execution_count": 23,
     "metadata": {},
     "output_type": "execute_result"
    }
   ],
   "source": [
    "num_maker2(1, 10, 2)"
   ]
  },
  {
   "cell_type": "code",
   "execution_count": null,
   "id": "86b8f467-e60d-4efa-a92e-8954da859bbe",
   "metadata": {},
   "outputs": [],
   "source": [
    "## 4) 중간에 함수를 종료시키기 위한 용도의 return\n",
    "* 반복문에서 break로 반복을 중지시키는 것처럼 함수에서 return이 실행되면 함수는 종료"
   ]
  },
  {
   "cell_type": "code",
   "execution_count": 25,
   "id": "b53be90e-0a29-4d1e-9ff1-26ddfffaf9ba",
   "metadata": {},
   "outputs": [],
   "source": [
    "# 1~10까지 숫자 중에 짝수만 출력하다가 7이상이 되면 종료하기\n",
    "\n",
    "age = range(1,11)\n",
    "\n",
    "def even(a):\n",
    "    for i in age:\n",
    "        if i % 2 == 0:\n",
    "            print(i, end=\" \")\n",
    "        elif i >= 7:\n",
    "            break"
   ]
  },
  {
   "cell_type": "code",
   "execution_count": 26,
   "id": "dbeb05b5-1b16-467a-bff5-d4c92ba38bba",
   "metadata": {},
   "outputs": [
    {
     "name": "stdout",
     "output_type": "stream",
     "text": [
      "2 4 6 "
     ]
    }
   ],
   "source": [
    "even(age)"
   ]
  },
  {
   "cell_type": "code",
   "execution_count": 27,
   "id": "9e3873a5-d487-465b-a1d8-1bc9d78f958b",
   "metadata": {},
   "outputs": [],
   "source": [
    "def even2(a):\n",
    "    for i in age:\n",
    "        if i % 2 == 0:\n",
    "            print(i, end=\" \")\n",
    "        elif i >= 7:\n",
    "            return"
   ]
  },
  {
   "cell_type": "code",
   "execution_count": 28,
   "id": "28b0d07f-a7d8-46c3-8cd4-460d53f873bb",
   "metadata": {},
   "outputs": [
    {
     "name": "stdout",
     "output_type": "stream",
     "text": [
      "2 4 6 "
     ]
    }
   ],
   "source": [
    "even(age)"
   ]
  },
  {
   "cell_type": "code",
   "execution_count": null,
   "id": "44e7887b-0007-4102-a505-b3958ea26448",
   "metadata": {},
   "outputs": [],
   "source": [
    "#1-100까지 숫자중에 홀수만 출력하다가 51번째에 종료하는 odd 함수 만들기"
   ]
  },
  {
   "cell_type": "code",
   "execution_count": 49,
   "id": "617eaddd-0348-44c1-b40b-26875a32ef03",
   "metadata": {},
   "outputs": [],
   "source": [
    "num = range(1,100)\n",
    "\n",
    "def odd(num):\n",
    "    for i in num:\n",
    "        if i % 2 != 0:\n",
    "            print(i, end = \" \")\n",
    "        elif i >= 51:\n",
    "            return"
   ]
  },
  {
   "cell_type": "code",
   "execution_count": 50,
   "id": "9e29dea6-8f37-4e23-a153-640ee8a29422",
   "metadata": {},
   "outputs": [
    {
     "name": "stdout",
     "output_type": "stream",
     "text": [
      "1 3 5 7 9 11 13 15 17 19 21 23 25 27 29 31 33 35 37 39 41 43 45 47 49 51 "
     ]
    }
   ],
   "source": [
    "odd(num)"
   ]
  },
  {
   "cell_type": "code",
   "execution_count": null,
   "id": "78d06e4b-62ec-4fcd-b420-04db4fbb550e",
   "metadata": {},
   "outputs": [],
   "source": [
    "## 5) 함수에서 위치 인수와 키워드 인수 사용하기\n",
    "* 위치 인수(positional argument)\n",
    "* 함수에 인수를 순서대로 넣는 방식\n",
    "* 인수의 위치가 정해져 있음"
   ]
  },
  {
   "cell_type": "code",
   "execution_count": 51,
   "id": "2cc96498-5aac-4d89-937b-a5d58ad818e8",
   "metadata": {},
   "outputs": [],
   "source": [
    "def print_nums(a, b, c):\n",
    "    print(a, b, c)"
   ]
  },
  {
   "cell_type": "code",
   "execution_count": 52,
   "id": "2957ef61-f031-4c1f-b10c-52c3109396dc",
   "metadata": {},
   "outputs": [
    {
     "name": "stdout",
     "output_type": "stream",
     "text": [
      "10 20 30\n"
     ]
    }
   ],
   "source": [
    "print_nums(10, 20, 30)"
   ]
  },
  {
   "cell_type": "markdown",
   "id": "70469f08-bab7-46f0-a853-430df47e3aa4",
   "metadata": {},
   "source": [
    "리스트, 튜플과 같은 자료형을 1개의 위치인수(매개변수)로 받을 때<br>\n",
    "위치 인수와 개수가 같으면 * 로 언패킹이 가능"
   ]
  },
  {
   "cell_type": "code",
   "execution_count": 54,
   "id": "998cba21-a412-417c-b1f7-4e8ec40d4db8",
   "metadata": {},
   "outputs": [],
   "source": [
    "p = [10, 20, 30]"
   ]
  },
  {
   "cell_type": "code",
   "execution_count": 56,
   "id": "a6f6d73e-887b-4945-9830-e894346e5b88",
   "metadata": {},
   "outputs": [
    {
     "name": "stdout",
     "output_type": "stream",
     "text": [
      "10 20 30\n"
     ]
    }
   ],
   "source": [
    "print_nums(*p)"
   ]
  },
  {
   "cell_type": "code",
   "execution_count": 57,
   "id": "957b9f71-50ef-40d6-9e9e-96b116617c9b",
   "metadata": {},
   "outputs": [
    {
     "ename": "TypeError",
     "evalue": "print_nums() missing 2 required positional arguments: 'b' and 'c'",
     "output_type": "error",
     "traceback": [
      "\u001b[1;31m---------------------------------------------------------------------------\u001b[0m",
      "\u001b[1;31mTypeError\u001b[0m                                 Traceback (most recent call last)",
      "Cell \u001b[1;32mIn[57], line 1\u001b[0m\n\u001b[1;32m----> 1\u001b[0m \u001b[43mprint_nums\u001b[49m\u001b[43m(\u001b[49m\u001b[43mp\u001b[49m\u001b[43m)\u001b[49m\n",
      "\u001b[1;31mTypeError\u001b[0m: print_nums() missing 2 required positional arguments: 'b' and 'c'"
     ]
    }
   ],
   "source": [
    "print_nums(p)"
   ]
  },
  {
   "cell_type": "code",
   "execution_count": null,
   "id": "d49ba8a0-262e-4406-924a-f36bdfe14b9e",
   "metadata": {},
   "outputs": [],
   "source": [
    "print(\"a\", \"b\", \"c\")"
   ]
  },
  {
   "cell_type": "code",
   "execution_count": 59,
   "id": "e1f9b96c-c631-4599-862b-fb07d9e4002d",
   "metadata": {},
   "outputs": [],
   "source": [
    "def sum2(*args):\n",
    "    hap = 0\n",
    "    for i in args:\n",
    "        hap += i\n",
    "    return hap"
   ]
  },
  {
   "cell_type": "code",
   "execution_count": 61,
   "id": "2d299bce-5ae9-4456-b6ae-d7efa2a57721",
   "metadata": {},
   "outputs": [],
   "source": [
    "def sum3(*nums):\n",
    "    hap = 0\n",
    "    for i in nums:\n",
    "        hap += i\n",
    "    return hap"
   ]
  },
  {
   "cell_type": "code",
   "execution_count": 64,
   "id": "a522b485-5193-4ceb-8404-e3529ad9405b",
   "metadata": {},
   "outputs": [
    {
     "data": {
      "text/plain": [
       "8"
      ]
     },
     "execution_count": 64,
     "metadata": {},
     "output_type": "execute_result"
    }
   ],
   "source": [
    "sum3(1,7)"
   ]
  },
  {
   "cell_type": "code",
   "execution_count": 71,
   "id": "8bbc7ef2-96f1-4ec2-a42f-7a13a4fcdb6d",
   "metadata": {},
   "outputs": [],
   "source": [
    "def sum3(*nums): #튜플로 만들어줌\n",
    "    print(nums)\n",
    "    print(type(nums))\n",
    "    return sum(nums)"
   ]
  },
  {
   "cell_type": "code",
   "execution_count": 67,
   "id": "59c89afa-40f9-4f67-be6b-50c8fa9422e7",
   "metadata": {},
   "outputs": [
    {
     "data": {
      "text/plain": [
       "31"
      ]
     },
     "execution_count": 67,
     "metadata": {},
     "output_type": "execute_result"
    }
   ],
   "source": [
    "sum3(1, 1, 3, 5, 6, 7, 8,)"
   ]
  },
  {
   "cell_type": "code",
   "execution_count": 72,
   "id": "c31e3da3-24fd-49f2-8adb-bc418993bbbd",
   "metadata": {},
   "outputs": [
    {
     "name": "stdout",
     "output_type": "stream",
     "text": [
      "([1, 2, 3, 4, 5, 6],)\n",
      "<class 'tuple'>\n"
     ]
    },
    {
     "ename": "TypeError",
     "evalue": "unsupported operand type(s) for +: 'int' and 'list'",
     "output_type": "error",
     "traceback": [
      "\u001b[1;31m---------------------------------------------------------------------------\u001b[0m",
      "\u001b[1;31mTypeError\u001b[0m                                 Traceback (most recent call last)",
      "Cell \u001b[1;32mIn[72], line 3\u001b[0m\n\u001b[0;32m      1\u001b[0m L1 \u001b[38;5;241m=\u001b[39m [\u001b[38;5;241m1\u001b[39m,\u001b[38;5;241m2\u001b[39m,\u001b[38;5;241m3\u001b[39m,\u001b[38;5;241m4\u001b[39m,\u001b[38;5;241m5\u001b[39m,\u001b[38;5;241m6\u001b[39m]\n\u001b[1;32m----> 3\u001b[0m \u001b[43msum3\u001b[49m\u001b[43m(\u001b[49m\u001b[43mL1\u001b[49m\u001b[43m)\u001b[49m\n",
      "Cell \u001b[1;32mIn[71], line 4\u001b[0m, in \u001b[0;36msum3\u001b[1;34m(*nums)\u001b[0m\n\u001b[0;32m      2\u001b[0m \u001b[38;5;28mprint\u001b[39m(nums)\n\u001b[0;32m      3\u001b[0m \u001b[38;5;28mprint\u001b[39m(\u001b[38;5;28mtype\u001b[39m(nums))\n\u001b[1;32m----> 4\u001b[0m \u001b[38;5;28;01mreturn\u001b[39;00m \u001b[38;5;28;43msum\u001b[39;49m\u001b[43m(\u001b[49m\u001b[43mnums\u001b[49m\u001b[43m)\u001b[49m\n",
      "\u001b[1;31mTypeError\u001b[0m: unsupported operand type(s) for +: 'int' and 'list'"
     ]
    }
   ],
   "source": [
    "L1 = [1,2,3,4,5,6]\n",
    "\n",
    "sum3(L1) # sum 함수는 리스트를 계산할 수 없으므로 return에서 오류"
   ]
  },
  {
   "cell_type": "code",
   "execution_count": 73,
   "id": "dcb7e973-bddd-4b15-9a37-e3f0a4eea88d",
   "metadata": {},
   "outputs": [],
   "source": [
    "def list_tuple_func(*args):\n",
    "    print(args)\n",
    "    print(type(args))"
   ]
  },
  {
   "cell_type": "code",
   "execution_count": 75,
   "id": "9b0eac4e-ec30-4cd0-999d-04f3d97cba45",
   "metadata": {},
   "outputs": [
    {
     "name": "stdout",
     "output_type": "stream",
     "text": [
      "(1, 2.3, 3, 4, 5)\n",
      "<class 'tuple'>\n"
     ]
    }
   ],
   "source": [
    "list_tuple_func(1,2.3,3,4,5)"
   ]
  },
  {
   "cell_type": "code",
   "execution_count": 76,
   "id": "67c4dfb5-ae82-4def-a0b9-a946eb20f2b6",
   "metadata": {},
   "outputs": [
    {
     "name": "stdout",
     "output_type": "stream",
     "text": [
      "([1, 2, 3], [4, 5, 6], [7, 8, 9])\n",
      "<class 'tuple'>\n"
     ]
    }
   ],
   "source": [
    "list_tuple_func([1,2,3],[4,5,6],[7,8,9])"
   ]
  },
  {
   "cell_type": "raw",
   "id": "dc5845b2-5a05-45c7-b446-9e9865a8eadd",
   "metadata": {},
   "source": [
    "고정인수와 가변인수 함께 사용하기\n",
    "* 고정인수와 가변인수를 함께 사용할 때는 반드시\n",
    "* 고정인수, 가변인수 순으로 넣고 가변 인수는 항상 가장 마지막에 넣는다.<br>\n",
    "def sum(a, *args) : O\n",
    "def sum(*args, a) : X"
   ]
  },
  {
   "cell_type": "markdown",
   "id": "318d7d65-0c96-4b98-913b-49cd975b5604",
   "metadata": {},
   "source": [
    "정수와 리스트를 입력받아 리스트의 요소에 입력받은 정수를 곱한 값의 리스트를 반환하는 함수\n",
    "3, [1,2,3,4,5]\n",
    "[3,6,9,12,15]"
   ]
  },
  {
   "cell_type": "code",
   "execution_count": 79,
   "id": "a92fc103-c05c-4f6d-9764-62b0b55bec24",
   "metadata": {},
   "outputs": [],
   "source": [
    "def muls(a,*args):\n",
    "    result = []\n",
    "    for num in args:\n",
    "        print(a * num, end = \" \")\n",
    "        result.append(a * num)\n",
    "    return result"
   ]
  },
  {
   "cell_type": "code",
   "execution_count": 81,
   "id": "01137710-3ed2-420d-a738-b8ba40d1d84b",
   "metadata": {},
   "outputs": [
    {
     "name": "stdout",
     "output_type": "stream",
     "text": [
      "3 6 9 12 15 "
     ]
    },
    {
     "data": {
      "text/plain": [
       "[3, 6, 9, 12, 15]"
      ]
     },
     "execution_count": 81,
     "metadata": {},
     "output_type": "execute_result"
    }
   ],
   "source": [
    "muls(3, *[1,2,3,4,5])\n",
    "# muls(3, 1,2,3,4,5) 도 됨, 가변인자를 지정해주었기 때문에."
   ]
  },
  {
   "cell_type": "code",
   "execution_count": 82,
   "id": "2e525109-9b4f-4330-967e-b512c53d58d3",
   "metadata": {},
   "outputs": [
    {
     "ename": "NameError",
     "evalue": "name 'L2' is not defined",
     "output_type": "error",
     "traceback": [
      "\u001b[1;31m---------------------------------------------------------------------------\u001b[0m",
      "\u001b[1;31mNameError\u001b[0m                                 Traceback (most recent call last)",
      "Cell \u001b[1;32mIn[82], line 1\u001b[0m\n\u001b[1;32m----> 1\u001b[0m muls(\u001b[38;5;241m*\u001b[39m\u001b[43mL2\u001b[49m, \u001b[38;5;241m3\u001b[39m)\n",
      "\u001b[1;31mNameError\u001b[0m: name 'L2' is not defined"
     ]
    }
   ],
   "source": [
    "muls(*L2, 3) #가변인수 바뀌어서 오류"
   ]
  },
  {
   "cell_type": "markdown",
   "id": "142beaf6-f6b8-4a04-9d89-69adca0acac9",
   "metadata": {},
   "source": [
    "개인 정보를 출력하는 함수"
   ]
  },
  {
   "cell_type": "code",
   "execution_count": 2,
   "id": "954db9cc-7e59-4871-a3a3-103846f7a610",
   "metadata": {},
   "outputs": [],
   "source": [
    "def personal_info(name, age, address):\n",
    "    print('이름', name)\n",
    "    print('나이', age)\n",
    "    print('주소', address)"
   ]
  },
  {
   "cell_type": "code",
   "execution_count": 3,
   "id": "5d58f808-bf97-482d-af4a-b06a440e87f1",
   "metadata": {},
   "outputs": [
    {
     "name": "stdout",
     "output_type": "stream",
     "text": [
      "이름 홍길동\n",
      "나이 30\n",
      "주소 서울시 강남구\n"
     ]
    }
   ],
   "source": [
    "personal_info('홍길동', 30, '서울시 강남구')"
   ]
  },
  {
   "cell_type": "markdown",
   "id": "d390e128-0d05-4e59-bd6a-9208013677dd",
   "metadata": {},
   "source": [
    "* 위의 함수는 인수의 순서를 모두 기억해야 하기 때문에 사용하기 어려움\n",
    "* 인수의 순서와 용도를 매번 기억하지 않도록 하기 위해서 키워드 인수(keyword argument) 사용\n",
    "* 예) print(\"python\", sep=\" \", end =\"\\\") sep, end => 키워드 인수"
   ]
  },
  {
   "cell_type": "code",
   "execution_count": 4,
   "id": "e73c299a-cb62-4afb-a129-1d0f41b8969f",
   "metadata": {},
   "outputs": [
    {
     "data": {
      "text/plain": [
       "{'key': 'value'}"
      ]
     },
     "execution_count": 4,
     "metadata": {},
     "output_type": "execute_result"
    }
   ],
   "source": [
    "dict(key='value')"
   ]
  },
  {
   "cell_type": "markdown",
   "id": "daf174a3-3851-42d3-8c17-a4b212271f2a",
   "metadata": {},
   "source": [
    "personal_info를 키워드 인수 방식으로 호출\n",
    "* 인수 순서나 위치가 바뀌어도 동작"
   ]
  },
  {
   "cell_type": "code",
   "execution_count": 5,
   "id": "a3b23f3c-6eeb-492f-af42-5798299e67cf",
   "metadata": {},
   "outputs": [
    {
     "name": "stdout",
     "output_type": "stream",
     "text": [
      "이름 홍길동\n",
      "나이 30\n",
      "주소 서울시 강남구\n"
     ]
    }
   ],
   "source": [
    "personal_info(name='홍길동', age =30, address=\"서울시 강남구\")"
   ]
  },
  {
   "cell_type": "code",
   "execution_count": 6,
   "id": "ee1b84c1-dace-4280-8d7d-66cd39f583ce",
   "metadata": {},
   "outputs": [
    {
     "name": "stdout",
     "output_type": "stream",
     "text": [
      "python : hello\t"
     ]
    }
   ],
   "source": [
    "print(\"python\", \"hello\", end=\"\\t\", sep=\" : \")"
   ]
  },
  {
   "cell_type": "code",
   "execution_count": 7,
   "id": "caa6a68f-2c0e-4000-811f-7ccb99364565",
   "metadata": {},
   "outputs": [],
   "source": [
    "def my_print2(end, sep, *args):\n",
    "    print(args)\n",
    "    pass"
   ]
  },
  {
   "cell_type": "code",
   "execution_count": 8,
   "id": "769015f1-36b4-4379-ab82-c80ac3b83a5b",
   "metadata": {},
   "outputs": [
    {
     "name": "stdout",
     "output_type": "stream",
     "text": [
      "()\n"
     ]
    }
   ],
   "source": [
    "my_print2(*(3,4))"
   ]
  },
  {
   "cell_type": "code",
   "execution_count": 9,
   "id": "8b17dfa7-1604-4c35-8dcb-9fb6a5471474",
   "metadata": {},
   "outputs": [],
   "source": [
    "p_info = dict(name='홍길동', age =30, address=\"서울시 강남구\")"
   ]
  },
  {
   "cell_type": "code",
   "execution_count": 14,
   "id": "194cb028-58d6-4dc3-a9c8-2562b220aec8",
   "metadata": {},
   "outputs": [
    {
     "name": "stdout",
     "output_type": "stream",
     "text": [
      "이름 홍길동\n",
      "나이 30\n",
      "주소 서울시 강남구\n"
     ]
    }
   ],
   "source": [
    "personal_info(**p_info) #언패킹하여 삽입, 딕셔너리는 키랑 밸류 2개이므로 별 두개"
   ]
  },
  {
   "cell_type": "markdown",
   "id": "4975b1a2-6882-40fb-97ce-7222ded86baa",
   "metadata": {},
   "source": [
    "키워드 인수를 사용하는 가변인수 함수 만들기<br>\n",
    "def 함수이름(**kwargs):   keyowrd arguments\n",
    "___ 코드\n",
    "___ 리턴"
   ]
  },
  {
   "cell_type": "code",
   "execution_count": 15,
   "id": "725243f5-36d9-47ae-b572-380fbb91b313",
   "metadata": {},
   "outputs": [],
   "source": [
    "def personal_info2(**kwargs):\n",
    "    print(\"kwargs:\", kwargs)\n",
    "    print(\"kwargs type:\", type(kwargs))"
   ]
  },
  {
   "cell_type": "code",
   "execution_count": 16,
   "id": "0de854d2-3570-478b-8b9e-5d59150bd0ef",
   "metadata": {},
   "outputs": [
    {
     "name": "stdout",
     "output_type": "stream",
     "text": [
      "kwargs: {'name': '홍길동'}\n",
      "kwargs type: <class 'dict'>\n"
     ]
    }
   ],
   "source": [
    "personal_info2(name=\"홍길동\")"
   ]
  },
  {
   "cell_type": "markdown",
   "id": "915eb183-17db-4d05-a5c7-af3f2add276c",
   "metadata": {},
   "source": [
    "*args 는 튜플 / **kwargs는 딕셔너리"
   ]
  },
  {
   "cell_type": "code",
   "execution_count": 17,
   "id": "9c816d15-298a-492b-9cac-c05ddba8011f",
   "metadata": {},
   "outputs": [
    {
     "name": "stdout",
     "output_type": "stream",
     "text": [
      "kwargs: {'name': '홍길동', 'age': 30, 'address': '서울시 강남구', 'school': '강남 고등학교'}\n",
      "kwargs type: <class 'dict'>\n"
     ]
    }
   ],
   "source": [
    "personal_info2(name=\"홍길동\", age=30, address=\"서울시 강남구\", school=\"강남 고등학교\")"
   ]
  },
  {
   "cell_type": "code",
   "execution_count": 18,
   "id": "a47ca3d0-c208-423e-9822-653a65179ee4",
   "metadata": {},
   "outputs": [],
   "source": [
    "d = dict(name=\"홍길동\", age=30, address=\"서울시 강남구\", school=\"강남 고등학교\")"
   ]
  },
  {
   "cell_type": "code",
   "execution_count": 19,
   "id": "3e2d64d4-6f01-4c4d-bac4-dfa2ca78136f",
   "metadata": {},
   "outputs": [
    {
     "name": "stdout",
     "output_type": "stream",
     "text": [
      "kwargs: {'name': '홍길동', 'age': 30, 'address': '서울시 강남구', 'school': '강남 고등학교'}\n",
      "kwargs type: <class 'dict'>\n"
     ]
    }
   ],
   "source": [
    "personal_info2(**d)"
   ]
  },
  {
   "cell_type": "code",
   "execution_count": 25,
   "id": "56950f27-2a69-4180-858a-e4da478bfa32",
   "metadata": {},
   "outputs": [],
   "source": [
    "def personal_info3(**kwargs):\n",
    "    print(\"kwargs:\", kwargs)\n",
    "    print(\"kwargs type:\", type(kwargs))\n",
    "    for key,value in kwargs.items():\n",
    "        print(key, value)"
   ]
  },
  {
   "cell_type": "code",
   "execution_count": 26,
   "id": "c8d8a46f-957a-4f96-b6b5-1b9165b2774a",
   "metadata": {},
   "outputs": [
    {
     "name": "stdout",
     "output_type": "stream",
     "text": [
      "kwargs: {'name': '홍길동', 'age': 30, 'address': '서울시 강남구', 'school': '강남 고등학교'}\n",
      "kwargs type: <class 'dict'>\n",
      "name 홍길동\n",
      "age 30\n",
      "address 서울시 강남구\n",
      "school 강남 고등학교\n"
     ]
    }
   ],
   "source": [
    "personal_info3(**d)"
   ]
  },
  {
   "cell_type": "markdown",
   "id": "afc32122-0685-4518-9f32-954015e59b22",
   "metadata": {},
   "source": [
    "고정인수와 키워드 가변인수 함께 사용하기\n",
    "* 고정인수, **키워드 인수 순으로 와야 함"
   ]
  },
  {
   "cell_type": "code",
   "execution_count": 28,
   "id": "56be68c6-9931-4113-8113-b8ceeca75437",
   "metadata": {},
   "outputs": [],
   "source": [
    "def personal_info4(name, **kwargs):\n",
    "    print(\"name:\", name)\n",
    "    print(\"kwargs:\", kwargs)"
   ]
  },
  {
   "cell_type": "code",
   "execution_count": 29,
   "id": "623d1eff-dbb5-4085-94cd-a0b8bd539833",
   "metadata": {},
   "outputs": [
    {
     "name": "stdout",
     "output_type": "stream",
     "text": [
      "name: 홍길동\n",
      "kwargs: {}\n"
     ]
    }
   ],
   "source": [
    "personal_info4('홍길동')"
   ]
  },
  {
   "cell_type": "code",
   "execution_count": 30,
   "id": "66731d89-bfef-44c9-93ce-2488c462e265",
   "metadata": {},
   "outputs": [
    {
     "name": "stdout",
     "output_type": "stream",
     "text": [
      "name: 홍길동\n",
      "kwargs: {'age': 30, 'address': '서울시 강남구'}\n"
     ]
    }
   ],
   "source": [
    "personal_info4('홍길동', age = 30, address = '서울시 강남구')"
   ]
  },
  {
   "cell_type": "markdown",
   "id": "9b4c74bc-6ed3-412f-a4ca-91c106c283e1",
   "metadata": {},
   "source": [
    "가변인수와 가변 키워드인수 함께 쓰기\n",
    "* def 함수명(*args, **kwargs):\n",
    "* def 함수명(고정인자, *args, **kwargs):"
   ]
  },
  {
   "cell_type": "code",
   "execution_count": 31,
   "id": "796b7fad-23cd-40ba-be93-5c769d3f1d2d",
   "metadata": {},
   "outputs": [
    {
     "name": "stdout",
     "output_type": "stream",
     "text": [
      "1 !! 2 !! 3"
     ]
    }
   ],
   "source": [
    "def custom_print(*args, **kwargs):\n",
    "    print(*args, **kwargs) #1,2,3을 튜플로 받았다가 다시 풀어줌.\n",
    "custom_print(1,2,3, sep=\" !! \", end = \"\")"
   ]
  },
  {
   "cell_type": "markdown",
   "id": "2f5449b5-96ab-4c36-8833-e92fa527e5a4",
   "metadata": {},
   "source": [
    "매개변수 = 함수 내에서 사용되는 변수\n",
    "* 위치 인수 : 위치가 고정된 매개변수\n",
    "* 가변 인수 : 여러 개의 자료를 동시에 받을 수 있는 매개변수 => tuple로 들어옴\n",
    "* 키워드 가변 인수 : 여러 개의 자료를 동시에 받을 수 있는데 key=value 형태로 받는 매개변수 => dict로 들어옴"
   ]
  },
  {
   "cell_type": "code",
   "execution_count": 33,
   "id": "a09ab793-b607-4eef-89f4-52a2ca3b8c80",
   "metadata": {},
   "outputs": [],
   "source": [
    "#매개변수에 초기값 저장하기(기본 값 설정)\n",
    "def personal_info5(name, age, address = \"비공개\"):\n",
    "    print('이름:', name)\n",
    "    print('나이:', age)\n",
    "    print('주소:', address)"
   ]
  },
  {
   "cell_type": "code",
   "execution_count": 34,
   "id": "45a089d0-0384-41ea-8858-63a0f43ad836",
   "metadata": {},
   "outputs": [
    {
     "name": "stdout",
     "output_type": "stream",
     "text": [
      "이름: 홍길동\n",
      "나이: 30\n",
      "주소: 서울시 강남구\n"
     ]
    }
   ],
   "source": [
    "personal_info5('홍길동', 30, '서울시 강남구')"
   ]
  },
  {
   "cell_type": "code",
   "execution_count": 36,
   "id": "10eb7281-2741-4eab-8e4f-bf82d23cea4a",
   "metadata": {},
   "outputs": [
    {
     "name": "stdout",
     "output_type": "stream",
     "text": [
      "이름: 김호식\n",
      "나이: 10\n",
      "주소: 비공개\n"
     ]
    }
   ],
   "source": [
    "personal_info5('김호식', 10)"
   ]
  },
  {
   "cell_type": "markdown",
   "id": "0bd23a66-53dc-45ff-b94d-c8ee4f0a136c",
   "metadata": {},
   "source": [
    "매개변수의 종류에 따른 순서\n",
    "* 위치인수, 위치인수=기본값, *args, ##kwargs"
   ]
  },
  {
   "cell_type": "code",
   "execution_count": 37,
   "id": "fc3ba578-b5e1-4e78-9a48-81899eefe804",
   "metadata": {},
   "outputs": [],
   "source": [
    "def personal_info6(address = \"비공개\", *args, **kwargs):\n",
    "    print('args:', args)\n",
    "    print('kwargs:', kwargs)\n",
    "    print('주소:', address)"
   ]
  },
  {
   "cell_type": "code",
   "execution_count": 39,
   "id": "0448c381-29b3-4a7b-ad44-9822a031d5a1",
   "metadata": {},
   "outputs": [
    {
     "name": "stdout",
     "output_type": "stream",
     "text": [
      "args: (1, 2, 3, 4)\n",
      "kwargs: {'name': '홍길동', 'age': 30}\n",
      "주소: 홍길동\n"
     ]
    }
   ],
   "source": [
    "personal_info6(\"홍길동\", 1,2,3,4, name='홍길동', age=30)"
   ]
  },
  {
   "cell_type": "markdown",
   "id": "d699f3dd-4dc0-4726-9054-cc4e134e71bf",
   "metadata": {},
   "source": [
    "함수 Doc 스트링 사용하기\n",
    "* 함수의 기능을 설명하거나 사용법을 함수 내에 적어 놓는 것\n",
    "def 함수이름(매개변수):<br>\n",
    "____\"\"\" 독스트링으로 설명 적기 \"\"\" <br>\n",
    "____실행 코드\n",
    "____return\n",
    "* 독스트링은 함수 실행시에는 출력되지 않음\n",
    "* print(함수이름.doc)\n",
    "* help(함수이름)"
   ]
  },
  {
   "cell_type": "code",
   "execution_count": 40,
   "id": "be904fb9-404b-4a3c-af9b-949c62eaf447",
   "metadata": {},
   "outputs": [
    {
     "name": "stdout",
     "output_type": "stream",
     "text": [
      "\n"
     ]
    }
   ],
   "source": [
    "print()"
   ]
  },
  {
   "cell_type": "code",
   "execution_count": 41,
   "id": "2f62473b-a2d6-44fc-9b0a-5f700f4941f9",
   "metadata": {},
   "outputs": [],
   "source": [
    "def add(a, b):\n",
    "    \"\"\"\n",
    "    이 함수는 a와 b를 더한 뒤 결과를 반환하는 함수입니다.\n",
    "    \"\"\"\n",
    "    return a + b"
   ]
  },
  {
   "cell_type": "code",
   "execution_count": 42,
   "id": "59b2d08f-8075-4307-9d76-c685a65cb0c5",
   "metadata": {},
   "outputs": [
    {
     "data": {
      "text/plain": [
       "15"
      ]
     },
     "execution_count": 42,
     "metadata": {},
     "output_type": "execute_result"
    }
   ],
   "source": [
    "add(10, 5)"
   ]
  },
  {
   "cell_type": "code",
   "execution_count": 44,
   "id": "9a7bffd7-073d-4b4c-9690-6139f45c697d",
   "metadata": {},
   "outputs": [
    {
     "data": {
      "text/plain": [
       "<function __main__.add(a, b)>"
      ]
     },
     "execution_count": 44,
     "metadata": {},
     "output_type": "execute_result"
    }
   ],
   "source": [
    "add #shift+tap시, 상세 설명 안내"
   ]
  },
  {
   "cell_type": "code",
   "execution_count": 45,
   "id": "57c33490-e14a-4727-9b0c-5141a30bac00",
   "metadata": {},
   "outputs": [
    {
     "name": "stdout",
     "output_type": "stream",
     "text": [
      "\n",
      "    이 함수는 a와 b를 더한 뒤 결과를 반환하는 함수입니다.\n",
      "    \n"
     ]
    }
   ],
   "source": [
    "print(add.__doc__)"
   ]
  },
  {
   "cell_type": "code",
   "execution_count": 46,
   "id": "b605d97b-622b-47fe-8d1b-968335cfc1c2",
   "metadata": {},
   "outputs": [
    {
     "data": {
      "text/plain": [
       "['__add__',\n",
       " '__class__',\n",
       " '__class_getitem__',\n",
       " '__contains__',\n",
       " '__delattr__',\n",
       " '__delitem__',\n",
       " '__dir__',\n",
       " '__doc__',\n",
       " '__eq__',\n",
       " '__format__',\n",
       " '__ge__',\n",
       " '__getattribute__',\n",
       " '__getitem__',\n",
       " '__gt__',\n",
       " '__hash__',\n",
       " '__iadd__',\n",
       " '__imul__',\n",
       " '__init__',\n",
       " '__init_subclass__',\n",
       " '__iter__',\n",
       " '__le__',\n",
       " '__len__',\n",
       " '__lt__',\n",
       " '__mul__',\n",
       " '__ne__',\n",
       " '__new__',\n",
       " '__reduce__',\n",
       " '__reduce_ex__',\n",
       " '__repr__',\n",
       " '__reversed__',\n",
       " '__rmul__',\n",
       " '__setattr__',\n",
       " '__setitem__',\n",
       " '__sizeof__',\n",
       " '__str__',\n",
       " '__subclasshook__',\n",
       " 'append',\n",
       " 'clear',\n",
       " 'copy',\n",
       " 'count',\n",
       " 'extend',\n",
       " 'index',\n",
       " 'insert',\n",
       " 'pop',\n",
       " 'remove',\n",
       " 'reverse',\n",
       " 'sort']"
      ]
     },
     "execution_count": 46,
     "metadata": {},
     "output_type": "execute_result"
    }
   ],
   "source": [
    "dir([1,2,3,4])"
   ]
  },
  {
   "cell_type": "markdown",
   "id": "ef9ea342-2ad6-4a10-b5d1-af8997680010",
   "metadata": {},
   "source": [
    "## 람다 표현식 (lambda expession)\n",
    "* 간단한 함수를 작성하거나 다른 함수의 인수로 함수를 넣을 때 사용\n",
    "* 익명함수(함수명이 없음)\n",
    "* 사용 후 메모리에서 삭제"
   ]
  },
  {
   "cell_type": "code",
   "execution_count": 47,
   "id": "7d38fe94-cd8a-42fa-a7b1-f37fdab48e17",
   "metadata": {},
   "outputs": [],
   "source": [
    "# 자료 1개를 입력받아 10을 더해 리턴하는 함수\n",
    "def plus_ten(x):\n",
    "    return x + 10"
   ]
  },
  {
   "cell_type": "code",
   "execution_count": 48,
   "id": "88c1da9f-6659-4f3e-8b57-89e16f95f149",
   "metadata": {},
   "outputs": [
    {
     "data": {
      "text/plain": [
       "15"
      ]
     },
     "execution_count": 48,
     "metadata": {},
     "output_type": "execute_result"
    }
   ],
   "source": [
    "# def lambda():\n",
    "(lambda x : x + 10)(5)"
   ]
  },
  {
   "cell_type": "markdown",
   "id": "ac2ace17-e0b6-41d5-b094-70ab3553eb3f",
   "metadata": {},
   "source": [
    "람다 함수를 병수에 넣고 변수에 인수를 넣어서 호출"
   ]
  },
  {
   "cell_type": "code",
   "execution_count": 67,
   "id": "f233ea53-cfa3-4dd9-b4f5-f89360bcd7ed",
   "metadata": {},
   "outputs": [],
   "source": [
    "plus_five = lambda x : x + 5"
   ]
  },
  {
   "cell_type": "code",
   "execution_count": 68,
   "id": "8eae25ef-f2d8-4644-9d6e-cac223d4c8a2",
   "metadata": {},
   "outputs": [
    {
     "data": {
      "text/plain": [
       "10"
      ]
     },
     "execution_count": 68,
     "metadata": {},
     "output_type": "execute_result"
    }
   ],
   "source": [
    "plus_five(5)"
   ]
  },
  {
   "cell_type": "code",
   "execution_count": 64,
   "id": "233856d5-eb1a-4c3a-b625-aa3cbf2f91b6",
   "metadata": {},
   "outputs": [],
   "source": [
    "a, b, c, d = map(int, ['1', '2', '4', '5'])"
   ]
  },
  {
   "cell_type": "code",
   "execution_count": 65,
   "id": "da0080ac-a5f9-4161-b5a0-97c86adca4b0",
   "metadata": {},
   "outputs": [
    {
     "name": "stdout",
     "output_type": "stream",
     "text": [
      "1 2 4 5\n"
     ]
    }
   ],
   "source": [
    "print(a, b, c, d)"
   ]
  },
  {
   "cell_type": "code",
   "execution_count": 71,
   "id": "b6f77e9a-31f4-4012-9f85-5ec4a7cae5f3",
   "metadata": {},
   "outputs": [
    {
     "name": "stdout",
     "output_type": "stream",
     "text": [
      "[6, 7, 8, 9, 10]\n"
     ]
    }
   ],
   "source": [
    "result = map(plus_five, [1,2,3,4,5])\n",
    "print(list(result))"
   ]
  },
  {
   "cell_type": "code",
   "execution_count": 72,
   "id": "b5ee8f85-581c-43f1-b043-c22943797e4a",
   "metadata": {},
   "outputs": [
    {
     "data": {
      "text/plain": [
       "[11, 12, 13, 14, 15]"
      ]
     },
     "execution_count": 72,
     "metadata": {},
     "output_type": "execute_result"
    }
   ],
   "source": [
    "list(map(lambda x : x + 10, [1,2,3,4,5]))"
   ]
  },
  {
   "cell_type": "code",
   "execution_count": 74,
   "id": "2388c64b-dc6d-473e-9262-9574f51fb5a7",
   "metadata": {},
   "outputs": [
    {
     "data": {
      "text/plain": [
       "[11, 12, 13, 14, 15]"
      ]
     },
     "execution_count": 74,
     "metadata": {},
     "output_type": "execute_result"
    }
   ],
   "source": [
    "x = [1,2,3,4,5]\n",
    "def plus_10(x):\n",
    "    hap = []\n",
    "    for i in x:\n",
    "        hap.append(i + 10)\n",
    "    return hap\n",
    "\n",
    "# def plus_10(x):\n",
    "#     return [i + 10 for i in x]\n",
    "\n",
    "plus_10(x)"
   ]
  },
  {
   "cell_type": "code",
   "execution_count": null,
   "id": "54a46a28-ea72-4619-b46e-d367e1f26b34",
   "metadata": {},
   "outputs": [],
   "source": [
    "람다표현식에 조건부 표현식 사용하기"
   ]
  },
  {
   "cell_type": "code",
   "execution_count": 75,
   "id": "a3b570dc-6ef7-4d4c-a6cc-ebd15e103891",
   "metadata": {},
   "outputs": [
    {
     "data": {
      "text/plain": [
       "[1, 2, 3, 4, 5, 6, 7, 8, 9, 10]"
      ]
     },
     "execution_count": 75,
     "metadata": {},
     "output_type": "execute_result"
    }
   ],
   "source": [
    "# 3의 배수만 문자열로 바꾸기 str()\n",
    "a = list(range(1,11))\n",
    "a"
   ]
  },
  {
   "cell_type": "code",
   "execution_count": 105,
   "id": "3bd12a0f-1e74-43ba-abce-2146a0989e7e",
   "metadata": {},
   "outputs": [
    {
     "data": {
      "text/plain": [
       "[1, 2, '3', 4, 5, '6', 7, 8, '9', 10]"
      ]
     },
     "execution_count": 105,
     "metadata": {},
     "output_type": "execute_result"
    }
   ],
   "source": [
    "# def tostr3(a):\n",
    "#     result = []\n",
    "#     for i in a:\n",
    "#         if i % 3 == 0:\n",
    "#             result.append(str(i))\n",
    "#         else:\n",
    "#             result.append(i)\n",
    "#     return result\n",
    "\n",
    "# 3의 배수만 문자열로 바꾸기 str()\n",
    "# 조건문 \n",
    "list(map(lambda i: str(i) if i % 3 ==0 else i, a)) #lambda함수 안에 a가 하나씩 들어가도록"
   ]
  },
  {
   "cell_type": "code",
   "execution_count": 108,
   "id": "95ca512b-4565-4e4d-8e3b-6c47f549a29c",
   "metadata": {
    "scrolled": true
   },
   "outputs": [],
   "source": [
    "# apply(lambda i: str(i) if i % 3 ==0 else i) #pandas"
   ]
  },
  {
   "cell_type": "code",
   "execution_count": 109,
   "id": "a11d47fd-f01e-4e19-85ab-8f5bcfa46d37",
   "metadata": {},
   "outputs": [],
   "source": [
    "a = [1,2,3,4,5]\n",
    "b = [2,4,6,8,10]\n",
    "c = [3,6,9,12,15]"
   ]
  },
  {
   "cell_type": "code",
   "execution_count": 110,
   "id": "ad5ac0d5-8876-48db-a5c4-5a63a2cd6331",
   "metadata": {},
   "outputs": [
    {
     "data": {
      "text/plain": [
       "[18, 144, 486, 1152, 2250]"
      ]
     },
     "execution_count": 110,
     "metadata": {},
     "output_type": "execute_result"
    }
   ],
   "source": [
    "list(map(lambda x, y, z: z * y * z, a, b, c))"
   ]
  },
  {
   "cell_type": "code",
   "execution_count": null,
   "id": "97732053-0069-4606-a11a-2eb21d303004",
   "metadata": {},
   "outputs": [],
   "source": []
  },
  {
   "cell_type": "code",
   "execution_count": null,
   "id": "87f635d6-fab5-4b2e-b8b9-dcf8bb51e94c",
   "metadata": {},
   "outputs": [],
   "source": []
  },
  {
   "cell_type": "code",
   "execution_count": null,
   "id": "efdbae19-4a3c-45c8-91e4-e7c1fff0477c",
   "metadata": {},
   "outputs": [],
   "source": []
  },
  {
   "cell_type": "code",
   "execution_count": null,
   "id": "a2e6010d-751f-4316-82d0-b4c32b3898b2",
   "metadata": {},
   "outputs": [],
   "source": []
  },
  {
   "cell_type": "code",
   "execution_count": null,
   "id": "6fc215b8-3744-4e48-b2ec-a954fc16744e",
   "metadata": {},
   "outputs": [],
   "source": []
  }
 ],
 "metadata": {
  "kernelspec": {
   "display_name": "Python 3 (ipykernel)",
   "language": "python",
   "name": "python3"
  },
  "language_info": {
   "codemirror_mode": {
    "name": "ipython",
    "version": 3
   },
   "file_extension": ".py",
   "mimetype": "text/x-python",
   "name": "python",
   "nbconvert_exporter": "python",
   "pygments_lexer": "ipython3",
   "version": "3.10.14"
  }
 },
 "nbformat": 4,
 "nbformat_minor": 5
}
