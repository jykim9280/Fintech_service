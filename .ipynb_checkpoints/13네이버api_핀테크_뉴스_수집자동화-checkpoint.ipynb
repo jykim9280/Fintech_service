{
 "cells": [
  {
   "cell_type": "code",
   "execution_count": null,
   "id": "bcaacbd1-4bfd-4fdc-ac9f-8ca46aeda802",
   "metadata": {},
   "outputs": [],
   "source": []
  },
  {
   "cell_type": "code",
   "execution_count": 17,
   "id": "bd304d2e-19e0-423f-b63a-a204e7a0fb3d",
   "metadata": {},
   "outputs": [
    {
     "data": {
      "text/plain": [
       "False"
      ]
     },
     "execution_count": 17,
     "metadata": {},
     "output_type": "execute_result"
    }
   ],
   "source": [
    "import requests\n",
    "import pandas as pd\n",
    "import os\n",
    "from dotenv import load_dotenv\n",
    "load_dotenv()"
   ]
  },
  {
   "cell_type": "code",
   "execution_count": 15,
   "id": "3cc715d6-0508-4ac1-8dc4-67575454e0e1",
   "metadata": {},
   "outputs": [
    {
     "name": "stdout",
     "output_type": "stream",
     "text": [
      "https://openapi.naver.com/v1/search/news.json?query=%ED%95%80%ED%85%8C%ED%81%AC&display=10&start=1&sort=sim\n"
     ]
    },
    {
     "ename": "TypeError",
     "evalue": "can only concatenate str (not \"int\") to str",
     "output_type": "error",
     "traceback": [
      "\u001b[1;31m---------------------------------------------------------------------------\u001b[0m",
      "\u001b[1;31mTypeError\u001b[0m                                 Traceback (most recent call last)",
      "Cell \u001b[1;32mIn[15], line 9\u001b[0m\n\u001b[0;32m      7\u001b[0m     data \u001b[38;5;241m=\u001b[39m r\u001b[38;5;241m.\u001b[39mjson()\n\u001b[0;32m      8\u001b[0m \u001b[38;5;28;01melse\u001b[39;00m:\n\u001b[1;32m----> 9\u001b[0m     \u001b[38;5;28mprint\u001b[39m(\u001b[38;5;124;43m\"\u001b[39;49m\u001b[38;5;124;43mError Code:\u001b[39;49m\u001b[38;5;124;43m\"\u001b[39;49m\u001b[43m \u001b[49m\u001b[38;5;241;43m+\u001b[39;49m\u001b[43m \u001b[49m\u001b[43mr\u001b[49m\u001b[38;5;241;43m.\u001b[39;49m\u001b[43mstatus_code\u001b[49m)\n",
      "\u001b[1;31mTypeError\u001b[0m: can only concatenate str (not \"int\") to str"
     ]
    }
   ],
   "source": [
    "url = \"https://openapi.naver.com/v1/search/news.json\"\n",
    "payload = {'query' : '핀테크', 'display' : 10, 'start' : 1, 'sort' : 'sim'}\n",
    "headers = {'X-Naver-Client-Id' : os.getenv('client_id'), 'X-Naver-Client-Secret' :os.getenv('client_secret')}\n",
    "r = requests.get(url, params = payload, headers = headers)\n",
    "print(r.url)\n",
    "if(r.status_code ==200):\n",
    "    data = r.json()\n",
    "else:\n",
    "    print(\"Error Code:\" + r.status_code)"
   ]
  },
  {
   "cell_type": "code",
   "execution_count": 3,
   "id": "5d3d3013-358f-4016-a2a8-8849fd6008f3",
   "metadata": {},
   "outputs": [
    {
     "data": {
      "text/html": [
       "<div>\n",
       "<style scoped>\n",
       "    .dataframe tbody tr th:only-of-type {\n",
       "        vertical-align: middle;\n",
       "    }\n",
       "\n",
       "    .dataframe tbody tr th {\n",
       "        vertical-align: top;\n",
       "    }\n",
       "\n",
       "    .dataframe thead th {\n",
       "        text-align: right;\n",
       "    }\n",
       "</style>\n",
       "<table border=\"1\" class=\"dataframe\">\n",
       "  <thead>\n",
       "    <tr style=\"text-align: right;\">\n",
       "      <th></th>\n",
       "      <th>title</th>\n",
       "      <th>originallink</th>\n",
       "      <th>link</th>\n",
       "      <th>description</th>\n",
       "      <th>pubDate</th>\n",
       "    </tr>\n",
       "  </thead>\n",
       "  <tbody>\n",
       "    <tr>\n",
       "      <th>0</th>\n",
       "      <td>티몬·위메프 사태 파장 직격탄에 &lt;b&gt;핀테크&lt;/b&gt;업계 ‘울상’</td>\n",
       "      <td>https://www.dailian.co.kr/news/view/1391156/?s...</td>\n",
       "      <td>https://n.news.naver.com/mnews/article/119/000...</td>\n",
       "      <td>위메프·티몬(티메프) 판매대금 정산 지연 사태로 인해 &lt;b&gt;핀테크&lt;/b&gt; 업계에도 ...</td>\n",
       "      <td>Fri, 02 Aug 2024 06:00:00 +0900</td>\n",
       "    </tr>\n",
       "    <tr>\n",
       "      <th>1</th>\n",
       "      <td>[마켓인]코스닥 상장 뱅크웨어글로벌…한투파 &amp;quot;&lt;b&gt;핀테크&lt;/b&gt; 육성 결실...</td>\n",
       "      <td>http://www.edaily.co.kr/news/newspath.asp?news...</td>\n",
       "      <td>https://n.news.naver.com/mnews/article/018/000...</td>\n",
       "      <td>한국투자파트너스(한투파)가 운용 중인 &lt;b&gt;핀테크&lt;/b&gt;혁신펀드에서 첫 코스닥 상장...</td>\n",
       "      <td>Fri, 02 Aug 2024 08:21:00 +0900</td>\n",
       "    </tr>\n",
       "    <tr>\n",
       "      <th>2</th>\n",
       "      <td>아르고스, 코리아 &lt;b&gt;핀테크&lt;/b&gt; 위크 2024 참가</td>\n",
       "      <td>https://www.etnews.com/20240801000339</td>\n",
       "      <td>https://n.news.naver.com/mnews/article/030/000...</td>\n",
       "      <td>코리아 &lt;b&gt;핀테크&lt;/b&gt; 위크 2024에 참가한다. 아르고스는 비대면 환경에서 A...</td>\n",
       "      <td>Thu, 01 Aug 2024 16:48:00 +0900</td>\n",
       "    </tr>\n",
       "    <tr>\n",
       "      <th>3</th>\n",
       "      <td>한투파트너스, '&lt;b&gt;핀테크&lt;/b&gt;혁신펀드' 1호 상장 일궜다</td>\n",
       "      <td>https://www.newstof.com/news/articleView.html?...</td>\n",
       "      <td>https://www.newstof.com/news/articleView.html?...</td>\n",
       "      <td>한국투자금융지주 계열 벤처캐피탈인 한국투자파트너스가 &lt;b&gt;핀테크&lt;/b&gt;혁신펀드 위탁...</td>\n",
       "      <td>Fri, 02 Aug 2024 11:00:00 +0900</td>\n",
       "    </tr>\n",
       "    <tr>\n",
       "      <th>4</th>\n",
       "      <td>&lt;b&gt;핀테크&lt;/b&gt; 업체들, 티몬·위메프 결제액 선환불 신청 접수 개시</td>\n",
       "      <td>https://www.yna.co.kr/view/AKR2024072802120001...</td>\n",
       "      <td>https://n.news.naver.com/mnews/article/001/001...</td>\n",
       "      <td>네이버페이는 48시간 이내 처리 약속 네이버페이 등 &lt;b&gt;핀테크&lt;/b&gt; 업체들이 2...</td>\n",
       "      <td>Sun, 28 Jul 2024 10:52:00 +0900</td>\n",
       "    </tr>\n",
       "    <tr>\n",
       "      <th>5</th>\n",
       "      <td>아르고스 아이덴티티, ‘코리아 &lt;b&gt;핀테크&lt;/b&gt; 위크 2024’ 참가</td>\n",
       "      <td>https://www.venturesquare.net/934733</td>\n",
       "      <td>https://www.venturesquare.net/934733</td>\n",
       "      <td>AI 기반의 아이덴티티 플랫폼 기업 아르고스 아이덴티티(ARGOS Identity)...</td>\n",
       "      <td>Thu, 01 Aug 2024 14:29:00 +0900</td>\n",
       "    </tr>\n",
       "    <tr>\n",
       "      <th>6</th>\n",
       "      <td>티메프 사태 '&lt;b&gt;핀테크&lt;/b&gt; 스타트업'도 불똥…정부 지원도 '사각지대'</td>\n",
       "      <td>http://news.mt.co.kr/mtview.php?no=20240731144...</td>\n",
       "      <td>https://n.news.naver.com/mnews/article/008/000...</td>\n",
       "      <td>'티메프(티몬·위메프)' 사태가 '셀러(판매자) 선정산' 서비스를 제공하는 &lt;b&gt;핀...</td>\n",
       "      <td>Thu, 01 Aug 2024 07:00:00 +0900</td>\n",
       "    </tr>\n",
       "    <tr>\n",
       "      <th>7</th>\n",
       "      <td>&lt;b&gt;핀테크&lt;/b&gt; 업체들, 티메프 결제액 선환불 신청 접수 개시</td>\n",
       "      <td>https://biz.chosun.com/stock/finance/2024/07/2...</td>\n",
       "      <td>https://n.news.naver.com/mnews/article/366/000...</td>\n",
       "      <td>네이버페이 등 &lt;b&gt;핀테크&lt;/b&gt; 업체들이 28일 정산 지연 사태를 빚고 있는 티몬...</td>\n",
       "      <td>Sun, 28 Jul 2024 11:21:00 +0900</td>\n",
       "    </tr>\n",
       "    <tr>\n",
       "      <th>8</th>\n",
       "      <td>&lt;b&gt;핀테크&lt;/b&gt; 업체들 ‘티메프 사태’ 소방수로…“환불 규모 가늠 못 해”</td>\n",
       "      <td>https://www.hani.co.kr/arti/economy/economy_ge...</td>\n",
       "      <td>https://n.news.naver.com/mnews/article/028/000...</td>\n",
       "      <td>있는 &lt;b&gt;핀테크&lt;/b&gt;업체들이 우선 떠안는 모양새다. 28일 간편결제사인 네이버페...</td>\n",
       "      <td>Sun, 28 Jul 2024 19:08:00 +0900</td>\n",
       "    </tr>\n",
       "    <tr>\n",
       "      <th>9</th>\n",
       "      <td>&lt;b&gt;핀테크&lt;/b&gt; 업체들, 티몬·위메프 결제액 선환불 신청 접수 개시</td>\n",
       "      <td>http://mbn.mk.co.kr/pages/news/newsView.php?ca...</td>\n",
       "      <td>https://n.news.naver.com/mnews/article/057/000...</td>\n",
       "      <td>네이버페이 등 &lt;b&gt;핀테크&lt;/b&gt; 업체들이 오늘(28일) 정산 지연 사태를 빚고 있...</td>\n",
       "      <td>Sun, 28 Jul 2024 11:41:00 +0900</td>\n",
       "    </tr>\n",
       "  </tbody>\n",
       "</table>\n",
       "</div>"
      ],
      "text/plain": [
       "                                               title  \\\n",
       "0                티몬·위메프 사태 파장 직격탄에 <b>핀테크</b>업계 ‘울상’   \n",
       "1  [마켓인]코스닥 상장 뱅크웨어글로벌…한투파 &quot;<b>핀테크</b> 육성 결실...   \n",
       "2                    아르고스, 코리아 <b>핀테크</b> 위크 2024 참가   \n",
       "3                 한투파트너스, '<b>핀테크</b>혁신펀드' 1호 상장 일궜다   \n",
       "4            <b>핀테크</b> 업체들, 티몬·위메프 결제액 선환불 신청 접수 개시   \n",
       "5            아르고스 아이덴티티, ‘코리아 <b>핀테크</b> 위크 2024’ 참가   \n",
       "6         티메프 사태 '<b>핀테크</b> 스타트업'도 불똥…정부 지원도 '사각지대'   \n",
       "7               <b>핀테크</b> 업체들, 티메프 결제액 선환불 신청 접수 개시   \n",
       "8        <b>핀테크</b> 업체들 ‘티메프 사태’ 소방수로…“환불 규모 가늠 못 해”   \n",
       "9            <b>핀테크</b> 업체들, 티몬·위메프 결제액 선환불 신청 접수 개시   \n",
       "\n",
       "                                        originallink  \\\n",
       "0  https://www.dailian.co.kr/news/view/1391156/?s...   \n",
       "1  http://www.edaily.co.kr/news/newspath.asp?news...   \n",
       "2              https://www.etnews.com/20240801000339   \n",
       "3  https://www.newstof.com/news/articleView.html?...   \n",
       "4  https://www.yna.co.kr/view/AKR2024072802120001...   \n",
       "5               https://www.venturesquare.net/934733   \n",
       "6  http://news.mt.co.kr/mtview.php?no=20240731144...   \n",
       "7  https://biz.chosun.com/stock/finance/2024/07/2...   \n",
       "8  https://www.hani.co.kr/arti/economy/economy_ge...   \n",
       "9  http://mbn.mk.co.kr/pages/news/newsView.php?ca...   \n",
       "\n",
       "                                                link  \\\n",
       "0  https://n.news.naver.com/mnews/article/119/000...   \n",
       "1  https://n.news.naver.com/mnews/article/018/000...   \n",
       "2  https://n.news.naver.com/mnews/article/030/000...   \n",
       "3  https://www.newstof.com/news/articleView.html?...   \n",
       "4  https://n.news.naver.com/mnews/article/001/001...   \n",
       "5               https://www.venturesquare.net/934733   \n",
       "6  https://n.news.naver.com/mnews/article/008/000...   \n",
       "7  https://n.news.naver.com/mnews/article/366/000...   \n",
       "8  https://n.news.naver.com/mnews/article/028/000...   \n",
       "9  https://n.news.naver.com/mnews/article/057/000...   \n",
       "\n",
       "                                         description  \\\n",
       "0  위메프·티몬(티메프) 판매대금 정산 지연 사태로 인해 <b>핀테크</b> 업계에도 ...   \n",
       "1  한국투자파트너스(한투파)가 운용 중인 <b>핀테크</b>혁신펀드에서 첫 코스닥 상장...   \n",
       "2  코리아 <b>핀테크</b> 위크 2024에 참가한다. 아르고스는 비대면 환경에서 A...   \n",
       "3  한국투자금융지주 계열 벤처캐피탈인 한국투자파트너스가 <b>핀테크</b>혁신펀드 위탁...   \n",
       "4  네이버페이는 48시간 이내 처리 약속 네이버페이 등 <b>핀테크</b> 업체들이 2...   \n",
       "5  AI 기반의 아이덴티티 플랫폼 기업 아르고스 아이덴티티(ARGOS Identity)...   \n",
       "6  '티메프(티몬·위메프)' 사태가 '셀러(판매자) 선정산' 서비스를 제공하는 <b>핀...   \n",
       "7  네이버페이 등 <b>핀테크</b> 업체들이 28일 정산 지연 사태를 빚고 있는 티몬...   \n",
       "8  있는 <b>핀테크</b>업체들이 우선 떠안는 모양새다. 28일 간편결제사인 네이버페...   \n",
       "9  네이버페이 등 <b>핀테크</b> 업체들이 오늘(28일) 정산 지연 사태를 빚고 있...   \n",
       "\n",
       "                           pubDate  \n",
       "0  Fri, 02 Aug 2024 06:00:00 +0900  \n",
       "1  Fri, 02 Aug 2024 08:21:00 +0900  \n",
       "2  Thu, 01 Aug 2024 16:48:00 +0900  \n",
       "3  Fri, 02 Aug 2024 11:00:00 +0900  \n",
       "4  Sun, 28 Jul 2024 10:52:00 +0900  \n",
       "5  Thu, 01 Aug 2024 14:29:00 +0900  \n",
       "6  Thu, 01 Aug 2024 07:00:00 +0900  \n",
       "7  Sun, 28 Jul 2024 11:21:00 +0900  \n",
       "8  Sun, 28 Jul 2024 19:08:00 +0900  \n",
       "9  Sun, 28 Jul 2024 11:41:00 +0900  "
      ]
     },
     "execution_count": 3,
     "metadata": {},
     "output_type": "execute_result"
    }
   ],
   "source": [
    "df = pd.json_normalize(data['items'])\n",
    "df"
   ]
  },
  {
   "cell_type": "code",
   "execution_count": null,
   "id": "b8ec3a75-42a0-469e-9c40-dc4a9a96e768",
   "metadata": {},
   "outputs": [],
   "source": []
  },
  {
   "cell_type": "code",
   "execution_count": null,
   "id": "d78d1312-63d8-4333-bd88-bd3732647a9e",
   "metadata": {},
   "outputs": [],
   "source": []
  },
  {
   "cell_type": "code",
   "execution_count": null,
   "id": "dcabcc7d-8eaa-4959-a6c5-0f00163c0ca3",
   "metadata": {},
   "outputs": [],
   "source": []
  },
  {
   "cell_type": "code",
   "execution_count": null,
   "id": "3b3a87c5-b325-448c-9d4a-90240934da71",
   "metadata": {},
   "outputs": [],
   "source": []
  },
  {
   "cell_type": "code",
   "execution_count": null,
   "id": "6c2ed46f-6aea-44bc-bcdf-aeb1856565be",
   "metadata": {},
   "outputs": [],
   "source": []
  },
  {
   "cell_type": "code",
   "execution_count": null,
   "id": "a4a42cef-49e4-4745-8b24-08e7021125f4",
   "metadata": {},
   "outputs": [],
   "source": []
  },
  {
   "cell_type": "code",
   "execution_count": null,
   "id": "91352be3-e91a-40f5-9dee-4b8ec5a81761",
   "metadata": {},
   "outputs": [],
   "source": []
  }
 ],
 "metadata": {
  "kernelspec": {
   "display_name": "Python 3 (ipykernel)",
   "language": "python",
   "name": "python3"
  },
  "language_info": {
   "codemirror_mode": {
    "name": "ipython",
    "version": 3
   },
   "file_extension": ".py",
   "mimetype": "text/x-python",
   "name": "python",
   "nbconvert_exporter": "python",
   "pygments_lexer": "ipython3",
   "version": "3.10.14"
  }
 },
 "nbformat": 4,
 "nbformat_minor": 5
}
