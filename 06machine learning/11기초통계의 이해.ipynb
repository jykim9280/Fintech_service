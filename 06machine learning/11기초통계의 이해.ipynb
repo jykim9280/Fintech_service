{
 "cells": [
  {
   "cell_type": "code",
   "execution_count": 1,
   "id": "f9580cbb-fb06-44f9-ba9b-4cf8dc2c6e50",
   "metadata": {},
   "outputs": [],
   "source": [
    "import pandas as pd\n",
    "import numpy as np\n",
    "import matplotlib.pyplot as plt\n",
    "import seaborn as sns\n",
    "import math"
   ]
  },
  {
   "cell_type": "markdown",
   "id": "c98f1a1e-2482-4f2a-89ed-80d9df1ab374",
   "metadata": {},
   "source": [
    "# 기초 통계 개념정리\n",
    "## 1) 대표값 : 데이터의 중심을 나타내는 값\n",
    "* 평균(mean)\n",
    "* 중앙값(median)\n",
    "* 최빈값(mode)"
   ]
  },
  {
   "cell_type": "markdown",
   "id": "2f03d58c-aeb7-423c-8af1-2f554ae6afc5",
   "metadata": {},
   "source": [
    "### (1) 평균(mean) $ \\mu $\n",
    "* 극단 값의 총합을 값의 개수로 나눈 값\n",
    "* 극단적인 값(이상값/아웃라이어)이 있는 경우 평균에 영향을 미친다.\n",
    "* 모집단의 평균 $ \\mu $\n",
    "* 표본집단의 평균  $ \\bar[x] $\n",
    "<br>\n",
    "$$ 모평균: \\mu = {\\sum_{i=1}^N x_i \\over n} $$\n",
    "$$ 표본평균: \\bar[x] = {\\sum_{i=1}^N x_i \\over n} $$"
   ]
  },
  {
   "cell_type": "code",
   "execution_count": 2,
   "id": "f3749e70-9b48-4a85-9c0e-dff76818a733",
   "metadata": {},
   "outputs": [],
   "source": [
    "# 평균\n",
    "a = pd.DataFrame([2,3,3,4,4,5,7,7,7,8], columns=['표본'])"
   ]
  },
  {
   "cell_type": "code",
   "execution_count": 3,
   "id": "1ef2549c-24d3-4feb-8d97-199c7b0ec6ad",
   "metadata": {},
   "outputs": [
    {
     "data": {
      "text/plain": [
       "표본    5.0\n",
       "dtype: float64"
      ]
     },
     "execution_count": 3,
     "metadata": {},
     "output_type": "execute_result"
    }
   ],
   "source": [
    "# 평균\n",
    "a.mean()"
   ]
  },
  {
   "cell_type": "markdown",
   "id": "b805c22c-aadf-4531-9e5d-10f25c3f72a7",
   "metadata": {},
   "source": [
    "### (2) 중앙값(median)\n",
    "* 모든 데이터를 큰 순서대로 나열할 때 가운데 값\n",
    "* 데이터의 개수가 홀수일 때는 정중앙의 값\n",
    "* 데이터의 개수가 짝수일 때는 정중앙 2개 수의 평균값\n",
    "* 이상치가 있어도 영향을 받지 않는다."
   ]
  },
  {
   "cell_type": "code",
   "execution_count": 4,
   "id": "37864ee8-f2c6-40be-bc26-4e2c5c7dea30",
   "metadata": {},
   "outputs": [
    {
     "data": {
      "text/html": [
       "<div>\n",
       "<style scoped>\n",
       "    .dataframe tbody tr th:only-of-type {\n",
       "        vertical-align: middle;\n",
       "    }\n",
       "\n",
       "    .dataframe tbody tr th {\n",
       "        vertical-align: top;\n",
       "    }\n",
       "\n",
       "    .dataframe thead th {\n",
       "        text-align: right;\n",
       "    }\n",
       "</style>\n",
       "<table border=\"1\" class=\"dataframe\">\n",
       "  <thead>\n",
       "    <tr style=\"text-align: right;\">\n",
       "      <th></th>\n",
       "      <th>0</th>\n",
       "      <th>1</th>\n",
       "      <th>2</th>\n",
       "      <th>3</th>\n",
       "      <th>4</th>\n",
       "      <th>5</th>\n",
       "      <th>6</th>\n",
       "      <th>7</th>\n",
       "      <th>8</th>\n",
       "      <th>9</th>\n",
       "    </tr>\n",
       "  </thead>\n",
       "  <tbody>\n",
       "    <tr>\n",
       "      <th>표본</th>\n",
       "      <td>2</td>\n",
       "      <td>3</td>\n",
       "      <td>3</td>\n",
       "      <td>4</td>\n",
       "      <td>4</td>\n",
       "      <td>5</td>\n",
       "      <td>7</td>\n",
       "      <td>7</td>\n",
       "      <td>7</td>\n",
       "      <td>8</td>\n",
       "    </tr>\n",
       "  </tbody>\n",
       "</table>\n",
       "</div>"
      ],
      "text/plain": [
       "    0  1  2  3  4  5  6  7  8  9\n",
       "표본  2  3  3  4  4  5  7  7  7  8"
      ]
     },
     "execution_count": 4,
     "metadata": {},
     "output_type": "execute_result"
    }
   ],
   "source": [
    "a.T"
   ]
  },
  {
   "cell_type": "code",
   "execution_count": 5,
   "id": "36300642-1a77-4947-915c-38181c812efb",
   "metadata": {},
   "outputs": [
    {
     "data": {
      "text/plain": [
       "표본    4.5\n",
       "dtype: float64"
      ]
     },
     "execution_count": 5,
     "metadata": {},
     "output_type": "execute_result"
    }
   ],
   "source": [
    "#중앙값\n",
    "a.median()"
   ]
  },
  {
   "cell_type": "code",
   "execution_count": 6,
   "id": "7133323f-e304-4f13-b531-7ede36550550",
   "metadata": {},
   "outputs": [],
   "source": [
    "b = a.copy()"
   ]
  },
  {
   "cell_type": "code",
   "execution_count": 7,
   "id": "b130b374-4275-4964-b6b4-69a6813af21a",
   "metadata": {},
   "outputs": [
    {
     "data": {
      "text/html": [
       "<div>\n",
       "<style scoped>\n",
       "    .dataframe tbody tr th:only-of-type {\n",
       "        vertical-align: middle;\n",
       "    }\n",
       "\n",
       "    .dataframe tbody tr th {\n",
       "        vertical-align: top;\n",
       "    }\n",
       "\n",
       "    .dataframe thead th {\n",
       "        text-align: right;\n",
       "    }\n",
       "</style>\n",
       "<table border=\"1\" class=\"dataframe\">\n",
       "  <thead>\n",
       "    <tr style=\"text-align: right;\">\n",
       "      <th></th>\n",
       "      <th>표본</th>\n",
       "    </tr>\n",
       "  </thead>\n",
       "  <tbody>\n",
       "    <tr>\n",
       "      <th>1</th>\n",
       "      <td>3</td>\n",
       "    </tr>\n",
       "    <tr>\n",
       "      <th>2</th>\n",
       "      <td>3</td>\n",
       "    </tr>\n",
       "    <tr>\n",
       "      <th>3</th>\n",
       "      <td>4</td>\n",
       "    </tr>\n",
       "    <tr>\n",
       "      <th>4</th>\n",
       "      <td>4</td>\n",
       "    </tr>\n",
       "    <tr>\n",
       "      <th>5</th>\n",
       "      <td>5</td>\n",
       "    </tr>\n",
       "    <tr>\n",
       "      <th>6</th>\n",
       "      <td>7</td>\n",
       "    </tr>\n",
       "    <tr>\n",
       "      <th>7</th>\n",
       "      <td>7</td>\n",
       "    </tr>\n",
       "    <tr>\n",
       "      <th>8</th>\n",
       "      <td>7</td>\n",
       "    </tr>\n",
       "    <tr>\n",
       "      <th>9</th>\n",
       "      <td>8</td>\n",
       "    </tr>\n",
       "  </tbody>\n",
       "</table>\n",
       "</div>"
      ],
      "text/plain": [
       "   표본\n",
       "1   3\n",
       "2   3\n",
       "3   4\n",
       "4   4\n",
       "5   5\n",
       "6   7\n",
       "7   7\n",
       "8   7\n",
       "9   8"
      ]
     },
     "execution_count": 7,
     "metadata": {},
     "output_type": "execute_result"
    }
   ],
   "source": [
    "b.drop(0, inplace=True)\n",
    "b"
   ]
  },
  {
   "cell_type": "code",
   "execution_count": 8,
   "id": "1b7a8805-6003-4983-ab1d-331a1689e880",
   "metadata": {},
   "outputs": [
    {
     "data": {
      "text/html": [
       "<div>\n",
       "<style scoped>\n",
       "    .dataframe tbody tr th:only-of-type {\n",
       "        vertical-align: middle;\n",
       "    }\n",
       "\n",
       "    .dataframe tbody tr th {\n",
       "        vertical-align: top;\n",
       "    }\n",
       "\n",
       "    .dataframe thead th {\n",
       "        text-align: right;\n",
       "    }\n",
       "</style>\n",
       "<table border=\"1\" class=\"dataframe\">\n",
       "  <thead>\n",
       "    <tr style=\"text-align: right;\">\n",
       "      <th></th>\n",
       "      <th>1</th>\n",
       "      <th>2</th>\n",
       "      <th>3</th>\n",
       "      <th>4</th>\n",
       "      <th>5</th>\n",
       "      <th>6</th>\n",
       "      <th>7</th>\n",
       "      <th>8</th>\n",
       "      <th>9</th>\n",
       "    </tr>\n",
       "  </thead>\n",
       "  <tbody>\n",
       "    <tr>\n",
       "      <th>표본</th>\n",
       "      <td>3</td>\n",
       "      <td>3</td>\n",
       "      <td>4</td>\n",
       "      <td>4</td>\n",
       "      <td>5</td>\n",
       "      <td>7</td>\n",
       "      <td>7</td>\n",
       "      <td>7</td>\n",
       "      <td>8</td>\n",
       "    </tr>\n",
       "  </tbody>\n",
       "</table>\n",
       "</div>"
      ],
      "text/plain": [
       "    1  2  3  4  5  6  7  8  9\n",
       "표본  3  3  4  4  5  7  7  7  8"
      ]
     },
     "execution_count": 8,
     "metadata": {},
     "output_type": "execute_result"
    }
   ],
   "source": [
    "b.T"
   ]
  },
  {
   "cell_type": "code",
   "execution_count": 9,
   "id": "9c5835fb-d83d-40ee-be7d-a039bbfba4c9",
   "metadata": {},
   "outputs": [
    {
     "data": {
      "text/plain": [
       "표본    5.0\n",
       "dtype: float64"
      ]
     },
     "execution_count": 9,
     "metadata": {},
     "output_type": "execute_result"
    }
   ],
   "source": [
    "b.median()"
   ]
  },
  {
   "cell_type": "markdown",
   "id": "2c5c5cdc-f7d0-4607-b7e9-ae54d2a087d9",
   "metadata": {},
   "source": [
    "### (3) 최빈값\n",
    "* 표본에서 가장 많이 등장하는 값\n",
    "* 최빈값도 극단값에 영향을 받지 않음"
   ]
  },
  {
   "cell_type": "code",
   "execution_count": 10,
   "id": "ef7b5123-1000-4d38-b680-03b9a279e807",
   "metadata": {},
   "outputs": [
    {
     "data": {
      "text/html": [
       "<div>\n",
       "<style scoped>\n",
       "    .dataframe tbody tr th:only-of-type {\n",
       "        vertical-align: middle;\n",
       "    }\n",
       "\n",
       "    .dataframe tbody tr th {\n",
       "        vertical-align: top;\n",
       "    }\n",
       "\n",
       "    .dataframe thead th {\n",
       "        text-align: right;\n",
       "    }\n",
       "</style>\n",
       "<table border=\"1\" class=\"dataframe\">\n",
       "  <thead>\n",
       "    <tr style=\"text-align: right;\">\n",
       "      <th></th>\n",
       "      <th>표본</th>\n",
       "    </tr>\n",
       "  </thead>\n",
       "  <tbody>\n",
       "    <tr>\n",
       "      <th>0</th>\n",
       "      <td>7</td>\n",
       "    </tr>\n",
       "  </tbody>\n",
       "</table>\n",
       "</div>"
      ],
      "text/plain": [
       "   표본\n",
       "0   7"
      ]
     },
     "execution_count": 10,
     "metadata": {},
     "output_type": "execute_result"
    }
   ],
   "source": [
    "a.mode()"
   ]
  },
  {
   "cell_type": "markdown",
   "id": "1593db0d-8da3-4cad-8a3a-60be7e78d72b",
   "metadata": {},
   "source": [
    "### (4) 산술 평균 / 기하 평균\n",
    "* 산술평균(덧셈의 평균) : 모든 데이터의 합계 / 데이터 수\n",
    "* 기하평균(곱셈의 평균) : 모든 데이터의 곱의 n 제곱근 - 증가율의 평균을 계산할 때 사용"
   ]
  },
  {
   "cell_type": "code",
   "execution_count": 11,
   "id": "f776a74e-cf60-42d5-a14d-cba990843d5b",
   "metadata": {},
   "outputs": [
    {
     "data": {
      "text/html": [
       "<div>\n",
       "<style scoped>\n",
       "    .dataframe tbody tr th:only-of-type {\n",
       "        vertical-align: middle;\n",
       "    }\n",
       "\n",
       "    .dataframe tbody tr th {\n",
       "        vertical-align: top;\n",
       "    }\n",
       "\n",
       "    .dataframe thead th {\n",
       "        text-align: right;\n",
       "    }\n",
       "</style>\n",
       "<table border=\"1\" class=\"dataframe\">\n",
       "  <thead>\n",
       "    <tr style=\"text-align: right;\">\n",
       "      <th></th>\n",
       "      <th>0</th>\n",
       "      <th>1</th>\n",
       "      <th>2</th>\n",
       "      <th>3</th>\n",
       "      <th>4</th>\n",
       "      <th>5</th>\n",
       "      <th>6</th>\n",
       "      <th>7</th>\n",
       "      <th>8</th>\n",
       "      <th>9</th>\n",
       "    </tr>\n",
       "  </thead>\n",
       "  <tbody>\n",
       "    <tr>\n",
       "      <th>표본</th>\n",
       "      <td>2</td>\n",
       "      <td>3</td>\n",
       "      <td>3</td>\n",
       "      <td>4</td>\n",
       "      <td>4</td>\n",
       "      <td>5</td>\n",
       "      <td>7</td>\n",
       "      <td>7</td>\n",
       "      <td>7</td>\n",
       "      <td>8</td>\n",
       "    </tr>\n",
       "  </tbody>\n",
       "</table>\n",
       "</div>"
      ],
      "text/plain": [
       "    0  1  2  3  4  5  6  7  8  9\n",
       "표본  2  3  3  4  4  5  7  7  7  8"
      ]
     },
     "execution_count": 11,
     "metadata": {},
     "output_type": "execute_result"
    }
   ],
   "source": [
    "a.T"
   ]
  },
  {
   "cell_type": "code",
   "execution_count": 12,
   "id": "982db87a-711d-42fe-ab8f-a5504c92bed8",
   "metadata": {},
   "outputs": [
    {
     "name": "stdout",
     "output_type": "stream",
     "text": [
      "표본    5.0\n",
      "dtype: float64\n",
      "a의 산술평균: 4.3\n"
     ]
    }
   ],
   "source": [
    "# 산술평균\n",
    "# (2+3+3+4+4+5+7+7+8) / 10\n",
    "print(a.mean())\n",
    "print(\"a의 산술평균:\", (2+3+3+4+4+5+7+7+8) /10)"
   ]
  },
  {
   "cell_type": "code",
   "execution_count": 13,
   "id": "e6469557-d25f-4f3c-a51a-3d9d1530ca4c",
   "metadata": {},
   "outputs": [
    {
     "data": {
      "text/plain": [
       "3.7598009728044874"
      ]
     },
     "execution_count": 13,
     "metadata": {},
     "output_type": "execute_result"
    }
   ],
   "source": [
    "# 기하평균\n",
    "math.pow((2*3*3*4*4*5*7*7*8), 1/10)"
   ]
  },
  {
   "cell_type": "code",
   "execution_count": 14,
   "id": "fe7cc03b-6a85-42c7-89b7-f80b03a2ee74",
   "metadata": {},
   "outputs": [
    {
     "name": "stdout",
     "output_type": "stream",
     "text": [
      "기하평균: 4.567459024554637\n"
     ]
    }
   ],
   "source": [
    "from scipy.stats import gmean\n",
    "geometric_mean = gmean(a['표본'])\n",
    "print(\"기하평균:\", geometric_mean)"
   ]
  },
  {
   "cell_type": "markdown",
   "id": "ec02a202-377e-4156-8358-bc7a720881aa",
   "metadata": {},
   "source": [
    "2020년에 7%, 2021년에 35%, 2022년에 40%, 2023년에 69%의 매출 증가가 있었다면 4년간 평균 매출 증가율은?"
   ]
  },
  {
   "cell_type": "code",
   "execution_count": 15,
   "id": "30f69465-58d8-44aa-8fc3-7cf0d95eba06",
   "metadata": {},
   "outputs": [
    {
     "name": "stdout",
     "output_type": "stream",
     "text": [
      "산술평균: 37.75\n",
      "기하평균: 28.67601451933219\n"
     ]
    }
   ],
   "source": [
    "print('산술평균:', pd.Series([7, 35, 40, 69]).mean())\n",
    "print('기하평균:', gmean([7, 35, 40, 69]))"
   ]
  },
  {
   "cell_type": "markdown",
   "id": "07415c6a-e78d-4920-ba72-a8763587c4b2",
   "metadata": {},
   "source": [
    "## 2) 도수 분포표와 히스토그램\n",
    "### (1) 도수분포표\n",
    "* 주어진 데이터를 일정한 범위로 나누고 그 범위에 출현하는 데이터 개수를 조사해 나타낸 표\n",
    "* 데이터의 구간 폭을 '계급'(class), 각 계급에 속하는 데이터 개수를 '도수'라고 한다.\n",
    "* 각 계급의 중앙값을 '계급값'이라고 한다.\n",
    "* 도수분포표에서 도수가 큰 것을 '출현 횟수가 많다'고 하고\n",
    "* 가장 도수가 큰 계급의 계급값을 '최빈값'이라고 한다."
   ]
  },
  {
   "cell_type": "code",
   "execution_count": 16,
   "id": "e73e8bbf-563d-4c9e-906d-801186bdeb50",
   "metadata": {},
   "outputs": [],
   "source": [
    "# 타이타닉 데이터 로딩\n",
    "data = pd.read_csv(\"https://raw.githubusercontent.com/haram4th/ablearn/main/Taitanic_train.csv\")"
   ]
  },
  {
   "cell_type": "code",
   "execution_count": 17,
   "id": "34034321-4a1c-47c6-b159-d0ed0e75c73b",
   "metadata": {},
   "outputs": [
    {
     "data": {
      "text/html": [
       "<div>\n",
       "<style scoped>\n",
       "    .dataframe tbody tr th:only-of-type {\n",
       "        vertical-align: middle;\n",
       "    }\n",
       "\n",
       "    .dataframe tbody tr th {\n",
       "        vertical-align: top;\n",
       "    }\n",
       "\n",
       "    .dataframe thead th {\n",
       "        text-align: right;\n",
       "    }\n",
       "</style>\n",
       "<table border=\"1\" class=\"dataframe\">\n",
       "  <thead>\n",
       "    <tr style=\"text-align: right;\">\n",
       "      <th></th>\n",
       "      <th>Age</th>\n",
       "    </tr>\n",
       "  </thead>\n",
       "  <tbody>\n",
       "    <tr>\n",
       "      <th>0</th>\n",
       "      <td>22.0</td>\n",
       "    </tr>\n",
       "    <tr>\n",
       "      <th>1</th>\n",
       "      <td>38.0</td>\n",
       "    </tr>\n",
       "    <tr>\n",
       "      <th>2</th>\n",
       "      <td>26.0</td>\n",
       "    </tr>\n",
       "    <tr>\n",
       "      <th>3</th>\n",
       "      <td>35.0</td>\n",
       "    </tr>\n",
       "    <tr>\n",
       "      <th>4</th>\n",
       "      <td>35.0</td>\n",
       "    </tr>\n",
       "    <tr>\n",
       "      <th>...</th>\n",
       "      <td>...</td>\n",
       "    </tr>\n",
       "    <tr>\n",
       "      <th>886</th>\n",
       "      <td>27.0</td>\n",
       "    </tr>\n",
       "    <tr>\n",
       "      <th>887</th>\n",
       "      <td>19.0</td>\n",
       "    </tr>\n",
       "    <tr>\n",
       "      <th>888</th>\n",
       "      <td>NaN</td>\n",
       "    </tr>\n",
       "    <tr>\n",
       "      <th>889</th>\n",
       "      <td>26.0</td>\n",
       "    </tr>\n",
       "    <tr>\n",
       "      <th>890</th>\n",
       "      <td>32.0</td>\n",
       "    </tr>\n",
       "  </tbody>\n",
       "</table>\n",
       "<p>891 rows × 1 columns</p>\n",
       "</div>"
      ],
      "text/plain": [
       "      Age\n",
       "0    22.0\n",
       "1    38.0\n",
       "2    26.0\n",
       "3    35.0\n",
       "4    35.0\n",
       "..    ...\n",
       "886  27.0\n",
       "887  19.0\n",
       "888   NaN\n",
       "889  26.0\n",
       "890  32.0\n",
       "\n",
       "[891 rows x 1 columns]"
      ]
     },
     "execution_count": 17,
     "metadata": {},
     "output_type": "execute_result"
    }
   ],
   "source": [
    "# 나이 컬럼만 가져오기\n",
    "ages = data[['Age']]\n",
    "ages"
   ]
  },
  {
   "cell_type": "code",
   "execution_count": 18,
   "id": "71bc6583-7763-47ac-a558-926f3d49908a",
   "metadata": {},
   "outputs": [
    {
     "data": {
      "text/plain": [
       "Age \n",
       "24.0    30\n",
       "22.0    27\n",
       "18.0    26\n",
       "19.0    25\n",
       "30.0    25\n",
       "        ..\n",
       "53.0     1\n",
       "66.0     1\n",
       "70.5     1\n",
       "74.0     1\n",
       "80.0     1\n",
       "Name: count, Length: 88, dtype: int64"
      ]
     },
     "execution_count": 18,
     "metadata": {},
     "output_type": "execute_result"
    }
   ],
   "source": [
    "#value_counts\n",
    "ages.value_counts()"
   ]
  },
  {
   "cell_type": "code",
   "execution_count": 19,
   "id": "49ec8e9c-4f1b-4f72-a061-0808c3ee87ae",
   "metadata": {},
   "outputs": [
    {
     "data": {
      "text/plain": [
       "under10s     62\n",
       "10s         102\n",
       "20s         220\n",
       "30s         167\n",
       "40s          89\n",
       "50s          48\n",
       "60s          19\n",
       "70s           6\n",
       "80s           1\n",
       "Name: count, dtype: int64"
      ]
     },
     "execution_count": 19,
     "metadata": {},
     "output_type": "execute_result"
    }
   ],
   "source": [
    "# 계급 구간을 10단위로 나누어 도수분포표 만들고\n",
    "# 도수분포표를 시각화한 히스토그램 그려보기\n",
    "# 도수분포표(Frequency Distribution Table)\n",
    "bins = (0, 10, 20, 30, 40, 50, 60, 70, 80, 90)\n",
    "labels = ('under10s', '10s', '20s', '30s', '40s', '50s', '60s', '70s', '80s')\n",
    "fdt = pd.cut(ages['Age'].values, bins=bins, labels=labels, right=False)\n",
    "fdt.value_counts() # age 컬럼의 도수분포표"
   ]
  },
  {
   "cell_type": "code",
   "execution_count": 20,
   "id": "794967d8-e758-48ca-be34-8259ca9e5924",
   "metadata": {},
   "outputs": [
    {
     "data": {
      "text/plain": [
       "<Axes: >"
      ]
     },
     "execution_count": 20,
     "metadata": {},
     "output_type": "execute_result"
    },
    {
     "data": {
      "image/png": "[encoded data removed]",
      "text/plain": [
       "<Figure size 640x480 with 1 Axes>"
      ]
     },
     "metadata": {},
     "output_type": "display_data"
    }
   ],
   "source": [
    "fdt.value_counts().plot(kind ='bar')"
   ]
  },
  {
   "cell_type": "code",
   "execution_count": 21,
   "id": "b50787bb-57db-4267-8867-91a619fee9c3",
   "metadata": {},
   "outputs": [
    {
     "data": {
      "text/plain": [
       "<Axes: xlabel='Age', ylabel='Count'>"
      ]
     },
     "execution_count": 21,
     "metadata": {},
     "output_type": "execute_result"
    },
    {
     "data": {
      "image/png": "[encoded data removed]",
      "text/plain": [
       "<Figure size 640x480 with 1 Axes>"
      ]
     },
     "metadata": {},
     "output_type": "display_data"
    }
   ],
   "source": [
    "sns.histplot(ages['Age'], bins=bins)"
   ]
  },
  {
   "cell_type": "code",
   "execution_count": 22,
   "id": "b1062504-5044-4a90-b3c2-5b59e5cbfbea",
   "metadata": {},
   "outputs": [
    {
     "ename": "SyntaxError",
     "evalue": "invalid syntax (3020772528.py, line 2)",
     "output_type": "error",
     "traceback": [
      "\u001b[1;36m  Cell \u001b[1;32mIn[22], line 2\u001b[1;36m\u001b[0m\n\u001b[1;33m    * 상대도수 : 계급의 도수 / 전체 도수의 합계, 어떤 계급의 도수가 전체 도수에서 몇 %를 차지하는지 나타내는 값\u001b[0m\n\u001b[1;37m           ^\u001b[0m\n\u001b[1;31mSyntaxError\u001b[0m\u001b[1;31m:\u001b[0m invalid syntax\n"
     ]
    }
   ],
   "source": [
    "## (2) 상대도수분포표(Relative Frequency Distribution Table)\n",
    "* 상대도수 : 계급의 도수 / 전체 도수의 합계, 어떤 계급의 도수가 전체 도수에서 몇 %를 차지하는지 나타내는 값\n",
    "* 상대도수분포표 : 모든 계급의 상대 도수를 구해서 더한 것"
   ]
  },
  {
   "cell_type": "code",
   "execution_count": null,
   "id": "4fd7867d-dff5-4e28-afea-1d9e24241dff",
   "metadata": {},
   "outputs": [],
   "source": [
    "fdt_df = pd.DataFrame(fdt.value_counts())\n",
    "fdt_df"
   ]
  },
  {
   "cell_type": "code",
   "execution_count": null,
   "id": "39d1add6-d366-4c53-90b3-df8800cb4dbb",
   "metadata": {},
   "outputs": [],
   "source": [
    "# 상대도수분포표 만들기\n",
    "# 상대도수 : 계급의 도수 / 전체 도수의 합계"
   ]
  },
  {
   "cell_type": "code",
   "execution_count": null,
   "id": "075fb1f4-e705-4e92-9703-cdd69b7335b6",
   "metadata": {},
   "outputs": [],
   "source": [
    "fdt_df['rfdt'] = round(fdt_df['count'] / fdt_df['count'].sum(), 3) * 100"
   ]
  },
  {
   "cell_type": "code",
   "execution_count": null,
   "id": "628aeb62-7632-4ba7-acd1-13f6b385f880",
   "metadata": {},
   "outputs": [],
   "source": [
    "fdt_df"
   ]
  },
  {
   "cell_type": "code",
   "execution_count": null,
   "id": "c0657c6a-cf05-4c0b-8886-3fb7e5147163",
   "metadata": {},
   "outputs": [],
   "source": [
    "fdt_df['rfdt'].plot(kind='bar')"
   ]
  },
  {
   "cell_type": "code",
   "execution_count": null,
   "id": "cee4e672-4c34-446a-bd1f-94ab770b31a3",
   "metadata": {},
   "outputs": [],
   "source": [
    "sns.histplot(ages['Age'], bins=bins, stat = 'probability', kde=False)"
   ]
  },
  {
   "cell_type": "markdown",
   "id": "abea2657-b4bd-4de2-a06a-ca25ab3cfc74",
   "metadata": {},
   "source": [
    "### 구간화가 필요한 데이터에서 계급의 개수를 몇개로 해야할지?\n",
    "* 스터지스 공식: 도수분포표나 히스토그램을 만들 때 계급의 수가 적당한지 판단하는 기준이 되는 공식\n",
    "* 전체 데이터 개수를 $ 2^n $ 이라 하고, 그때 계급 수를 $ n + 1 $ 한다."
   ]
  },
  {
   "cell_type": "code",
   "execution_count": null,
   "id": "98cc2899-6aaf-4ce3-b8b4-a476f83d10a2",
   "metadata": {},
   "outputs": [],
   "source": [
    "len(ages['Age'])"
   ]
  },
  {
   "cell_type": "code",
   "execution_count": null,
   "id": "e81b1510-bf78-43da-9868-33a6a116fca7",
   "metadata": {},
   "outputs": [],
   "source": [
    "# 891은 2의 몇 승? = n, n + 1\n",
    "n = math.log(891, 2)"
   ]
  },
  {
   "cell_type": "code",
   "execution_count": null,
   "id": "799a2620-0cb0-42b3-b419-1cfd0017b1f4",
   "metadata": {},
   "outputs": [],
   "source": [
    "print(round(n + 1))"
   ]
  },
  {
   "cell_type": "markdown",
   "id": "76d107f3-07b7-4087-b384-85c8be4a424c",
   "metadata": {},
   "source": [
    "## 3) 편차(deviation)\n",
    "* 데이터와 평균이 떨어진 거리, 데이터와 평균 값과의 차이\n",
    "* 데이터 - 평균값"
   ]
  },
  {
   "cell_type": "code",
   "execution_count": null,
   "id": "2f198d9f-6d63-4145-af88-0cd5fa0e36cd",
   "metadata": {},
   "outputs": [],
   "source": [
    "a"
   ]
  },
  {
   "cell_type": "code",
   "execution_count": null,
   "id": "cf454d5a-d117-4382-a659-56bbc4b2406c",
   "metadata": {},
   "outputs": [],
   "source": [
    "a['평균'] = a['표본'].mean()\n",
    "a"
   ]
  },
  {
   "cell_type": "code",
   "execution_count": null,
   "id": "f70b3cdc-1c43-4eb3-9266-329b7035874a",
   "metadata": {},
   "outputs": [],
   "source": [
    "a['편차'] = a['표본'] - a['평균']\n",
    "a"
   ]
  },
  {
   "cell_type": "markdown",
   "id": "efbe4222-821d-42d4-972d-69a4d5b62e7c",
   "metadata": {},
   "source": [
    "## 4) 분산: 편차 제곱의 합 / 데이터 수\n",
    "* 모분산: $ \\sigma^2 $ <br>\n",
    "$ \\sigma^2 = {\\sum(x_i-\\mu)^2 \\over N} $ <br>\n",
    "\n",
    "* 표본분산: $ s^2 $ <br>\n",
    "$ s^2 = {\\sum(x_i-\\bar{x})^2 \\over n-1} $ <br>"
   ]
  },
  {
   "cell_type": "code",
   "execution_count": null,
   "id": "0334b5a2-2fbf-4c08-b959-c31495267a8d",
   "metadata": {},
   "outputs": [],
   "source": [
    "# 분산 : 편차 제곱의 합 / 데이터 수\n",
    "a['편차제곱'] = (a['편차'] ** 2)\n",
    "a['분산'] = (a['편차'] ** 2).sum() / len(a['편차제곱'])"
   ]
  },
  {
   "cell_type": "code",
   "execution_count": null,
   "id": "359d3f81-a2be-45cf-93c1-236d9466a685",
   "metadata": {},
   "outputs": [],
   "source": [
    " a"
   ]
  },
  {
   "cell_type": "code",
   "execution_count": null,
   "id": "932ebd03-689d-45a6-a042-a33367a5614d",
   "metadata": {},
   "outputs": [],
   "source": [
    "# 분산함수 .var() -> 표본분산 구해주는 함수\n",
    "a['표본'].var()"
   ]
  },
  {
   "cell_type": "code",
   "execution_count": null,
   "id": "6c11e8dd-edee-4810-a087-566d2ede3b51",
   "metadata": {},
   "outputs": [],
   "source": [
    "a['표본분산'] = a['편차제곱'].sum() / (len(a['편차제곱']) -1)\n",
    "a"
   ]
  },
  {
   "cell_type": "markdown",
   "id": "52879634-2e28-4144-b9d8-4ca98b85c71c",
   "metadata": {},
   "source": [
    "## 5) 표준편차: 분산의 제곱근\n",
    "* 모집단의 표준편차 $ \\sigma $ <br>\n",
    "$ \\sigma = \\sqrt{\\sum(x_i-\\mu)^2 \\over n} $ <br>\n",
    "* 표본 집단의 표준편차 $ s $ <br>\n",
    "$ s = \\sqrt{\\sum(x_i-\\bar{x})^2 \\over n-1} $ <br>"
   ]
  },
  {
   "cell_type": "code",
   "execution_count": null,
   "id": "f3df1ba1-15da-4039-b04c-e40b14f58a35",
   "metadata": {},
   "outputs": [],
   "source": [
    "a['표준편차'] = a['분산'].apply(math.sqrt)\n",
    "a"
   ]
  },
  {
   "cell_type": "code",
   "execution_count": null,
   "id": "4fd0d968-7803-4d5d-aa92-6787829cc175",
   "metadata": {},
   "outputs": [],
   "source": [
    "# 표준편차를 구하는 함수 .std() -> 표본의 표준편차\n",
    "a['표본'].std()"
   ]
  },
  {
   "cell_type": "code",
   "execution_count": null,
   "id": "761f842e-ad36-49e7-aae0-e18714aea69c",
   "metadata": {},
   "outputs": [],
   "source": [
    "a['표본표준편차'] = a['표본분산'].apply(math.sqrt)\n",
    "a"
   ]
  },
  {
   "cell_type": "code",
   "execution_count": null,
   "id": "23b69ca8-ec3b-469b-b99b-76bf392bfd44",
   "metadata": {},
   "outputs": [],
   "source": [
    "a['표본'].describe()"
   ]
  },
  {
   "cell_type": "markdown",
   "id": "95298a5e-b31b-4941-a5b1-a131d30e4b7d",
   "metadata": {},
   "source": [
    "## 6) 표준점수(standard score), z-점수(z-score)\n",
    "* 데이터 포인트(값)가 평균으로부터 얼마나 떨어져 있는지를 나타내는 지표\n",
    "* 이는 데이터 포인트가 평균에서 몇 표준편차 떨어져 있는지를 나타내며,\n",
    "* 데이터의 상대적인 위치를 이해하는데 유용하다.\n",
    "\n",
    "* 모집단 표준점수(Z-score) z<br>\n",
    "$ Z = {x_i-\\mu \\over \\sigma}  $<br><br>\n",
    "\n",
    "* 표본집단 표준점수(Z-score) z<br>\n",
    "$ Z = {x_i-\\bar{x} \\over s}  $<br><br>"
   ]
  },
  {
   "cell_type": "markdown",
   "id": "eb011ca4-0946-4581-b6e1-6148a8a2ab45",
   "metadata": {},
   "source": [
    "# 자유도(degrees of freedom)란?\n",
    "* 데이터의 독립적인 정보의 수\n",
    "* [2,3,4,5,6] 의 평균?\n",
    "* 통계는 표본을 추출해서 계산\n",
    "* 모평균 4.0\n",
    "* 표본평균 4.0\n",
    "* 평균값을 유지하기 위해서 마지막 데이터 포인트는 고정되어야하고\n",
    "* 고정된 포인트 이외의 값들은 자유롭게 변할 수 있다.\n",
    "* n-1"
   ]
  },
  {
   "cell_type": "code",
   "execution_count": null,
   "id": "92162e69-926e-4358-80f3-6e2fb22dadc9",
   "metadata": {},
   "outputs": [],
   "source": [
    "pd.Series([2,3,4,5,6]).mean()"
   ]
  },
  {
   "cell_type": "code",
   "execution_count": null,
   "id": "98aa2c08-63fb-4c6d-84ac-3252c03fb686",
   "metadata": {},
   "outputs": [],
   "source": [
    "# [2,3,4,5,6] 전체 = 모집단\n",
    "( 2+ 3+ 4+ 5+ 6) / 5"
   ]
  },
  {
   "cell_type": "code",
   "execution_count": null,
   "id": "9afdf36c-332b-4f84-9e42-c5023e2b35cb",
   "metadata": {},
   "outputs": [],
   "source": [
    "# 표본 [4,2,5,7,x] 의 평균 = 4.0"
   ]
  },
  {
   "cell_type": "code",
   "execution_count": null,
   "id": "a7373555-bd99-4c31-991e-57d7eb3521d0",
   "metadata": {},
   "outputs": [],
   "source": [
    "sum([4,2,5,7,2]) / 5"
   ]
  },
  {
   "cell_type": "markdown",
   "id": "c48f009c-918a-4234-8963-bf97161a2353",
   "metadata": {},
   "source": [
    "# 가설 검정 T-test\n",
    "* t-test는 두 집단의 평균을 비교하여 차이가 있는지 확인하는 통계적 방법"
   ]
  },
  {
   "cell_type": "code",
   "execution_count": null,
   "id": "a37b4765-137f-450f-a82a-4c6dc3b5c93b",
   "metadata": {},
   "outputs": [],
   "source": [
    "### 1) 일 표본 단측 t-검정 ( 한쪽으로 방향성을 갖는 경우"
   ]
  },
  {
   "cell_type": "code",
   "execution_count": null,
   "id": "e327dc92-0006-41fd-ac4f-e1a3b16d12e6",
   "metadata": {},
   "outputs": [],
   "source": [
    "pip install statsmodels"
   ]
  },
  {
   "cell_type": "markdown",
   "id": "98a2e96f-6df9-4030-a91f-021035b9ff73",
   "metadata": {},
   "source": [
    "### 1) 일 표본 단측 t-검정( 한 쪽으로 방향성을 갖는 경우)\n",
    "* 모수에 대한 검정을 할 때 모수 값이 ~보다 크다. 혹은 ~보다 작다 같이 한쪽으로의 방향성을 갖는 경우 수행되는 검정 방법\n",
    "* 00공장에서 생산되는 지우개의 평균 중량은 50g 이하이다.(귀무가설)\n",
    "* 00공장에서 생산되는 지우개의 평균 중량은 50g 초과이다.(대립가설)"
   ]
  },
  {
   "cell_type": "code",
   "execution_count": null,
   "id": "2701397e-c7fd-461f-be08-b098ae3bf5df",
   "metadata": {},
   "outputs": [],
   "source": [
    "import statsmodels.stats.weightstats as stests\n",
    "from scipy import stats"
   ]
  },
  {
   "cell_type": "code",
   "execution_count": null,
   "id": "45ab54a3-a7eb-4ca6-b2e8-1ca58d2db9e3",
   "metadata": {},
   "outputs": [],
   "source": [
    "# 일 표본 단측 t-검정을 위해 지우개 10개의 표본 추출\n",
    "weights = np.random.uniform(49,52, 10)\n",
    "print(weights)\n",
    "print(\"지우개의 평균:\", weights.mean())"
   ]
  },
  {
   "cell_type": "code",
   "execution_count": null,
   "id": "db937eec-0ced-4b6c-96cd-151c8f73d3c4",
   "metadata": {},
   "outputs": [],
   "source": [
    "# 일 표본 단측 t-test\n",
    "t_stat, p_value = stats.ttest_1samp(weights, 50, alternative = 'greater')\n",
    "print(f\"T-통계량: {t_stat}, P-value: {p_value}\")"
   ]
  },
  {
   "cell_type": "markdown",
   "id": "66e89382-462d-4141-a598-4a251e357a1b",
   "metadata": {},
   "source": [
    "* p-value가 0.004이므로 유의수준 0.05보다 작기 때문에 귀무가설은 기각, 대립가설 채택\n",
    "* 00공장에서 생산되는 지우개의 평균 중량은 50초과이다(대립가설 채택)"
   ]
  },
  {
   "cell_type": "markdown",
   "id": "5bb01917-326e-40d9-b7ce-5a0bed830a54",
   "metadata": {},
   "source": [
    "### 2) 일 표본 양측 t-test(방향성이 없는 경우)\n",
    "* 단측 검정과 달리 모수 값이 ~이다. ~이 아니다 와 같이 방향성이 없는 경우 수행되는 검정 방법\n",
    "* 대한민국 남성의 평균 몸무게는 70kg이다(귀무가설)\n",
    "* 대한민국 남성의 평균 몸무게는 70kg이 아니다(대립가설)"
   ]
  },
  {
   "cell_type": "code",
   "execution_count": null,
   "id": "fc515eed-b722-4b50-a2e5-482393943523",
   "metadata": {},
   "outputs": [],
   "source": [
    "# 일 표본 양측 t-test를 위한 40kg - 100kg 사이 남성 100명의 표본을 추출\n",
    "weights = np.random.uniform(40, 100, 100)\n",
    "print(len(weights))\n",
    "print(\"몸무게 평균\", round(weights.mean()))"
   ]
  },
  {
   "cell_type": "code",
   "execution_count": null,
   "id": "cd6345cb-3b78-4743-bec9-678762d8d00c",
   "metadata": {},
   "outputs": [],
   "source": [
    "# 일 표본 양측 t-test\n",
    "t_stat, p_value = stats.ttest_1samp(weights, 70, alternative = 'two-sided')\n",
    "print(f\"T-통계량: {t_start}, P-value: {p_value}\")"
   ]
  },
  {
   "cell_type": "markdown",
   "id": "81091b68-0e61-4b30-bec3-55a97704b1a8",
   "metadata": {},
   "source": [
    "### 3) 이 표본 t-test(independent sample t-test)\n",
    "* 서로 독립적인 두 개의 집단에 대하여 모수(모평균)의 값이 같은 값을 갖는지 통계적으로 검정하는 방법\n",
    "* 여기서 독립이란 두 모집단에서 각각 추출된 두 표본이 서로 관계가 없다는 것을 의미\n",
    "* 두 모집단의 분산이 같음을 의미하는 등분산성을 만족해야 한다.\n",
    "* 따라서 이 표본 T-검정을 수행하기 전에 등분산 검정(F-검정)을 먼저 수행해야 한다."
   ]
  },
  {
   "cell_type": "markdown",
   "id": "45f76886-b94b-470e-a026-ad73f9746cd0",
   "metadata": {},
   "source": [
    "### 4) 이 표본 단측 t검정(~보다 크다 / 작다)\n",
    "* 두 집단에 대해서 모수 비교를 할 때 A가 B보다 크다/작다를 비교하는 검정\n",
    "* A 회사의 급여가 B회사의 급여보다 같거나 많다(귀무가설)"
   ]
  },
  {
   "cell_type": "code",
   "execution_count": null,
   "id": "a9f16d62-b6f1-4e0c-bc41-0d51d82e44f5",
   "metadata": {},
   "outputs": [],
   "source": [
    "# 랜덤하게 급여 생성 salaryA 250-380 사이 값 100개, salaryB 200-400 사이의 값 100\n",
    "salaryA = np.random.uniform(250, 380, 100)\n",
    "salaryB = np.random.uniform(200, 400, 100)\n",
    "print(\"salaryA의 평균\", salaryA.mean())\n",
    "print(\"salaryB의 평균\", salaryB.mean())\n",
    "\n",
    "t_test, p_value = stats.ttest_ind(salaryA, salaryB, alternative = 'less')\n",
    "\n",
    "print(f\"T-통계량: {t_stat}, P-value: {p_value}\")"
   ]
  },
  {
   "cell_type": "markdown",
   "id": "0f6ed410-a34e-4910-8e96-d14a5bbe5d4c",
   "metadata": {},
   "source": [
    "### 5) 이 표본 양측 t 검정 (A와 B는 같다/다르다)\n",
    "* K와 L의 달리기 속도는 같다(귀무가설)"
   ]
  },
  {
   "cell_type": "code",
   "execution_count": null,
   "id": "895b93d6-3621-4720-941e-7ac441ce16ca",
   "metadata": {},
   "outputs": [],
   "source": [
    "# 랜덤한 속도 생성(speedK : 30에서 40사이의 값 100개, speedL : 25에서 35 사이의 값 100개)\n",
    "speedK = np.random.uniform(30, 40, 100)\n",
    "speedL = np.random.uniform(25, 35, 100)\n",
    "\n",
    "t_stat, p_value = stats.ttest_ind(speedK, speedL) #alternative - 크다 작다할 때만 사용함\n",
    "print(f\"T-통계량: {t_stat}, P-value: {p_value}\")"
   ]
  },
  {
   "cell_type": "markdown",
   "id": "2788f8db-6588-407a-aae4-4a79cf3934af",
   "metadata": {},
   "source": [
    "### 6) 대응 표본 t-검정(paird t-test)\n",
    "* 실험 전 후 비교\n",
    "* 동일한 대상에 대해 두 가지 관측치가 있는 경우 이를 비교하여 차이가 있는지 검정할 때 사용\n",
    "* 두 집단에 신약 투여 후 전후 수치 비교, 새로운 정책이 시행된 후 부동산 가격의 전후 변화 등\n",
    "* 새로운 운동법이 체중 감량의 효과가 있는지 검증하기 위해 새로운 운동법을 실시한 집단고 실시하지 않은 집단의 체중을 비교\n",
    "* 새로운 운동법으로 체중 감량의 효과는 없다(운동 전 무게와 운동 후 무게 >= 0)(귀무가설) "
   ]
  },
  {
   "cell_type": "code",
   "execution_count": null,
   "id": "efa09d05-6a83-45ea-a537-877a6e7110fd",
   "metadata": {},
   "outputs": [],
   "source": [
    "# 대응 표본 t 검정을 위한 표본 추출\n",
    "before = np.random.uniform(60, 80, 100)\n",
    "after = before + np. random.normal(-3, 2, 100)\n",
    "\n",
    "# 대응 표본 t 검정\n",
    "t_stat, p_value = stats.ttest_rel(before, after, alternative = 'greater')\n",
    "print(f\"T-통계량: {t_stat}, P-value: {p_value}\")"
   ]
  },
  {
   "cell_type": "markdown",
   "id": "1b5bdacb-f5a1-4bdb-92fa-1d9f2588d396",
   "metadata": {},
   "source": [
    "# 분산분석(ANOVA)\n",
    "* 3개 이상의 모집단이 있을 경우 집단 사이의 평균을 비교\n",
    "* 분산 분석의 귀무가설( $ H_O $ \"모든 집단 간 평균은 같다\"이다.\n",
    "* 1) 분산 분석을 수행하기 위해서는 아래의 세가지 가정 사항을 필요로 한다.\n",
    "  * 정규성 : 각 집단의 표본들은 정규분포를 따라야 한다.\n",
    "  * 등분산성 : 각 집단은 동일한 분산을 가져야 한다.\n",
    "  * 독립성 : 각 집단은 서로에게 영향을 주지 않는다.\n",
    "  2) 분산 분석\n",
    "  * 분산분석의 독립변수는 범주형 데이터여야 하고, 종속변수는 연속형이어야 한다.\n",
    "  * 분산분석에는 '(집단 간 분산)/(집단 내 분산)'으로 계산되는 F-value가 사용된다.\n",
    "  * F-value가 커지면 p-value가 작아진다.\n",
    "  * 평균을 비교하는 분산분석에 '분산'의 개념을 사용하는 이유는 집단 간 평균의 분산이 클수록 각 집단의 평균은 서로 멀리 떨어져 있기 때문에 집단 간 차이를 비교하기 쉬워진다."
   ]
  },
  {
   "cell_type": "markdown",
   "id": "d455d57e-4dc6-4683-bcf3-c20d1f0f9364",
   "metadata": {},
   "source": [
    "### 1) 일원분산분석(one-way Anova)\n",
    "* 셋 이상의 집단 간 평균을 비교하는 상황에서 하나의 집단에 속하는 독립변수와 종속변수가 모두 한 개 일 때 사용\n",
    "* 예) 연령대 별(청소년, 성인, 노인) 유투브 시청 시간의 차이\n",
    "    * 독립 변수는 연령별 집단(청소년, 성인, 노인), 종속변수(유투브 시청 시간)\n",
    "    * 셋 이상의 집단이지만 독립변수는 '연령별 집단' 하나\n",
    "* 일원 분산분석\n",
    "* 신형 휴대폰 A, B, C의 속도 차이가 있는지 여부\n",
    "* 귀무가설($ H0 $): A, B, C라는 세 대의 신형 휴대폰 간의 속도 차이는 없다.\n",
    "* 대립가설($ H1 $): A, B, C라는 세 대의 신형 휴대폰 간의 속도 차이가 있다."
   ]
  },
  {
   "cell_type": "code",
   "execution_count": null,
   "id": "761f1583-c19d-4caa-bd00-9b851bda046c",
   "metadata": {},
   "outputs": [],
   "source": [
    "import statsmodels.api as sm\n",
    "from statsmodels.formula.api import ols"
   ]
  },
  {
   "cell_type": "code",
   "execution_count": null,
   "id": "3acfe912-f8e1-42c6-9e16-94693d5933f5",
   "metadata": {},
   "outputs": [],
   "source": [
    "# 분산분석을 위한 데이터 생성\n",
    "np.random.seed(0)\n",
    "phone_speed = np.random.uniform(75, 100, 45)\n",
    "telecom = np.tile(['A', 'B', 'C'], 15)\n",
    "print(\"phone_speed\", phone_speed)\n",
    "print(\"telecom\", telecom)"
   ]
  },
  {
   "cell_type": "code",
   "execution_count": null,
   "id": "9920c63e-4f38-4d20-92a6-6156b81a4894",
   "metadata": {},
   "outputs": [],
   "source": [
    "phone_data = pd.DataFrame(dict(phone_speed=phone_speed, telecom=telecom))\n",
    "phone_data"
   ]
  },
  {
   "cell_type": "code",
   "execution_count": null,
   "id": "619e0107-0084-4711-8415-655053a4f958",
   "metadata": {},
   "outputs": [],
   "source": [
    "# 분산 분석 수행\n",
    "model = ols('phone_speed ~ C(telecom)', data=phone_data).fit()\n",
    "# print(model.summary())\n",
    "anova_table = sm.stats.anova_lm(model, typ=2)\n",
    "print(anova_table)"
   ]
  },
  {
   "cell_type": "code",
   "execution_count": null,
   "id": "dbe4553e-e0c8-4ad6-9d37-bd819bfbb3c8",
   "metadata": {},
   "outputs": [],
   "source": []
  }
 ],
 "metadata": {
  "kernelspec": {
   "display_name": "Python 3 (ipykernel)",
   "language": "python",
   "name": "python3"
  },
  "language_info": {
   "codemirror_mode": {
    "name": "ipython",
    "version": 3
   },
   "file_extension": ".py",
   "mimetype": "text/x-python",
   "name": "python",
   "nbconvert_exporter": "python",
   "pygments_lexer": "ipython3",
   "version": "3.10.14"
  }
 },
 "nbformat": 4,
 "nbformat_minor": 5
}
