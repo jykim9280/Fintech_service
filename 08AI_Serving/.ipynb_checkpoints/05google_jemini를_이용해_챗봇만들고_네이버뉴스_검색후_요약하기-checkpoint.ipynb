{
 "cells": [
  {
   "cell_type": "code",
   "execution_count": 1,
   "id": "acb7b834",
   "metadata": {},
   "outputs": [],
   "source": [
    "# !pip install --upgrade pip"
   ]
  },
  {
   "cell_type": "code",
   "execution_count": 2,
   "id": "448bc57c",
   "metadata": {},
   "outputs": [],
   "source": [
    "# !pip install google-generativeai"
   ]
  },
  {
   "cell_type": "code",
   "execution_count": 3,
   "id": "2ec2ca2c",
   "metadata": {},
   "outputs": [],
   "source": [
    "# !pip install python-dotenv"
   ]
  },
  {
   "cell_type": "markdown",
   "id": "85547128",
   "metadata": {},
   "source": [
    "# Gemini API 테스트"
   ]
  },
  {
   "cell_type": "code",
   "execution_count": 4,
   "id": "b3d8e765",
   "metadata": {
    "scrolled": false
   },
   "outputs": [
    {
     "name": "stderr",
     "output_type": "stream",
     "text": [
      "/home/user/miniforge3/envs/torch/lib/python3.11/site-packages/tqdm/auto.py:21: TqdmWarning: IProgress not found. Please update jupyter and ipywidgets. See https://ipywidgets.readthedocs.io/en/stable/user_install.html\n",
      "  from .autonotebook import tqdm as notebook_tqdm\n"
     ]
    },
    {
     "data": {
      "text/plain": [
       "True"
      ]
     },
     "execution_count": 4,
     "metadata": {},
     "output_type": "execute_result"
    }
   ],
   "source": [
    "import os\n",
    "import google.generativeai as genai\n",
    "from dotenv import load_dotenv\n",
    "load_dotenv(\".chatenv\")"
   ]
  },
  {
   "cell_type": "code",
   "execution_count": 5,
   "id": "94c75479",
   "metadata": {},
   "outputs": [],
   "source": [
    "GOOGLE_API_KEY=os.getenv('GOOGLE_API_KEY')\n",
    "genai.configure(api_key=GOOGLE_API_KEY)"
   ]
  },
  {
   "cell_type": "code",
   "execution_count": 6,
   "id": "9d97b91f",
   "metadata": {},
   "outputs": [],
   "source": [
    "model = genai.GenerativeModel(\"gemini-1.5-flash\")"
   ]
  },
  {
   "cell_type": "code",
   "execution_count": 7,
   "id": "b8e5c7a6",
   "metadata": {},
   "outputs": [
    {
     "name": "stdout",
     "output_type": "stream",
     "text": [
      "Ten-year-old Finn was a master of finding trouble. He'd tripped over his own feet, spilled juice on his homework, and once even managed to get stuck in a tree while chasing a squirrel. His mother, weary of his antics, had finally snapped. \"Finn, you need to be more careful!\" she said, her voice laced with frustration. \"I swear, you'd trip over a speck of dust!\"\n",
      "\n",
      "That's when she presented him with a peculiar gift: a battered, brown leather backpack. It was worn and patched, with a single, silver buckle in the shape of a crescent moon. \"This is your responsibility now, Finn,\" she said. \"Take care of it, and it will take care of you.\"\n",
      "\n",
      "Finn wasn't thrilled. He'd much rather have a new video game, but he lugged the backpack to school anyway. In class, he felt a peculiar tingling sensation from the bag. Curiosity piqued, he reached inside and pulled out a shimmering, blue butterfly. It fluttered in his hand, then zipped out the window, leaving a trail of sparkling dust in its wake.\n",
      "\n",
      "Over the next few days, the backpack's magic unfolded. One day, he found a perfectly baked apple pie inside, the scent making his mouth water. Another day, a pair of bright blue rollerblades materialized, allowing him to glide effortlessly through the playground. But the backpack's most incredible trick was its ability to transport him.\n",
      "\n",
      "Finn found himself at the top of a mountain one day, gazing at breathtaking scenery. The next, he was surrounded by a jungle teeming with exotic birds. Each time, the backpack would return him home just as he started to worry.\n",
      "\n",
      "But Finn's recklessness didn't disappear. He started taking the backpack's magic for granted. He used it to skip school, to cheat on his tests, and even to impress his classmates with outlandish stories of his adventures.\n",
      "\n",
      "One day, Finn found himself in a bustling marketplace filled with strange creatures and vibrant colours. He was so caught up in the excitement that he forgot about the time. He was about to make a purchase from a grinning vendor when he felt a sharp tug on his shoulder. He looked back to see the backpack, its silver buckle glowing faintly, and a whispered voice echoed in his mind, \"It's time to go home.\"\n",
      "\n",
      "Finn returned home, exhausted and bewildered. He realized the backpack wasn't a tool for escaping responsibility, but a reminder of it. He looked at the worn leather, its faded colours reflecting his own carelessness. He vowed to use the backpack wisely, to explore the world with a newfound sense of wonder and respect, and to always remember that the greatest magic was the magic of responsibility.\n",
      "\n",
      "From then on, Finn used the backpack for good. He helped a lost puppy find its way home, he delivered forgotten birthday gifts to his friends, and he even used its magic to help clean up the park after a storm. The backpack, no longer a source of mischief, became a symbol of his newfound maturity and a reminder that true magic comes from within. \n",
      "\n"
     ]
    }
   ],
   "source": [
    "response = model.generate_content(\"Write a story about a magic backpack.\")\n",
    "print(response.text)"
   ]
  },
  {
   "cell_type": "markdown",
   "id": "6addb165",
   "metadata": {},
   "source": [
    "# Gemini 챗봇 만들기 1단계"
   ]
  },
  {
   "cell_type": "code",
   "execution_count": 8,
   "id": "e0ae8d2c",
   "metadata": {},
   "outputs": [
    {
     "name": "stderr",
     "output_type": "stream",
     "text": [
      "/home/user/miniforge3/envs/torch/lib/python3.11/site-packages/gradio_client/documentation.py:106: UserWarning: Could not get documentation group for <class 'gradio.mix.Parallel'>: No known documentation group for module 'gradio.mix'\n",
      "  warnings.warn(f\"Could not get documentation group for {cls}: {exc}\")\n",
      "/home/user/miniforge3/envs/torch/lib/python3.11/site-packages/gradio_client/documentation.py:106: UserWarning: Could not get documentation group for <class 'gradio.mix.Series'>: No known documentation group for module 'gradio.mix'\n",
      "  warnings.warn(f\"Could not get documentation group for {cls}: {exc}\")\n"
     ]
    },
    {
     "name": "stdout",
     "output_type": "stream",
     "text": [
      "Running on local URL:  http://127.0.0.1:7866\n",
      "IMPORTANT: You are using gradio version 3.40.0, however version 4.29.0 is available, please upgrade.\n",
      "--------\n",
      "Running on public URL: https://d7b5570fc69be3dd3f.gradio.live\n",
      "\n",
      "This share link expires in 72 hours. For free permanent hosting and GPU upgrades, run `gradio deploy` from Terminal to deploy to Spaces (https://huggingface.co/spaces)\n"
     ]
    },
    {
     "data": {
      "text/plain": []
     },
     "execution_count": 8,
     "metadata": {},
     "output_type": "execute_result"
    }
   ],
   "source": [
    "import os\n",
    "import google.generativeai as genai\n",
    "from dotenv import load_dotenv\n",
    "import gradio as gr\n",
    "\n",
    "# Load environment variables\n",
    "load_dotenv(\".chatenv\")\n",
    "GOOGLE_API_KEY = os.getenv('GOOGLE_API_KEY')\n",
    "genai.configure(api_key=GOOGLE_API_KEY)\n",
    "\n",
    "# Define the function to generate content\n",
    "def generate_response(prompt):\n",
    "    model = genai.GenerativeModel(\"gemini-1.5-flash\")\n",
    "    response = model.generate_content(prompt)\n",
    "    return response.text\n",
    "\n",
    "# Create the Gradio app\n",
    "with gr.Blocks() as app:\n",
    "    gr.Markdown(\"# Chatbot with Google Generative AI\")\n",
    "    \n",
    "    with gr.Tab(\"Chat\"):\n",
    "        chatbot_output = gr.Textbox(label=\"Chatbot Response\", lines=10)\n",
    "        user_input = gr.Textbox(label=\"Your Question\")\n",
    "        generate_btn = gr.Button(\"Generate Response\")\n",
    "        generate_btn.click(\n",
    "            fn=generate_response, inputs=user_input, outputs=chatbot_output\n",
    "        )\n",
    "\n",
    "app.launch(inline=False, share=True)\n"
   ]
  },
  {
   "cell_type": "markdown",
   "id": "23cb21cb",
   "metadata": {},
   "source": [
    "# 네이버 뉴스 API 검색 코드 가져오기"
   ]
  },
  {
   "cell_type": "code",
   "execution_count": 11,
   "id": "40d836fb",
   "metadata": {},
   "outputs": [
    {
     "name": "stdout",
     "output_type": "stream",
     "text": [
      "https://openapi.naver.com/v1/search/news.json?query=%ED%95%80%ED%85%8C%ED%81%AC&display=100&start=1&sort=date\n",
      "<class 'dict'>\n"
     ]
    }
   ],
   "source": [
    "import requests\n",
    "import pandas as pd\n",
    "from datetime import date\n",
    "url = \"https://openapi.naver.com/v1/search/news.json\"\n",
    "payload = {'query': '핀테크', 'display' : 100, 'start' : 1, 'sort': 'date'}\n",
    "headers = {\"X-Naver-Client-Id\" : os.getenv('client_id'), \"X-Naver-Client-Secret\" : os.getenv('client_secret')}\n",
    "r = requests.get(url, params=payload, headers=headers)\n",
    "print(r.url)\n",
    "if(r.status_code == 200):\n",
    "    data = r.json()\n",
    "    print(type(data))\n",
    "else:\n",
    "    print(\"Error Code:\", r.status_code)\n",
    "    today = date.today()\n",
    "# 원하는 형식으로 변환\n",
    "formatted_date = today.strftime(\"%d %b %Y\")\n",
    "\n",
    "print(formatted_date)  # 출력 예: 02 Aug 2024\n",
    "def text_clean(x):\n",
    "    x = x.replace(\"&quot;\", \"\").replace(\"<b>\", \"\").replace(\"</b>\", \"\").replace(\"‘\", \"\").replace(\"’\", \"\")\n",
    "    return x\n",
    "result = {}\n",
    "for item in data['items']:\n",
    "    for key in item.keys():\n",
    "        result.setdefault(key, []).append(text_clean(item[key]))\n",
    "df = pd.DataFrame(result)\n",
    "df"
   ]
  },
  {
   "cell_type": "markdown",
   "id": "901d5993",
   "metadata": {},
   "source": [
    "# 입력한 질문에서 키워드를 추출해 뉴스를 검색하고 선택한 뉴스를 요약해주는 챗봇"
   ]
  },
  {
   "cell_type": "code",
   "execution_count": 20,
   "id": "0e29592d",
   "metadata": {},
   "outputs": [],
   "source": [
    "# !pip install nltk"
   ]
  },
  {
   "cell_type": "code",
   "execution_count": 17,
   "id": "b4e77a50",
   "metadata": {},
   "outputs": [],
   "source": [
    "# !pip install konlpy"
   ]
  },
  {
   "cell_type": "code",
   "execution_count": 27,
   "id": "0ab4f844",
   "metadata": {},
   "outputs": [],
   "source": [
    "# !pip install beautifulsoup4\n",
    "# !pip install lxml"
   ]
  },
  {
   "cell_type": "code",
   "execution_count": 49,
   "id": "20469019",
   "metadata": {},
   "outputs": [
    {
     "name": "stdout",
     "output_type": "stream",
     "text": [
      "Running on local URL:  http://127.0.0.1:7889\n",
      "IMPORTANT: You are using gradio version 3.40.0, however version 4.29.0 is available, please upgrade.\n",
      "--------\n",
      "Running on public URL: https://f27cc5287ef57e5bab.gradio.live\n",
      "\n",
      "This share link expires in 72 hours. For free permanent hosting and GPU upgrades, run `gradio deploy` from Terminal to deploy to Spaces (https://huggingface.co/spaces)\n"
     ]
    },
    {
     "data": {
      "text/plain": []
     },
     "execution_count": 49,
     "metadata": {},
     "output_type": "execute_result"
    },
    {
     "name": "stdout",
     "output_type": "stream",
     "text": [
      "['[김주한 교수의 정보의료·디지털 사피엔스]챗GPT의 AI 앱스토어 전략', \"[이원섭의 통통마컴] MS '빙'의 스미스 총괄사장이 한국에 온 까닭\", '금융위기 재발 조짐… 경제전망 넘보는 구글AI']\n"
     ]
    }
   ],
   "source": [
    "import os\n",
    "import google.generativeai as genai\n",
    "from dotenv import load_dotenv\n",
    "import gradio as gr\n",
    "import requests\n",
    "import pandas as pd\n",
    "from datetime import date\n",
    "from konlpy.tag import Okt\n",
    "from nltk.util import ngrams\n",
    "from bs4 import BeautifulSoup\n",
    "import string\n",
    "\n",
    "# 한국어 형태소 분석기 (Okt)\n",
    "okt = Okt()\n",
    "\n",
    "# Load environment variables\n",
    "load_dotenv(\".chatenv\")\n",
    "GOOGLE_API_KEY = os.getenv('GOOGLE_API_KEY')\n",
    "NAVER_CLIENT_ID = os.getenv('client_id')\n",
    "NAVER_CLIENT_SECRET = os.getenv('client_secret')\n",
    "\n",
    "genai.configure(api_key=GOOGLE_API_KEY)\n",
    "\n",
    "# n-gram 키워드 추출 함수 (한국어용)\n",
    "def extract_keywords_n_gram(text, n_range=(1, 2)):\n",
    "    # 한국어 텍스트에서 명사 추출\n",
    "    tokens = okt.nouns(text)  # 명사만 추출\n",
    "    \n",
    "    # 불필요한 구두점 필터링 (명사에서)\n",
    "    filtered_tokens = [word for word in tokens if word not in string.punctuation]\n",
    "    \n",
    "    # 1-gram과 2-gram 추출\n",
    "    keywords = []\n",
    "    for n in range(n_range[0], n_range[1] + 1):\n",
    "        n_grams = ngrams(filtered_tokens, n)\n",
    "        for grams in n_grams:\n",
    "            keywords.append(\" \".join(grams))  # n-gram을 하나의 문자열로 변환\n",
    "    \n",
    "    # 추출된 키워드 반환\n",
    "    return keywords[:5]  # 상위 5개 키워드만 반환\n",
    "\n",
    "# Naver 뉴스 검색 함수 (앞서 설명한 대로)\n",
    "def search_naver_news(query):\n",
    "    url = \"https://openapi.naver.com/v1/search/news.json\"\n",
    "    payload = {'query': query, 'display': 5, 'start': 1, 'sort': 'sim'}\n",
    "    headers = {\n",
    "        \"X-Naver-Client-Id\": NAVER_CLIENT_ID,\n",
    "        \"X-Naver-Client-Secret\": NAVER_CLIENT_SECRET\n",
    "    }\n",
    "    \n",
    "    r = requests.get(url, params=payload, headers=headers)\n",
    "    \n",
    "    if r.status_code == 200:\n",
    "        data = r.json()\n",
    "        result = {}\n",
    "        for item in data['items']:\n",
    "            for key in item.keys():\n",
    "                result.setdefault(key, []).append(item[key].replace(\"<b>\", \"\").replace(\"</b>\", \"\").replace(\"&quot;\", \"\"))\n",
    "        df = pd.DataFrame(result)\n",
    "        return df\n",
    "    else:\n",
    "        return None\n",
    "\n",
    "# Function to summarize news article from the link\n",
    "def summarize_news(originallink):\n",
    "    response = requests.get(originallink)\n",
    "    if response.status_code == 200:\n",
    "        # 여기서는 간단한 형태로 내용 수집 (실제로는 BeautifulSoup 등을 사용할 수 있습니다)\n",
    "        content = response.text[:500]  # 간단하게 텍스트 일부를 보여줌\n",
    "        # Gemini를 사용한 요약 (필요한 경우)\n",
    "        model = genai.GenerativeModel(\"gemini-1.5-flash\")\n",
    "        summary = model.generate_content(content)\n",
    "        return summary.text\n",
    "    else:\n",
    "        return \"Failed to fetch the news.\"\n",
    "\n",
    "# 수정된 generate_response_and_search_news 함수\n",
    "def generate_response_and_search_news(prompt):\n",
    "    # 1. Google Gemini를 이용한 응답 생성\n",
    "    model = genai.GenerativeModel(\"gemini-1.5-flash\")\n",
    "    response = model.generate_content(prompt)\n",
    "    response_text = response.text\n",
    "    \n",
    "    # 2. 질문에서 1-gram과 2-gram 키워드 추출 (한국어)\n",
    "    keywords = extract_keywords_n_gram(prompt, n_range=(1, 2))\n",
    "    search_query = \" \".join(keywords)  # 추출된 키워드를 검색 쿼리로 변환\n",
    "    \n",
    "    # 3. 네이버 뉴스에서 추출된 키워드로 검색\n",
    "    news_df = search_naver_news(search_query)\n",
    "    \n",
    "    if news_df is not None and not news_df.empty:\n",
    "        # 뉴스 제목 리스트로 변환하여 Dropdown에 표시\n",
    "        news_titles = news_df['title'].tolist()\n",
    "        print(news_titles)\n",
    "        return response_text, gr.Dropdown.update(choices=news_titles)  # 제목 리스트 반환 및 Dropdown 업데이트\n",
    "    else:\n",
    "        return response_text, gr.Dropdown.update(choices=[])\n",
    "\n",
    "# 뉴스 본문에서 중요한 내용만 추출하는 함수\n",
    "def extract_article_content(html):\n",
    "    soup = BeautifulSoup(html, 'lxml')\n",
    "\n",
    "    # 1. 기사 본문을 담고 있을 것으로 예상되는 태그 찾기\n",
    "    # 일반적으로 기사 본문은 <div> 태그나 <p> 태그에 존재하며, 특정 클래스가 있을 수 있습니다.\n",
    "    article_body = soup.find_all('p')  # <p> 태그 내부의 내용을 모두 가져오기\n",
    "\n",
    "    # 2. 추출된 텍스트 결합\n",
    "    article_text = \"\"\n",
    "    for paragraph in article_body:\n",
    "        article_text += paragraph.get_text() + \" \"\n",
    "\n",
    "    return article_text.strip()\n",
    "\n",
    "# 수정된 뉴스 요약 함수\n",
    "def summarize_news(originallink):\n",
    "    response = requests.get(originallink)\n",
    "    \n",
    "    if response.status_code == 200:\n",
    "        # HTML 페이지 파싱\n",
    "        article_content = extract_article_content(response.text)\n",
    "        \n",
    "        if article_content:\n",
    "            # Gemini를 사용하여 본문 요약\n",
    "            model = genai.GenerativeModel(\"gemini-1.5-flash\")\n",
    "            summary = model.generate_content(article_content)\n",
    "            return summary.text\n",
    "        else:\n",
    "            return \"No meaningful content found to summarize.\"\n",
    "    else:\n",
    "        return \"Failed to fetch the news.\"\n",
    "\n",
    "with gr.Blocks() as app:\n",
    "    gr.Markdown(\"# Chatbot with Google Generative AI and Naver News Search\")\n",
    "    \n",
    "    with gr.Tab(\"Chat and News Search\"):\n",
    "        with gr.Row():\n",
    "            # Left side: Chatbot Response and User Input\n",
    "            with gr.Column():\n",
    "                chatbot_output = gr.Textbox(label=\"Chatbot Response\", lines=10)\n",
    "                user_input = gr.Textbox(label=\"Your Question\")\n",
    "                reset_btn = gr.Button(\"Reset\")  # Reset button added here\n",
    "                \n",
    "            # Right side: News Articles and News Summary\n",
    "            with gr.Column():\n",
    "                news_list = gr.Dropdown(choices=[], label=\"News Articles\", interactive=True)\n",
    "                news_summary = gr.Textbox(label=\"News Summary\", lines=10)\n",
    "                view_news_btn = gr.Button(\"View News Summary\")\n",
    "        \n",
    "        # Automatically trigger chatbot and news search on Enter key press\n",
    "        user_input.submit(\n",
    "            fn=generate_response_and_search_news, \n",
    "            inputs=user_input, \n",
    "            outputs=[chatbot_output, news_list]\n",
    "        )\n",
    "        \n",
    "        # Button actions for viewing news summary\n",
    "        view_news_btn.click(\n",
    "            fn=get_news_summary, \n",
    "            inputs=news_list, \n",
    "            outputs=news_summary\n",
    "        )\n",
    "        \n",
    "        # Reset button functionality to reset all fields including news_list\n",
    "        reset_btn.click(\n",
    "            fn=lambda: (\"\", \"\", [], \"\"),  # Reset all components\n",
    "            inputs=[], \n",
    "            outputs=[user_input, chatbot_output, news_list, news_summary]\n",
    "        )\n",
    "\n",
    "app.launch(inline=False, share=True)\n"
   ]
  },
  {
   "cell_type": "code",
   "execution_count": 40,
   "id": "af387cf2",
   "metadata": {},
   "outputs": [
    {
     "name": "stdout",
     "output_type": "stream",
     "text": [
      "Closing server running on port: 7881\n"
     ]
    }
   ],
   "source": [
    "app.close()"
   ]
  },
  {
   "cell_type": "markdown",
   "id": "47401a5c",
   "metadata": {},
   "source": [
    "# 이전 대화 기억하는 챗봇"
   ]
  },
  {
   "cell_type": "code",
   "execution_count": 50,
   "id": "d1d5768b",
   "metadata": {},
   "outputs": [
    {
     "name": "stdout",
     "output_type": "stream",
     "text": [
      "Running on local URL:  http://127.0.0.1:7890\n",
      "IMPORTANT: You are using gradio version 3.40.0, however version 4.29.0 is available, please upgrade.\n",
      "--------\n",
      "Running on public URL: https://03f1553cd15afb3310.gradio.live\n",
      "\n",
      "This share link expires in 72 hours. For free permanent hosting and GPU upgrades, run `gradio deploy` from Terminal to deploy to Spaces (https://huggingface.co/spaces)\n"
     ]
    },
    {
     "data": {
      "text/plain": []
     },
     "execution_count": 50,
     "metadata": {},
     "output_type": "execute_result"
    }
   ],
   "source": [
    "import os\n",
    "import google.generativeai as genai\n",
    "from dotenv import load_dotenv\n",
    "import gradio as gr\n",
    "import requests\n",
    "import pandas as pd\n",
    "from datetime import date\n",
    "from konlpy.tag import Okt\n",
    "from nltk.util import ngrams\n",
    "from bs4 import BeautifulSoup\n",
    "import string\n",
    "\n",
    "# 한국어 형태소 분석기 (Okt)\n",
    "okt = Okt()\n",
    "\n",
    "# Load environment variables\n",
    "load_dotenv(\".chatenv\")\n",
    "GOOGLE_API_KEY = os.getenv('GOOGLE_API_KEY')\n",
    "NAVER_CLIENT_ID = os.getenv('client_id')\n",
    "NAVER_CLIENT_SECRET = os.getenv('client_secret')\n",
    "\n",
    "genai.configure(api_key=GOOGLE_API_KEY)\n",
    "\n",
    "# n-gram 키워드 추출 함수 (한국어용)\n",
    "def extract_keywords_n_gram(text, n_range=(1, 2)):\n",
    "    tokens = okt.nouns(text)  # 명사만 추출\n",
    "    filtered_tokens = [word for word in tokens if word not in string.punctuation]\n",
    "    \n",
    "    keywords = []\n",
    "    for n in range(n_range[0], n_range[1] + 1):\n",
    "        n_grams = ngrams(filtered_tokens, n)\n",
    "        for grams in n_grams:\n",
    "            keywords.append(\" \".join(grams))  # n-gram을 하나의 문자열로 변환\n",
    "    \n",
    "    return keywords[:5]  # 상위 5개 키워드만 반환\n",
    "\n",
    "# Naver 뉴스 검색 함수\n",
    "def search_naver_news(query):\n",
    "    url = \"https://openapi.naver.com/v1/search/news.json\"\n",
    "    payload = {'query': query, 'display': 5, 'start': 1, 'sort': 'sim'}\n",
    "    headers = {\n",
    "        \"X-Naver-Client-Id\": NAVER_CLIENT_ID,\n",
    "        \"X-Naver-Client-Secret\": NAVER_CLIENT_SECRET\n",
    "    }\n",
    "    \n",
    "    r = requests.get(url, params=payload, headers=headers)\n",
    "    \n",
    "    if r.status_code == 200:\n",
    "        data = r.json()\n",
    "        result = {}\n",
    "        for item in data['items']:\n",
    "            for key in item.keys():\n",
    "                result.setdefault(key, []).append(item[key].replace(\"<b>\", \"\").replace(\"</b>\", \"\").replace(\"&quot;\", \"\"))\n",
    "        df = pd.DataFrame(result)\n",
    "        return df\n",
    "    else:\n",
    "        return None\n",
    "\n",
    "# 뉴스 본문에서 중요한 내용만 추출하는 함수\n",
    "def extract_article_content(html):\n",
    "    soup = BeautifulSoup(html, 'lxml')\n",
    "    article_body = soup.find_all('p')\n",
    "    article_text = \"\"\n",
    "    for paragraph in article_body:\n",
    "        article_text += paragraph.get_text() + \" \"\n",
    "    return article_text.strip()\n",
    "\n",
    "# 뉴스 본문 요약 함수\n",
    "def summarize_news(originallink):\n",
    "    response = requests.get(originallink)\n",
    "    \n",
    "    if response.status_code == 200:\n",
    "        article_content = extract_article_content(response.text)\n",
    "        if article_content:\n",
    "            model = genai.GenerativeModel(\"gemini-1.5-flash\")\n",
    "            summary = model.generate_content(article_content)\n",
    "            return summary.text\n",
    "        else:\n",
    "            return \"No meaningful content found to summarize.\"\n",
    "    else:\n",
    "        return \"Failed to fetch the news.\"\n",
    "\n",
    "# 대화 기록 리스트\n",
    "conversation_history = []\n",
    "\n",
    "# 대화 생성 및 뉴스 검색 함수\n",
    "def generate_response_and_search_news(prompt):\n",
    "    global conversation_history  # 전역 변수로 사용\n",
    "    \n",
    "    # 1. Google Gemini를 이용한 응답 생성\n",
    "    model = genai.GenerativeModel(\"gemini-1.5-flash\")\n",
    "    response = model.generate_content(prompt)\n",
    "    response_text = response.text\n",
    "    \n",
    "    # 대화 기록에 사용자 입력 및 Gemini 응답 추가\n",
    "    conversation_history.append(f\"User: {prompt}\")\n",
    "    conversation_history.append(f\"Gemini: {response_text}\")\n",
    "    \n",
    "    # 2. 질문에서 1-gram과 2-gram 키워드 추출 (한국어)\n",
    "    keywords = extract_keywords_n_gram(prompt, n_range=(1, 2))\n",
    "    search_query = \" \".join(keywords)\n",
    "    \n",
    "    # 3. 네이버 뉴스에서 키워드로 검색\n",
    "    news_df = search_naver_news(search_query)\n",
    "    \n",
    "    if news_df is not None and not news_df.empty:\n",
    "        news_titles = news_df['title'].tolist()\n",
    "        return \"\\n\".join(conversation_history), gr.Dropdown.update(choices=news_titles), \"\"  # 입력 필드를 빈 문자열로 업데이트\n",
    "    else:\n",
    "        return \"\\n\".join(conversation_history), gr.Dropdown.update(choices=[]), \"\"  # 입력 필드를 빈 문자열로 업데이트\n",
    "\n",
    "# 전체 대화 기록 리셋 함수\n",
    "def reset_conversation():\n",
    "    global conversation_history\n",
    "    conversation_history = []  # 대화 기록 초기화\n",
    "    return \"\", \"\", [], \"\"  # 모든 필드 초기화\n",
    "\n",
    "# 뉴스 요약 함수\n",
    "def get_news_summary(selected_news):\n",
    "    # selected_news는 뉴스 제목이므로, 데이터프레임에서 해당 제목의 링크를 찾아야 합니다.\n",
    "    news_df = search_naver_news(selected_news)\n",
    "    \n",
    "    if news_df is not None and not news_df.empty:\n",
    "        # selected_news와 제목이 일치하는 행에서 링크 추출\n",
    "        news_row = news_df[news_df['title'] == selected_news]\n",
    "        if not news_row.empty:\n",
    "            # 'originallink' 컬럼에서 URL 추출\n",
    "            originallink = news_row.iloc[0]['originallink']  # 첫 번째 행에서 링크 추출\n",
    "            return summarize_news(originallink)\n",
    "    \n",
    "    return \"No news found.\"\n",
    "\n",
    "# Gradio UI\n",
    "with gr.Blocks() as app:\n",
    "    gr.Markdown(\"# Chatbot with Google Generative AI and Naver News Search\")\n",
    "    \n",
    "    with gr.Tab(\"Chat and News Search\"):\n",
    "        with gr.Row():\n",
    "            with gr.Column():\n",
    "                chatbot_output = gr.Textbox(label=\"Chatbot Response\", lines=10)\n",
    "                user_input = gr.Textbox(label=\"Your Question\")\n",
    "                reset_btn = gr.Button(\"Reset\")\n",
    "                \n",
    "            with gr.Column():\n",
    "                news_list = gr.Dropdown(choices=[], label=\"News Articles\", interactive=True)\n",
    "                news_summary = gr.Textbox(label=\"News Summary\", lines=10)\n",
    "                view_news_btn = gr.Button(\"View News Summary\")\n",
    "        \n",
    "        # 사용자 입력 시 대화 생성 및 뉴스 검색 후 입력 필드 초기화\n",
    "        user_input.submit(\n",
    "            fn=generate_response_and_search_news, \n",
    "            inputs=user_input, \n",
    "            outputs=[chatbot_output, news_list, user_input]  # user_input을 빈 문자열로 업데이트\n",
    "        )\n",
    "        \n",
    "        # 뉴스 선택 시 요약 생성\n",
    "        view_news_btn.click(\n",
    "            fn=get_news_summary, \n",
    "            inputs=news_list, \n",
    "            outputs=news_summary\n",
    "        )\n",
    "        \n",
    "        # Reset 버튼 클릭 시 대화 기록 및 필드 초기화\n",
    "        reset_btn.click(\n",
    "            fn=reset_conversation,\n",
    "            inputs=[], \n",
    "            outputs=[user_input, chatbot_output, news_list, news_summary]\n",
    "        )\n",
    "\n",
    "app.launch(inline=False, share=True)\n"
   ]
  },
  {
   "cell_type": "code",
   "execution_count": null,
   "id": "e7461b9d",
   "metadata": {},
   "outputs": [],
   "source": []
  },
  {
   "cell_type": "code",
   "execution_count": null,
   "id": "ee06534a",
   "metadata": {},
   "outputs": [],
   "source": []
  },
  {
   "cell_type": "code",
   "execution_count": null,
   "id": "2cc1156c",
   "metadata": {},
   "outputs": [],
   "source": []
  }
 ],
 "metadata": {
  "kernelspec": {
   "display_name": "Python 3 (ipykernel)",
   "language": "python",
   "name": "python3"
  },
  "language_info": {
   "codemirror_mode": {
    "name": "ipython",
    "version": 3
   },
   "file_extension": ".py",
   "mimetype": "text/x-python",
   "name": "python",
   "nbconvert_exporter": "python",
   "pygments_lexer": "ipython3",
   "version": "3.11.10"
  }
 },
 "nbformat": 4,
 "nbformat_minor": 5
}
