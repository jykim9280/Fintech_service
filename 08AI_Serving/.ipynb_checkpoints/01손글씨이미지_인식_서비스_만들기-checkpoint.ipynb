{
 "cells": [
  {
   "cell_type": "markdown",
   "id": "e76246b0",
   "metadata": {},
   "source": [
    "# 손글씨 인식 application\n",
    "- 영문 손글씨 이미지 파일을 업로드\n",
    "- 사용자가 캔버스에 손글씨를 쓸 수 있다.\n",
    "- 업로드한 이미지와 직접 쓴 글씨를 텍스트로 변환해 받을 수 있다."
   ]
  },
  {
   "cell_type": "code",
   "execution_count": 1,
   "id": "3758134c",
   "metadata": {
    "scrolled": true
   },
   "outputs": [
    {
     "name": "stdout",
     "output_type": "stream",
     "text": [
      "--2024-09-23 15:32:22--  https://github.com/mrsyee/dl_apps/raw/main/ocr/examples/Hello.png\n",
      "github.com (github.com) 해석 중... 20.200.245.247\n",
      "다음으로 연결 중: github.com (github.com)|20.200.245.247|:443... 연결했습니다.\n",
      "HTTP 요청을 보냈습니다. 응답 기다리는 중... 302 Found\n",
      "위치: https://raw.githubusercontent.com/mrsyee/dl_apps/main/ocr/examples/Hello.png [따라감]\n",
      "--2024-09-23 15:32:22--  https://raw.githubusercontent.com/mrsyee/dl_apps/main/ocr/examples/Hello.png\n",
      "raw.githubusercontent.com (raw.githubusercontent.com) 해석 중... 185.199.110.133, 185.199.111.133, 185.199.108.133, ...\n",
      "다음으로 연결 중: raw.githubusercontent.com (raw.githubusercontent.com)|185.199.110.133|:443... 연결했습니다.\n",
      "HTTP 요청을 보냈습니다. 응답 기다리는 중... 200 OK\n",
      "길이: 42139 (41K) [image/png]\n",
      "저장 위치: ‘Hello.png.7’\n",
      "\n",
      "Hello.png.7         100%[===================>]  41.15K  --.-KB/s    / 0.01s    \n",
      "\n",
      "2024-09-23 15:32:22 (2.98 MB/s) - ‘Hello.png.7’ 저장함 [42139/42139]\n",
      "\n",
      "--2024-09-23 15:32:22--  https://github.com/mrsyee/dl_apps/raw/main/ocr/examples/Hello_cursive.png\n",
      "github.com (github.com) 해석 중... 20.200.245.247\n",
      "다음으로 연결 중: github.com (github.com)|20.200.245.247|:443... 연결했습니다.\n",
      "HTTP 요청을 보냈습니다. 응답 기다리는 중... 302 Found\n",
      "위치: https://raw.githubusercontent.com/mrsyee/dl_apps/main/ocr/examples/Hello_cursive.png [따라감]\n",
      "--2024-09-23 15:32:22--  https://raw.githubusercontent.com/mrsyee/dl_apps/main/ocr/examples/Hello_cursive.png\n",
      "raw.githubusercontent.com (raw.githubusercontent.com) 해석 중... 185.199.110.133, 185.199.111.133, 185.199.108.133, ...\n",
      "다음으로 연결 중: raw.githubusercontent.com (raw.githubusercontent.com)|185.199.110.133|:443... 연결했습니다.\n",
      "HTTP 요청을 보냈습니다. 응답 기다리는 중... 200 OK\n",
      "길이: 84675 (83K) [image/png]\n",
      "저장 위치: ‘Hello_cursive.png.7’\n",
      "\n",
      "Hello_cursive.png.7 100%[===================>]  82.69K  --.-KB/s    / 0.008s   \n",
      "\n",
      "2024-09-23 15:32:23 (10.7 MB/s) - ‘Hello_cursive.png.7’ 저장함 [84675/84675]\n",
      "\n",
      "--2024-09-23 15:32:23--  https://github.com/mrsyee/dl_apps/raw/main/ocr/examples/Red.png\n",
      "github.com (github.com) 해석 중... 20.200.245.247\n",
      "다음으로 연결 중: github.com (github.com)|20.200.245.247|:443... 연결했습니다.\n",
      "HTTP 요청을 보냈습니다. 응답 기다리는 중... 302 Found\n",
      "위치: https://raw.githubusercontent.com/mrsyee/dl_apps/main/ocr/examples/Red.png [따라감]\n",
      "--2024-09-23 15:32:23--  https://raw.githubusercontent.com/mrsyee/dl_apps/main/ocr/examples/Red.png\n",
      "raw.githubusercontent.com (raw.githubusercontent.com) 해석 중... 185.199.110.133, 185.199.111.133, 185.199.108.133, ...\n",
      "다음으로 연결 중: raw.githubusercontent.com (raw.githubusercontent.com)|185.199.110.133|:443... 연결했습니다.\n",
      "HTTP 요청을 보냈습니다. 응답 기다리는 중... 200 OK\n",
      "길이: 30239 (30K) [image/png]\n",
      "저장 위치: ‘Red.png.7’\n",
      "\n",
      "Red.png.7           100%[===================>]  29.53K  --.-KB/s    / 0.01s    \n",
      "\n",
      "2024-09-23 15:32:23 (2.31 MB/s) - ‘Red.png.7’ 저장함 [30239/30239]\n",
      "\n",
      "--2024-09-23 15:32:24--  https://github.com/mrsyee/dl_apps/raw/main/ocr/examples/sentence.png\n",
      "github.com (github.com) 해석 중... 20.200.245.247\n",
      "다음으로 연결 중: github.com (github.com)|20.200.245.247|:443... 연결했습니다.\n",
      "HTTP 요청을 보냈습니다. 응답 기다리는 중... 302 Found\n",
      "위치: https://raw.githubusercontent.com/mrsyee/dl_apps/main/ocr/examples/sentence.png [따라감]\n",
      "--2024-09-23 15:32:24--  https://raw.githubusercontent.com/mrsyee/dl_apps/main/ocr/examples/sentence.png\n",
      "raw.githubusercontent.com (raw.githubusercontent.com) 해석 중... 185.199.110.133, 185.199.111.133, 185.199.108.133, ...\n",
      "다음으로 연결 중: raw.githubusercontent.com (raw.githubusercontent.com)|185.199.110.133|:443... 연결했습니다.\n",
      "HTTP 요청을 보냈습니다. 응답 기다리는 중... 200 OK\n",
      "길이: 20809 (20K) [image/png]\n",
      "저장 위치: ‘sentence.png.7’\n",
      "\n",
      "sentence.png.7      100%[===================>]  20.32K  --.-KB/s    / 0.007s   \n",
      "\n",
      "2024-09-23 15:32:24 (2.98 MB/s) - ‘sentence.png.7’ 저장함 [20809/20809]\n",
      "\n",
      "--2024-09-23 15:32:25--  https://github.com/mrsyee/dl_apps/raw/main/ocr/examples/i_love_you.png\n",
      "github.com (github.com) 해석 중... 20.200.245.247\n",
      "다음으로 연결 중: github.com (github.com)|20.200.245.247|:443... 연결했습니다.\n",
      "HTTP 요청을 보냈습니다. 응답 기다리는 중... 302 Found\n",
      "위치: https://raw.githubusercontent.com/mrsyee/dl_apps/main/ocr/examples/i_love_you.png [따라감]\n",
      "--2024-09-23 15:32:25--  https://raw.githubusercontent.com/mrsyee/dl_apps/main/ocr/examples/i_love_you.png\n",
      "raw.githubusercontent.com (raw.githubusercontent.com) 해석 중... 185.199.110.133, 185.199.111.133, 185.199.108.133, ...\n",
      "다음으로 연결 중: raw.githubusercontent.com (raw.githubusercontent.com)|185.199.110.133|:443... 연결했습니다.\n",
      "HTTP 요청을 보냈습니다. 응답 기다리는 중... 200 OK\n",
      "길이: 76393 (75K) [image/png]\n",
      "저장 위치: ‘i_love_you.png.7’\n",
      "\n",
      "i_love_you.png.7    100%[===================>]  74.60K  --.-KB/s    / 0.008s   \n",
      "\n",
      "2024-09-23 15:32:25 (9.44 MB/s) - ‘i_love_you.png.7’ 저장함 [76393/76393]\n",
      "\n",
      "--2024-09-23 15:32:25--  https://github.com/mrsyee/dl_apps/raw/main/ocr/examples/merrychristmas.png\n",
      "github.com (github.com) 해석 중... 20.200.245.247\n",
      "다음으로 연결 중: github.com (github.com)|20.200.245.247|:443... 연결했습니다.\n",
      "HTTP 요청을 보냈습니다. 응답 기다리는 중... 302 Found\n",
      "위치: https://raw.githubusercontent.com/mrsyee/dl_apps/main/ocr/examples/merrychristmas.png [따라감]\n",
      "--2024-09-23 15:32:26--  https://raw.githubusercontent.com/mrsyee/dl_apps/main/ocr/examples/merrychristmas.png\n",
      "raw.githubusercontent.com (raw.githubusercontent.com) 해석 중... 185.199.110.133, 185.199.111.133, 185.199.108.133, ...\n",
      "다음으로 연결 중: raw.githubusercontent.com (raw.githubusercontent.com)|185.199.110.133|:443... 연결했습니다.\n",
      "HTTP 요청을 보냈습니다. 응답 기다리는 중... 200 OK\n",
      "길이: 125725 (123K) [image/png]\n",
      "저장 위치: ‘merrychristmas.png.7’\n",
      "\n",
      "merrychristmas.png. 100%[===================>] 122.78K  --.-KB/s    / 0.02s    \n",
      "\n",
      "2024-09-23 15:32:26 (5.59 MB/s) - ‘merrychristmas.png.7’ 저장함 [125725/125725]\n",
      "\n",
      "--2024-09-23 15:32:26--  https://github.com/mrsyee/dl_apps/raw/main/ocr/examples/Rock.png\n",
      "github.com (github.com) 해석 중... 20.200.245.247\n",
      "다음으로 연결 중: github.com (github.com)|20.200.245.247|:443... 연결했습니다.\n",
      "HTTP 요청을 보냈습니다. 응답 기다리는 중... 302 Found\n",
      "위치: https://raw.githubusercontent.com/mrsyee/dl_apps/main/ocr/examples/Rock.png [따라감]\n",
      "--2024-09-23 15:32:27--  https://raw.githubusercontent.com/mrsyee/dl_apps/main/ocr/examples/Rock.png\n",
      "raw.githubusercontent.com (raw.githubusercontent.com) 해석 중... 185.199.110.133, 185.199.111.133, 185.199.108.133, ...\n",
      "다음으로 연결 중: raw.githubusercontent.com (raw.githubusercontent.com)|185.199.110.133|:443... 연결했습니다.\n",
      "HTTP 요청을 보냈습니다. 응답 기다리는 중... 200 OK\n",
      "길이: 63597 (62K) [image/png]\n",
      "저장 위치: ‘Rock.png.7’\n",
      "\n",
      "Rock.png.7          100%[===================>]  62.11K  --.-KB/s    / 0.02s    \n",
      "\n",
      "2024-09-23 15:32:27 (3.40 MB/s) - ‘Rock.png.7’ 저장함 [63597/63597]\n",
      "\n",
      "--2024-09-23 15:32:27--  https://github.com/mrsyee/dl_apps/raw/main/ocr/examples/Bob.png\n",
      "github.com (github.com) 해석 중... 20.200.245.247\n",
      "다음으로 연결 중: github.com (github.com)|20.200.245.247|:443... 연결했습니다.\n",
      "HTTP 요청을 보냈습니다. 응답 기다리는 중... 302 Found\n",
      "위치: https://raw.githubusercontent.com/mrsyee/dl_apps/main/ocr/examples/Bob.png [따라감]\n",
      "--2024-09-23 15:32:27--  https://raw.githubusercontent.com/mrsyee/dl_apps/main/ocr/examples/Bob.png\n",
      "raw.githubusercontent.com (raw.githubusercontent.com) 해석 중... 185.199.110.133, 185.199.111.133, 185.199.108.133, ...\n",
      "다음으로 연결 중: raw.githubusercontent.com (raw.githubusercontent.com)|185.199.110.133|:443... 연결했습니다.\n",
      "HTTP 요청을 보냈습니다. 응답 기다리는 중... 200 OK\n",
      "길이: 49782 (49K) [image/png]\n",
      "저장 위치: ‘Bob.png.7’\n",
      "\n",
      "Bob.png.7           100%[===================>]  48.62K  --.-KB/s    / 0.02s    \n",
      "\n",
      "2024-09-23 15:32:28 (3.08 MB/s) - ‘Bob.png.7’ 저장함 [49782/49782]\n",
      "\n"
     ]
    }
   ],
   "source": [
    "!mkdir examples\n",
    "!cd examples && wget https://github.com/mrsyee/dl_apps/raw/main/ocr/examples/Hello.png\n",
    "!cd examples && wget https://github.com/mrsyee/dl_apps/raw/main/ocr/examples/Hello_cursive.png\n",
    "!cd examples && wget https://github.com/mrsyee/dl_apps/raw/main/ocr/examples/Red.png\n",
    "!cd examples && wget https://github.com/mrsyee/dl_apps/raw/main/ocr/examples/sentence.png\n",
    "!cd examples && wget https://github.com/mrsyee/dl_apps/raw/main/ocr/examples/i_love_you.png\n",
    "!cd examples && wget https://github.com/mrsyee/dl_apps/raw/main/ocr/examples/merrychristmas.png\n",
    "!cd examples && wget https://github.com/mrsyee/dl_apps/raw/main/ocr/examples/Rock.png\n",
    "!cd examples && wget https://github.com/mrsyee/dl_apps/raw/main/ocr/examples/Bob.png"
   ]
  },
  {
   "cell_type": "code",
   "execution_count": 2,
   "id": "2b51906f",
   "metadata": {},
   "outputs": [
    {
     "name": "stderr",
     "output_type": "stream",
     "text": [
      "/home/user/miniforge3/envs/torch/lib/python3.11/site-packages/tqdm/auto.py:21: TqdmWarning: IProgress not found. Please update jupyter and ipywidgets. See https://ipywidgets.readthedocs.io/en/stable/user_install.html\n",
      "  from .autonotebook import tqdm as notebook_tqdm\n",
      "/home/user/miniforge3/envs/torch/lib/python3.11/site-packages/gradio_client/documentation.py:106: UserWarning: Could not get documentation group for <class 'gradio.mix.Parallel'>: No known documentation group for module 'gradio.mix'\n",
      "  warnings.warn(f\"Could not get documentation group for {cls}: {exc}\")\n",
      "/home/user/miniforge3/envs/torch/lib/python3.11/site-packages/gradio_client/documentation.py:106: UserWarning: Could not get documentation group for <class 'gradio.mix.Series'>: No known documentation group for module 'gradio.mix'\n",
      "  warnings.warn(f\"Could not get documentation group for {cls}: {exc}\")\n"
     ]
    }
   ],
   "source": [
    "import os\n",
    "import numpy as np\n",
    "import gradio as gr\n",
    "from PIL import Image\n",
    "from transformers import TrOCRProcessor, VisionEncoderDecoderModel"
   ]
  },
  {
   "cell_type": "code",
   "execution_count": 3,
   "id": "b5bb50d0",
   "metadata": {},
   "outputs": [
    {
     "name": "stdout",
     "output_type": "stream",
     "text": [
      "False\n"
     ]
    }
   ],
   "source": [
    "import torch\n",
    "print(torch.cuda.is_available())"
   ]
  },
  {
   "cell_type": "markdown",
   "id": "01103cc0",
   "metadata": {},
   "source": [
    "# 이미지 파일 업로드 UI 구현하기"
   ]
  },
  {
   "cell_type": "code",
   "execution_count": 4,
   "id": "5afdfc38",
   "metadata": {},
   "outputs": [
    {
     "name": "stdout",
     "output_type": "stream",
     "text": [
      "IMPORTANT: You are using gradio version 3.40.0, however version 4.29.0 is available, please upgrade.\n",
      "--------\n"
     ]
    }
   ],
   "source": [
    "with gr.Blocks() as app:\n",
    "    gr.Markdown(\"# Handwritten Image OCR\")\n",
    "    image = gr.Image(label = \"Hanwritten image file\")\n",
    "    output = gr.Textbox(label=\"Output Box\")\n",
    "    convert_btn = gr.Button(\"Convert\")"
   ]
  },
  {
   "cell_type": "code",
   "execution_count": 5,
   "id": "e54bced7",
   "metadata": {},
   "outputs": [
    {
     "name": "stdout",
     "output_type": "stream",
     "text": [
      "Running on local URL:  http://127.0.0.1:7860\n",
      "Running on public URL: https://323d46d8fdc77e2ac1.gradio.live\n",
      "\n",
      "This share link expires in 72 hours. For free permanent hosting and GPU upgrades, run `gradio deploy` from Terminal to deploy to Spaces (https://huggingface.co/spaces)\n"
     ]
    },
    {
     "data": {
      "text/plain": []
     },
     "execution_count": 5,
     "metadata": {},
     "output_type": "execute_result"
    }
   ],
   "source": [
    "app.launch(inline=False, share=True)"
   ]
  },
  {
   "cell_type": "code",
   "execution_count": 6,
   "id": "1c1a95c6",
   "metadata": {},
   "outputs": [
    {
     "name": "stdout",
     "output_type": "stream",
     "text": [
      "Closing server running on port: 7860\n"
     ]
    }
   ],
   "source": [
    "app.close() # 사용한 다음 close 를 해야함. 하지 않으면 메모리를 사용 중인 것"
   ]
  },
  {
   "cell_type": "markdown",
   "id": "6ed6d5b7",
   "metadata": {},
   "source": [
    "# TrOCT 모델을 사용한 손글씨 인식기 구현하기"
   ]
  },
  {
   "cell_type": "code",
   "execution_count": 7,
   "id": "bf8a92a0",
   "metadata": {},
   "outputs": [],
   "source": [
    "class TrOCRInferencer:\n",
    "    def __init__(self):\n",
    "        print(\"[info] init TrOCR Inferencer\")\n",
    "        self.processor = TrOCRProcessor.from_pretrained(\"microsoft/trocr-large-handwritten\")\n",
    "        self.model = VisionEncoderDecoderModel.from_pretrained('microsoft/trocr-large-handwritten')\n",
    "        \n",
    "    def inference(self, image):\n",
    "        pixel_values = self.processor(images=image, return_tensors=\"pt\").pixel_values\n",
    "        generated_ids = self.model.generate(pixel_values)\n",
    "        generated_text = self.processor.batch_decode(generated_ids, skip_special_tokens=True)[0]\n",
    "        return generated_text"
   ]
  },
  {
   "cell_type": "code",
   "execution_count": 8,
   "id": "1e127862",
   "metadata": {},
   "outputs": [
    {
     "name": "stdout",
     "output_type": "stream",
     "text": [
      "[info] init TrOCR Inferencer\n"
     ]
    },
    {
     "name": "stderr",
     "output_type": "stream",
     "text": [
      "/home/user/miniforge3/envs/torch/lib/python3.11/site-packages/transformers/tokenization_utils_base.py:1601: FutureWarning: `clean_up_tokenization_spaces` was not set. It will be set to `True` by default. This behavior will be depracted in transformers v4.45, and will be then set to `False` by default. For more details check this issue: https://github.com/huggingface/transformers/issues/31884\n",
      "  warnings.warn(\n",
      "Some weights of VisionEncoderDecoderModel were not initialized from the model checkpoint at microsoft/trocr-large-handwritten and are newly initialized: ['encoder.pooler.dense.bias', 'encoder.pooler.dense.weight']\n",
      "You should probably TRAIN this model on a down-stream task to be able to use it for predictions and inference.\n"
     ]
    }
   ],
   "source": [
    "inferencer = TrOCRInferencer()"
   ]
  },
  {
   "cell_type": "markdown",
   "id": "9036bac0",
   "metadata": {},
   "source": [
    "# 추론 기능 구현하기"
   ]
  },
  {
   "cell_type": "code",
   "execution_count": 9,
   "id": "ada8742c",
   "metadata": {},
   "outputs": [],
   "source": [
    "def image_to_text(image):\n",
    "    image = Image.fromarray(image).convert('RGB')\n",
    "    text = inferencer.inference(image)\n",
    "    return text"
   ]
  },
  {
   "cell_type": "code",
   "execution_count": 10,
   "id": "439a58f8",
   "metadata": {},
   "outputs": [
    {
     "name": "stdout",
     "output_type": "stream",
     "text": [
      "Running on local URL:  http://127.0.0.1:7860\n",
      "IMPORTANT: You are using gradio version 3.40.0, however version 4.29.0 is available, please upgrade.\n",
      "--------\n",
      "Running on public URL: https://0bbbf0eed3fcec8aae.gradio.live\n",
      "\n",
      "This share link expires in 72 hours. For free permanent hosting and GPU upgrades, run `gradio deploy` from Terminal to deploy to Spaces (https://huggingface.co/spaces)\n"
     ]
    },
    {
     "data": {
      "text/plain": []
     },
     "execution_count": 10,
     "metadata": {},
     "output_type": "execute_result"
    }
   ],
   "source": [
    "with gr.Blocks() as app:\n",
    "    gr.Markdown('# Handwritten Image OCR')\n",
    "    image = gr.Image(label='Handwritten Image file')\n",
    "    output = gr.Textbox(label='Output Box')\n",
    "    convert_btn = gr.Button('Convert')\n",
    "    convert_btn.click(\n",
    "        fn=image_to_text, inputs=image, outputs=output)\n",
    "\n",
    "app.launch(inline=False, share=True)"
   ]
  },
  {
   "cell_type": "markdown",
   "id": "4ee529de",
   "metadata": {},
   "source": [
    "# 캔버스 UI 만들고 손글씨 인식하기"
   ]
  },
  {
   "cell_type": "code",
   "execution_count": 11,
   "id": "6bfc683a",
   "metadata": {},
   "outputs": [],
   "source": [
    "import gradio as gr"
   ]
  },
  {
   "cell_type": "code",
   "execution_count": 12,
   "id": "f4f6aec8",
   "metadata": {},
   "outputs": [
    {
     "name": "stdout",
     "output_type": "stream",
     "text": [
      "Running on local URL:  http://127.0.0.1:7861\n",
      "IMPORTANT: You are using gradio version 3.40.0, however version 4.29.0 is available, please upgrade.\n",
      "--------\n",
      "Running on public URL: https://d90715ab35664bb5c9.gradio.live\n",
      "\n",
      "This share link expires in 72 hours. For free permanent hosting and GPU upgrades, run `gradio deploy` from Terminal to deploy to Spaces (https://huggingface.co/spaces)\n"
     ]
    },
    {
     "data": {
      "text/plain": []
     },
     "execution_count": 12,
     "metadata": {},
     "output_type": "execute_result"
    }
   ],
   "source": [
    "with gr.Blocks() as app:\n",
    "    gr.Markdown(\"# Handwritten Image OCR\")\n",
    "    sketchpad = gr.Sketchpad(\n",
    "        label = 'Handwritten Sektchpad',\n",
    "        shape =(600,300),\n",
    "        brush_radius=5,\n",
    "        invert_colors=False)\n",
    "    output=gr.Textbox(label=\"Output Box\")\n",
    "    convert_btn = gr.Button(\"Convert\")\n",
    "    convert_btn.click(\n",
    "        fn= image_to_text, inputs=sketchpad, outputs=output)\n",
    "app.launch(inline=False, share=True)"
   ]
  },
  {
   "cell_type": "markdown",
   "id": "cef91ef0",
   "metadata": {},
   "source": [
    "# 최종 앱 구현"
   ]
  },
  {
   "cell_type": "code",
   "execution_count": 17,
   "id": "c81b1317",
   "metadata": {},
   "outputs": [
    {
     "name": "stdout",
     "output_type": "stream",
     "text": [
      "[info] init TrOCR Inferencer\n"
     ]
    },
    {
     "name": "stderr",
     "output_type": "stream",
     "text": [
      "/home/user/miniforge3/envs/torch/lib/python3.11/site-packages/transformers/tokenization_utils_base.py:1601: FutureWarning: `clean_up_tokenization_spaces` was not set. It will be set to `True` by default. This behavior will be depracted in transformers v4.45, and will be then set to `False` by default. For more details check this issue: https://github.com/huggingface/transformers/issues/31884\n",
      "  warnings.warn(\n",
      "Some weights of VisionEncoderDecoderModel were not initialized from the model checkpoint at microsoft/trocr-large-handwritten and are newly initialized: ['encoder.pooler.dense.bias', 'encoder.pooler.dense.weight']\n",
      "You should probably TRAIN this model on a down-stream task to be able to use it for predictions and inference.\n"
     ]
    },
    {
     "name": "stdout",
     "output_type": "stream",
     "text": [
      "Running on local URL:  http://127.0.0.1:7866\n",
      "IMPORTANT: You are using gradio version 3.40.0, however version 4.29.0 is available, please upgrade.\n",
      "--------\n",
      "Running on public URL: https://2effc2061efe6ae467.gradio.live\n",
      "\n",
      "This share link expires in 72 hours. For free permanent hosting and GPU upgrades, run `gradio deploy` from Terminal to deploy to Spaces (https://huggingface.co/spaces)\n"
     ]
    },
    {
     "data": {
      "text/plain": []
     },
     "execution_count": 17,
     "metadata": {},
     "output_type": "execute_result"
    },
    {
     "name": "stderr",
     "output_type": "stream",
     "text": [
      "/home/user/miniforge3/envs/torch/lib/python3.11/site-packages/transformers/generation/utils.py:1258: UserWarning: Using the model-agnostic default `max_length` (=20) to control the generation length. We recommend setting `max_new_tokens` to control the maximum length of the generation.\n",
      "  warnings.warn(\n"
     ]
    }
   ],
   "source": [
    "class TrOCRInferencer:\n",
    "    def __init__(self):\n",
    "        print(\"[info] init TrOCR Inferencer\")\n",
    "        self.processor = TrOCRProcessor.from_pretrained(\"microsoft/trocr-large-handwritten\")\n",
    "        self.model = VisionEncoderDecoderModel.from_pretrained('microsoft/trocr-large-handwritten')\n",
    "        \n",
    "    def inference(self, image):\n",
    "        pixel_values = self.processor(images=image, return_tensors=\"pt\").pixel_values\n",
    "        generated_ids = self.model.generate(pixel_values)\n",
    "        generated_text = self.processor.batch_decode(generated_ids, skip_special_tokens=True)[0]\n",
    "        return generated_text\n",
    "    \n",
    "inferencer = TrOCRInferencer()\n",
    "\n",
    "def image_to_text(image):\n",
    "    image = Image.fromarray(image).convert('RGB')\n",
    "    text = inferencer.inference(image)\n",
    "    return text\n",
    "\n",
    "with gr.Blocks() as app:\n",
    "    gr.Markdown(\"# Handwritten Image OCR\")\n",
    "    with gr.Tab(\"Image upload\"):\n",
    "        image = gr.Image(label=\"Handritten image file\")\n",
    "        output = gr.Textbox(label=\"Output Box\")\n",
    "        convert_btn = gr.Button(\"Convert\")\n",
    "        convert_btn.click(\n",
    "            fn=image_to_text, inputs=image, outputs=output\n",
    "        )\n",
    "        gr.Markdown(\"## Image Examples\")\n",
    "        gr.Examples(\n",
    "            examples=[\n",
    "                os.path.join(os.getcwd(), \"examples/Hello.png\"),\n",
    "                os.path.join(os.getcwd(), \"examples/Hello_cursive.png\"),\n",
    "                os.path.join(os.getcwd(), \"examples/Red.png\"),\n",
    "                os.path.join(os.getcwd(), \"examples/sentence.png\"),\n",
    "                os.path.join(os.getcwd(), \"examples/i_love_you.png\"),\n",
    "                os.path.join(os.getcwd(), \"examples/merrychristmas.png\"),\n",
    "                os.path.join(os.getcwd(), \"examples/Rock.png\"),\n",
    "                os.path.join(os.getcwd(), \"examples/Bob.png\"),\n",
    "                ],\n",
    "            inputs=image,\n",
    "            outputs=output,\n",
    "            fn=image_to_text\n",
    "            )\n",
    "    with gr.Tab(\"Drawing\"):\n",
    "        gr.Markdown(\"# Handwritten Image OCR\")\n",
    "        sketchpad = gr.Sketchpad(\n",
    "            label = \"Handwritten Sektchpad\",\n",
    "            shape=(600, 300),\n",
    "            brush_radius=3,\n",
    "            invert_colors=False,\n",
    "            )\n",
    "        output = gr.Textbox(label=\"Output Box\")\n",
    "        convert_btn = gr.Button(\"Convert\")\n",
    "        convert_btn.click(\n",
    "            fn=image_to_text, inputs=sketchpad, outputs=output\n",
    "            )\n",
    "app.launch(inline=False, share=True)"
   ]
  },
  {
   "cell_type": "code",
   "execution_count": 13,
   "id": "ccb0279b",
   "metadata": {},
   "outputs": [
    {
     "name": "stdout",
     "output_type": "stream",
     "text": [
      "현재 파이썬 버전: 3.11.10 | packaged by conda-forge | (main, Sep 22 2024, 14:10:38) [GCC 13.3.0]\n"
     ]
    }
   ],
   "source": []
  },
  {
   "cell_type": "code",
   "execution_count": 14,
   "id": "750afd54",
   "metadata": {},
   "outputs": [
    {
     "name": "stdout",
     "output_type": "stream",
     "text": [
      "Requirement already satisfied: gradio==3.40.0 in /home/user/miniforge3/envs/torch/lib/python3.11/site-packages (3.40.0)\n",
      "Requirement already satisfied: aiofiles<24.0,>=22.0 in /home/user/miniforge3/envs/torch/lib/python3.11/site-packages (from gradio==3.40.0) (23.2.1)\n",
      "Requirement already satisfied: aiohttp~=3.0 in /home/user/miniforge3/envs/torch/lib/python3.11/site-packages (from gradio==3.40.0) (3.10.5)\n",
      "Requirement already satisfied: altair<6.0,>=4.2.0 in /home/user/miniforge3/envs/torch/lib/python3.11/site-packages (from gradio==3.40.0) (5.4.1)\n",
      "Requirement already satisfied: fastapi in /home/user/miniforge3/envs/torch/lib/python3.11/site-packages (from gradio==3.40.0) (0.115.0)\n",
      "Requirement already satisfied: ffmpy in /home/user/miniforge3/envs/torch/lib/python3.11/site-packages (from gradio==3.40.0) (0.4.0)\n",
      "Requirement already satisfied: gradio-client>=0.4.0 in /home/user/miniforge3/envs/torch/lib/python3.11/site-packages (from gradio==3.40.0) (1.3.0)\n",
      "Requirement already satisfied: httpx in /home/user/miniforge3/envs/torch/lib/python3.11/site-packages (from gradio==3.40.0) (0.27.2)\n",
      "Requirement already satisfied: huggingface-hub>=0.14.0 in /home/user/miniforge3/envs/torch/lib/python3.11/site-packages (from gradio==3.40.0) (0.25.0)\n",
      "Requirement already satisfied: importlib-resources<7.0,>=1.3 in /home/user/miniforge3/envs/torch/lib/python3.11/site-packages (from gradio==3.40.0) (6.4.5)\n",
      "Requirement already satisfied: jinja2<4.0 in /home/user/miniforge3/envs/torch/lib/python3.11/site-packages (from gradio==3.40.0) (3.1.4)\n",
      "Requirement already satisfied: markdown-it-py>=2.0.0 in /home/user/miniforge3/envs/torch/lib/python3.11/site-packages (from markdown-it-py[linkify]>=2.0.0->gradio==3.40.0) (2.2.0)\n",
      "Requirement already satisfied: markupsafe~=2.0 in /home/user/miniforge3/envs/torch/lib/python3.11/site-packages (from gradio==3.40.0) (2.1.5)\n",
      "Requirement already satisfied: matplotlib~=3.0 in /home/user/miniforge3/envs/torch/lib/python3.11/site-packages (from gradio==3.40.0) (3.9.2)\n",
      "Requirement already satisfied: mdit-py-plugins<=0.3.3 in /home/user/miniforge3/envs/torch/lib/python3.11/site-packages (from gradio==3.40.0) (0.3.3)\n",
      "Requirement already satisfied: numpy~=1.0 in /home/user/miniforge3/envs/torch/lib/python3.11/site-packages (from gradio==3.40.0) (1.26.4)\n",
      "Requirement already satisfied: orjson~=3.0 in /home/user/miniforge3/envs/torch/lib/python3.11/site-packages (from gradio==3.40.0) (3.10.7)\n",
      "Requirement already satisfied: packaging in /home/user/miniforge3/envs/torch/lib/python3.11/site-packages (from gradio==3.40.0) (24.1)\n",
      "Requirement already satisfied: pandas<3.0,>=1.0 in /home/user/miniforge3/envs/torch/lib/python3.11/site-packages (from gradio==3.40.0) (2.2.3)\n",
      "Requirement already satisfied: pillow<11.0,>=8.0 in /home/user/miniforge3/envs/torch/lib/python3.11/site-packages (from gradio==3.40.0) (10.4.0)\n",
      "Requirement already satisfied: pydantic!=1.8,!=1.8.1,!=2.0.0,!=2.0.1,<3.0.0,>=1.7.4 in /home/user/miniforge3/envs/torch/lib/python3.11/site-packages (from gradio==3.40.0) (2.9.2)\n",
      "Requirement already satisfied: pydub in /home/user/miniforge3/envs/torch/lib/python3.11/site-packages (from gradio==3.40.0) (0.25.1)\n",
      "Requirement already satisfied: python-multipart in /home/user/miniforge3/envs/torch/lib/python3.11/site-packages (from gradio==3.40.0) (0.0.10)\n",
      "Requirement already satisfied: pyyaml<7.0,>=5.0 in /home/user/miniforge3/envs/torch/lib/python3.11/site-packages (from gradio==3.40.0) (6.0.2)\n",
      "Requirement already satisfied: requests~=2.0 in /home/user/miniforge3/envs/torch/lib/python3.11/site-packages (from gradio==3.40.0) (2.32.3)\n",
      "Requirement already satisfied: semantic-version~=2.0 in /home/user/miniforge3/envs/torch/lib/python3.11/site-packages (from gradio==3.40.0) (2.10.0)\n",
      "Requirement already satisfied: typing-extensions~=4.0 in /home/user/miniforge3/envs/torch/lib/python3.11/site-packages (from gradio==3.40.0) (4.12.2)\n",
      "Requirement already satisfied: uvicorn>=0.14.0 in /home/user/miniforge3/envs/torch/lib/python3.11/site-packages (from gradio==3.40.0) (0.30.6)\n",
      "Requirement already satisfied: websockets<12.0,>=10.0 in /home/user/miniforge3/envs/torch/lib/python3.11/site-packages (from gradio==3.40.0) (11.0.3)\n",
      "Requirement already satisfied: aiohappyeyeballs>=2.3.0 in /home/user/miniforge3/envs/torch/lib/python3.11/site-packages (from aiohttp~=3.0->gradio==3.40.0) (2.4.0)\n",
      "Requirement already satisfied: aiosignal>=1.1.2 in /home/user/miniforge3/envs/torch/lib/python3.11/site-packages (from aiohttp~=3.0->gradio==3.40.0) (1.3.1)\n",
      "Requirement already satisfied: attrs>=17.3.0 in /home/user/miniforge3/envs/torch/lib/python3.11/site-packages (from aiohttp~=3.0->gradio==3.40.0) (24.2.0)\n",
      "Requirement already satisfied: frozenlist>=1.1.1 in /home/user/miniforge3/envs/torch/lib/python3.11/site-packages (from aiohttp~=3.0->gradio==3.40.0) (1.4.1)\n",
      "Requirement already satisfied: multidict<7.0,>=4.5 in /home/user/miniforge3/envs/torch/lib/python3.11/site-packages (from aiohttp~=3.0->gradio==3.40.0) (6.1.0)\n",
      "Requirement already satisfied: yarl<2.0,>=1.0 in /home/user/miniforge3/envs/torch/lib/python3.11/site-packages (from aiohttp~=3.0->gradio==3.40.0) (1.11.1)\n",
      "Requirement already satisfied: jsonschema>=3.0 in /home/user/miniforge3/envs/torch/lib/python3.11/site-packages (from altair<6.0,>=4.2.0->gradio==3.40.0) (4.23.0)\n",
      "Requirement already satisfied: narwhals>=1.5.2 in /home/user/miniforge3/envs/torch/lib/python3.11/site-packages (from altair<6.0,>=4.2.0->gradio==3.40.0) (1.8.2)\n",
      "Requirement already satisfied: fsspec in /home/user/miniforge3/envs/torch/lib/python3.11/site-packages (from gradio-client>=0.4.0->gradio==3.40.0) (2024.9.0)\n",
      "Requirement already satisfied: anyio in /home/user/miniforge3/envs/torch/lib/python3.11/site-packages (from httpx->gradio==3.40.0) (4.6.0)\n",
      "Requirement already satisfied: certifi in /home/user/miniforge3/envs/torch/lib/python3.11/site-packages (from httpx->gradio==3.40.0) (2024.8.30)\n",
      "Requirement already satisfied: httpcore==1.* in /home/user/miniforge3/envs/torch/lib/python3.11/site-packages (from httpx->gradio==3.40.0) (1.0.5)\n",
      "Requirement already satisfied: idna in /home/user/miniforge3/envs/torch/lib/python3.11/site-packages (from httpx->gradio==3.40.0) (3.10)\n",
      "Requirement already satisfied: sniffio in /home/user/miniforge3/envs/torch/lib/python3.11/site-packages (from httpx->gradio==3.40.0) (1.3.1)\n",
      "Requirement already satisfied: h11<0.15,>=0.13 in /home/user/miniforge3/envs/torch/lib/python3.11/site-packages (from httpcore==1.*->httpx->gradio==3.40.0) (0.14.0)\n",
      "Requirement already satisfied: filelock in /home/user/miniforge3/envs/torch/lib/python3.11/site-packages (from huggingface-hub>=0.14.0->gradio==3.40.0) (3.16.1)\n",
      "Requirement already satisfied: tqdm>=4.42.1 in /home/user/miniforge3/envs/torch/lib/python3.11/site-packages (from huggingface-hub>=0.14.0->gradio==3.40.0) (4.66.5)\n",
      "Requirement already satisfied: mdurl~=0.1 in /home/user/miniforge3/envs/torch/lib/python3.11/site-packages (from markdown-it-py>=2.0.0->markdown-it-py[linkify]>=2.0.0->gradio==3.40.0) (0.1.2)\n",
      "Requirement already satisfied: linkify-it-py<3,>=1 in /home/user/miniforge3/envs/torch/lib/python3.11/site-packages (from markdown-it-py[linkify]>=2.0.0->gradio==3.40.0) (2.0.3)\n",
      "Requirement already satisfied: contourpy>=1.0.1 in /home/user/miniforge3/envs/torch/lib/python3.11/site-packages (from matplotlib~=3.0->gradio==3.40.0) (1.3.0)\n",
      "Requirement already satisfied: cycler>=0.10 in /home/user/miniforge3/envs/torch/lib/python3.11/site-packages (from matplotlib~=3.0->gradio==3.40.0) (0.12.1)\n",
      "Requirement already satisfied: fonttools>=4.22.0 in /home/user/miniforge3/envs/torch/lib/python3.11/site-packages (from matplotlib~=3.0->gradio==3.40.0) (4.53.1)\n",
      "Requirement already satisfied: kiwisolver>=1.3.1 in /home/user/miniforge3/envs/torch/lib/python3.11/site-packages (from matplotlib~=3.0->gradio==3.40.0) (1.4.7)\n",
      "Requirement already satisfied: pyparsing>=2.3.1 in /home/user/miniforge3/envs/torch/lib/python3.11/site-packages (from matplotlib~=3.0->gradio==3.40.0) (3.1.4)\n",
      "Requirement already satisfied: python-dateutil>=2.7 in /home/user/miniforge3/envs/torch/lib/python3.11/site-packages (from matplotlib~=3.0->gradio==3.40.0) (2.9.0.post0)\n",
      "Requirement already satisfied: pytz>=2020.1 in /home/user/miniforge3/envs/torch/lib/python3.11/site-packages (from pandas<3.0,>=1.0->gradio==3.40.0) (2024.2)\n",
      "Requirement already satisfied: tzdata>=2022.7 in /home/user/miniforge3/envs/torch/lib/python3.11/site-packages (from pandas<3.0,>=1.0->gradio==3.40.0) (2024.1)\n",
      "Requirement already satisfied: annotated-types>=0.6.0 in /home/user/miniforge3/envs/torch/lib/python3.11/site-packages (from pydantic!=1.8,!=1.8.1,!=2.0.0,!=2.0.1,<3.0.0,>=1.7.4->gradio==3.40.0) (0.7.0)\n",
      "Requirement already satisfied: pydantic-core==2.23.4 in /home/user/miniforge3/envs/torch/lib/python3.11/site-packages (from pydantic!=1.8,!=1.8.1,!=2.0.0,!=2.0.1,<3.0.0,>=1.7.4->gradio==3.40.0) (2.23.4)\n",
      "Requirement already satisfied: charset-normalizer<4,>=2 in /home/user/miniforge3/envs/torch/lib/python3.11/site-packages (from requests~=2.0->gradio==3.40.0) (3.3.2)\n",
      "Requirement already satisfied: urllib3<3,>=1.21.1 in /home/user/miniforge3/envs/torch/lib/python3.11/site-packages (from requests~=2.0->gradio==3.40.0) (2.2.3)\n",
      "Requirement already satisfied: click>=7.0 in /home/user/miniforge3/envs/torch/lib/python3.11/site-packages (from uvicorn>=0.14.0->gradio==3.40.0) (8.1.7)\n",
      "Requirement already satisfied: starlette<0.39.0,>=0.37.2 in /home/user/miniforge3/envs/torch/lib/python3.11/site-packages (from fastapi->gradio==3.40.0) (0.38.6)\n"
     ]
    },
    {
     "name": "stdout",
     "output_type": "stream",
     "text": [
      "Requirement already satisfied: jsonschema-specifications>=2023.03.6 in /home/user/miniforge3/envs/torch/lib/python3.11/site-packages (from jsonschema>=3.0->altair<6.0,>=4.2.0->gradio==3.40.0) (2023.12.1)\n",
      "Requirement already satisfied: referencing>=0.28.4 in /home/user/miniforge3/envs/torch/lib/python3.11/site-packages (from jsonschema>=3.0->altair<6.0,>=4.2.0->gradio==3.40.0) (0.35.1)\n",
      "Requirement already satisfied: rpds-py>=0.7.1 in /home/user/miniforge3/envs/torch/lib/python3.11/site-packages (from jsonschema>=3.0->altair<6.0,>=4.2.0->gradio==3.40.0) (0.20.0)\n",
      "Requirement already satisfied: uc-micro-py in /home/user/miniforge3/envs/torch/lib/python3.11/site-packages (from linkify-it-py<3,>=1->markdown-it-py[linkify]>=2.0.0->gradio==3.40.0) (1.0.3)\n",
      "Requirement already satisfied: six>=1.5 in /home/user/miniforge3/envs/torch/lib/python3.11/site-packages (from python-dateutil>=2.7->matplotlib~=3.0->gradio==3.40.0) (1.16.0)\n",
      "Note: you may need to restart the kernel to use updated packages.\n"
     ]
    },
    {
     "name": "stderr",
     "output_type": "stream",
     "text": [
      "/home/user/miniforge3/envs/torch/lib/python3.11/site-packages/transformers/generation/utils.py:1258: UserWarning: Using the model-agnostic default `max_length` (=20) to control the generation length. We recommend setting `max_new_tokens` to control the maximum length of the generation.\n",
      "  warnings.warn(\n"
     ]
    }
   ],
   "source": [
    "pip install gradio==3.40.0"
   ]
  },
  {
   "cell_type": "code",
   "execution_count": null,
   "id": "83a61df9",
   "metadata": {},
   "outputs": [],
   "source": []
  },
  {
   "cell_type": "markdown",
   "id": "6241a9a4",
   "metadata": {},
   "source": []
  }
 ],
 "metadata": {
  "kernelspec": {
   "display_name": "Python 3 (ipykernel)",
   "language": "python",
   "name": "python3"
  },
  "language_info": {
   "codemirror_mode": {
    "name": "ipython",
    "version": 3
   },
   "file_extension": ".py",
   "mimetype": "text/x-python",
   "name": "python",
   "nbconvert_exporter": "python",
   "pygments_lexer": "ipython3",
   "version": "3.11.10"
  }
 },
 "nbformat": 4,
 "nbformat_minor": 5
}
